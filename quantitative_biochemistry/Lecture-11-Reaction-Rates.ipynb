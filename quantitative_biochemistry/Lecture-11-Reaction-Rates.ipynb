{
 "cells": [
  {
   "cell_type": "code",
   "execution_count": 7,
   "metadata": {},
   "outputs": [],
   "source": [
    "import numpy, math\n",
    "from matplotlib import pyplot as plt\n",
    "from matplotlib import patches\n",
    "from src import code_toggle\n",
    "%matplotlib inline"
   ]
  },
  {
   "cell_type": "markdown",
   "metadata": {},
   "source": [
    "# Warm-up exercises\n",
    "\n",
    "\n",
    "\\begin{align*}\n",
    "&1.\\quad & \\frac{dN}{dt} &= k &\\text{Find } N &=\\\\\n",
    "&2.\\quad & \\frac{dN}{dt} &= kN &\\text{Find } N&=\\\\\n",
    "&3. \\quad & \\frac{dN}{dt} &= -kN &\\text{Find } N&=\\\\\n",
    "&4. \\quad & \\frac{dy}{dx} &= \\ln x &\\text{Find } y&=\\\\\n",
    "&5. \\quad && \\frac{1}{400}-\\frac{1}{500} &&=\\\\\n",
    "&6. \\quad && \\ln 4^3 - \\ln 4^2&&=\\\\\n",
    "&7. \\quad && \\frac{\\sqrt{8}\\pi^{3/2}}{4\\pi^2\\pi^{1/2}} &&=\\\\\n",
    "&8.\\quad && \\text{Write 1m}^3 \\text{ in cm}^3 &&=\\\\ \n",
    "\\end{align*}\n",
    "9. At a College there are 306 students. The male:female ratio is 1:8. How many men are there?\n",
    "\n",
    "10. If 35 $\\mu$l of 2.5 M HCL is added to 125 $\\mu$l of 0.5 HCl what is the concentration of the final solution?\n"
   ]
  },
  {
   "cell_type": "markdown",
   "metadata": {},
   "source": [
    "# Challenges"
   ]
  },
  {
   "cell_type": "markdown",
   "metadata": {},
   "source": [
    "<div class=\"alert alert-block alert-success\">\n",
    "<img src=\"images/pointing-finger.png\" width=50 title=\"For you\" style=\"vertical-align:top\"/>\n",
    "<b>For you:</b> Answer to Week 6 challenge. \n",
    "There are a hundred switches. Each time you press one it goes from off to on or vice versa. Each is connected to a light bulb. 100 frogs are lined up. Frog 1 jumps on all the switches, turning on all the lights. Frog 2 jumps on switches 2,4,6,..100, turning off all the even numbered lights. Frog 3 jumps on switches 3,6,9...,99 thereby turning some lights off (e.g. 3) on some back on (e.g. 6). The frogs take it in turn until Frog 100 jumps only on switch 100. After the last frog has jumped, how many lights are still on?\n",
    "</div>\n",
    "\n",
    "The key to this puzzle is to realise that it is really a question about which numbers between 1 and 100 have odd factors all the light bulbs start off and each light bulb is jumped on by each frog corresponding to one of its factors. So frog 1 jumps on all the light bulbs since 1 is a factor of all the numbers between 1 and 100. Consider light bulb 12: it will be jumped on by frogs 1,2,3,4,6 and 12 which is an even number so it will be off after the last frog. All are by definition a pair of numbers *except* for pairs where the number is reapeated i.e. square numbers. Hence only the square numbers will be jumped on an odd number of times and so will remain on after frog 100. The answer is therefore 10 light bulbs: 1,4,9,16,25,36,49,64,81,100."
   ]
  },
  {
   "cell_type": "code",
   "execution_count": 9,
   "metadata": {
    "jupyter": {
     "source_hidden": true
    }
   },
   "outputs": [
    {
     "name": "stdout",
     "output_type": "stream",
     "text": [
      "1 [1, 1, 1, 1, 1, 1, 1, 1, 1, 1]\n",
      "2 [1, 0, 1, 0, 1, 0, 1, 0, 1, 0]\n",
      "3 [1, 0, 0, 0, 1, 1, 1, 0, 0, 0]\n",
      "4 [1, 0, 0, 1, 1, 1, 1, 1, 0, 0]\n",
      "5 [1, 0, 0, 1, 0, 1, 1, 1, 0, 1]\n",
      "6 [1, 0, 0, 1, 0, 0, 1, 1, 0, 1]\n",
      "7 [1, 0, 0, 1, 0, 0, 0, 1, 0, 1]\n",
      "8 [1, 0, 0, 1, 0, 0, 0, 0, 0, 1]\n",
      "9 [1, 0, 0, 1, 0, 0, 0, 0, 1, 1]\n",
      "10 [1, 0, 0, 1, 0, 0, 0, 0, 1, 0]\n",
      "\n",
      "After frog 10 the number of light bulbs that are on is 3\n"
     ]
    }
   ],
   "source": [
    "light_bulbs=[0, 0, 0, 0, 0, 0, 0, 0, 0, 0 ]\n",
    "\n",
    "for frog in range(1,11):\n",
    "    for hop in range(1,11):\n",
    "        if (hop%frog)==0:\n",
    "            light_bulbs[hop-1]=int(light_bulbs[hop-1]!=1)\n",
    "    print(frog, light_bulbs)\n",
    "\n",
    "print(\"\\nAfter frog 10 the number of light bulbs that are on is \"+str(sum(light_bulbs)))"
   ]
  },
  {
   "cell_type": "markdown",
   "metadata": {},
   "source": [
    "<div class=\"alert alert-block alert-success\">\n",
    "<img src=\"images/pointing-finger.png\" width=50 title=\"For you\" style=\"vertical-align:top\"/>\n",
    "<b>For you:</b> Week 7 Challenge: I have 8 identical balls, and a ninth that looks identical but which is either lighter or heavier than the others. I have a pair of weighing scales which are the old  fashioned balance ones with a plate on each side of the balance point. I am allowed three uses of these scales to identify the odd ball. How can I do it?\n",
    "</div>"
   ]
  },
  {
   "cell_type": "markdown",
   "metadata": {},
   "source": [
    "# Differential Equations (cont.)"
   ]
  },
  {
   "cell_type": "markdown",
   "metadata": {},
   "source": [
    "## Radioactivity Example - Stonehenge\n",
    "\n",
    "The amount of $^{14}$C (radioactive carbon-14) in a sample is measured using a Geiger counter, which records each disintegration of an atom.  The rate at which $^{14}$C decays is proportional to the amount present. The half-life of $^{14}$C is about 5,730 years. This means that half of the sample will have disintegrated after 5,730 years.\n",
    "\n",
    "In living tissue, $^{14}$C disintegrates at a rate of about 13.5 atoms per minute per gram of carbon.  Because living tissue is constantly exchanging carbon with its environment, the proportion of $^{14}$C among its carbon atoms remains constant over time.  Once the tissue is no longer living, this constant exchange of carbon ceases and the fraction of $^{14}$C among its carbon atoms begins to get smaller.  Consequently, the disintegration rate drops.\n",
    "\n",
    "In 1977 a charcoal fragment found at Stonehenge on the Salisbury Plain recorded 8.2 disintegrations per minute per gram of carbon - about 60\\% of that for living tissue.  Assuming that the charcoal was formed during the building of the site, we want to use this information to estimate the date at which Stonehenge was built."
   ]
  },
  {
   "cell_type": "markdown",
   "metadata": {},
   "source": [
    "What do we know?\n",
    "\n",
    "\n",
    "$${dN_0\\over dt}=13.5{\\rm~atoms/min/gm}$$\n",
    "and\n",
    "\n",
    "$${dN_t\\over dt}=8.2{\\rm~atoms/min/gm}$$\n",
    "\n",
    "\n",
    "Also: $t_{1/2} =5730$ yrs and thus $\\lambda=\\ln 2/5730$, so consider the ratio of the disintegration rates \n",
    "\n",
    "\\begin{align*}\n",
    "{{dN_t\\over dt}\\over {dN_0\\over dt}}&={-\\lambda N_t\\over -\\lambda N_0}\\\\\n",
    "{8.2\\over 13.5}&={N_0e^{-\\lambda t}\\over N_0}\\\\\n",
    "&=e^{-\\lambda t}\\\\\n",
    "&=e^{- \\left({\\ln 2 \\times t\\over 5730}\\right)}\\\\\n",
    "\\ln{8.2\\over 13.5}&={-\\ln 2\\times t\\over 5730}\\\\\n",
    "t &= -\\frac{5730}{\\ln 2} \\times \\ln{8.2\\over 13.5}\\\\\n",
    "&= \\frac{5730}{\\ln 2} \\times 0.4952\\\\\n",
    "&= 4121.4{\\rm~years~before~1977}\n",
    "\\end{align*}"
   ]
  },
  {
   "cell_type": "markdown",
   "metadata": {},
   "source": [
    "# Reactions rates\n",
    "\n",
    "The simplest reaction is $A\\longrightarrow P$, which involves just one reactant, $A$ and one product $P$.  In this case the reaction rate will be:\n",
    "\n",
    "$$v = -{d[A]\\over dt} = {d[P]\\over dt}$$\n",
    "\n",
    "The negative sign indicates that the reactant $A$ is being consumed."
   ]
  },
  {
   "cell_type": "markdown",
   "metadata": {},
   "source": [
    "In the most general case, there will be several reactants $A, B, \\ldots$ and several products $P, Q, \\ldots$, balanced by different *stoichiometric coefficients* $a, b, \\ldots, p, q, \\ldots$ according to the reaction given by\n",
    "\n",
    "$$aA + bB + \\ldots \\longrightarrow pP + qQ + \\ldots$$"
   ]
  },
  {
   "cell_type": "markdown",
   "metadata": {},
   "source": [
    "## Definition of Reaction Rate in Terms of Consumption and Formation Rates\n",
    "\n",
    "To define the rate of the reaction in terms of the rates of formation of product and consumption of reactant, we need to involve the stoichiometric coefficients.\n",
    "\n",
    "### Example: decomposition of urea, $(NH_2)_2CO$, in acidic solution\n",
    "\n",
    "$$(NH_2)_2CO + H_2O \\longrightarrow 2NH_4^+ + CO_3^{2-}$$\n",
    "From the reaction it can be seen that\n",
    "\n",
    "$${\\rm Rate\\ of\\ formation\\ of\\ }NH_4^+ = 2\\times {\\rm  Rate\\ of\\ consumption\\ of\\ }(NH_2)_2CO$$\n",
    "\n",
    "Rearranging and expressing in terms of derivatives we see\n",
    "\n",
    "$${1\\over 2}\\frac{d[NH_4^+]}{dt}=-\\frac{d[(NH_2)_2CO]}{dt}$$\n",
    "\n",
    "\n",
    "### Definition of reaction rate\n",
    "In general, for the reaction $\\displaystyle aA + bB + \\ldots \\longrightarrow pP + qQ + \\ldots$, the *reaction rate* $v$ is defined to be\n",
    "\n",
    "\\begin{align*}\n",
    "v&=-{1\\over a}\\frac{d[A]}{dt}\\\\\n",
    "&=-{1\\over b}\\frac{d[B]}{dt}\\\\\n",
    "&= {1\\over p}\\frac{d[P]}{dt}\\\\\n",
    "&={1\\over q}\\frac{d[Q]}{dt}\\\\\n",
    "&=\\ldots\\\\\n",
    "\\end{align*}\n"
   ]
  },
  {
   "cell_type": "markdown",
   "metadata": {},
   "source": [
    "## Reaction Rate Laws\n",
    "\n",
    "Often, though not always, the reaction rate is related to simple powers of the concentrations of the reactants according to a law of the form \n",
    "\n",
    "$$\\displaystyle v = k[A]^\\alpha[B]^\\beta\\ldots$$\n",
    "\n",
    "The constant $k$ and the indices $\\alpha, \\beta, \\ldots$ are determined *experimentally*.  For rate laws in this form, we say that $v$ is of $\\alpha$ *order* in $A$, of $\\beta$ *order* in $B$, $\\ldots$, and that the reaction rate is of $\\alpha + \\beta + \\ldots$ *order* over all.\n"
   ]
  },
  {
   "cell_type": "markdown",
   "metadata": {},
   "source": [
    "### Example: re-formation of DNA, after raising temperature or pH:\n",
    "\n",
    "$$\\text{strand} + \\text{complementary strand} \\longrightarrow \\text{double helix}$$\n",
    "\n",
    "It has been experimentally verified that the reaction rate $v$ satisfies\n",
    "\n",
    "$$v=k{\\text{[strand][complementary strand]}}.$$  \n",
    "\n",
    "Thus the reaction is first order in  *strand*, first order in *complementary strand*, and second order over all."
   ]
  },
  {
   "cell_type": "markdown",
   "metadata": {},
   "source": [
    "### Example: reduction of $NO_2$ by $CO$\n",
    "\n",
    "$$NO_2 + CO \\longrightarrow NO + CO_2$$\n",
    "\n",
    "It has been experimentally verified that the rate $v$ satisfies\n",
    "$$v=k[NO_2]^2$$\n",
    "\n",
    "This reaction is zeroth order in $CO$, second order in $NO_2$, and second order over all."
   ]
  },
  {
   "cell_type": "markdown",
   "metadata": {},
   "source": [
    "### Example: gas-phase reactions\n",
    "\n",
    "In many *gas-phase* reactions of the form $\\displaystyle A + B \\longrightarrow {\\rm products}$ the reaction rate is given by\n",
    "\n",
    "$$v=k[A]^{1/2}[B]$$\n",
    "\n",
    "This reaction is half order in $A$, first order in $B$, and three-halves order over all.\n"
   ]
  },
  {
   "cell_type": "markdown",
   "metadata": {},
   "source": [
    "### Example: Michaelis-Menten kinetics\n",
    "\n",
    "Not every reaction rate is given by an equation of this form.  For example, in enzyme ($E$) substrate ($S$) catalysis we have two reactions, the first one fast and the second one slower:\n",
    "\n",
    "$${\\rm~FAST:}~~E + S \\rightleftharpoons ES\\qquad{\\rm and ~SLOW:~}\\qquad ES \\longrightarrow P.$$\n",
    "\n",
    "The reaction rate here, $v$, is given by the Michaelis-Menten equation we considered earlier\n",
    "\n",
    "$$v={{k[E][S]}\\over {K + [S]}}$$\n",
    "\n",
    "where $k$ and $K$ are constants, and $k[E]$ replaces the constant $V$ that we had earlier, because then the enzyme was in such abundance that its concentration did not change significantly with time. Thus we could treat it as a constant. Now we are describing a more general case of an enzyme-substrate reaction.\n",
    "\n",
    "This rate law is first-order in the enzyme but does not have a specific order with respect to the substrate.  We have seen that if the substrate concentration in the enzyme catalyzed reaction is so low that $[S]\\ll K$ then the Michaelis-Menten equation  simplifies to:\n",
    "\n",
    "$$v={k\\over K}[S][E]$$\n",
    "\n",
    "which is first-order in $S$, first-order in $E$, and second-order overall."
   ]
  },
  {
   "cell_type": "markdown",
   "metadata": {},
   "source": [
    "## Integrated Rate Laws\n",
    "\n",
    "A rate law only expresses a rate of change as a function of the concentration of a species.  An *integrated rate law* expresses concentration as a function of time.  The principal uses of an integrated rate law are:\n",
    "\n",
    "* Predicting concentration of a species at any time after the beginning of the reaction.\n",
    "* Calculating half-life of a species in a reaction\n",
    "* Obtaining a relationship that is expressed in terms of observable quantities $[A]$  and $t$, and is therefore \"testable.\"\n",
    "\n",
    "We use the techniques of *separable differential equations* to derive an integrated rate law from the reaction rate."
   ]
  },
  {
   "cell_type": "markdown",
   "metadata": {},
   "source": [
    "### First Order Reactions\n",
    "\n",
    "Note that the half-life for a first order reaction rate is independent of the initial concentration of the species.\n",
    "\n",
    "$$A\\longrightarrow{\\rm products}\\qquad{\\rm where}\\qquad v=-\\frac{d[A]}{dt}=k_1[A]$$\n",
    "\n",
    "\\begin{align*}\n",
    "-\\frac{d[A]}{dt} &= k[A]\\\\\n",
    "\\int \\frac{1}{[A]}d[A] &= -k \\int dt\\\\\n",
    "\\ln [A] &= -kt+c\\\\\n",
    "[A] &= [A_0]e^{-kt}\n",
    "\\end{align*}\n",
    "\n",
    "What is the half-life?\n",
    "\n",
    "\\begin{align*}\n",
    "[A_0]/2 &= [A_0]e^{-kt_{1/2}}\\\\\n",
    "t_{1/2} &= \\frac{\\ln 2}{k}\n",
    "\\end{align*}\n",
    "\n",
    "Hence the half-life is independent of $[A]$."
   ]
  },
  {
   "cell_type": "markdown",
   "metadata": {},
   "source": [
    "### Second Order Reactions, One Reactant\n",
    "\n",
    "Here we are concerned with reactions and reaction rates of the form\n",
    "\n",
    "$$A\\longrightarrow{\\rm products}\\qquad{\\rm where}\\qquad v=-\\frac{d[A]}{dt}=k_2[A]^2$$\n",
    "\n",
    "We can rearrange the reaction rate to get the separable differential equation\n",
    "\n",
    "$$\\displaystyle \\frac{d[A]}{dt}=-k_2[A]^2$$\n",
    "\n",
    "Our goal is to use this equation to obtain the integrated rate law that expresses $[A]$ as a function of $t$.\n",
    "\n",
    "We begin by separating the variables and $\\int ~dt$:\n",
    "\n",
    "$$-\\int {{1\\phantom{^2}}\\over{[A]^2}}\\,d[A] = \\int k_2\\, dt$$\n",
    "\n",
    "The right hand side is immediate:\n",
    "\n",
    "$$\\int k_2\\,dt=k_2t+C_1$$\n",
    "\n",
    "Now we integrate the left hand side:\n",
    "\n",
    "\\begin{align*}\n",
    "-\\int \\frac{1}{[A]^2} d[A] &=-\\int [A]^{-2} d[A]\\\\\n",
    "&=-\\frac{1}{(-1)}[A]^{-1} + C_2\\\\\n",
    "&=[A]^{-1}+C_2\\\\\n",
    "&={\\frac{1}{[A]}+C_2}\n",
    "\\end{align*}\n",
    "\n",
    "Combining right- and left-hand sides, and combining the constants so that $C_1-C_2=C$, we obtain:\n",
    "\n",
    "$${1\\over{[A]}}=k_2t + C$$\n",
    "\n",
    "To find $C$, use the initial conditions that require that, when $t=0$ we have $[A]=[A]_0$:\n",
    "\n",
    "$${1\\over{[A]_0}}=k_2\\times 0 + C=C$$\n",
    "\n",
    "Thus we see that\n",
    "\n",
    "$${1\\over{[A]}}=k_2t + {1\\over{[A]_0}}$$\n",
    "\n",
    "We can use this formula to compute the half-life of the reactant $A$ by solving for $t_{\\,1\\over 2}$ in the equation\n",
    "\n",
    "$${1\\over{[A]_0/2}}=k_2t_{1/2} + {1\\over{[A]_0}}$$\n",
    "\n",
    "Simplifying the left-hand side and rearranging, we get\n",
    "\n",
    "\n",
    "$${2\\over{[A]_0}}-{1\\over{[A]_0}}=k_2t_{1/2}$$\n",
    "\n",
    "\n",
    "$$\\boxed{ t_{1/2}={1\\over{k_2[A]_0}}}$$\n",
    "\n",
    "Note that the half-life for this second-order reaction is inversely proportional to $[A]_0$.  For small concentrations of $A$ the half-life will be large.  Species that decay by second-order reactions (which includes some environmentally harmful substances) may persist in low concentrations for long periods because their half-lives are long when their concentrations are low.\n",
    "\n"
   ]
  },
  {
   "cell_type": "markdown",
   "metadata": {},
   "source": [
    "We now derive the integrated rate equation which gives $[A]$ as a function of $t$.  From the formula above\n",
    "\n",
    "\\begin{align*}\n",
    "{1\\over{[A]}}&=k_2t + {1\\over{[A]_0}}\\\\\n",
    "&={{[A]_0k_2t}\\over[A]_0}+{1\\over{[A]_0}}\\\\\n",
    "&={{[A]_0k_2t+1}\\over{[A]_0}}\n",
    "\\end{align*}\n",
    "\n",
    "Now invert both sides to get\n",
    "\n",
    "$$[A]={{[A]_0}\\over{[A]_0k_2t+1}}$$\n",
    "\n",
    "In a second-order reaction, the concentration of the species is inversely proportional to a linear function in $t$ while in a first order reaction, the concentration is inversely proportional to an exponential function in $t$.  Although initially both reactions exhibit the same rapid decay, the second-order reaction converges to zero much more slowly than the first order reaction.  This is shown in the sketch below:\n"
   ]
  },
  {
   "cell_type": "code",
   "execution_count": 14,
   "metadata": {
    "jupyter": {
     "source_hidden": true
    }
   },
   "outputs": [
    {
     "data": {
      "image/png": "[encoded data removed]",
      "text/plain": [
       "<Figure size 576x360 with 1 Axes>"
      ]
     },
     "metadata": {
      "needs_background": "light"
     },
     "output_type": "display_data"
    },
    {
     "data": {
      "text/html": [
       "\n",
       "        <script>\n",
       "            function code_toggle_13392148211589974944() {\n",
       "                $('div.cell.code_cell.rendered.selected').find('div.input').toggle();\n",
       "            }\n",
       "\n",
       "            \n",
       "        </script>\n",
       "\n",
       "        <a href=\"javascript:code_toggle_13392148211589974944()\">Show Python code</a>\n",
       "    "
      ],
      "text/plain": [
       "<IPython.core.display.HTML object>"
      ]
     },
     "execution_count": 14,
     "metadata": {},
     "output_type": "execute_result"
    }
   ],
   "source": [
    "t = numpy.linspace(0.75, 20, 50)\n",
    "\n",
    "fig,axis=plt.subplots(nrows=1,ncols=1,figsize=(8,5))\n",
    "\n",
    "axis.set_xlabel('time $t$')\n",
    "axis.set_ylabel('Concentration $[A]$',rotation=90)\n",
    "axis.spines['left'].set_position('zero')\n",
    "axis.spines['right'].set_color('none')\n",
    "axis.spines['bottom'].set_position('zero')\n",
    "axis.spines['top'].set_color('none')\n",
    "\n",
    "def func1(t):\n",
    "    return(0.5/t)\n",
    "\n",
    "def func2(t):\n",
    "    k=0.4\n",
    "    return(numpy.exp(-k*t))\n",
    "\n",
    "y1=func1(t)\n",
    "y2=func2(t)\n",
    "\n",
    "axis.annotate('$[A] \\propto 1/t \\frac{1}{t}$',xy=(2.5,.08),c='r')\n",
    "axis.annotate('$[A] \\propto e^{-kT}$',xy=(5,0.2),c='b')\n",
    "axis.plot(t, y1,'r-')\n",
    "axis.plot(t, y2,'b-')\n",
    "plt.show()\n",
    "\n",
    "code_toggle()"
   ]
  },
  {
   "cell_type": "markdown",
   "metadata": {},
   "source": [
    "Both initially decay rapidly, but the second order converges to zero much more slowly than first order.\n",
    "\n",
    "The key result is:\n",
    "\n",
    "$$[A]={{[A]_0}\\over{[A]_0k_2t+1}}$$\n",
    "\n",
    "<div class=\"alert alert-block alert-success\">\n",
    "<img src=\"images/pointing-finger.png\" width=50 title=\"For you\" style=\"vertical-align:top\"/>\n",
    "<b>For you:</b><br>\n",
    "What would you plot against $t$ to obtain a straight line? Rearrange the above equation so that it is in the form $y=mx+c$ [here $x\\equiv t$ and $y\\equiv f(A)$].\n",
    "</div>"
   ]
  },
  {
   "cell_type": "markdown",
   "metadata": {},
   "source": [
    "### Second Order Reactions, Two Reactants\n",
    "\n",
    "Here we are concerned with reactions and reaction rates of the form\n",
    "\n",
    "$$A+B\\longrightarrow{\\rm products}\\qquad{\\rm where}\\qquad v=-\\frac{d[A]}{dt}=k_2[A][B]$$\n",
    "\n",
    "How we integrate a second order rate law will depend on the *stoichiometric coefficients* involved.  Here, we treat only the simplest case, when each of these coefficients is 1.  In this case, each $A$ that disappears entails the disappearance of one $B$.  Thus, if $x$ of species $A$ have disappeared, then also $x$ of species $B$ has disappeared, and $x$ of the product $P$ have been formed.\n",
    "\n"
   ]
  },
  {
   "cell_type": "markdown",
   "metadata": {},
   "source": [
    "To make the calculations less cumbersome to write, let $a=[A]_0$, $b=[B]_0$, and $x=[P]$.  \n",
    "\n",
    "Then \n",
    "\n",
    "\\begin{align*}\n",
    "[A]=[A]_0-x&=a-x\\\\\n",
    "[B]=[B]_0-x&=b-x\n",
    "\\end{align*}\n",
    "\n",
    "and the rate law is given by \n",
    "\n",
    "$$\\displaystyle \\frac{d[A]}{dt}=-k_2(a-x)(b-x)$$.  \n",
    "\n",
    "but also we know that, \n",
    "\n",
    "$$\\displaystyle \\frac{d[A]}{dt}=\\frac{d}{dt}{(a-x)}=-\\frac{dx}{dt}$$  \n",
    "\n",
    "Thus, for the integrated rate law we need to solve\n",
    "\n",
    "$$\\frac{dx}{dt}=k_2(a-x)(b-x)$$"
   ]
  },
  {
   "cell_type": "markdown",
   "metadata": {},
   "source": [
    "\n",
    "Note:  We are assuming *different* initial concentrations, so $a\\ne b$.  If the initial concentrations were the same, we would solve the differential equation $\\displaystyle \\frac{dx}{dt}=k_2(a-x)^2$ by the methods used in the previous case."
   ]
  },
  {
   "cell_type": "markdown",
   "metadata": {},
   "source": [
    "As usual, we apply SISI and, after separating, integrate both sides w.r.t $t$ which requires us to use the method of *partial fractions*."
   ]
  },
  {
   "cell_type": "markdown",
   "metadata": {},
   "source": [
    "\\begin{align*}\n",
    "\\frac{dx}{dt} &= k_2(a-x)(b-x)\\\\\n",
    "\\frac{1}{(a-x)(b-x)}\\frac{dx}{dt} &= k_2\\\\\n",
    "\\int \\frac{1}{(a-x)(b-x)}\\frac{dx}{dt}. dt &= \\int k_2.dt\\\\\n",
    "\\int \\frac{1}{(a-x)(b-x)}dx &= k_2 t+c_1\\\\\n",
    "\\end{align*}\n"
   ]
  },
  {
   "cell_type": "markdown",
   "metadata": {},
   "source": [
    "We introduce the undetermined coefficients $M$ and $N$ and write the integrand as the sum of two *partial fractions*\n",
    "\n",
    "$${1\\over{(a-x)(b-x)}}={M\\over{(a-x)}}+{N\\over{(b-x)}}$$\n",
    "\n",
    "Next, multiply both sides by $(a-x)(b-x)$ and cancel as appropriate to get\n",
    "\n",
    "\\begin{align*}\n",
    "1 &= M(b-x)+N(a-x)\\\\\n",
    "&=Mb-Mx+Na-Nx\\\\\n",
    "&=-(M+N)x+(Mb+Na)\\\\\n",
    "\\end{align*}\n"
   ]
  },
  {
   "cell_type": "markdown",
   "metadata": {},
   "source": [
    "From this, by equating coefficients of $x^1$ and $x^0$ separately, it can be seen that:\n",
    "\n",
    "\\begin{align*}\n",
    "M+N&=0\\\\\n",
    "bM+aN&=1\\\\\n",
    "\\end{align*}\n",
    "\n",
    "From above we see that $N=-M$. Substituting this back above and simplifying we get\n",
    "\n",
    "\\begin{align*}\n",
    "1 &= bM+a(-M)\\\\\n",
    "&=(b-a)M\n",
    "\\end{align*}"
   ]
  },
  {
   "cell_type": "markdown",
   "metadata": {},
   "source": [
    "which\\ gives $\\displaystyle M={1\\over{b-a}}$ and $\\displaystyle N={{-1}\\over{b-a}}$.  Thus:\n",
    "\n",
    "\\begin{align*}\n",
    "{1\\over{(a-x)(b-x)}}&={{1/(b-a)}\\over{(a-x)}}+{{-1/(b-a)}\\over{(b-x)}}\\\\\n",
    "&={1\\over{(b-a)}}\\left[{{1}\\over{(a-x)}}-{1\\over{(b-x)}}\\right]\n",
    "\\end{align*}"
   ]
  },
  {
   "cell_type": "markdown",
   "metadata": {},
   "source": [
    "\\begin{align*}\n",
    "\\int \\frac{1}{(a-x)(b-x)}.dx &= k_2 t+c_1\\\\\n",
    "\\int {1\\over{(b-a)}}\\left[{{1}\\over{(a-x)}}-{1\\over{(b-x)}}\\right].dx &= k_2t + c_1\\\\\n",
    "{1\\over{(b-a)}} \\left[ \\int {{1}\\over{(a-x)}}.dx - \\int {1\\over{(b-x)}}.dx \\right] &= k_2t + c_1\n",
    "\\end{align*}\n"
   ]
  },
  {
   "cell_type": "markdown",
   "metadata": {},
   "source": [
    "We can solve each integral on the LHS using *substitution*. i.e.\n",
    "\n",
    "$$\\int f(g(x)).dx=\\int f(u){dx\\over du}. du$$"
   ]
  },
  {
   "cell_type": "markdown",
   "metadata": {},
   "source": [
    "Let's tackle the first integral; make the substitution\n",
    "\n",
    "\\begin{align*}\n",
    "u &= a-x\\\\\n",
    "\\frac{du}{dx} &= -1\\\\\n",
    "\\frac{dx}{du} &= -1\\\\\n",
    "\\end{align*}\n",
    "\n"
   ]
  },
  {
   "cell_type": "markdown",
   "metadata": {},
   "source": [
    "We've got what we need to integrate the first integral by substitution now:\n",
    "\n",
    "\\begin{align*}\n",
    "\\int {1\\over{(a-x)}}dx &= -\\int {{1}\\over u}.du\\\\\n",
    "&=-\\ln u + c_2\\\\\n",
    "&= \\ln{1\\over u} + c_2\\\\\n",
    "&=\\ln \\left( {1\\over{a-x}} \\right)+c_2\n",
    "\\end{align*}"
   ]
  },
  {
   "cell_type": "markdown",
   "metadata": {},
   "source": [
    "In the same way we obtain\n",
    "$$\\int {1\\over{(b-x)}}dx  = \\ln\\left({1\\over{b-x}}\\right)+c_3$$\n"
   ]
  },
  {
   "cell_type": "markdown",
   "metadata": {},
   "source": [
    "Putting all this back together \n",
    "\n",
    "\\begin{align*}\n",
    "\\int{1\\over{(a-x)(b-x)}}dx &= k_2t+c_1\\\\\n",
    "{1\\over{(b-a)}} \\left[ \\int {{1}\\over{(a-x)}}.dx - \\int {1\\over{(b-x)}}.dx \\right] &= k_2t + c_1\\\\\n",
    "{1\\over{(b-a)}}\\left[{\\ln\\left({1\\over{a-x}}\\right)-\\ln\\left({1\\over{b-x}}\\right)}\\right]+c_2+c_3&=k_2t+c_1\\\\\n",
    "{1\\over{(b-a)}}\\ln\\left({{b-x}\\over{a-x}}\\right)+c_2+c_3 &= k_2t+c_1\\\\\n",
    "{1\\over{(b-a)}}\\ln\\left({{b-x}\\over{a-x}}\\right) &= k_2t+C\n",
    "\\end{align*}"
   ]
  },
  {
   "cell_type": "markdown",
   "metadata": {},
   "source": [
    "where $C = c_1-c_2-c_3$"
   ]
  },
  {
   "cell_type": "markdown",
   "metadata": {},
   "source": [
    "Using the initial conditions that $x=0$ when $t=0$ we obtain:\n",
    "\n",
    "\\begin{align*}\n",
    "{1\\over{(b-a)}}\\ln\\left({{b-0}\\over{a-0}}\\right)&=k_2\\cdot 0+C\\\\\n",
    "C&={1\\over{(b-a)}}\\ln\\left({{b}\\over{a}}\\right)\n",
    "\\end{align*}"
   ]
  },
  {
   "cell_type": "markdown",
   "metadata": {},
   "source": [
    "Substituting this back and rearranging\n",
    "\n",
    "\\begin{align*}\n",
    "{1\\over{(b-a)}}\\ln\\left({{b-x}\\over{a-x}}\\right)-{1\\over{(b-a)}}\\ln\\left({{b}\\over{a}}\\right)&=k_2t\\\\\n",
    "\\ln\\left({{b-x}\\over{a-x}}\\right)-\\ln\\left({{b}\\over{a}}\\right)&=(b-a)k_2t\\\\\n",
    "\\ln\\left(\\left({{b-x}\\over{a-x}}\\right)/\\left({{b}\\over{a}}\\right)\\right)&=(b-a)k_2t\\\\\n",
    "\\ln\\left({a(b-x)\\over b(a-x)}\\right)&=(b-a)k_2t\\\\\n",
    "\\end{align*}\n"
   ]
  },
  {
   "cell_type": "markdown",
   "metadata": {},
   "source": [
    "Finally, substituting back the concentrations $[A]=a-x=[A]_0-x$, $[B]=b-x=[B]_0-x$, putting $[Q]_0=[B]_0-[A]_0~$ and simplifying, we obtain:\n",
    "\n",
    "\\begin{align*} \n",
    "\\ln\\biggr({[A]_0([B]_0-x)\\over\n",
    "[B_0]([A]_0-x)}\\biggl)&=([B]_0-[A]_0)k_2t\\\\\n",
    "&=[Q]_0k_2t\n",
    "\\end{align*}"
   ]
  },
  {
   "cell_type": "markdown",
   "metadata": {},
   "source": [
    "Although complex, if a reaction is second order and has two reactants each with stochiometric coefficients of 1, a plot of $\\displaystyle Y=\\ln\\left({[A]_0([B]_0-x)\\over [B]_0([A]_0-x)}\\right)$ versus $t$ will be a straight line with slope $k_2[Q]_0$ where $[Q]_0 = [B]_0 - [A]_0$. In an experiment you would measure $x$ and $t$, and knowing $[A]_0$ and $[B]_0$ would then plot the above function to test whether or not it was a straight line."
   ]
  },
  {
   "cell_type": "code",
   "execution_count": 39,
   "metadata": {
    "jupyter": {
     "source_hidden": true
    }
   },
   "outputs": [
    {
     "data": {
      "image/png": "[encoded data removed]",
      "text/plain": [
       "<Figure size 576x360 with 1 Axes>"
      ]
     },
     "metadata": {
      "needs_background": "light"
     },
     "output_type": "display_data"
    },
    {
     "data": {
      "text/html": [
       "\n",
       "        <script>\n",
       "            function code_toggle_9222424569229852714() {\n",
       "                $('div.cell.code_cell.rendered.selected').find('div.input').toggle();\n",
       "            }\n",
       "\n",
       "            \n",
       "        </script>\n",
       "\n",
       "        <a href=\"javascript:code_toggle_9222424569229852714()\">Show Python code</a>\n",
       "    "
      ],
      "text/plain": [
       "<IPython.core.display.HTML object>"
      ]
     },
     "execution_count": 39,
     "metadata": {},
     "output_type": "execute_result"
    }
   ],
   "source": [
    "t = numpy.linspace(0, 10, 50)\n",
    "\n",
    "fig,axis=plt.subplots(nrows=1,ncols=1,figsize=(8,5))\n",
    "\n",
    "axis.set_xlabel('time $t$')\n",
    "axis.set_ylabel('$Y$',rotation=0)\n",
    "axis.spines['left'].set_position('zero')\n",
    "axis.spines['right'].set_color('none')\n",
    "axis.spines['bottom'].set_position('zero')\n",
    "axis.spines['top'].set_color('none')\n",
    "\n",
    "def func(t,A0,B0,k2):\n",
    "    Q0=B0-A0\n",
    "    exp_term=numpy.exp(k2*Q0*t)\n",
    "    x=B0*(exp_term-1)/((B0/A0)*exp_term+1)\n",
    "    return(x)\n",
    "\n",
    "\n",
    "x=func(t,2,1,0.5)\n",
    "axis.plot((0,10), (0,5),'b-')\n",
    "x=func(t,1,2,0.8)\n",
    "axis.plot((0,10), (0,-5),'r-')\n",
    "\n",
    "\n",
    "axis.annotate('$[B]_0>[A]_0$',xy=(4,3),c='b')\n",
    "axis.annotate('$[A]_0>[B]_0$',xy=(4,-3),c='r')\n",
    "# axis.annotate('$[A] \\propto e^{-kT}$',xy=(5,0.2),c='b')\n",
    "# axis.plot(t, y1,'r-')\n",
    "plt.show()\n",
    "\n",
    "code_toggle()"
   ]
  },
  {
   "cell_type": "markdown",
   "metadata": {},
   "source": [
    "We've just shown that  \n",
    "\n",
    "\\begin{align*} \n",
    "\\ln\\biggr({[A]_0([B]_0-x)\\over\n",
    "[B_0]([A]_0-x)}\\biggl)&=[Q]_0k_2t\n",
    "\\end{align*}\n",
    "\n",
    "Can we make a concentration the subject of the equation? Because there are two different species involved we rearrange the equation to write $[A]$ as a function of $t$ alone.  However, we *can* rewrite the product concentration $x$ (=$[P]$) as a function of $t$ and the initial concentrations $[A]_0$ and $[B]_0$.  \n",
    "\n",
    "\\begin{align*} \n",
    "[Q]_0k_2t &= \\ln\\left({[A]_0([B]_0-x)\\over [B_0]([A]_0-x)}\\right)\\\\\n",
    "e^{[Q]_0k_2t} &= {[A]_0([B]_0-x)\\over [B_0]([A]_0-x)}\\\\\n",
    "[B_0]([A]_0-x)e^{[Q]_0k_2t} &= [A]_0([B]_0-x)\\\\\n",
    "[A]_0[B]_0e^{[Q]_0k_2t}-[A]_0[B]_0 &= x[B]_0e^{[Q]_0k_2t}-[A]_0x\\\\\n",
    "[B]_0(e^{[Q]_0k_2t}-1) &= x\\frac{[B]_0}{[A]_0}e^{[Q]_0k_2t}-x\\\\\n",
    "[B]_0(e^{[Q]_0k_2t}-1) &= x\\left(\\frac{[B]_0}{[A]_0}e^{[Q]_0k_2t}-1\\right)\\\\\n",
    " x &=  \\frac{[B]_0(e^{[Q]_0k_2t}-1)}{\\left(\\frac{[B]_0}{[A]_0}e^{[Q]_0k_2t}-1\\right)}\\\\\n",
    "\\end{align*}"
   ]
  },
  {
   "cell_type": "markdown",
   "metadata": {},
   "source": [
    "This is the time-dependence of a SECOND ORDER process. Note that it depends on the initial concentrations of $A$ and $B$ (i.e. $[A]_0$ and $[B]_0$).\n",
    "\n",
    "The time-dependence depends on the exact values of $[A]_0, [B]_0, k_2$ and e.g. which of $[A]_0$ or  $[B]_0$ is the larger. A few examples are plotted below. \n"
   ]
  },
  {
   "cell_type": "code",
   "execution_count": 24,
   "metadata": {},
   "outputs": [
    {
     "data": {
      "image/png": "[encoded data removed]",
      "text/plain": [
       "<Figure size 720x504 with 1 Axes>"
      ]
     },
     "metadata": {
      "needs_background": "light"
     },
     "output_type": "display_data"
    },
    {
     "data": {
      "text/html": [
       "\n",
       "        <script>\n",
       "            function code_toggle_14593160900120030227() {\n",
       "                $('div.cell.code_cell.rendered.selected').find('div.input').toggle();\n",
       "            }\n",
       "\n",
       "            \n",
       "        </script>\n",
       "\n",
       "        <a href=\"javascript:code_toggle_14593160900120030227()\">Show Python code</a>\n",
       "    "
      ],
      "text/plain": [
       "<IPython.core.display.HTML object>"
      ]
     },
     "execution_count": 24,
     "metadata": {},
     "output_type": "execute_result"
    }
   ],
   "source": [
    "t = numpy.linspace(0, 7, 50)\n",
    "\n",
    "fig,axis=plt.subplots(nrows=1,ncols=1,figsize=(10,7))\n",
    "\n",
    "axis.set_xlabel('time $t$')\n",
    "axis.set_ylabel('Concentration of product $x$',rotation=90)\n",
    "axis.spines['left'].set_position('zero')\n",
    "axis.spines['right'].set_color('none')\n",
    "axis.spines['bottom'].set_position('zero')\n",
    "axis.spines['top'].set_color('none')\n",
    "\n",
    "def func(t,A0,B0,k2):\n",
    "    Q0=B0-A0\n",
    "    exp_term=numpy.exp(k2*Q0*t)\n",
    "    x=B0*(exp_term-1)/((B0/A0)*exp_term-1)\n",
    "    return(x)\n",
    "\n",
    "x=func(t,2,1,0.5)\n",
    "axis.plot(t, x,'b-')\n",
    "axis.annotate('$[A]_0=2,[B]_0=1,k_2=0.5$',xy=(2,0.75),c='b',ha='left',va='center')\n",
    "x=func(t,2,1,1)\n",
    "axis.plot(t, x,'b--')\n",
    "axis.annotate('$k_2=1$',xy=(1.2,0.8),c='b',ha='left',va='center')\n",
    "x=func(t,2,1,2)\n",
    "axis.plot(t, x,'b:')\n",
    "axis.annotate('$k_2=2$',xy=(.2,.9),c='b',ha='left',va='center')\n",
    "\n",
    "# x=func(t,1,1.5,1)\n",
    "# axis.plot(t, x,'r-')\n",
    "# axis.annotate('$[A]_0=1,[B]_0=1.5,k_2=1$',xy=(3,0.6),c='r',ha='left',va='center')\n",
    "# x=func(t,1,3,1)\n",
    "# axis.plot(t, x,'r--')\n",
    "# axis.annotate('$[B]_0=3$',xy=(0.7,0.6),c='r',ha='left',va='center')\n",
    "# x=func(t,1,6,1)\n",
    "# axis.plot(t, x,'r:')\n",
    "# axis.annotate('$[B]_0=6$',xy=(0.5,0.6),c='r',ha='right',va='center')\n",
    "\n",
    "plt.show()\n",
    "\n",
    "code_toggle()"
   ]
  },
  {
   "cell_type": "code",
   "execution_count": 20,
   "metadata": {
    "jupyter": {
     "source_hidden": true
    }
   },
   "outputs": [
    {
     "data": {
      "image/png": "[encoded data removed]",
      "text/plain": [
       "<Figure size 720x504 with 1 Axes>"
      ]
     },
     "metadata": {
      "needs_background": "light"
     },
     "output_type": "display_data"
    },
    {
     "data": {
      "text/html": [
       "\n",
       "        <script>\n",
       "            function code_toggle_16430257239760224074() {\n",
       "                $('div.cell.code_cell.rendered.selected').find('div.input').toggle();\n",
       "            }\n",
       "\n",
       "            \n",
       "        </script>\n",
       "\n",
       "        <a href=\"javascript:code_toggle_16430257239760224074()\">Show Python code</a>\n",
       "    "
      ],
      "text/plain": [
       "<IPython.core.display.HTML object>"
      ]
     },
     "execution_count": 20,
     "metadata": {},
     "output_type": "execute_result"
    }
   ],
   "source": [
    "t = numpy.linspace(0, 7, 50)\n",
    "\n",
    "fig,axis=plt.subplots(nrows=1,ncols=1,figsize=(10,7))\n",
    "\n",
    "axis.set_xlabel('time $t$')\n",
    "axis.set_ylabel('Concentration of product $x$',rotation=90)\n",
    "axis.spines['left'].set_position('zero')\n",
    "axis.spines['right'].set_color('none')\n",
    "axis.spines['bottom'].set_position('zero')\n",
    "axis.spines['top'].set_color('none')\n",
    "\n",
    "def func(t,A0,B0,k2):\n",
    "    Q0=B0-A0\n",
    "    exp_term=numpy.exp(k2*Q0*t)\n",
    "    x=B0*(exp_term-1)/((B0/A0)*exp_term-1)\n",
    "    return(x)\n",
    "\n",
    "# x=func(t,2,1,0.5)\n",
    "# axis.plot(t, x,'b-')\n",
    "# axis.annotate('$[A]_0=2,[B]_0=1,k_2=0.5$',xy=(4,-0.75),c='b',ha='left',va='center')\n",
    "# x=func(t,2,1,1)\n",
    "# axis.plot(t, x,'b--')\n",
    "# axis.annotate('$k_2=1$',xy=(2,-0.75),c='b',ha='left',va='center')\n",
    "# x=func(t,2,1,2)\n",
    "# axis.plot(t, x,'b:')\n",
    "# axis.annotate('$k_2=2$',xy=(1,-0.75),c='b',ha='left',va='center')\n",
    "\n",
    "x=func(t,1,1.5,1)\n",
    "axis.plot(t, x,'r-')\n",
    "axis.annotate('$[A]_0=1,[B]_0=1.5,k_2=1$',xy=(2,0.8),c='r',ha='left',va='center')\n",
    "x=func(t,1,3,1)\n",
    "axis.plot(t, x,'r--')\n",
    "axis.annotate('$[B]_0=3$',xy=(1.1,0.9),c='r',ha='left',va='center')\n",
    "x=func(t,1,6,1)\n",
    "axis.plot(t, x,'r:')\n",
    "axis.annotate('$[B]_0=6$',xy=(0.1,1),c='r',ha='left',va='center')\n",
    "\n",
    "plt.show()\n",
    "\n",
    "code_toggle()"
   ]
  },
  {
   "cell_type": "markdown",
   "metadata": {},
   "source": [
    "<div class=\"alert alert-block alert-warning\">\n",
    "<img src=\"images/thinking-face.png\" width=50 title=\"Hmm\" style=\"vertical-align:top\"/>\n",
    "<b>Thought:</b> This complex behaviour is not intuitive and is a demonstration of why it is important to know the underlying kinetic theory and then how to transform the relevant equation into a straight line so you can plot your experimental data to (i) conform it is the order you expect and then (ii) calculate the values of the relevant rate constants. \n",
    "</div>"
   ]
  },
  {
   "cell_type": "markdown",
   "metadata": {},
   "source": [
    "### Third Order Reactions\n",
    "\n",
    "The sum of powers to which concentrations are raised is 3.\n",
    "\n",
    "#### Example\n",
    "\n",
    "$$\\text{2NO(gas)} + \\text{O}_2\\text{(gas)} \\longrightarrow \\text{2NO}_2\\text{(gas)}$$\n"
   ]
  },
  {
   "cell_type": "markdown",
   "metadata": {},
   "source": [
    "The rate law is (where $x$ is the concentration of product)\n",
    "\n",
    "$$\\frac{dx}{dt} = k[\\text{NO}]^2[\\text{O}_2]$$\n",
    "\n",
    "We are not going to look at the mathematics of such processes in any more detail."
   ]
  },
  {
   "cell_type": "markdown",
   "metadata": {},
   "source": [
    "### Biophysical Chemistry, Chemical Kinetics, Lecture 2, R.G. Ratcliffe\n",
    "\n",
    "#### Section entitled 'Consecutive reactions 3'\n",
    "\n",
    "$$A\\xrightarrow{k_1} B \\xrightarrow{k_2} C$$\n",
    "\n",
    "For A: \n",
    "$${d[A]\\over dt} =-k_1[A]$$ \n",
    "\n",
    "so \n",
    "\n",
    "$$[A]=[A]_0e^{-k_1t}$$\n",
    "\n",
    "For B: \n",
    "\n",
    "\\begin{align*}\n",
    "{d[B]\\over dt} &=k_1[A]-k_2[B]\\\\\n",
    "&=k_1[A]_0e^{-k_1t}-k_2[B]\n",
    "\\end{align*}\n",
    "\n",
    "To separate the variables, let: $[B]=fe^{-k_1t}$, so by the Product Rule:\n",
    "\n",
    "$${dB\\over dt}=f.(-k_1).~e^{-k_1t}+{df\\over dt}~e^{-k_1t}$$\n",
    "\n",
    "We have two expressions for $\\displaystyle \\frac{dB}{dt}$, so equating them\n",
    "\n",
    "\\begin{align*}\n",
    "{dB\\over dt}&=k_1[A]_0e^{-k_1t}-k_2 [B]\\\\\n",
    "(-)fk_1~e^{-k_1t}+{df\\over dt}~e^{-k_1t}&=k_1[A]_0e^{-k_1t}-k_2 [B]\\\\\n",
    "\\end{align*}\n",
    "\n",
    "Now we know that $[B]=fe^{-k_1t}$, so substituting into this equation we get:\n",
    "\n",
    "$$(-)fk_1~e^{-k_1t}+{df\\over dt}~e^{-k_1t}=k_1[A]_0e^{-k_1t}-k_2fe^{-k_1t}$$\n",
    "\n",
    "Rearrange to get:\n",
    "\n",
    "$$\\biggl({df\\over dt}\\biggr)~e^{-k_1t}=k_1[A]_0e^{-k_1t}-k_2fe^{-k_1t}+fk_1~e^{-k_1t}$$\n",
    "\n",
    "so dividing every term by $e^{-k_1t}$ gives:\n",
    "\n",
    "$$\\boxed{\\left({df\\over dt}\\right)=k_1A_0+(k_1-k_2)f}$$\n",
    "QED as per your lecture notes."
   ]
  },
  {
   "cell_type": "code",
   "execution_count": null,
   "metadata": {
    "jupyter": {
     "source_hidden": true
    }
   },
   "outputs": [],
   "source": []
  }
 ],
 "metadata": {
  "kernelspec": {
   "display_name": "Python 3 (ipykernel)",
   "language": "python",
   "name": "python3"
  },
  "language_info": {
   "codemirror_mode": {
    "name": "ipython",
    "version": 3
   },
   "file_extension": ".py",
   "mimetype": "text/x-python",
   "name": "python",
   "nbconvert_exporter": "python",
   "pygments_lexer": "ipython3",
   "version": "3.8.12"
  }
 },
 "nbformat": 4,
 "nbformat_minor": 4
}
