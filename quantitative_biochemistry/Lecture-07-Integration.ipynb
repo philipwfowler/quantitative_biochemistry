{
 "cells": [
  {
   "cell_type": "code",
   "execution_count": 1,
   "metadata": {
    "jupyter": {
     "source_hidden": true
    }
   },
   "outputs": [],
   "source": [
    "import numpy, math\n",
    "from matplotlib import pyplot as plt\n",
    "from matplotlib import patches\n",
    "from src import code_toggle\n",
    "%matplotlib inline"
   ]
  },
  {
   "cell_type": "markdown",
   "metadata": {},
   "source": [
    "# Warm-up exercises\n",
    "\n",
    "\\begin{align*}\n",
    "&1. \\quad y = e^{6x^4} &\\quad y' &=\\\\\n",
    "&2. \\quad f(x,y) = x^2y^3 + xy &\\quad f_x &=\\\\\n",
    "&3. \\quad f(x,y) = x^2y^3 + xy &\\quad f_y &=\\\\\n",
    "&4. \\quad f(x,y) = e^x\\sin(xy) &\\quad f_x &= \\\\\n",
    "&5. \\quad f(x,y) = e^x\\sin(xy) &\\quad f_y &=\\\\\n",
    "&6. \\quad  \\frac{9^0}{100000} & &=\\\\\n",
    "&7. \\quad  e\\ln 1 &\\quad &=\\\\\n",
    "&8. \\quad  \\ln e^e  &\\quad &=\\\\\n",
    "&9. \\quad  \\frac{10^{-19} \\times 10^{11}}{10^{14} \\times 10^{-22}} & &=\\\\\n",
    "\\end{align*}\n",
    "\n",
    "10. What is the pH of a 0.1 M solution of HCl (which contains 3.65g HCl)?\n",
    "11. If you have 1ml of this solution how can its pH be *increased* by 1 unit?\n"
   ]
  },
  {
   "cell_type": "markdown",
   "metadata": {},
   "source": [
    "# Integration\n",
    "\n",
    "## How can we calculate the area under a curve?\n",
    "\n",
    "Consider the graph of \n",
    "\n",
    "$$y=x^2$$\n",
    "\n",
    "Suppose we want to find the area under the curve from $x=1$ to $x=2$."
   ]
  },
  {
   "cell_type": "code",
   "execution_count": 2,
   "metadata": {
    "jupyter": {
     "source_hidden": true
    }
   },
   "outputs": [
    {
     "data": {
      "image/png": "[encoded data removed]",
      "text/plain": [
       "<Figure size 504x360 with 1 Axes>"
      ]
     },
     "metadata": {
      "needs_background": "light"
     },
     "output_type": "display_data"
    },
    {
     "data": {
      "text/html": [
       "\n",
       "        <script>\n",
       "            function code_toggle_16015237746636471289() {\n",
       "                $('div.cell.code_cell.rendered.selected').find('div.input').toggle();\n",
       "            }\n",
       "\n",
       "            \n",
       "        </script>\n",
       "\n",
       "        <a href=\"javascript:code_toggle_16015237746636471289()\">Show Python code</a>\n",
       "    "
      ],
      "text/plain": [
       "<IPython.core.display.HTML object>"
      ]
     },
     "execution_count": 2,
     "metadata": {},
     "output_type": "execute_result"
    }
   ],
   "source": [
    "from matplotlib.patches import Polygon\n",
    "\n",
    "x = numpy.linspace(0, 3, 300)\n",
    "\n",
    "# plt.xkcd()\n",
    "fig,axis=plt.subplots(nrows=1,ncols=1,figsize=(7,5))\n",
    "\n",
    "axis.set_xlim([0,3])\n",
    "axis.set_xticks(numpy.arange(0,4))\n",
    "axis.set_xlabel('$x$')\n",
    "axis.set_ylim([0,7])\n",
    "axis.set_ylabel('$y$',rotation=0)\n",
    "axis.spines['left'].set_position('zero')\n",
    "axis.spines['right'].set_color('none')\n",
    "axis.spines['bottom'].set_position('zero')\n",
    "axis.spines['top'].set_color('none')\n",
    "\n",
    "def func(x):\n",
    "    return(x**2)\n",
    "\n",
    "a=1\n",
    "b=2\n",
    "ix=numpy.linspace(a,b)\n",
    "iy=func(ix)\n",
    "verts = [(a, 0), *zip(ix, iy), (b, 0)]\n",
    "poly = Polygon(verts, facecolor='0.9', edgecolor='0.5')\n",
    "axis.add_patch(poly)\n",
    "\n",
    "y = x**2\n",
    "axis.annotate('$y=x^2$',xy=(1,4),c='r')\n",
    "axis.plot(x, y,'r-')\n",
    "plt.show()\n",
    "\n",
    "code_toggle()"
   ]
  },
  {
   "cell_type": "markdown",
   "metadata": {},
   "source": [
    "We could divide the area into strips, calculate the area of each strip and sum these areas together"
   ]
  },
  {
   "cell_type": "code",
   "execution_count": 8,
   "metadata": {
    "tags": []
   },
   "outputs": [
    {
     "data": {
      "image/png": "[encoded data removed]",
      "text/plain": [
       "<Figure size 504x360 with 1 Axes>"
      ]
     },
     "metadata": {
      "needs_background": "light"
     },
     "output_type": "display_data"
    },
    {
     "data": {
      "text/html": [
       "\n",
       "        <script>\n",
       "            function code_toggle_15511797647949876596() {\n",
       "                $('div.cell.code_cell.rendered.selected').find('div.input').toggle();\n",
       "            }\n",
       "\n",
       "            \n",
       "        </script>\n",
       "\n",
       "        <a href=\"javascript:code_toggle_15511797647949876596()\">Show Python code</a>\n",
       "    "
      ],
      "text/plain": [
       "<IPython.core.display.HTML object>"
      ]
     },
     "execution_count": 8,
     "metadata": {},
     "output_type": "execute_result"
    }
   ],
   "source": [
    "from matplotlib.patches import Polygon\n",
    "\n",
    "x = numpy.linspace(0, 3, 300)\n",
    "\n",
    "# plt.xkcd()\n",
    "fig,axis=plt.subplots(nrows=1,ncols=1,figsize=(7,5))\n",
    "\n",
    "axis.set_xlim([0,3])\n",
    "axis.set_xticks(numpy.arange(0,4))\n",
    "axis.set_xlabel('$x$')\n",
    "axis.set_ylim([0,7])\n",
    "axis.set_ylabel('$y$',rotation=0)\n",
    "axis.spines['left'].set_position('zero')\n",
    "axis.spines['right'].set_color('none')\n",
    "axis.spines['bottom'].set_position('zero')\n",
    "axis.spines['top'].set_color('none')\n",
    "\n",
    "def func(x):\n",
    "    return(x**2)\n",
    "\n",
    "\n",
    "a=1.4\n",
    "b=1.6\n",
    "ix=numpy.linspace(a,b)\n",
    "iy=func(ix)\n",
    "verts = [(a, 0), *zip(ix, iy), (b, 0)]\n",
    "poly = Polygon(verts, facecolor='0.9', edgecolor='0.5')\n",
    "axis.add_patch(poly)\n",
    "\n",
    "axis.plot((1,1),(0,1),'k--')\n",
    "axis.plot((2,2),(0,4),'k--')\n",
    "\n",
    "axis.plot((1.4,1.4),(0,1.96),'k-')\n",
    "axis.plot((1.6,1.6),(0,1.96),'k-')\n",
    "axis.plot((1.4,1.6),(1.96,1.96),'k-')\n",
    "axis.annotate('$\\delta x$',xy=(1.5,0.5),ha='center',color='black')\n",
    "axis.annotate('$y$',xy=(1.35,1.),ha='right',color='black')\n",
    "\n",
    "y = x**2\n",
    "axis.annotate('$y=x^2$',xy=(1,4),c='r')\n",
    "axis.plot(x, y,'r-')\n",
    "plt.show()\n",
    "\n",
    "code_toggle()"
   ]
  },
  {
   "cell_type": "markdown",
   "metadata": {},
   "source": [
    "The area of the small shaded strip drawn on the graph above is $\\delta A$ (since it is small and finite) and \n",
    "\n",
    "$$ \\delta A \\approx y. \\delta x $$\n",
    "\n",
    "But this is clearly an overestimate (if the curve had $\\frac{dy}{dx} < 0$ then it would be an underestimate)"
   ]
  },
  {
   "cell_type": "markdown",
   "metadata": {},
   "source": [
    "However we can imagine splitting up the region betwen $x=1$ and $x=2$ into lots of small strips, calculating their areas and adding them up (summing them)\n",
    "\n",
    "\n",
    "$$ \\text{total area (A)} \\approx \\sum_{x=1}^{x=2} y.\\delta x$$"
   ]
  },
  {
   "cell_type": "markdown",
   "metadata": {},
   "source": [
    "where the capital Greek sigma ($\\Sigma$) is used since it is short for 'sum'. Consider our first equation and re-arrange it to make y the subject\n",
    "\n",
    "$$ y \\approx \\frac{\\delta A}{\\delta x} $$"
   ]
  },
  {
   "cell_type": "markdown",
   "metadata": {},
   "source": [
    "Just like when we were trying to calculate the slope of a function, as we make $\\delta x$ smaller and smaller, this becomes more and more accurate. If we let $\\delta x$ become infinitely small then it will be exact i.e.\n",
    "\n",
    "$$ y = \\lim_{\\delta x \\rightarrow 0} \\frac{\\delta A}{\\delta x} $$"
   ]
  },
  {
   "cell_type": "markdown",
   "metadata": {},
   "source": [
    "Notice how we now have an equality (rather than an approximately equals sign: $\\approx$)"
   ]
  },
  {
   "cell_type": "markdown",
   "metadata": {},
   "source": [
    "This can be written in Leibnizian form as \n",
    "\n",
    "$$ y = \\frac{dA}{dx} $$\n",
    "\n",
    "where just like before the RHS is a single term (it is the differential of $A$ with respect to $x$) and CANNOT be simplified."
   ]
  },
  {
   "cell_type": "markdown",
   "metadata": {},
   "source": [
    "Hence we can write\n",
    "\n",
    "\\begin{align*}\n",
    "A &= \\lim_{\\delta x \\rightarrow 0} \\sum_{x=1}^{x=2} \\delta A\\\\\n",
    " &= \\lim_{\\delta x \\rightarrow 0} \\sum_{x=1}^{x=2}  y. \\delta x\\\\\n",
    "\\end{align*}"
   ]
  },
  {
   "cell_type": "markdown",
   "metadata": {},
   "source": [
    "At this point we get tired of writing the limit symbol and then the summation symbol and so invent a new one; the long s was chosen by Leibniz since this is an infinite sum. "
   ]
  },
  {
   "cell_type": "markdown",
   "metadata": {},
   "source": [
    "\\begin{align*}\n",
    "A &= \\int_{x=1}^{x=2} dA\\\\\n",
    "&= \\int_{x=1}^{x=2} y(x)\\ dx\\\\\n",
    "\\end{align*}"
   ]
  },
  {
   "cell_type": "markdown",
   "metadata": {},
   "source": [
    "Over time the long s has been lost from English but lives on as part of the sharp s in German. It means \"sum over\""
   ]
  },
  {
   "cell_type": "markdown",
   "metadata": {},
   "source": [
    "![maths fight](images/xkcd-math-fight.png)"
   ]
  },
  {
   "cell_type": "markdown",
   "metadata": {},
   "source": [
    "Fine. We've got some fancy new notation. How do we DO integration? \n",
    "\n",
    "We said that:\n",
    "\n",
    "\\begin{align*}\n",
    "A &= \\int_{x_1}^{x_2} dA \\\\\n",
    " &= \\int_{x1}^{x2} y.dx\n",
    "\\end{align*}\n",
    "\n",
    "but we also showed that $y = \\frac{dA}{dx}$, therefore\n",
    "\n",
    "$$\\boxed{ A = \\int_{x_1}^{x_2} \\frac{dA}{dx}. dx }$$\n",
    "\n",
    "So INTEGRATION reverses the process of DIFFERENTIATION. It is the inverse mathematical operation."
   ]
  },
  {
   "cell_type": "markdown",
   "metadata": {},
   "source": [
    "### Example 1\n",
    "\n",
    "We know that \n",
    "\n",
    "$$\\frac{d}{dx}(x^2) = 2x $$ \n",
    "\n",
    "so \n",
    "\n",
    "$$ \\int_{x_1}^{x_2} 2x. dx = \\left [ x^2 \\right ]_{x_1}^{x_2} $$\n",
    "\n",
    "where the square brackets around our function mean \"the area of the function (here $x^2$) between the values $x=1$ and $x=2$\". The more positive number is always the top one.\n"
   ]
  },
  {
   "cell_type": "markdown",
   "metadata": {},
   "source": [
    "### Example 2\n",
    "\n",
    "Likewise\n",
    "\n",
    "$$\\frac{d}{dx}\\left (\\frac{1}{3} x^3 \\right ) = x^2 $$ \n",
    "so \n",
    "\n",
    "\\begin{align*}\n",
    "\\int_{x=1}^{x=2} 2x. dx &= \\left [ \\frac{1}{3} x^3 \\right ]_{x=1}^{x=2}\\\\\n",
    "&= \\frac{8}{3} - \\frac{1}{3}\\\\\n",
    "&= \\frac{7}{3} \n",
    "\\end{align*}\n"
   ]
  },
  {
   "cell_type": "markdown",
   "metadata": {},
   "source": [
    "### Integrating polynomials\n",
    "\n",
    "Since we already know that \n",
    "\n",
    "$$ \\frac{d}{dx} (ax^{n+1}) = a(n+1)x^n $$\n",
    "\n",
    "where $a$ and $n$ are constants (just numbers). (I've just written it with a power of $(n+1)$ rather than $n$ as we normally do, but you can check it is correct). Then we can infer that\n",
    "\n",
    "$$ \\boxed{ \\int_{x_1}^{x_2} ax^n.dx = \\left [ \\frac{a}{(n+1)}x^{n+1} \\right ]_{x_1}^{x_2} }$$\n",
    "\n",
    "EXCEPT when $n=-1$"
   ]
  },
  {
   "cell_type": "markdown",
   "metadata": {},
   "source": [
    "### Example 3\n",
    "\n",
    "$$ \\int_{x_1}^{x_2} x^6. dx = \\left [ \\frac{1}{7} x^7 \\right ]_{x_1}^{x_2}$$\n",
    "\n",
    "Because integration is the INVERSE of differentiation we can ALWAYS CHECK our answer by differentiating it!\n",
    "\n",
    "\\begin{align*}\n",
    "\\frac{d}{dx}\\left (\\frac{1}{7}x^7 \\right ) &= \\frac{7}{7}x^6\\\\\n",
    "&= x^6\n",
    "\\end{align*}\n",
    "\n",
    "Yes, our answer is correct"
   ]
  },
  {
   "cell_type": "markdown",
   "metadata": {},
   "source": [
    "### Example 4\n",
    "\n",
    "\\begin{align*} \n",
    "\\int_{x_1}^{x_2} x^{3/2}. dx &= \\left [ \\frac{1}{5/2} x^{5/2} \\right ]_{x_1}^{x_2}\\\\\n",
    "&= \\left [ \\frac{2}{5} x^{5/2} \\right ]_{x_1}^{x_2}\n",
    "\\end{align*}\n",
    "\n",
    "Differentiating to check ...\n",
    "\n",
    "\\begin{align*}\n",
    "\\frac{d}{dx}\\left ( \\frac{2}{5} x^{5/2} \\right ) &= \\frac{2}{5}. \\frac{5}{2}x^{3/2}\\\\\n",
    "&= x^{3/2} \n",
    "\\end{align*}\n",
    "\n",
    "Yes, our answer is correct"
   ]
  },
  {
   "cell_type": "markdown",
   "metadata": {},
   "source": [
    "### Example 5\n",
    "\n",
    "\\begin{align*} \n",
    "\\int_{x_1}^{x_2} \\frac{1}{\\sqrt{x}}. dx &= \\left [ \\frac{1}{1/2} x^{1/2} \\right ]_{x_1}^{x_2}\\\\\n",
    "&= \\left [ 2 x^{1/2} \\right ]_{x_1}^{x_2}\\\\\n",
    "&= \\left [ 2 \\sqrt{x} \\right ]_{x_1}^{x_2}\n",
    "\\end{align*}\n",
    "\n",
    "Differentiating to check ...\n",
    "\n",
    "\\begin{align*}\n",
    "\\frac{d}{dx}\\left ( 2 x^{1/2} \\right ) &= 2. \\frac{1}{2}x^{-1/2}\\\\\n",
    "&= x^{-1/2}\\\\\n",
    "&= \\frac{1}{\\sqrt{x}}\n",
    "\\end{align*}\n",
    "\n",
    "Yes, our answer is correct"
   ]
  },
  {
   "cell_type": "markdown",
   "metadata": {},
   "source": [
    "<div class=\"alert alert-block alert-danger\">\n",
    "<img src=\"images/curtis.jpg\" width=50 title=\"Curtis is not happy\" style=\"vertical-align:top\"/>\n",
    "<b>Common misconception:</b> It is very easy to get $x_1$ and $x_2$ the wrong way round. \n",
    "</div>\n",
    "\n",
    "$x_1$ and $x_2$ are called the LIMITS of the integration (in our motiviating example the limits were 1 and 2). Both of these are correct;\n",
    "\n",
    "\\begin{align*}\n",
    "\\int^b_a f'(x).dx &= \\left [ f(x) \\right ]^b_a\\\\\n",
    "&= f(b)-f(a)\n",
    "\\end{align*}\n",
    "\n",
    "\\begin{align*}\n",
    "\\int^a_b f'(x).dx &= \\left [ f(x) \\right ]^a_b\\\\\n",
    "&= f(a)-f(b)\n",
    "\\end{align*}\n",
    "\n",
    "Notice how it is always the top limit *minus* the bottom limit.\n"
   ]
  },
  {
   "cell_type": "markdown",
   "metadata": {},
   "source": [
    "## Constants of integration\n",
    "\n",
    "### Indefinite integrals\n",
    "\n",
    "Consider the functions:\n",
    "\n",
    "\\begin{align*}\n",
    "y &= x^2 + 7\\\\\n",
    "y &= x^2 -100\n",
    "\\end{align*}\n",
    "\n",
    "Differentiating either of these yields the same answer:\n",
    "\n",
    "$$\\frac{dy}{dx} = 2x$$\n",
    "\n",
    "This implies that \"going the other way\" i.e. applying the mathematical inverse operation (integration) needs to include a constant so that both our original equations can be true (with appropriate values of the constant). Hence\n",
    "\n",
    "\\begin{align*}\n",
    "y &= \\int 2x.dx\\\\\n",
    "&= x^2 + k\n",
    "\\end{align*}\n",
    "\n",
    "where $k$ is an unknown constant (in our examples above $k=7$ and $k=-100$, respectively). $k$ is called the constant of integration.\n"
   ]
  },
  {
   "cell_type": "markdown",
   "metadata": {},
   "source": [
    "We can think about this graphically; we are told that a function has a gradient of $2x$ and then are asked to find the function. The problem is there is a whole family of functions for which that is true. They all include an $x^2$ term but also a constant term $+k$ which, depending on the value of $k$, shifts the function up or down the $x$-axis as shown below."
   ]
  },
  {
   "cell_type": "code",
   "execution_count": 4,
   "metadata": {
    "jupyter": {
     "source_hidden": true
    }
   },
   "outputs": [
    {
     "data": {
      "image/png": "[encoded data removed]",
      "text/plain": [
       "<Figure size 504x360 with 1 Axes>"
      ]
     },
     "metadata": {
      "needs_background": "light"
     },
     "output_type": "display_data"
    },
    {
     "data": {
      "text/html": [
       "\n",
       "        <script>\n",
       "            function code_toggle_7475531004845601741() {\n",
       "                $('div.cell.code_cell.rendered.selected').find('div.input').toggle();\n",
       "            }\n",
       "\n",
       "            \n",
       "        </script>\n",
       "\n",
       "        <a href=\"javascript:code_toggle_7475531004845601741()\">Show Python code</a>\n",
       "    "
      ],
      "text/plain": [
       "<IPython.core.display.HTML object>"
      ]
     },
     "execution_count": 4,
     "metadata": {},
     "output_type": "execute_result"
    }
   ],
   "source": [
    "from matplotlib.patches import Polygon\n",
    "\n",
    "x = numpy.linspace(-3, 3, 300)\n",
    "\n",
    "# plt.xkcd()\n",
    "fig,axis=plt.subplots(nrows=1,ncols=1,figsize=(7,5))\n",
    "\n",
    "axis.set_xlim([-3,3])\n",
    "axis.set_xticks(numpy.arange(0,4))\n",
    "axis.set_xlabel('$x$')\n",
    "axis.set_ylim([-10,10])\n",
    "axis.set_ylabel('$y$',rotation=0)\n",
    "axis.spines['left'].set_position('zero')\n",
    "axis.spines['right'].set_color('none')\n",
    "axis.spines['bottom'].set_position('zero')\n",
    "axis.spines['top'].set_color('none')\n",
    "\n",
    "y = x**2\n",
    "axis.annotate('$y=x^2$',xy=(2.2,4),c='r',ha='left')\n",
    "axis.plot(x, y,'r-')\n",
    "\n",
    "y = (x**2)+3\n",
    "axis.annotate('$y=x^2+3$',xy=(2.2,7),c='b',ha='left')\n",
    "axis.plot(x, y,'b--')\n",
    "\n",
    "y = (x**2)-4\n",
    "axis.annotate('$y=x^2-4$',xy=(2.2,0),c='k',ha='left')\n",
    "axis.plot(x, y,'k--')\n",
    "\n",
    "\n",
    "plt.show()\n",
    "\n",
    "code_toggle()"
   ]
  },
  {
   "cell_type": "markdown",
   "metadata": {},
   "source": [
    "Notice that the integral sign above has NO LIMITS. We can think of this as calculating the \"area function\" for a curve (like differentiation is finding out the \"gradient function\"). The difference being an area is defined by where it starts and where it ends, whereas a gradient is defined at a single point. \n",
    "\n",
    "A function with no limits  is called an INDEFINITE INTEGRAL and you **always** need a constant of integration. A $c$ or $k$ is often used, but you can use any letter you want to denote the constant, as long as it isn't confusing.\n",
    "\n",
    "<div class=\"alert alert-block alert-danger\">\n",
    "<img src=\"images/curtis.jpg\" width=50 title=\"Python Logo\" style=\"vertical-align:top\"/>\n",
    "<b>Common misconception:</b> Forgetting the constant of integration when doing an indefinite integral is one of the most common mistakes in calculus.\n",
    "</div>\n"
   ]
  },
  {
   "cell_type": "markdown",
   "metadata": {},
   "source": [
    "### Definite integrals\n",
    "\n",
    "If there are limits, then it is called a DEFINITE INTEGRAL and when you impose the limits the constant $k$ is eliminated:\n",
    "\n",
    "\\begin{align*}\n",
    "\\int^b_a 2x.dx &= \\left [ x^2 +k \\right ]_a^b\\\\\n",
    "&= (b^2 + k) - (a^2 +k)\\\\\n",
    "&= b^2 - a^2 +k -k\\\\\n",
    "&= b^2 - a^2\n",
    "\\end{align*}\n",
    "\n",
    "This cancellation always happens which is why earlier we were lazy and didn't put the $k$ inside the brackets, although we could have done but we would have got the same answer."
   ]
  },
  {
   "cell_type": "markdown",
   "metadata": {},
   "source": [
    "## Integrating $\\frac{1}{x}$\n",
    "\n",
    "We earlier wrote (this time as an indefinte integral and not including the constant $a$)\n",
    "\n",
    "$$ \\int x^n.dx =  \\frac{1}{(n+1)}x^{n+1} + k $$\n",
    "\n",
    "But what about when $n=-1$? According to the formula.\n",
    "\n",
    "\\begin{align*} \n",
    "\\int x^{-1}.dx &=  \\frac{1}{(-1+1)}x^{-1+1} + k\\\\\n",
    "&= \\frac{1}{0}x^{0} + k ?\\\\\n",
    "&= \\text{RUBBISH!}\n",
    "\\end{align*}\n"
   ]
  },
  {
   "cell_type": "markdown",
   "metadata": {},
   "source": [
    "The formula can be shown to hold for all values of $n$ EXCEPT $n=-1$. However we already know the solution to this if we remember that\n",
    "\n",
    "$\\frac{d}{dx} (\\ln x) = \\frac{1}{x}$\n",
    "\n",
    "Hence\n",
    "\n",
    "$$ \\boxed{ \\int \\frac{1}{x}.dx = \\ln |x| +k } $$"
   ]
  },
  {
   "cell_type": "markdown",
   "metadata": {},
   "source": [
    "Why have I written $\\ln|x|$ rather than $\\ln(x)$, what do the lines mean? These mean take the absolute or modulus of $x$ which simply means you take the non-negative bit of $x$. So $|9|=9$ and $|-9|=9$. We have to do this because the function $1/x$ is defined for positive AND negative values of $x$ but $\\ln x$ is only defined for positive values of $x$. You can think of $|x|$ as the DISTANCE from the origin."
   ]
  },
  {
   "cell_type": "markdown",
   "metadata": {},
   "source": [
    "Since $k$ is a constant, we can write $k = \\ln B$ where $B$ is just another constant whose natural logarithm is $k$. If we do this, we can rewrite the above in a slightly different form using the log laws\n",
    "\n",
    "\\begin{align*}\n",
    "\\int \\frac{1}{x}. dx &= \\ln |x| + k \\\\\n",
    "&= \\ln |x| + \\ln B\\\\\n",
    "&= \\ln |Bx|\n",
    "\\end{align*}"
   ]
  },
  {
   "cell_type": "markdown",
   "metadata": {},
   "source": [
    "## Summary of integration formulae (encountered so far...)\n",
    "\n",
    "\\begin{align*}\n",
    "\\int a.dx &= ax + c\\\\\n",
    "\\int ax.dx &= \\frac{1}{2}ax^2 + c\\\\\n",
    "\\int ax^n.dx &= \\frac{a}{(n+1)}x^{n+1} + c \\quad\\text{for all }n\\text{ except }n=-1\\\\\n",
    "\\int ax^{-1}.dx &= a \\ln |x| + c \\\\\n",
    "\\end{align*}\n"
   ]
  },
  {
   "cell_type": "markdown",
   "metadata": {},
   "source": [
    "## The integral operator\n",
    "\n",
    "The differential operator is $\\frac{d}{dx}$ and if you remember CANNOT be divided or separated. The integral operator, $\\int ... dx$, is potentially more confusing since it comes in two bits which 'surround' the function being integrated. Either of them on their own makes no sense WHATSOEVER. \n",
    "\n",
    "<div class=\"alert alert-block alert-danger\">\n",
    "<img src=\"images/curtis.jpg\" width=50 title=\"Python Logo\" style=\"vertical-align:top\"/>\n",
    "<b>Common misconception:</b> Just like the differential operator ($d/dx$), the integral operator $\\int...dx$ signifies a mathematical operation being applied to a function and it CANNOT be divided by/multiplied away. We will return to this later!\n",
    "</div>\n",
    "\n",
    "As integration is the mathematical inverse of differentiation, if you want to undo integration, you differentiate, and if you want to undo differentiation, you integrate.\n",
    "\n",
    "\\begin{align*}\n",
    "\\frac{d}{dx} \\left [ \\int f(x).dx \\right ] &= f(x) \\\\\n",
    "\\int  \\left [ \\frac{d}{dx}f(x) \\right ].dx &= f(x) +c  \\\\\n",
    "\\end{align*}\n",
    "\n",
    "Don't forget the integration constant!"
   ]
  },
  {
   "cell_type": "markdown",
   "metadata": {},
   "source": [
    "## How might integration be useful?\n",
    "\n",
    "We've seen how $f'(t)$ gives us the RATE at which $f(t)$ changes with time, $t$. Integrating $f'(t)$ with respect to $t$ between $t=a$ and $t=b$ gives us the NET CHANGE undergone by $f(t)$ as $t$ progresses from $a$ to $b$. \n",
    "\n",
    "Consider some process characterised by $Q$ which is a measure of how much of something there is (like mass or number of moles). Then if $Q$ has been subject to some change (like it has been reacting) and that change is NOT CONSTANT i.e. it varies with time so we need to know $Q'(t)$, then the amount of $Q$ that has been used up / produced is given by\n",
    "\n",
    "$$ Q(b) - Q(a) = \\int^b_a Q'(t).dt $$\n",
    "\n",
    "You've already done this without realising it because the simplifying case is when $Q'(t)$ is a constant which will shall call $K$, then this reduces to\n",
    "\n",
    "$$ \\Delta Q = K.\\Delta t $$\n",
    "\n",
    "where $\\Delta Q$ and $\\Delta t$ mean \"change in $Q$ (or $t$)\".\n",
    "\n",
    "For example, you may have done questions involving things travelling at **constant velocity** and then asked to find out how far they have travelled after some time. You can only do this because the velocity was constant and doesn't change with time. Or you may have seen\n",
    "\n",
    "$$\\text{work done} = \\text{Force} \\times \\text{distance moved}$$\n",
    "\n",
    "That is true iff the force is constant, if it varies with the distance then we need to do this *integral*\n",
    "\n",
    "$$\\text{work done} = \\int_{s_0}^{s_1} F(s).ds$$\n",
    "\n",
    "Generally, being able to measure how the amount of something is changing and then model it mathematically is KEY to biochemistry and the study of reactions. "
   ]
  },
  {
   "cell_type": "markdown",
   "metadata": {},
   "source": [
    "## An example application\n",
    "\n",
    "Let's assume we know that the rate of production of NaCl can be described by $3\\sqrt{t}$ g/min where $t$ is measurement in min. Let's identify $Q(t)$ as the mass of NaCl at time $t$ (and we'd expect it to get larger as NaCl is being produced, not consumed).\n",
    "\n",
    "First, what is the rate of production after 1 min?\n",
    "\n",
    "\\begin{align*}\n",
    "\\text{rate} & =Q'(t)\\\\\n",
    "            &=3\\sqrt{t}\\\\\n",
    "            &=3\\sqrt{1}\\\\\n",
    "            &= 3 \\text{ g/min}\n",
    "\\end{align*}\n",
    "\n",
    "Then, what is the quantity of NaCl produced over the following three minutes? Since the rate changes with time we have to *integrate* as follows:\n",
    "\n",
    "\n",
    "\\begin{align*}\n",
    "Q(t=1) - Q(t=4) &= \\int^4_1 Q'(t).dt \\\\\n",
    "&= \\int^4_1 3\\sqrt{t}.dt\\\\\n",
    "&= \\int^4_1 3t^{1/2}.dt\\\\\n",
    "&= \\left [ 3 \\times \\frac{1}{3/2} t^{3/2} \\right ]^4_1 \\quad\\text{remember we can check this by differentiating..}\\\\\n",
    "&= \\left [ 2t^{3/2} \\right ]_1^4\\\\\n",
    "&= 2 \\times 4^{3/2} -2\\\\\n",
    "&= 16-2\\\\\n",
    "&= 14 \\text{ g}\n",
    "\\end{align*}\n",
    "\n",
    "\n"
   ]
  },
  {
   "cell_type": "markdown",
   "metadata": {},
   "source": [
    "## How can we integrate a function of a function?\n",
    "\n",
    "How can we integrate?\n",
    "\n",
    "$$ \\int^b_a (3-4x)^{-5}.dx $$\n",
    "\n",
    "Just like in differentiation we recognise that the integrand (the function being integrated) is a *function of a function* i.e. can be rewritten as \n",
    "\n",
    "$$ \\int^b_a f(g(x)).dx $$\n",
    "\n",
    "The method used to integrate functions like this is called **Integration by substitution**."
   ]
  },
  {
   "cell_type": "markdown",
   "metadata": {},
   "source": [
    "## Integration by substitution\n",
    "\n",
    "$$ I = \\int f(g(x)).dx $$\n",
    "\n",
    "since integration is the mathematical inverse of differentiation, if we differentiate both sides w.r.t. x, we get\n",
    "\n",
    "$$\\frac{dI}{dx} = f(g(x))$$\n",
    "\n",
    "let $u=g(x)$, then \n",
    "\n",
    "$$\\frac{dI}{dx} = f(u)$$\n",
    "\n",
    "but we can express the LHS using the *chain rule* which here is\n",
    "\n",
    "$$\\frac{dI}{dx} = \\frac{dI}{du}.\\frac{du}{dx}$$\n",
    "\n",
    "rearranging\n",
    "\n",
    "$$\\frac{dI}{du} = \\frac{dI}{dx}.\\frac{dx}{du}$$\n",
    "\n",
    "now integrate both sides w.r.t. $u$\n",
    "\n",
    "\\begin{align*}\n",
    "\\int \\frac{dI}{du}.du &= \\int \\frac{dI}{dx}.\\frac{dx}{du}.du \\\\\n",
    "I &= \\int f(u).\\frac{dx}{du}.du \\quad\\text{where we've made use of the result above}\\\\\n",
    "\\end{align*}\n",
    "\n",
    "Hence our final result is if \n",
    "\n",
    "$$ I = \\int f(g(x)).dx $$\n",
    "\n",
    "we can make the *substitution* $u=g(x)$ and rewrite this as \n",
    "\n",
    "$$\\boxed{I = \\int f(u).\\frac{dx}{dx}.du}$$"
   ]
  },
  {
   "cell_type": "markdown",
   "metadata": {},
   "source": [
    "As always, it isn't immediately obvious how this helps us (and sometimes, as we shall see, it doesn't!). So, let's do an example"
   ]
  },
  {
   "cell_type": "markdown",
   "metadata": {},
   "source": [
    "### Example 1\n",
    "\n",
    "$$\\int^b_a (2x+3)^4.dx$$\n",
    "\n",
    "We could of course expand out the bracket and integrate each of the polynomial terms separately but that would be tedious! Instead let's try a *substitution* and try using our new result. Let $u = 2x+3$. To apply the result, we also need to know $\\frac{dx}{du}$.\n",
    "\n",
    "\\begin{align*}\n",
    "u &= 2x+3\\\\\n",
    "\\frac{du}{dx} &= 2\\\\\n",
    "\\frac{dx}{du} &= \\frac{1}{2}\n",
    "\\end{align*}\n",
    "\n",
    "Now we've got everything we need. One important point is since we are substutiting for $x$ using $u=2x+3$ that means we have to change the LIMITS as well. Here we'll use notation to point that out and convert back to $x$ at the end. \n",
    "\n",
    "\\begin{align*}\n",
    "I &= \\int^b_a (2x+3)^4.dx\\\\\n",
    "&= \\int_{u(a)}^{u(b)} u^4.\\frac{1}{2}.du\\\\\n",
    "&= \\frac{1}{2}\\int_{u(a)}^{u(b)} u^4.du\\\\\n",
    "&= \\frac{1}{2}\\left [ \\frac{1}{5}u^5 \\right ] _{u(a)}^{u(b)}\\\\\n",
    "&= \\frac{1}{2}\\left [ \\frac{1}{5}(2x+3)^5 \\right ] _a^b\\\\\n",
    "&= \\frac{1}{10}\\left [(2x+3)^5 \\right ] _a^b\\\\\n",
    "\\end{align*}\n"
   ]
  },
  {
   "cell_type": "markdown",
   "metadata": {},
   "source": [
    "We don't need a *constant of integration* since this is a *definite integral*. As ever, we can CHECK it by differentiating our answer. To do that we need to apply the *chain rule*.\n",
    "\n",
    "$$ y = \\frac{1}{10}(2x+5)^5 $$\n",
    "\n",
    "The chain rule tells us that \n",
    "\n",
    "$$\\frac{dy}{dx} = \\frac{dy}{du}.\\frac{du}{dx}$$\n",
    "\n",
    "Hence\n",
    "\n",
    "\\begin{align*}\n",
    "u &= 2x+3 \\quad & \\frac{du}{dx} &= 2\\\\\n",
    "y &= \\frac{1}{10}u^5 \\quad & \\frac{dy}{du} &= \\frac{1}{2}u^4\\\\\n",
    "\\end{align*}\n",
    "\n"
   ]
  },
  {
   "cell_type": "markdown",
   "metadata": {},
   "source": [
    "Got everything we need for the chain rule:\n",
    "\n",
    "\\begin{align*}\n",
    "\\frac{dy}{dx} &= \\frac{dy}{du}.\\frac{du}{dx}\\\\\n",
    "&= \\frac{1}{2}u^4.2\\\\\n",
    "&= u^4\\\\\n",
    "&= (2x+3)^4\n",
    "\\end{align*}\n",
    "\n",
    "Which is what we started with! Hence our integration must be correct."
   ]
  },
  {
   "cell_type": "markdown",
   "metadata": {},
   "source": [
    "### Example 2\n",
    "\n",
    "Consider\n",
    "\n",
    "$$\\int^b_a (3-4x)^{-5}.dx$$\n",
    "\n",
    "Let \n",
    "\n",
    "\\begin{align*}\n",
    "u &= 3-4x\\\\\n",
    "\\frac{du}{dx} &= -4\\\\\n",
    "\\frac{dx}{du} &= -\\frac{1}{4}\\\\\n",
    "\\end{align*}\n",
    "\n",
    "Now we can use *integration by substitution*\n",
    "\n",
    "\\begin{align*}\n",
    "I &= \\int f(g(x)).dx\\\\\n",
    "&= \\int f(u).\\frac{dx}{dx}.du\n",
    "\\end{align*}"
   ]
  },
  {
   "cell_type": "markdown",
   "metadata": {},
   "source": [
    "\n",
    "\\begin{align*}\n",
    "\\int^b_a (3-4x)^{-5}.dx &= \\int_{u(a)}^{u(b)} u^{-5}\\times-\\frac{1}{4}.du\\\\\n",
    "&= -\\frac{1}{4}\\int_{u(a)}^{u(b)} u^{-5}.du\\\\\n",
    "&= \\frac{1}{4} \\left [ \\frac{1}{4}u^{-4}\\right ]^{u(b)}_{u(a)}\\\\\n",
    "&= \\frac{1}{16} \\left [ (3-4x)^{-4}\\right ]_a^b\\\\\n",
    "\\end{align*}"
   ]
  },
  {
   "cell_type": "markdown",
   "metadata": {},
   "source": [
    "### Example 3\n",
    "\n",
    "What about?\n",
    "\n",
    "$$\\int^b_a x^2(6x^3+4)^{-1/2}.dx$$\n",
    "\n",
    "This looks horrible, but notice that that the derivative of $x^3$ 'involves' $x^2$. Whenever you see this pattern it is usually a clue that *integration by substitution* is likely to work."
   ]
  },
  {
   "cell_type": "markdown",
   "metadata": {},
   "source": [
    "\\begin{align*}\n",
    "u &= 6x^3+4\\\\\n",
    "\\frac{du}{dx} &= 18x^2\\\\\n",
    "\\frac{dx}{du} &= \\frac{1}{18x^2}\\\\\n",
    "\\end{align*}\n",
    "\n",
    "Now let's integrate\n",
    "\n",
    "\\begin{align*}\n",
    "\\int^b_a x^2(6x^3+4)^{-1/2}.dx &= \\int^{u(b)}_{u(a)} x^2u^{-1/2}.\\frac{1}{18x^2}.du\\\\\n",
    "&= \\int^{u(b)}_{u(a)} \\frac{1}{18}.u^{-1/2}.du\\\\\n",
    "&= \\frac{1}{18} \\int^{u(b)}_{u(a)} u^{-1/2}.du\\\\\n",
    "&= \\frac{1}{18} .\\left [ 2u^{1/2} \\right ]^{u(b)}_{u(a)}\\\\\n",
    "&= \\frac{1}{9} \\left [ u^{1/2} \\right ]^{u(b)}_{u(a)}\\\\\n",
    "&= \\frac{1}{9} \\left [ (6x^3+4)^{1/2} \\right ]^b_a\\\\\n",
    "\\end{align*}\n",
    "\n",
    "I'll leave it to you to check it by applying the chain rule to differentiate it..."
   ]
  },
  {
   "cell_type": "markdown",
   "metadata": {},
   "source": [
    "<div class=\"alert alert-block alert-info\">\n",
    "<img src=\"images/tick.png\" width=50 title=\"Tip\" style=\"vertical-align:top\"/>\n",
    "<b>Tip:</b> if you have a complex integral but part of it looks like a constant times the differential of the other part, then integration by substitution is likely to work.\n",
    "</div>"
   ]
  }
 ],
 "metadata": {
  "kernelspec": {
   "display_name": "Python 3 (ipykernel)",
   "language": "python",
   "name": "python3"
  },
  "language_info": {
   "codemirror_mode": {
    "name": "ipython",
    "version": 3
   },
   "file_extension": ".py",
   "mimetype": "text/x-python",
   "name": "python",
   "nbconvert_exporter": "python",
   "pygments_lexer": "ipython3",
   "version": "3.8.12"
  }
 },
 "nbformat": 4,
 "nbformat_minor": 4
}
