{
 "cells": [
  {
   "cell_type": "code",
   "execution_count": 1,
   "metadata": {
    "jupyter": {
     "source_hidden": true
    }
   },
   "outputs": [],
   "source": [
    "import numpy, math\n",
    "from matplotlib import pyplot as plt\n",
    "from matplotlib import patches\n",
    "from src import code_toggle\n",
    "%matplotlib inline"
   ]
  },
  {
   "cell_type": "markdown",
   "metadata": {},
   "source": [
    "# Warm-up exercises\n",
    "\n",
    "Remember the product rule; if $y= f(x)g(x)$ then $y'=f'(x)g(x) + f(x)g'(x)$.\n",
    "\n",
    "\\begin{align*}\n",
    "&1. \\quad y = x+5& \\quad x &=\\\\\n",
    "&2. \\quad y =\\frac{x^3+6}{x^{3/2}}& \\quad y' &=\\\\\n",
    "&3. \\quad y^2 = 6593 & \\quad y &= \\\\\n",
    "&4. \\quad y = \\frac{\\sin x}{x} & \\quad y' &=\\\\\n",
    "&5. \\quad y = \\sqrt{x}-3& \\quad x &=\\\\\n",
    "&6. \\quad y = \\frac{1}{x^4-7}& \\quad x &=\\\\\n",
    "&7. \\quad y = 10^x& \\quad x &=\\\\\n",
    "\\end{align*}\n",
    "\n",
    "8. Convert 47,630 rpm to radians per second.\n",
    "9. Approximately how much NaOH (molecular weight 40 g/mol) do I need to make up 100$\\mu$l of a 2.5 M solution?"
   ]
  },
  {
   "cell_type": "markdown",
   "metadata": {},
   "source": [
    "## Notes on finding square roots\n",
    "\n",
    "Rewrite the number so that it lies between 1 and 100 is multiplied by $10^{2n}$ (i.e. an *even* power of ten). Then estimate the square root of the number. The square root of the power of ten is straightforward since you halve the index i.e. $10^n$.\n",
    "\n",
    "e.g. \n",
    "\n",
    "$$\\sqrt{8.1 \\times 10^5} = \\sqrt{81 \\times 10^4} = \\pm 9 \\times 10^2$$\n",
    "\n",
    "<div class=\"alert alert-block alert-success\">\n",
    "<img src=\"images/pointing-finger.png\" width=50 title=\"For you\" style=\"vertical-align:top\"/>\n",
    "<b>For you:</b>\n",
    "$$\\sqrt{0.36 \\times 10^{-3}} = $$\n",
    "</div>"
   ]
  },
  {
   "cell_type": "markdown",
   "metadata": {},
   "source": [
    "# Calculus (cont.)\n",
    "\n",
    "We've looked at how to differentiate the *product* of two functions i.e.\n",
    "\n",
    "$$y=f(x)g(x)$$\n",
    "\n",
    "but what about when one function is *divided* by another? (This is known as a *quotient*)."
   ]
  },
  {
   "cell_type": "markdown",
   "metadata": {},
   "source": [
    "## Differentiating a quotient\n",
    "\n",
    "First, what is a quotient? It is just one function divided by another, like\n",
    "\n",
    "$$y = \\frac{f(x)}{g(x)} $$\n",
    "\n",
    "This is another way of combining functions that we need to be able to differentiate. We'll state the result first using Leibniz notation and show how you can derive it later\n",
    "\n",
    "$$\\boxed{\\frac{d}{dx}\\left ( \\frac{f}{g} \\right ) = \\frac{g\\frac{df}{dx} - f\\frac{dg}{dx}}{g^2}}$$\n",
    "\n",
    "or, using Newtonian notation\n",
    "\n",
    "$$\\boxed{\\frac{d}{dx}\\left ( \\frac{f}{g} \\right )= \\frac{gf' - fg'}{g^2}}$$\n",
    "\n",
    "Note that you will see $f$ and $g$ replaced by $u$ and $v$ in textbooks and elsewhere but I've tried to use $f$ and $g$ throughout because $u$ and $v$ look too similar!\n"
   ]
  },
  {
   "cell_type": "markdown",
   "metadata": {},
   "source": [
    "### Example\n",
    "\n",
    "\\begin{align*}\n",
    "y &= \\frac{3x-1}{4x+2}\n",
    "\\end{align*}\n",
    "\n",
    "Again, just like the product rule we separately identify the functions and calculate their differentials\n",
    "\n",
    "\\begin{align*}\n",
    " f(x) &= 3x-1 &\\quad f'(x) &= 3\\\\\n",
    " g(x) &= 4x+2 &\\quad g'(x) &= 4\n",
    "\\end{align*}\n",
    "\n",
    "Then we can substitute everything into our result\n",
    "\n",
    "\\begin{align*}\n",
    "\\frac{d}{dx}\\left ( \\frac{f}{g} \\right ) &= \\frac{gf' - fg'}{g^2}\\\\\n",
    "&= \\frac{(4x+2)3 - (3x-1)4}{(4x+2)^2}\\\\\n",
    "&= \\frac{12x + 6 -12x + 4}{(4x+2)^2}\\\\\n",
    "&= \\frac{10}{(4x+2)^2}\\\\\n",
    "\\end{align*}"
   ]
  },
  {
   "cell_type": "markdown",
   "metadata": {},
   "source": [
    "### The quotient rule and product rule are equivalent\n",
    "\n",
    "<div class=\"alert alert-block alert-warning\">\n",
    "<img src=\"images/thinking-face.png\" width=50 title=\"Hmm\" style=\"vertical-align:top\"/>\n",
    "<b>Thought:</b> Any function that you can write as a quotient ($\\frac{f}{g}$) you can also write as a product ($f.\\frac{1}{g}$). Hence, we could also differentiate the example above using the product rule!\n",
    "</div>\n",
    "\n",
    "Let's remind ourselves of the product rule\n",
    "\n",
    "$$\\frac{d}{dx}(f.g) = f'g + fg'$$\n",
    "\n",
    "Again, let's write out $f$ and $g$ separately, but note that $g$ here is different to before!\n",
    "\n",
    "\\begin{align*}\n",
    " f(x) &= 3x-1 &\\quad f'(x) &= 3\\\\\n",
    " g(x) &= \\frac{1}{4x+2} &\\quad g'(x) &= \\frac{-4}{(4x+2)^2}\n",
    "\\end{align*}\n",
    "\n",
    "\\begin{align*}\n",
    "\\frac{dy}{dx} &= 3.\\frac{1}{4x+2} +(3x-1).\\frac{-4}{(4x+2)^2}\\\\\n",
    "&= \\frac{3(4x+2) - 4(3x-1)}{(4x+2)^2}\\\\\n",
    "&= \\frac{12x +6  - 12x +4)}{(4x+2)^2}\\\\\n",
    "&= \\frac{10}{(4x+2)^2}\\\\\n",
    "\\end{align*}\n",
    "\n",
    "Which is what we got using the quotient rule!\n"
   ]
  },
  {
   "cell_type": "markdown",
   "metadata": {},
   "source": [
    "### Which one should I use?\n",
    "\n",
    "As ever, there are advantages and disadvantages either way. The product rule is symmetrical so you can't get $f$ and $g$ \"the wrong way round\"; the quotient rule isn't symmetrical, so you can make that mistake. But using the product rule will produce two fractions that you'll probably need to combine, which might lead to some algebraic mistakes; the quotient rule automatically takes care of this for you! "
   ]
  },
  {
   "cell_type": "markdown",
   "metadata": {},
   "source": [
    "### Deriving the quotient rule\n",
    "\n",
    "Now that we've shown the quotient rule is related to the product rule, that suggests can use the latter to derive the former. So that we can apply the product rule, which needs the functions in the form $fg$, let's use $a$ and $b$ for a moment. Consider\n",
    "\n",
    "$$y = \\frac{a(x)}{b(x)}$$\n",
    "\\begin{align*}\n",
    " f(x) &= a &\\quad f'(x) &= a'\\\\\n",
    " g(x) &= \\frac{1}{b} &\\quad g'(x) &= -\\frac{b'}{b^2}\n",
    "\\end{align*}\n",
    "\n",
    "\\begin{align*}\n",
    "\\frac{dy}{dx} &= a'.\\frac{1}{b} +a.\\frac{-b'}{b^2}\\\\\n",
    "&= \\frac{a'b-ab'}{b^2}\\\\\n",
    "\\end{align*}\n",
    "which if we replace $a$ by $f$ and $b$ by $g$ is our result!\n",
    "\n",
    "$$\\frac{dy}{dx}= \\frac{f'g-fg'}{g^2}$$"
   ]
  },
  {
   "cell_type": "markdown",
   "metadata": {},
   "source": [
    "## Differentiating the function of a function.\n",
    "\n",
    "So, we can now differentiate the sum, product and quotient of two functions (as well as a scalar multiplied by a function). Is that it? Well, no, there is one more, and this is the *most challenging* conceptually. \n",
    "\n",
    "It is when one mathematical operation is applied to $x$ and then a second operation is applied to the result. For example $y=(x+1)^2$ or $y=\\sin(2x)$? In the first example this first operation is \"add one\" and the second is \"square\", whilst in the second example we first \"multiple by 2\" and then \"take the sin\". We write the general case as\n",
    "\n",
    "$$y=f(g(x))$$\n",
    "\n",
    "We say this as \"f of g of x\". Let's rewrite this as \n",
    "\n",
    "$$y=z(x)$$\n"
   ]
  },
  {
   "cell_type": "markdown",
   "metadata": {},
   "source": [
    "then we can apply our general expression for the gradient and invoke the limit\n",
    "\n",
    "\\begin{equation}\n",
    "\\frac{dy}{dx} = \\lim_{h \\rightarrow 0} \\frac{z(x+h) - z(x)}{h}\n",
    "\\end{equation}\n",
    "\n",
    "but of course $z(x)= f(g(x))$ so\n",
    "\n",
    "\\begin{equation}\n",
    "\\frac{dy}{dx} = \\lim_{h \\rightarrow 0} \\frac{f(g(x+h)) - f(g(x))}{h}\n",
    "\\end{equation}\n",
    "\n",
    "Hmm, this doesn't look too helpful, but we can use the linear approximation to substitute for $g(x+h)$.\n",
    "\n",
    "$$ g(x+h) \\approx g(x) + g'(x).h  $$ \n",
    "\n",
    "That gets us \n",
    "\n",
    "\\begin{equation}\n",
    "\\frac{dy}{dx} = \\lim_{h \\rightarrow 0} \\frac{f(g(x) + g'(x)h) - f(g(x))}{h}\n",
    "\\end{equation}\n",
    "\n",
    "To simplify things, let's write $k=g'(x).h$ (which in Leibniz is $k=\\frac{dg}{dx}.h$) and write $g$ instead of $g(x)$\n",
    "\n",
    "\\begin{equation}\n",
    "\\frac{dy}{dx} = \\lim_{h \\rightarrow 0} \\frac{f(g + k) - f(g))}{h}\n",
    "\\end{equation}\n",
    "\n",
    "<div class=\"alert alert-block alert-danger\">\n",
    "<img src=\"images/curtis.jpg\" width=50 title=\"Curtis is not happy\" style=\"vertical-align:top\"/>\n",
    "<b>Common misconception:</b> In this simpler form we CANNOT 'multiply' out $f(g+k)$ because it means \"evaluate $f$ at $g+k$\" NOT \"$f$ multiplied by $(g+k)$\".\n",
    "</div>\n",
    "\n",
    "Now this is the trick: we can apply the linear approximation AGAIN but this time identifying\n",
    "\n",
    "$$ f(g+k) \\approx f(g) + f'(g).k  $$ \n",
    "\n",
    "where we in the second term we are differentiating w.r.t. $g$ NOT $x$. This is where rewriting it using Leibniz notation really helps because Newtonian is ambigious\n",
    "\n",
    "$$  f(g+k) \\approx f(g) + \\frac{df}{dg}.k  $$ \n",
    "\n",
    "\n",
    "Substituting back we get \n",
    "\n",
    "\\begin{align*}\n",
    "\\frac{dy}{dx} &= \\lim_{h \\rightarrow 0} \\frac{f(g(x)) + \\frac{df}{dg}.k  - f(g(x))}{h}\\\\\n",
    "&= \\lim_{h \\rightarrow 0} \\frac{\\frac{df}{dg}.k}{h}\\\\\n",
    "&= \\lim_{h \\rightarrow 0} \\frac{\\frac{df}{dg}.\\frac{dg}{dx}.h}{h}\\\\\n",
    "&= \\lim_{h \\rightarrow 0} \\frac{df}{dg}.\\frac{dg}{dx}\\\\\n",
    "\\end{align*}\n",
    "\n",
    "Giving us our final result\n",
    "\n",
    "$$\\boxed{\\frac{dy}{dx} = \\frac{df}{dg}.\\frac{dg}{dx}}$$\n",
    "\n",
    "We can also write it in Newtonian form, but it is less clear that $f$ is being differentiated w.r.t. $g$ i.e. you have to think a bit more exactly what the dash means\n",
    "\n",
    "$$\\boxed{\\frac{dy}{dx} = \\left(f'(g) \\right ).g'}$$\n",
    "\n",
    "This is known as the CHAIN RULE."
   ]
  },
  {
   "cell_type": "markdown",
   "metadata": {},
   "source": [
    "It is more challenging than the product or quotient rule to internalise! Let's look at some examples as that always helps\n",
    "\n",
    "### Example 1\n",
    "\n",
    "\\begin{align*}\n",
    "y &= (5x^2+2)^4\\\\\n",
    "&= f(g(x))\\\\\n",
    "\\end{align*}\n",
    "\n",
    "now let's explicitly write down what $f$ and $g$ are \n",
    "\n",
    "\\begin{align*}\n",
    "g(x) &= 5x^2+2\\quad & g'(x) &=10x\\\\\n",
    "f(g) &= g^4  \\quad & f'(g)&=4g^3\\\\\n",
    "\\end{align*}\n",
    "\n",
    "If you aren't familar with this, writing down the functions and their derivatives like this really help us apply the chain rule.\n",
    "\n",
    "\\begin{align*}\n",
    "\\frac{dy}{dx} &= \\frac{df}{dg}.\\frac{dg}{dx}\\\\\n",
    "    &= 4g^3.10x\\\\\n",
    "    &= 4(5x^2+2)^3.10x\\\\\n",
    "    &=40x(5x^2+2)\n",
    "\\end{align*}\n",
    "\n",
    "If you want to prove this to yourself, expand out the brackets and then differentiate each term!\n",
    "    \n",
    "    \n",
    "    \n",
    "    \n",
    "    \n",
    "    \n",
    "    \n"
   ]
  },
  {
   "cell_type": "markdown",
   "metadata": {},
   "source": [
    "### Example 2\n",
    "\n",
    "We can't mutliply this one out!\n",
    "\n",
    "\\begin{align*}\n",
    "y &= (x^2+2)^{1/2}\\\\\n",
    "\\end{align*}\n",
    "\n",
    "\n",
    "\\begin{align*}\n",
    "g(x) &= x^2+2\\quad & g'(x) &=2x\\\\\n",
    "f(g) &= g^{1/2}  \\quad & f'(g)&=\\frac{1}{2}g^{-1/2}\\\n",
    "\\end{align*}\n",
    "\n",
    "\\begin{align*}\n",
    "\\frac{dy}{dx} &= \\frac{df}{dg}.\\frac{dg}{dx}\\\\\n",
    " &= \\frac{1}{2}g^{-1/2}.2x\\\\\n",
    " &= \\frac{x}{(x^2+2)^{1/2}}\\\\\n",
    "\\end{align*}\n"
   ]
  },
  {
   "cell_type": "markdown",
   "metadata": {},
   "source": [
    "### Example 3\n",
    "\n",
    "\n",
    "\\begin{align*}\n",
    "y &= \\frac{1}{4x+2}\\\\\n",
    "&=(4x+2)^{-1}\n",
    "\\end{align*}\n",
    "\n",
    "\n",
    "\\begin{align*}\n",
    "g(x) &= 4x+2\\quad & g'(x) &=4\\\\\n",
    "f(g) &= g^{-1}  \\quad & f'(g)&=-g^{-2}\\\n",
    "\\end{align*}\n",
    "\n",
    "\\begin{align*}\n",
    "\\frac{dy}{dx} &= \\frac{df}{dg}.\\frac{dg}{dx}\\\\\n",
    " &= -g^{-2}.4\\\\\n",
    " &= \\frac{4}{(4x+2)^{2}}\\\\\n",
    "\\end{align*}\n"
   ]
  },
  {
   "cell_type": "markdown",
   "metadata": {},
   "source": [
    "### Example 4\n",
    "\n",
    "\\begin{align*}\n",
    "y &= \\sin \\sqrt{x}\n",
    "\\end{align*}\n",
    "\n",
    "\\begin{align*}\n",
    "g(x) &= x^{1/2}\\quad & g'(x) &=\\\\\n",
    "f(g) &= \\sin g  \\quad & f'(g)&=\\\\\n",
    "\\end{align*}\n",
    "\n",
    "<div class=\"alert alert-block alert-success\">\n",
    "<img src=\"images/pointing-finger.png\" width=50 title=\"For you\" style=\"vertical-align:top\"/>\n",
    "    <b>For you to do:</b> Finish differentiating this function using the chain rule\n",
    "</div>\n"
   ]
  },
  {
   "cell_type": "markdown",
   "metadata": {},
   "source": [
    "### How about function of a function of a function?\n",
    "\n",
    "Remember we can write the chain rule one of two ways (remembering that $y'(x) = \\frac{dy}{dx}$.\n",
    "\n",
    "\\begin{align*}\n",
    "y'(x) &=f'(g)g'(x)\\\\\n",
    "\\frac{dy}{dx} &= \\frac{dy}{dg} \\times \\frac{dg}{dx}\n",
    "\\end{align*}\n",
    "\n",
    "What about if we have more than two nested functions? Extending the chain rule is easiest in the Leibniz form. Trying six (you are VERY unlikely to find something this complex in Biochemistry!).\n",
    "\n",
    "\\begin{align*}\n",
    "y &=a(b(c(d(f(g(x)))))\n",
    "\\end{align*}\n",
    "\n",
    "Identify $g(x)=r$, $f(r)=s$, $d(s)=u$, $c(u)=v$, $b(v)=w$, $a(w)=y$.\n",
    "$$\n",
    "\\frac{dy}{dx} = \\frac{da}{dw} \\times \\frac{dw}{dv} \\times \\frac{dv}{du} \\times \\frac{du}{ds} \\times \\frac{ds}{dr} \\times \\frac{dr}{dx}\n",
    "$$\n",
    "Writing it in the Leibnizian form makes it clear we we call it the \"Chain rule\"\n",
    "\n",
    "<div class=\"alert alert-block alert-danger\">\n",
    "<img src=\"images/curtis.jpg\" width=50 title=\"Curtis is not happy\" style=\"vertical-align:top\"/>\n",
    "<b>Common misconception:</b> It might 'look like' you can 'cancel' the terms above but you CANNOT since the mathematical operator is e.g. $\\frac{d}{ds}$. \n",
    "</div>"
   ]
  },
  {
   "cell_type": "markdown",
   "metadata": {},
   "source": [
    "# The exponential function\n",
    "\n",
    "Recall from the lecture on indices that functions of the form $y = k^x$ where $k$ is a number grow very fast and look like this"
   ]
  },
  {
   "cell_type": "code",
   "execution_count": 2,
   "metadata": {
    "jupyter": {
     "source_hidden": true
    }
   },
   "outputs": [
    {
     "data": {
      "image/png": "[encoded data removed]",
      "text/plain": [
       "<Figure size 576x360 with 1 Axes>"
      ]
     },
     "metadata": {
      "needs_background": "light"
     },
     "output_type": "display_data"
    },
    {
     "data": {
      "text/html": [
       "\n",
       "        <script>\n",
       "            function code_toggle_18321377762236936600() {\n",
       "                $('div.cell.code_cell.rendered.selected').find('div.input').toggle();\n",
       "            }\n",
       "\n",
       "            \n",
       "        </script>\n",
       "\n",
       "        <a href=\"javascript:code_toggle_18321377762236936600()\">Show Python code</a>\n",
       "    "
      ],
      "text/plain": [
       "<IPython.core.display.HTML object>"
      ]
     },
     "execution_count": 2,
     "metadata": {},
     "output_type": "execute_result"
    }
   ],
   "source": [
    "import numpy, math\n",
    "from matplotlib import pyplot as plt\n",
    "from matplotlib import patches\n",
    "from src import code_toggle\n",
    "%matplotlib inline\n",
    "\n",
    "x = numpy.linspace(-2, 2, 50)\n",
    "\n",
    "# plt.xkcd()\n",
    "fig,axis=plt.subplots(figsize=(8,5))\n",
    "axis.set_xlim([-2,2])\n",
    "axis.set_xticks([-2,-1,0,1,2])\n",
    "axis.set_xlabel('$x$')\n",
    "# axis.set_ylim([0,35])\n",
    "# axis.set_yticks([0,10,20,30])\n",
    "axis.set_ylabel('$y$')\n",
    "axis.spines['left'].set_position('zero')\n",
    "axis.spines['right'].set_color('none')\n",
    "axis.spines['bottom'].set_position('zero')\n",
    "axis.spines['top'].set_color('none')\n",
    "\n",
    "a = 1\n",
    "y = a**x\n",
    "axis.plot(x, y,'k-')\n",
    "axis.annotate('$y=1^x$',xy=(2,1),c='k')\n",
    "\n",
    "a = 2\n",
    "y = a**x\n",
    "axis.plot(x, y,'r-')\n",
    "axis.annotate('$y=2^x$',xy=(2,4),c='r')\n",
    "\n",
    "a = 3\n",
    "y = a**x\n",
    "axis.plot(x, y,'b-')\n",
    "axis.annotate('$y=3^x$',xy=(2,9),c='b')\n",
    "\n",
    "a = 4\n",
    "y = a**x\n",
    "axis.plot(x, y,'g-')\n",
    "axis.annotate('$y=4^x$',xy=(2,16),c='g')\n",
    "\n",
    "\n",
    "plt.show()\n",
    "\n",
    "code_toggle()"
   ]
  },
  {
   "cell_type": "markdown",
   "metadata": {},
   "source": [
    "ALL members of the $k^x$ family pass through the point (0,1). Let's zoom in 4X and look at the gradient at this point"
   ]
  },
  {
   "cell_type": "code",
   "execution_count": 3,
   "metadata": {
    "jupyter": {
     "source_hidden": true
    }
   },
   "outputs": [
    {
     "data": {
      "image/png": "[encoded data removed]",
      "text/plain": [
       "<Figure size 576x360 with 1 Axes>"
      ]
     },
     "metadata": {
      "needs_background": "light"
     },
     "output_type": "display_data"
    },
    {
     "data": {
      "text/html": [
       "\n",
       "        <script>\n",
       "            function code_toggle_15267217024000099596() {\n",
       "                $('div.cell.code_cell.rendered.selected').find('div.input').toggle();\n",
       "            }\n",
       "\n",
       "            \n",
       "        </script>\n",
       "\n",
       "        <a href=\"javascript:code_toggle_15267217024000099596()\">Show Python code</a>\n",
       "    "
      ],
      "text/plain": [
       "<IPython.core.display.HTML object>"
      ]
     },
     "execution_count": 3,
     "metadata": {},
     "output_type": "execute_result"
    }
   ],
   "source": [
    "import numpy, math\n",
    "from matplotlib import pyplot as plt\n",
    "from matplotlib import patches\n",
    "from src import code_toggle\n",
    "%matplotlib inline\n",
    "\n",
    "x = numpy.linspace(-0.5, 0.5, 50)\n",
    "\n",
    "# plt.xkcd()\n",
    "fig,axis=plt.subplots(figsize=(8,5))\n",
    "# axis.set_xlim([-2,2])\n",
    "# axis.set_xticks([-2,-1,0,1,2])\n",
    "axis.set_xlabel('$x$')\n",
    "axis.set_ylim([0,2])\n",
    "axis.set_yticks([0,1,2])\n",
    "axis.set_ylabel('$y$')\n",
    "axis.spines['left'].set_position('zero')\n",
    "axis.spines['right'].set_color('none')\n",
    "axis.spines['bottom'].set_position('zero')\n",
    "axis.spines['top'].set_color('none')\n",
    "\n",
    "a = 1\n",
    "y = a**x\n",
    "axis.plot(x, y,'k-')\n",
    "axis.annotate('$y=1^x$',xy=(0.5,1),c='k')\n",
    "\n",
    "a = 2\n",
    "y = a**x\n",
    "axis.plot(x, y,'r-')\n",
    "axis.annotate('$y=2^x$',xy=(0.5,1.41),c='r')\n",
    "\n",
    "a = 3\n",
    "y = a**x\n",
    "axis.plot(x, y,'b-')\n",
    "axis.annotate('$y=3^x$',xy=(0.5,1.73),c='b')\n",
    "\n",
    "a = 4\n",
    "y = a**x\n",
    "axis.plot(x, y,'g-')\n",
    "axis.annotate('$y=4^x$',xy=(0.5,2),c='g')\n",
    "\n",
    "\n",
    "plt.show()\n",
    "\n",
    "code_toggle()"
   ]
  },
  {
   "cell_type": "markdown",
   "metadata": {},
   "source": [
    "If we carefully draw triangles we can estimate the gradient for each of these functions at the point (0,1)\n",
    "\n",
    "| k | gradient at (0,1) |\n",
    "|-------|-------------------|\n",
    "|1 | 0 |\n",
    "| 2 | 0.7 |\n",
    "| 3 | 1.1 |\n",
    "| 4 | 1.4 |\n",
    "\n",
    "We postulate that there must be some value of $k$ where the gradient at (0,1) is also 1. This number we call $e$ and the function is hence \n",
    "\n",
    "$$\\boxed{y=e^x}$$\n",
    "\n",
    "which we call the EXPONENTIAL FUNCTION.\n"
   ]
  },
  {
   "cell_type": "markdown",
   "metadata": {},
   "source": [
    "Notation note: this is sometimes written as \n",
    "\n",
    "$$ y= \\exp(x)$$\n"
   ]
  },
  {
   "cell_type": "markdown",
   "metadata": {},
   "source": [
    "We know that at $x=0$, $y=1$ and the gradient, $\\frac{dy}{dx}$ is also 1. This suggests that this might also be true:\n",
    "\n",
    "$$\\frac{dy}{dx} = e^x$$"
   ]
  },
  {
   "cell_type": "markdown",
   "metadata": {},
   "source": [
    "And indeed we can show that this is true at ALL points of the function. i.e. the value of the function, $y$, and its gradient, $\\frac{dy}{dx}$ are the same! So this is generally true\n",
    "\n",
    "$$\\boxed{y= e^x \\quad \\frac{dy}{dx}=e^x}$$"
   ]
  },
  {
   "cell_type": "markdown",
   "metadata": {},
   "source": [
    "This is the ONLY function that remains unchanged when differentiated (apart from $y=0$)."
   ]
  },
  {
   "cell_type": "markdown",
   "metadata": {},
   "source": [
    "We can restate this mathematical property as the function where \"the rate of change of something is identical to how much there is\". When we put it \n",
    "this way, we can see how this is going to be a good model for lots of things in biochemistry. For example, how the rate of change of a colony of bacteria will depend on how many bacteria there are! Or in epidemiology, the number of infections per unit time often depends on the number of infected people at any one time.\n",
    "\n",
    "A process that can be modelled by $e^x$ is said to be undergoing \"exponential growth\". You will have heard this term a lot in the news and on social media; it is not always used correctly!\n",
    "\n",
    "Likewise if a process can be modelled by $e^{-x}$ it is said to be undergoing \"exponential decay\".\n",
    "\n",
    "Let's sketch $e^x$ and $e^{-x}$"
   ]
  },
  {
   "cell_type": "code",
   "execution_count": 4,
   "metadata": {
    "jupyter": {
     "source_hidden": true
    }
   },
   "outputs": [
    {
     "data": {
      "image/png": "[encoded data removed]",
      "text/plain": [
       "<Figure size 576x360 with 1 Axes>"
      ]
     },
     "metadata": {
      "needs_background": "light"
     },
     "output_type": "display_data"
    },
    {
     "data": {
      "text/html": [
       "\n",
       "        <script>\n",
       "            function code_toggle_5106061811044783045() {\n",
       "                $('div.cell.code_cell.rendered.selected').find('div.input').toggle();\n",
       "            }\n",
       "\n",
       "            \n",
       "        </script>\n",
       "\n",
       "        <a href=\"javascript:code_toggle_5106061811044783045()\">Show Python code</a>\n",
       "    "
      ],
      "text/plain": [
       "<IPython.core.display.HTML object>"
      ]
     },
     "execution_count": 4,
     "metadata": {},
     "output_type": "execute_result"
    }
   ],
   "source": [
    "import numpy, math\n",
    "from matplotlib import pyplot as plt\n",
    "from matplotlib import patches\n",
    "from src import code_toggle\n",
    "%matplotlib inline\n",
    "\n",
    "x = numpy.linspace(-2, 2, 50)\n",
    "\n",
    "# plt.xkcd()\n",
    "fig,axis=plt.subplots(figsize=(8,5))\n",
    "axis.set_xlim([-2,2])\n",
    "axis.set_xticks([-2,-1,0,1,2])\n",
    "axis.set_xlabel('$x$')\n",
    "# axis.set_ylim([0,35])\n",
    "# axis.set_yticks([0,10,20,30])\n",
    "axis.set_ylabel('$y$')\n",
    "axis.spines['left'].set_position('zero')\n",
    "axis.spines['right'].set_color('none')\n",
    "axis.spines['bottom'].set_position('zero')\n",
    "axis.spines['top'].set_color('none')\n",
    "\n",
    "a = math.exp(1)\n",
    "y = a**x\n",
    "axis.plot(x, y,'r-')\n",
    "axis.annotate('$y=e^x$',xy=(2,7.4),c='r')\n",
    "\n",
    "a = math.exp(-1)\n",
    "y = a**x\n",
    "axis.plot(x, y,'b-')\n",
    "axis.annotate('$y=e^{-x}$',xy=(-2,7.4),c='b')\n",
    "\n",
    "\n",
    "\n",
    "plt.show()\n",
    "\n",
    "code_toggle()"
   ]
  },
  {
   "cell_type": "markdown",
   "metadata": {},
   "source": [
    "## What is the value of $e$?\n",
    "\n",
    "It is an irrational number like $\\pi$ (infinitely long) and is approximately\n",
    "\n",
    "$$ e = 2.71828182845...$$\n",
    "\n",
    "Also like $\\pi$ it arises in many different branches of mathematics. \n"
   ]
  },
  {
   "cell_type": "markdown",
   "metadata": {},
   "source": [
    "## Natural logarithms\n",
    "\n",
    "Recall (L02) we often find it useful to use base 10\n",
    "\n",
    "$$\\boxed{\\text{If} \\quad x = 10^y \\quad \\text{then} \\quad  y = \\log_{10}{x}}$$\n",
    "\n",
    "$e$ is also very useful as a BASE for logarithms. \n",
    "\n",
    "$$\\boxed{\\text{If} \\quad x = e^y \\quad \\text{then} \\quad  y = \\log_{e}{x}}$$\n",
    "\n",
    "\n",
    "\n"
   ]
  },
  {
   "cell_type": "markdown",
   "metadata": {},
   "source": [
    "Logarithms to the base $e$ are useful enough to be called \"natural logarithms\" and to also have their own abbreviation (which reflects that people got fed up with writing $\\log_{e}(x)$). You will have two logarithm buttons on your calculator. On mine they are labelled `log` and `ln`. \n",
    "\n",
    "$$\\boxed{y = \\log_e{x} = \\ln x}$$"
   ]
  },
  {
   "cell_type": "markdown",
   "metadata": {},
   "source": [
    "## Relating natural logarithms to base 10 logarithms \n",
    "\n",
    "Remember if we want to change base then\n",
    "\n",
    "$$ \\log_a c = \\frac{\\log_b c}{\\log_b a}$$\n",
    "\n",
    "Hence\n",
    "\n",
    "\\begin{align*}\n",
    "\\log_{10} x &= \\frac{\\log_e x}{\\log_e 10}\\\\\n",
    "&= \\frac{\\ln x}{\\ln 10}\\\\\n",
    "\\ln x &= \\ln 10 \\times \\log x\\\\\n",
    "&= 2.303 \\log x\n",
    "\\end{align*}\n",
    "\n",
    "\n",
    "<div class=\"alert alert-block alert-warning\">\n",
    "<img src=\"images/thinking-face.png\" width=50 title=\"Hmm\" style=\"vertical-align:top\"/>\n",
    "<b>Thought:</b> Engineering and parts of chemistry (e.g. electrochemistry and kinetics) don't 'like' natural logarithms and tend to just use $\\log_{10}{x}$. In their textbooks instead of $\\ln x$ you'll see $2.303 \\log x$ which just means they have changed the base to avoid using natural logarithms.\n",
    "</div>\n",
    "\n"
   ]
  },
  {
   "cell_type": "markdown",
   "metadata": {},
   "source": [
    "## Properties of natural logarithms\n",
    "\n",
    "1. $\\ln(e) = \\log_e (e) =1$\n",
    "2. $\\ln(10) = \\log_e(10)$. 'The power to which I need to raise $e$ to get 10'\n",
    "3. $\\ln(10) \\approx 2.303$, or, $e^{2.303} \\approx 10$.\n",
    "4. $\\ln(\\exp(b)) = \\ln(e^b) = b \\ln e = b$.\n",
    "5. $\\exp(\\ln(b)) = e^{\\ln b} = b$."
   ]
  },
  {
   "cell_type": "markdown",
   "metadata": {},
   "source": [
    "## The natural logarithm is the inverse mathematical operation to the exponential function\n",
    "\n",
    "As shown below they are reflections in the line $y=x$. Consider also $y=x^2$ and $y=\\sqrt{x}$ - do they also have this property? \n",
    "\n",
    "Like all logarithmic functions, $y=\\ln x$ is not defined for $x\\le0$"
   ]
  },
  {
   "cell_type": "code",
   "execution_count": 5,
   "metadata": {
    "jupyter": {
     "source_hidden": true
    },
    "tags": []
   },
   "outputs": [
    {
     "data": {
      "image/png": "[encoded data removed]",
      "text/plain": [
       "<Figure size 360x360 with 1 Axes>"
      ]
     },
     "metadata": {
      "needs_background": "light"
     },
     "output_type": "display_data"
    },
    {
     "data": {
      "text/html": [
       "\n",
       "        <script>\n",
       "            function code_toggle_5686472360918367195() {\n",
       "                $('div.cell.code_cell.rendered.selected').find('div.input').toggle();\n",
       "            }\n",
       "\n",
       "            \n",
       "        </script>\n",
       "\n",
       "        <a href=\"javascript:code_toggle_5686472360918367195()\">Show Python code</a>\n",
       "    "
      ],
      "text/plain": [
       "<IPython.core.display.HTML object>"
      ]
     },
     "execution_count": 5,
     "metadata": {},
     "output_type": "execute_result"
    }
   ],
   "source": [
    "import numpy, math\n",
    "from matplotlib import pyplot as plt\n",
    "from matplotlib import patches\n",
    "from src import code_toggle\n",
    "%matplotlib inline\n",
    "\n",
    "x = numpy.linspace(-2, 5, 70)\n",
    "\n",
    "# plt.xkcd()\n",
    "fig,axis=plt.subplots(figsize=(5,5))\n",
    "# axis.set_xlim([-2,2])\n",
    "# axis.set_xticks([-2,-1,0,1,2])\n",
    "axis.set_xlabel('$x$')\n",
    "axis.set_ylim([-2,5])\n",
    "# axis.set_yticks([0,10,20,30])\n",
    "axis.set_ylabel('$y$')\n",
    "axis.spines['left'].set_position('zero')\n",
    "axis.spines['right'].set_color('none')\n",
    "axis.spines['bottom'].set_position('zero')\n",
    "axis.spines['top'].set_color('none')\n",
    "\n",
    "a = math.exp(1)\n",
    "y = a**x\n",
    "axis.plot(x, y,'r-')\n",
    "axis.annotate('$y=e^x$',xy=(1.6,5),c='r')\n",
    "\n",
    "x = numpy.linspace(0.02, 5, 49)\n",
    "y = numpy.log(x)\n",
    "axis.plot(x, y,'b-')\n",
    "axis.annotate('$y=\\ln x$',xy=(5,1.6),c='b')\n",
    "\n",
    "axis.plot((-2,5),(-2,5),'k:')\n",
    "axis.annotate('$y=x$',xy=(5,5),c='k')\n",
    "\n",
    "plt.show()\n",
    "\n",
    "code_toggle()"
   ]
  }
 ],
 "metadata": {
  "kernelspec": {
   "display_name": "Python 3 (ipykernel)",
   "language": "python",
   "name": "python3"
  },
  "language_info": {
   "codemirror_mode": {
    "name": "ipython",
    "version": 3
   },
   "file_extension": ".py",
   "mimetype": "text/x-python",
   "name": "python",
   "nbconvert_exporter": "python",
   "pygments_lexer": "ipython3",
   "version": "3.8.12"
  }
 },
 "nbformat": 4,
 "nbformat_minor": 4
}
