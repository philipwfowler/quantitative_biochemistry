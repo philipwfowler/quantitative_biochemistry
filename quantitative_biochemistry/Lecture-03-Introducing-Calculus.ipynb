{
 "cells": [
  {
   "cell_type": "code",
   "execution_count": 1,
   "metadata": {
    "jupyter": {
     "source_hidden": true
    }
   },
   "outputs": [],
   "source": [
    "import numpy, math\n",
    "from matplotlib import pyplot as plt\n",
    "from src import code_toggle\n",
    "%matplotlib inline"
   ]
  },
  {
   "cell_type": "markdown",
   "metadata": {},
   "source": [
    "# Warm-up exercises"
   ]
  },
  {
   "cell_type": "code",
   "execution_count": 2,
   "metadata": {
    "jupyter": {
     "source_hidden": true
    },
    "tags": []
   },
   "outputs": [
    {
     "data": {
      "image/png": "[encoded data removed]",
      "text/plain": [
       "<Figure size 720x288 with 1 Axes>"
      ]
     },
     "metadata": {
      "needs_background": "light"
     },
     "output_type": "display_data"
    },
    {
     "data": {
      "text/html": [
       "\n",
       "        <script>\n",
       "            function code_toggle_17840904195087030330() {\n",
       "                $('div.cell.code_cell.rendered.selected').find('div.input').toggle();\n",
       "            }\n",
       "\n",
       "            \n",
       "        </script>\n",
       "\n",
       "        <a href=\"javascript:code_toggle_17840904195087030330()\">Show Python code</a>\n",
       "    "
      ],
      "text/plain": [
       "<IPython.core.display.HTML object>"
      ]
     },
     "execution_count": 2,
     "metadata": {},
     "output_type": "execute_result"
    }
   ],
   "source": [
    "x = numpy.linspace(0.001, 10, 10000)\n",
    "\n",
    "# plt.xkcd()\n",
    "fig,axis=plt.subplots(nrows=1,ncols=1,figsize=(10,4))\n",
    "\n",
    "# axis.set_xlim([0,3])\n",
    "axis.set_xticks(numpy.arange(0,11,0.5))\n",
    "axis.set_xlabel('$x$')\n",
    "axis.set_ylim([-1,1])\n",
    "axis.set_yticks(numpy.arange(-1,1,0.1))\n",
    "axis.set_ylabel('$\\log_{10} x$',rotation=90)\n",
    "axis.spines['left'].set_position('zero')\n",
    "# axis.spines['right'].set_color('none')\n",
    "axis.spines['bottom'].set_position('zero')\n",
    "# axis.spines['top'].set_color('none')\n",
    "axis.grid()\n",
    "y = numpy.log10(x)\n",
    "axis.annotate('$y=x^3 + 2$',xy=(-2,2),c='r')\n",
    "axis.plot(x, y,'r-')\n",
    "plt.show()\n",
    "\n",
    "code_toggle()"
   ]
  },
  {
   "cell_type": "markdown",
   "metadata": {},
   "source": [
    "Using the graph above estimate \n",
    "(remember if the base of a logarithm is not given, it is assumed to be base 10)\n",
    "\n",
    "\\begin{align*}\n",
    "&1. \\quad  \\log(2.5) &=\\\\\n",
    "&2. \\quad \\log(0.5) &=\\\\\n",
    "\\end{align*}\n",
    "\n",
    "By using your estimates and the log laws estimate the following\n",
    "\n",
    "\\begin{align*}\n",
    "&3. \\quad \\log 50 &=\\\\\n",
    "&4. \\quad \\log 2 &=\\\\\n",
    "&5. \\quad \\log 8 &=\\\\\n",
    "&6. \\quad \\log 800 &=\\\\\n",
    "&7. \\quad \\log 1000000 &=\\\\\n",
    "&8. \\quad \\log_2 8 &=\\\\\n",
    "&9. \\quad \\log_8 2 &=\\\\\n",
    "\\end{align*}\n",
    "\n",
    "10. What is $y$, if \n",
    "$$\\frac{y}{2} - \\frac{(y-1)}{3} = 2$$\n",
    "\n",
    "11. What volume of a 6g/l solution is required to make 150ml of a 1.5g/l solution?\n"
   ]
  },
  {
   "cell_type": "markdown",
   "metadata": {},
   "source": [
    "<div class=\"alert alert-block alert-success\">\n",
    "<img src=\"images/pointing-finger.png\" width=50 title=\"For you\" style=\"vertical-align:top\"/>\n",
    "<b>For you:</b>\n",
    "Answer to Week 2 challenge. \n",
    "By moving only one number, rearrange $62 - 1 = 63$ so that it is numerically correct:\n",
    "</div>"
   ]
  },
  {
   "cell_type": "markdown",
   "metadata": {},
   "source": [
    "<div class=\"alert alert-block alert-success\">\n",
    "<img src=\"images/pointing-finger.png\" width=50 title=\"For you\" style=\"vertical-align:top\"/>\n",
    "    <b>For you:</b>\n",
    "    Week 3 challenge. A camel has 300 bananas, and she has to eat 1 per mile as she goes along to fuel her locomotion. However, she can only carry 100 at a time. What is the maximum distance from her starting point in the dessert she can reach? Please send answers to <a href=\"mailto:philip.fowler@ndm.ox.ac.uk\">philip.fowler@ndm.ox.ac.uk</a> before the start of week 3.\n",
    "</div>"
   ]
  },
  {
   "cell_type": "markdown",
   "metadata": {},
   "source": [
    "You'll (hopefully) find this funny by the end of the lecture\n",
    "\n",
    "![You'll (hopefully) find this funny by the end of the lecture...](images/xkcd-newton_and_leibniz.png)"
   ]
  },
  {
   "cell_type": "markdown",
   "metadata": {},
   "source": [
    "# Calculus\n",
    "\n",
    "## Why do I need to learn calculus?\n",
    "\n",
    "I have some bacteria growing on a plate. By taking measurements I am able to fit the following polynomial (just involves powers of $x$ and numbers) equation to your data, a bit like we did at the end of the last lecture.\n",
    "\n",
    "$$\n",
    "n(t) = 15.42 + 6t -t^2\n",
    "$$\n",
    "\n",
    "where $n(t)$ is the number of bacteria in thousands after $t$ (measured in days). When will I have the greatest number of bacteria?\n",
    "\n",
    "<div class=\"alert alert-block alert-warning\">\n",
    "<img src=\"images/thinking-face.png\" width=50 title=\"Hmm\" style=\"vertical-align:top\"/>\n",
    "    <b>Thought</b>: You need calculus to answer this.\n",
    "</div>"
   ]
  },
  {
   "cell_type": "markdown",
   "metadata": {},
   "source": [
    "## History and confusion with other parts of Biochemistry \n",
    "\n",
    "Isaac Newton invented calculus while isolated during the 'plague years' of 1666-7 but did not publish his findings until much later. He defined things called *fluents* and *fluxions* these terms are no longer used. Gottfried Leibniz independently discovered what we now call calculus in 1674-75.\n",
    "\n",
    "As we shall see later, both introduced different mathematical notations and both are still used today which can be confusing. On the whole, we tend to favour the Leibniz notation and will only occasionally use Newton notation.\n",
    "\n",
    "The first key part to calculus is called *differentiation* which also can be confusing since the same term is used in developmental biology to mean: \n",
    "\n",
    "> The formation, in embryos and regenerating animals, of complex specialised cells from simple unspecialised types. The specialised cells go to make up the tissues and organs of the body."
   ]
  },
  {
   "cell_type": "markdown",
   "metadata": {},
   "source": [
    "## Gradients and rates of change\n",
    "\n",
    "Very often we wish to know about how quickly a quantity is changing, often with time. This is called its *rate of change*. \n",
    "\n",
    "### Example applications\n",
    "\n",
    "1. Rate of disapperance of substrate with time in an enzyme reaction\n",
    "2. Rate of decay of a radio-labelled substance - for how long will it have an activity above a certain level?\n",
    "3. Rate of bacterial growth with time.\n",
    "4. Rate of heat diffusion through a rock\n",
    "5. Rate of onset of boredom amongst students in a lecture...\n",
    "\n",
    "To look at the ways in which a rate of change can be expressed and worked out mathematically, consider *graphs* (back to L1)."
   ]
  },
  {
   "cell_type": "markdown",
   "metadata": {},
   "source": [
    "### Definition\n",
    "\n",
    "The *gradient* of a curve at a point $P$ is all of:\n",
    "* the gradient of the *tangent* to the curve at $P$\n",
    "* the rate of change\n",
    "* its 'derivative'\n",
    "\n",
    "The process of finding the gradient mathematically is called **differentiation**.\n"
   ]
  },
  {
   "cell_type": "markdown",
   "metadata": {},
   "source": [
    "### Gradient of a straight line\n",
    "\n",
    "Consider having a straight line, perhaps a line of best fit we have drawn through our (perhaps transformed) experimental data."
   ]
  },
  {
   "cell_type": "code",
   "execution_count": 21,
   "metadata": {
    "jupyter": {
     "source_hidden": true
    }
   },
   "outputs": [
    {
     "data": {
      "image/png": "[encoded data removed]",
      "text/plain": [
       "<Figure size 360x360 with 1 Axes>"
      ]
     },
     "metadata": {
      "needs_background": "light"
     },
     "output_type": "display_data"
    },
    {
     "data": {
      "text/html": [
       "\n",
       "        <script>\n",
       "            function code_toggle_7167646562317077048() {\n",
       "                $('div.cell.code_cell.rendered.selected').find('div.input').toggle();\n",
       "            }\n",
       "\n",
       "            \n",
       "        </script>\n",
       "\n",
       "        <a href=\"javascript:code_toggle_7167646562317077048()\">Show Python code</a>\n",
       "    "
      ],
      "text/plain": [
       "<IPython.core.display.HTML object>"
      ]
     },
     "execution_count": 21,
     "metadata": {},
     "output_type": "execute_result"
    }
   ],
   "source": [
    "x = numpy.linspace(-1, 3, 5000)\n",
    "\n",
    "# plt.xkcd()\n",
    "fig,axis=plt.subplots(nrows=1,ncols=1,figsize=(5,5))\n",
    "\n",
    "axis.set_xlim([-1,3])\n",
    "axis.set_xticks(numpy.arange(-1,4))\n",
    "axis.set_xlabel('$x$')\n",
    "axis.set_ylim([-1,3])\n",
    "axis.set_yticks([-1,0,1,2,3])\n",
    "axis.set_ylabel('$y$',rotation=0)\n",
    "axis.spines['left'].set_position('zero')\n",
    "axis.spines['right'].set_color('none')\n",
    "axis.spines['bottom'].set_position('zero')\n",
    "axis.spines['top'].set_color('none')\n",
    "\n",
    "y = x\n",
    "axis.annotate('$y=x$',xy=(1.2,1.7),c='r')\n",
    "axis.plot(x, y,'r-')\n",
    "axis.plot((1,2),(1,1),'k--')\n",
    "axis.plot((2,2),(1,2),'k--')\n",
    "axis.annotate('$(x_1,y_1)$',xy=(1,0.8),c='k')\n",
    "axis.annotate('$(x_2,y_2)$',xy=(2.2,2),c='k')\n",
    "\n",
    "plt.show()\n",
    "\n",
    "code_toggle()\n",
    "\n"
   ]
  },
  {
   "cell_type": "markdown",
   "metadata": {},
   "source": [
    "Calculating the gradient is simple; we construct a triangle \n",
    "\n",
    "\\begin{equation}\n",
    "\\text{gradient} = \\frac{y_2 - y_1}{x_2 - x_1}\n",
    "\\end{equation}\n",
    "\n",
    "The key point is because it is a straight line, our choices of $(x_1,y_1)$ and $(x_2,y_2)$ don't matter. We can have them far apart or close together and we will still get the same answer. "
   ]
  },
  {
   "cell_type": "markdown",
   "metadata": {},
   "source": [
    "### Notation\n",
    "\n",
    "If the independent variable is $x$, then the gradient of a function, $f(x)$, can be written as one of \n",
    "* y' (\"y prime\" or \"y dash\")\n",
    "* f'(x) (\"f dash x\")\n",
    "* $\\frac{dy}{dx}$ (\"dy by dx\")\n",
    "\n",
    "The first two are attributed to Newton whilst the last is the style Leibniz introduced. If time, $t$, is the independent variable (i.e. not $x$), then instead of $y'$, people sometimes write $\\dot{y}$ (\"y dot\"). That is the sort of thing physicists do and we won't be doing that, but you might see it in some textbooks or online.\n",
    "\n",
    "Generally the Leibniz form is clearer as it is directly formed from how the gradient is calculated, as we shortly shall see! The Newtonian forms are easier and faster to write, however, so sometimes people swap from one form to the other to save time. This can be confusing."
   ]
  },
  {
   "cell_type": "markdown",
   "metadata": {},
   "source": [
    "### Example functions\n",
    "\n",
    "1. $y=x^2$.\n",
    "\n",
    "The function is drawn below in <span style=\"color:red\">red</span> whilst its gradient/rate of change/derivative is drawn in <span style=\"color:blue\">blue</span>."
   ]
  },
  {
   "cell_type": "code",
   "execution_count": 22,
   "metadata": {
    "jupyter": {
     "source_hidden": true
    }
   },
   "outputs": [
    {
     "data": {
      "image/png": "[encoded data removed]",
      "text/plain": [
       "<Figure size 360x720 with 2 Axes>"
      ]
     },
     "metadata": {
      "needs_background": "light"
     },
     "output_type": "display_data"
    },
    {
     "data": {
      "text/html": [
       "\n",
       "        <script>\n",
       "            function code_toggle_13870918527508358497() {\n",
       "                $('div.cell.code_cell.rendered.selected').find('div.input').toggle();\n",
       "            }\n",
       "\n",
       "            \n",
       "        </script>\n",
       "\n",
       "        <a href=\"javascript:code_toggle_13870918527508358497()\">Show Python code</a>\n",
       "    "
      ],
      "text/plain": [
       "<IPython.core.display.HTML object>"
      ]
     },
     "execution_count": 22,
     "metadata": {},
     "output_type": "execute_result"
    }
   ],
   "source": [
    "x = numpy.linspace(-5, 5, 500)\n",
    "\n",
    "# plt.xkcd()\n",
    "fig,axis=plt.subplots(nrows=2,ncols=1,figsize=(5,10))\n",
    "\n",
    "for i in [0, 1]:\n",
    "    axis[i].set_xlim([-5,5])\n",
    "    axis[i].set_xticks(numpy.arange(-5,6))\n",
    "    axis[i].set_xlabel('$x$')\n",
    "    axis[i].set_ylim([0,26])\n",
    "    axis[i].set_yticks([0,10,20])\n",
    "    axis[i].set_ylabel('$y$',rotation=0)\n",
    "    axis[i].spines['left'].set_position('zero')\n",
    "    axis[i].spines['right'].set_color('none')\n",
    "    axis[i].spines['bottom'].set_position('zero')\n",
    "    axis[i].spines['top'].set_color('none')\n",
    "\n",
    "y = x**2\n",
    "axis[0].plot(x, y,'r-')\n",
    "axis[0].annotate('$y=x^2$',xy=(2,2),c='r')\n",
    "\n",
    "\n",
    "y = 2*x\n",
    "axis[1].set_ylim([-13,13])\n",
    "axis[1].set_ylabel('$\\\\frac{dy}{dx}$',rotation=0)\n",
    "axis[1].plot(x, y,'b-')\n",
    "axis[1].annotate('gradient of $y=x^2$',xy=(2,2),c='b')\n",
    "\n",
    "\n",
    "plt.show()\n",
    "\n",
    "code_toggle()"
   ]
  },
  {
   "cell_type": "markdown",
   "metadata": {},
   "source": [
    "2. $y = \\log_{10} (x)$\n",
    "\n",
    "Whilst this is a more complex function we can see how the gradient is large and positive at small values of $x$ and gradually decreases as $x$ gets larger."
   ]
  },
  {
   "cell_type": "code",
   "execution_count": 23,
   "metadata": {
    "jupyter": {
     "source_hidden": true
    },
    "tags": []
   },
   "outputs": [
    {
     "data": {
      "image/png": "[encoded data removed]",
      "text/plain": [
       "<Figure size 360x720 with 2 Axes>"
      ]
     },
     "metadata": {
      "needs_background": "light"
     },
     "output_type": "display_data"
    },
    {
     "data": {
      "text/html": [
       "\n",
       "        <script>\n",
       "            function code_toggle_581559632182196812() {\n",
       "                $('div.cell.code_cell.rendered.selected').find('div.input').toggle();\n",
       "            }\n",
       "\n",
       "            \n",
       "        </script>\n",
       "\n",
       "        <a href=\"javascript:code_toggle_581559632182196812()\">Show Python code</a>\n",
       "    "
      ],
      "text/plain": [
       "<IPython.core.display.HTML object>"
      ]
     },
     "execution_count": 23,
     "metadata": {},
     "output_type": "execute_result"
    }
   ],
   "source": [
    "x = numpy.linspace(0.001, 3, 3000)\n",
    "\n",
    "# plt.xkcd()\n",
    "fig,axis=plt.subplots(nrows=2,ncols=1,figsize=(5,10))\n",
    "\n",
    "for i in [0, 1]:\n",
    "    axis[i].set_xlim([0,3])\n",
    "    axis[i].set_xticks(numpy.arange(0,3))\n",
    "    axis[i].set_xlabel('$x$')\n",
    "    axis[i].set_ylim([-5,2])\n",
    "#     axis[i].set_yticks([0,10,20])\n",
    "    axis[i].set_ylabel('$y$',rotation=0)\n",
    "    axis[i].spines['left'].set_position('zero')\n",
    "    axis[i].spines['right'].set_color('none')\n",
    "    axis[i].spines['bottom'].set_position('zero')\n",
    "    axis[i].spines['top'].set_color('none')\n",
    "\n",
    "y = numpy.log(x)/numpy.log(10)\n",
    "axis[0].plot(x, y,'r-')\n",
    "axis[0].annotate('$y=\\log_{10} (x)$',xy=(2,2),c='r')\n",
    "\n",
    "\n",
    "y = math.log(10)/x\n",
    "axis[1].set_ylim([0,7])\n",
    "axis[1].set_ylabel('$\\\\frac{dy}{dx}$',rotation=0)\n",
    "axis[1].plot(x, y,'b-')\n",
    "axis[1].annotate('gradient of $y=\\log_{10} (x)$',xy=(2,2),c='b')\n",
    "\n",
    "\n",
    "plt.show()\n",
    "\n",
    "code_toggle()"
   ]
  },
  {
   "cell_type": "markdown",
   "metadata": {},
   "source": [
    "## How do we calculate the gradient of a curve?\n",
    "\n",
    "Suppose that\n",
    "\n",
    "$$y=x^3 + 2$$"
   ]
  },
  {
   "cell_type": "code",
   "execution_count": 24,
   "metadata": {
    "jupyter": {
     "source_hidden": true
    }
   },
   "outputs": [
    {
     "data": {
      "image/png": "[encoded data removed]",
      "text/plain": [
       "<Figure size 360x360 with 1 Axes>"
      ]
     },
     "metadata": {
      "needs_background": "light"
     },
     "output_type": "display_data"
    },
    {
     "data": {
      "text/html": [
       "\n",
       "        <script>\n",
       "            function code_toggle_12947733252455218670() {\n",
       "                $('div.cell.code_cell.rendered.selected').find('div.input').toggle();\n",
       "            }\n",
       "\n",
       "            \n",
       "        </script>\n",
       "\n",
       "        <a href=\"javascript:code_toggle_12947733252455218670()\">Show Python code</a>\n",
       "    "
      ],
      "text/plain": [
       "<IPython.core.display.HTML object>"
      ]
     },
     "execution_count": 24,
     "metadata": {},
     "output_type": "execute_result"
    }
   ],
   "source": [
    "x = numpy.linspace(-3, 3, 5000)\n",
    "\n",
    "# plt.xkcd()\n",
    "fig,axis=plt.subplots(nrows=1,ncols=1,figsize=(5,5))\n",
    "\n",
    "# axis.set_xlim([0,3])\n",
    "axis.set_xticks(numpy.arange(-3,4))\n",
    "axis.set_xlabel('$x$')\n",
    "axis.set_ylim([-30,30])\n",
    "#     axis[i].set_yticks([0,10,20])\n",
    "axis.set_ylabel('$y$',rotation=0)\n",
    "axis.spines['left'].set_position('zero')\n",
    "axis.spines['right'].set_color('none')\n",
    "axis.spines['bottom'].set_position('zero')\n",
    "axis.spines['top'].set_color('none')\n",
    "\n",
    "y = x**3 + 2\n",
    "axis.annotate('$y=x^3 + 2$',xy=(-2,2),c='r')\n",
    "axis.plot(x, y,'r-')\n",
    "plt.show()\n",
    "\n",
    "code_toggle()"
   ]
  },
  {
   "cell_type": "markdown",
   "metadata": {},
   "source": [
    "We would like to ask \n",
    "\n",
    "> What is the gradient of the graph at any value of $x$?\n",
    "\n",
    "but that looks too hard at the moment. Instead let's ask\n",
    "\n",
    "> What is the gradient of the graph when $x=2$?\n",
    "\n",
    "and we will draw triangles centred on $x=2$ to calculate the gradient, like we did before for the straight line. Let's zoom into the graph though to give us space to draw some small triangles.\n",
    "\n",
    "First let's try a triangle where the $x$ values are separated by 1 unit i.e. $x_1=1.5$ and $x_2=2.5$."
   ]
  },
  {
   "cell_type": "code",
   "execution_count": 25,
   "metadata": {
    "jupyter": {
     "source_hidden": true
    }
   },
   "outputs": [
    {
     "data": {
      "image/png": "[encoded data removed]",
      "text/plain": [
       "<Figure size 360x360 with 1 Axes>"
      ]
     },
     "metadata": {
      "needs_background": "light"
     },
     "output_type": "display_data"
    },
    {
     "data": {
      "text/html": [
       "\n",
       "        <script>\n",
       "            function code_toggle_15026705703965865567() {\n",
       "                $('div.cell.code_cell.rendered.selected').find('div.input').toggle();\n",
       "            }\n",
       "\n",
       "            \n",
       "        </script>\n",
       "\n",
       "        <a href=\"javascript:code_toggle_15026705703965865567()\">Show Python code</a>\n",
       "    "
      ],
      "text/plain": [
       "<IPython.core.display.HTML object>"
      ]
     },
     "execution_count": 25,
     "metadata": {},
     "output_type": "execute_result"
    }
   ],
   "source": [
    "x = numpy.linspace(1, 3, 5000)\n",
    "\n",
    "fig,axis=plt.subplots(nrows=1,ncols=1,figsize=(5,5))\n",
    "\n",
    "axis.set_xlim([1.25,2.75])\n",
    "axis.set_ylim([3.9,23])\n",
    "axis.axis('off')\n",
    "\n",
    "y = x**3 + 2\n",
    "axis.plot(x, y,'r-')\n",
    "\n",
    "\n",
    "axis.plot((2,2),(1,10),'k--')\n",
    "axis.plot((1,2),(10,10),'k--')\n",
    "axis.annotate('$x=2$',xy=(2.03,4),c='k')\n",
    "axis.annotate('$y=10$',xy=(1.25,10.5),c='k')\n",
    "\n",
    "axis.plot((1.5,2.5),(5.375,5.375),'b--')\n",
    "axis.plot((2.5,2.5),(5.375,17.625),'b--')\n",
    "axis.plot((1.5,2.5),(5.375,17.625),'b-')\n",
    "axis.annotate('$(1.5,5.375)$',xy=(1.5,4.5),c='b')\n",
    "axis.annotate('$(2.5,17.625)$',xy=(2.53,17.6),c='b')\n",
    "\n",
    "plt.show()\n",
    "code_toggle()"
   ]
  },
  {
   "cell_type": "markdown",
   "metadata": {},
   "source": [
    "Using Equation 1 above\n",
    "\n",
    "$$ \\text{gradient} = \\frac{17.625-5.375}{2.5-1.5} = 12.25 $$\n",
    "\n",
    "but we can see how the slope of the triangle isn't *exactly* the same as the slope of the tangent at $x=2$. Making the triangle smaller should help, so let's make it five times smaller"
   ]
  },
  {
   "cell_type": "code",
   "execution_count": 26,
   "metadata": {
    "jupyter": {
     "source_hidden": true
    }
   },
   "outputs": [
    {
     "data": {
      "image/png": "[encoded data removed]",
      "text/plain": [
       "<Figure size 360x360 with 1 Axes>"
      ]
     },
     "metadata": {
      "needs_background": "light"
     },
     "output_type": "display_data"
    },
    {
     "data": {
      "text/html": [
       "\n",
       "        <script>\n",
       "            function code_toggle_7102697851843199147() {\n",
       "                $('div.cell.code_cell.rendered.selected').find('div.input').toggle();\n",
       "            }\n",
       "\n",
       "            \n",
       "        </script>\n",
       "\n",
       "        <a href=\"javascript:code_toggle_7102697851843199147()\">Show Python code</a>\n",
       "    "
      ],
      "text/plain": [
       "<IPython.core.display.HTML object>"
      ]
     },
     "execution_count": 26,
     "metadata": {},
     "output_type": "execute_result"
    }
   ],
   "source": [
    "x = numpy.linspace(1, 3, 5000)\n",
    "\n",
    "fig,axis=plt.subplots(nrows=1,ncols=1,figsize=(5,5))\n",
    "\n",
    "axis.set_xlim([1.25,2.75])\n",
    "axis.set_ylim([3.9,23])\n",
    "axis.axis('off')\n",
    "\n",
    "y = x**3 + 2\n",
    "axis.plot(x, y,'r-')\n",
    "\n",
    "\n",
    "axis.plot((2,2),(1,10),'k--')\n",
    "axis.plot((1,2),(10,10),'k--')\n",
    "axis.annotate('$x=2$',xy=(2.03,4),c='k')\n",
    "axis.annotate('$y=10$',xy=(1.25,10.5),c='k')\n",
    "\n",
    "axis.plot((1.9,2.1),(8.859,8.859),'b--')\n",
    "axis.plot((2.1,2.1),(8.859,11.261),'b--')\n",
    "axis.plot((1.9,2.1),(8.859,11.261),'b-')\n",
    "axis.annotate('$(1.9,8.859)$',xy=(1.56,8.7),c='b')\n",
    "axis.annotate('$(2.1,11.261)$',xy=(2.12,11),c='b')\n",
    "\n",
    "plt.show()\n",
    "code_toggle()"
   ]
  },
  {
   "cell_type": "markdown",
   "metadata": {},
   "source": [
    "That looks better, but has the estimated value of the gradient changed?\n",
    "\n",
    "$$ \\text{gradient} = \\frac{11.261-8.859}{2.1-1.9} = 12.01$$\n",
    "\n",
    "So, yes, it has got a bit smaller. We could keep going and make our triangle smaller and smaller. If we were doing this on graph paper though we'd run out of space! Let's try and do it *numerically* (i.e. using a computer)"
   ]
  },
  {
   "cell_type": "code",
   "execution_count": 27,
   "metadata": {
    "jupyter": {
     "source_hidden": true
    }
   },
   "outputs": [
    {
     "data": {
      "image/png": "[encoded data removed]",
      "text/plain": [
       "<Figure size 720x360 with 2 Axes>"
      ]
     },
     "metadata": {
      "needs_background": "light"
     },
     "output_type": "display_data"
    }
   ],
   "source": [
    "import numpy, math\n",
    "from matplotlib import pyplot as plt\n",
    "from src import code_toggle\n",
    "%matplotlib inline\n",
    "\n",
    "# define our mathematical function\n",
    "def f(x):\n",
    "    return x**3+2\n",
    "\n",
    "triangle_base=2\n",
    "x=2\n",
    "\n",
    "ix=[]\n",
    "iy=[]\n",
    "while triangle_base>0.0001:\n",
    "    x1=x-(triangle_base/2)\n",
    "    x2=x+(triangle_base/2)\n",
    "    y1=f(x1)\n",
    "    y2=f(x2)\n",
    "    gradient=(y2-y1)/(x2-x1)\n",
    "    ix.append(triangle_base)\n",
    "    iy.append(gradient)\n",
    "    triangle_base/=2\n",
    "\n",
    "ix=numpy.array(ix)\n",
    "iy=numpy.array(iy)\n",
    "\n",
    "fig,axis=plt.subplots(nrows=1,ncols=2,figsize=(10,5))\n",
    "\n",
    "for i in [0, 1]:\n",
    "    axis[i].set_xlabel('width of triangle')\n",
    "    axis[i].set_ylabel('measured gradient',rotation=90)\n",
    "    axis[i].spines['right'].set_color('none')\n",
    "    axis[i].spines['top'].set_color('none')\n",
    "\n",
    "axis[0].spines['left'].set_position('zero')\n",
    "axis[0].set_xlim([0,2.05])\n",
    "axis[0].plot(ix, iy,'r+')\n",
    "\n",
    "axis[1].set_xlim([0.0001,10])\n",
    "axis[1].set_xscale('log')\n",
    "axis[1].plot(ix, iy,'r+')\n",
    "\n",
    "plt.show()"
   ]
  },
  {
   "cell_type": "markdown",
   "metadata": {},
   "source": [
    "Above is how the measured gradient changes as we made the width of the triangle smaller, plotted both with linear and log x-axes. We can clearly see how as the triangle gets smaller and smaller the measured gradient appears to be getting closer and closer to 12. \n",
    "\n",
    "For example, if the width of the triangle is 0.02, then\n",
    "\n",
    "$$\\text{measured gradient} = \\frac{10.12061 - 9.880599}{2.01-1.99} = 12.0001$$\n",
    "\n",
    "We might infer at this point that the numbers are approaching $12.00000....$ but we can't be *sure*. Is there a way to calculate the gradient *exactly*?"
   ]
  },
  {
   "cell_type": "markdown",
   "metadata": {},
   "source": [
    "Let's take a look at what we are doing. In general, we know that $y$ is some function of $x$. This is written:\n",
    "\n",
    "$$y=f(x)$$\n",
    "\n",
    "In our example, $y = x^3 + 2$. Rather than draw a triangle centred on $x=2$, let's draw a triangle between $x=2$ (point $P$) and $x=(2+\\delta x)$ (point $Q$) where $\\delta x$ means \"a small but finite amount of $x$\". You will see people also use an upper case delta i.e. $\\Delta x$ which means the same thing."
   ]
  },
  {
   "cell_type": "code",
   "execution_count": 28,
   "metadata": {
    "jupyter": {
     "source_hidden": true
    }
   },
   "outputs": [
    {
     "data": {
      "image/png": "[encoded data removed]",
      "text/plain": [
       "<Figure size 576x576 with 1 Axes>"
      ]
     },
     "metadata": {
      "needs_background": "light"
     },
     "output_type": "display_data"
    },
    {
     "data": {
      "text/html": [
       "\n",
       "        <script>\n",
       "            function code_toggle_7873105631230122951() {\n",
       "                $('div.cell.code_cell.rendered.selected').find('div.input').toggle();\n",
       "            }\n",
       "\n",
       "            \n",
       "        </script>\n",
       "\n",
       "        <a href=\"javascript:code_toggle_7873105631230122951()\">Show Python code</a>\n",
       "    "
      ],
      "text/plain": [
       "<IPython.core.display.HTML object>"
      ]
     },
     "execution_count": 28,
     "metadata": {},
     "output_type": "execute_result"
    }
   ],
   "source": [
    "x = numpy.linspace(0, 3, 5000)\n",
    "\n",
    "fig,axis=plt.subplots(nrows=1,ncols=1,figsize=(8,8))\n",
    "\n",
    "axis.set_xlim([1,3])\n",
    "axis.set_ylim([0,30])\n",
    "axis.set_xticks([1,2,3])\n",
    "axis.set_xlabel('$x$')\n",
    "axis.set_ylabel('$y$',rotation=0)\n",
    "# axis.spines['left'].set_position('zero')\n",
    "axis.spines['right'].set_color('none')\n",
    "axis.spines['bottom'].set_position('zero')\n",
    "axis.spines['top'].set_color('none')\n",
    "\n",
    "y = x**3 + 2\n",
    "axis.plot(x, y,'r-')\n",
    "\n",
    "\n",
    "axis.plot((2,2),(0,10),'k:')\n",
    "axis.plot((0,2),(10,10),'k:')\n",
    "\n",
    "axis.plot((2,2.5),(10,10),'b--')\n",
    "axis.plot((2.5,2.5),(10,17.625),'b--')\n",
    "axis.plot((2,2.5),(10,17.625),'b-')\n",
    "axis.annotate('$P$',xy=(2,11),c='b')\n",
    "axis.annotate('$Q$',xy=(2.5,18.5),c='b')\n",
    "\n",
    "axis.plot((2.5,2.5),(0,10),'k:')\n",
    "axis.plot((2.5,3),(10,10),'k:')\n",
    "axis.plot((2.5,3),(17.625,17.625),'k:')\n",
    "\n",
    "axis.annotate('',xy=(2,5),xytext=(2.5,5),arrowprops=dict(arrowstyle='<->'))\n",
    "axis.annotate('$\\delta x = h$',xy=(2.25,4),ha='center')\n",
    "\n",
    "axis.annotate('',xy=(2.75,10),xytext=(2.75,17.625),arrowprops=dict(arrowstyle='<->'))\n",
    "axis.annotate('$\\delta y$',xy=(2.8,13.7))\n",
    "\n",
    "plt.show()\n",
    "code_toggle()"
   ]
  },
  {
   "cell_type": "markdown",
   "metadata": {},
   "source": [
    "We have a triangle, so the gradient of $PQ$ is simply\n",
    "\n",
    "$$\\frac{\\delta y}{\\delta x} = \\frac{f(x+\\delta x) - f(x)}{\\delta x}$$\n",
    "\n",
    "when we start evaluating this for specific functions, it can start looking confusing due to all the $\\delta x$ terms, so let's replace $\\delta x$ by $h$ to make it simpler.\n",
    "\n",
    "\\begin{equation}\n",
    "\\boxed{\\frac{\\delta y}{\\delta x} = \\frac{f(x+h) - f(x)}{h}}\n",
    "\\end{equation}\n",
    "\n"
   ]
  },
  {
   "cell_type": "markdown",
   "metadata": {},
   "source": [
    "## Calculating the exact gradient for our example function\n",
    "\n",
    "\\begin{align*}\n",
    "y &= x^3+2\\\\\n",
    "\\frac{\\delta y}{\\delta x} &= \\frac{[(x+h)^3 + 2] - [x^3+2]}{h} \\quad &\\text{by substituting our function into the boxed result above}\\\\\n",
    "&= \\frac{[(x+h)(x+h)^2 +2]- [x^3+2]}{h}\\\\\n",
    "&= \\frac{[(x+h)(x^2+2hx+h^2) +2]- [x^3+2]}{h}\\\\\n",
    "&= \\frac{[(x^3 +3x^2h +3xh^2 +h^3 +2]- [x^3+2]}{h}\\\\\n",
    "&= \\frac{3x^2h +3xh^2 +h^3}{h}\\\\\n",
    "&= 3x^2 + 3xh + h^2\\\\\n",
    "\\end{align*}\n",
    "\n",
    "The *crucial* thing to notice is that there is only ONE term that doesn't involve $h$ (this is $3x^2$), so if we start making $h$ very small, i.e. let $h \\rightarrow 0$ (this is called 'taking the limit' and it was mentioned in L2) the other two terms also get very small.\n",
    "\n",
    "$$\\frac{\\delta y}{\\delta x} \\biggr \\rvert_{h \\rightarrow 0} = 3x^2$$\n",
    "\n",
    "The symbol $\\frac{\\delta y}{\\delta x} \\biggr \\rvert_{h \\rightarrow 0}$ is written as $\\frac{dy}{dx}$, i.e.\n",
    "\n",
    "$$\\frac{dy}{dx} = 3x^2$$\n",
    "\n",
    "Hence we can rewrite our main result above using limits\n",
    "\n",
    "\\begin{equation}\n",
    "\\boxed{\\frac{dy}{dx} = \\lim_{h \\rightarrow 0} \\frac{f(x+h) - f(x)}{h}}\n",
    "\\end{equation}\n",
    "\n",
    "Unlike $\\frac{\\delta y}{\\delta x}$ where two small but finite numbers have been divided, $\\frac{dy}{dx}$ is the *gradient* of $y$ as a function of $x$. Mathematically therefore it is a whole thing and cannot be separated, although mathematical operations can be applied to it e.g. $2 \\times \\frac{dy}{dx}$ makes sense as this is two times the gradient.\n",
    "\n",
    "<div class=\"alert alert-block alert-danger\">\n",
    "<img src=\"images/curtis.jpg\" width=50 title=\"Python Logo\" style=\"vertical-align:top\"/>\n",
    "<b>Common misconception:</b> It might look like it but $\\frac{dy}{dx}$ is NOT a fraction. You CANNOT \"divide through by $d$\" and $dx \\neq d \\times x$. \n",
    "</div>\n",
    "\n",
    "\"Differentiate with respect to $x$\" is the mathematical operation we are applying to $y$, and we could write this as\n",
    "\n",
    "$$\\frac{d}{dx}(y)$$\n",
    "\n",
    "which lets us more clearly see that $\\frac{d}{dx}$ is the operator which is working on $y$. Hence we could write the differential of $z$ with respect to $x$ as $\\frac{dz}{dx}$. When you think of it this way you can clearly see how the above misconceptions are incorrect."
   ]
  },
  {
   "cell_type": "markdown",
   "metadata": {},
   "source": [
    "Remember that the $\\frac{dy}{dx}$ notation was introduced by Leibniz and now we can see how it is more closely related to the process of considering $\\frac{\\delta y}{\\delta x}$ and then taking the limit as $\\delta x$ (or $h$) $\\rightarrow 0$. If we were to write the above result using Newtonian notation we would write.\n",
    "\n",
    "\\begin{eqnarray*}\n",
    "f(x) &=& x^3+2\\\\\n",
    "f'(x) &=& 3x^2\\\\\n",
    "\\end{eqnarray*}\n"
   ]
  },
  {
   "cell_type": "markdown",
   "metadata": {},
   "source": [
    "Going back to our example, when $x=2$\n",
    "\n",
    "$$\\frac{dy}{dx} = 3 \\times (2)^2 = 12$$\n",
    "\n",
    "which proves what we thought!"
   ]
  },
  {
   "cell_type": "markdown",
   "metadata": {},
   "source": [
    "### Differentiating a polynomial\n",
    "\n",
    "In general, if\n",
    "\n",
    "$$y=ax^n$$\n",
    "\n",
    "where $a$ is a constant and $n$ is a real number, then\n",
    "\n",
    "$$\\frac{dy}{dx} = anx^{n-1}$$\n",
    "\n"
   ]
  },
  {
   "cell_type": "markdown",
   "metadata": {},
   "source": [
    "### Examples\n",
    "\n",
    "1. \n",
    "\n",
    "\n",
    "\\begin{eqnarray*}\n",
    "y &=& x^3 + 2x^0\\\\\n",
    "\\frac{dy}{dx} &=& 3x^2 + 0\\times2\\times x^{-1}\\\\\n",
    "&=& 3x^2\n",
    "\\end{eqnarray*}\n",
    "\n",
    "Note "
   ]
  },
  {
   "cell_type": "markdown",
   "metadata": {},
   "source": [
    "2.\n",
    "\n",
    "\\begin{eqnarray*}\n",
    "y &=& 7x^5\\\\\n",
    "\\frac{dy}{dx} &=& 7\\times5x^4\\\\\n",
    "&=& 35x^4\n",
    "\\end{eqnarray*}"
   ]
  },
  {
   "cell_type": "markdown",
   "metadata": {},
   "source": [
    "3.\n",
    "\n",
    "\\begin{eqnarray*}\n",
    "y &=& \\frac{1}{x^2} \\\\\n",
    " &=& x^{-2}\\\\\n",
    "\\frac{dy}{dx} &=& -2x^{-3}\\\\\n",
    "&=& \\frac{-2}{x^3}\n",
    "\\end{eqnarray*}"
   ]
  },
  {
   "cell_type": "markdown",
   "metadata": {},
   "source": [
    "4.\n",
    "\n",
    "\\begin{eqnarray*}\n",
    "y &=& x^{-1/2}\\\\\n",
    "\\frac{dy}{dx} &=& -\\frac{1}{2}x^{-1/2 -1}\\\\\n",
    "&=& -\\frac{1}{2}x^{-3/2}\n",
    "\\end{eqnarray*}"
   ]
  },
  {
   "cell_type": "markdown",
   "metadata": {},
   "source": [
    "## Differentiating a differential\n",
    "\n",
    "Yes, you can do this! If the first differential is the gradient of a function, then it is still a function (i.e. something we can plot on a graph) and so itself has a gradient. The gradient of a gradient is known as the second differential. \n",
    "\n",
    "In motion, how quickly your position is changing with time is your *velocity* (first differential) and how quickly your velocity is changing with time is your *acceleration* (second differential).\n",
    "\n",
    "The notation for the second differential looks confusing but can be understood if you remember that $\\frac{d}{dx}$ is the mathematical operation we are doing.\n",
    "\n",
    "$$\\frac{dy}{dx} = \\frac{d}{dx}(y)$$\n",
    "\n",
    "Hence if we apply the operation twice we get\n",
    "\n",
    "$$\\frac{d}{dx}\\left(\\frac{d}{dx}(y)\\right) = \\frac{d^2}{dx^2}(y) = \\frac{d^2y}{dx^2}$$\n",
    "\n",
    "If you don't realise which part is the operator it is hard to see why the superscripts are put where they are!\n",
    "\n",
    "In Newtonian notation you simply add another dash.\n",
    "\n",
    "\\begin{align*}\n",
    "f'(x) &= \\frac{dy}{dx}\\\\\n",
    "f''(x) &= \\frac{d^2y}{dx^2}\n",
    "\\end{align*}"
   ]
  },
  {
   "cell_type": "markdown",
   "metadata": {},
   "source": [
    "## Finding the turning points of a function"
   ]
  },
  {
   "cell_type": "code",
   "execution_count": 29,
   "metadata": {
    "jupyter": {
     "source_hidden": true
    },
    "tags": []
   },
   "outputs": [
    {
     "data": {
      "image/png": "[encoded data removed]",
      "text/plain": [
       "<Figure size 576x360 with 1 Axes>"
      ]
     },
     "metadata": {
      "needs_background": "light"
     },
     "output_type": "display_data"
    },
    {
     "data": {
      "text/html": [
       "\n",
       "        <script>\n",
       "            function code_toggle_11162800944642236131() {\n",
       "                $('div.cell.code_cell.rendered.selected').find('div.input').toggle();\n",
       "            }\n",
       "\n",
       "            \n",
       "        </script>\n",
       "\n",
       "        <a href=\"javascript:code_toggle_11162800944642236131()\">Show Python code</a>\n",
       "    "
      ],
      "text/plain": [
       "<IPython.core.display.HTML object>"
      ]
     },
     "execution_count": 29,
     "metadata": {},
     "output_type": "execute_result"
    }
   ],
   "source": [
    "x = numpy.linspace(-0.5, 2.5, 5000)\n",
    "\n",
    "fig,axis=plt.subplots(nrows=1,ncols=1,figsize=(8,5))\n",
    "\n",
    "axis.axis('off')\n",
    "axis.set_xlabel('$x$')\n",
    "axis.set_ylabel('$y$',rotation=0)\n",
    "\n",
    "y = x**4 - 3*x**3 + 5*x \n",
    "axis.plot(x, y,'r-')\n",
    "\n",
    "axis.plot(1.5,2.4375,'bo')\n",
    "axis.annotate('C',xy=(1.6,2.4375),c='b')\n",
    "axis.plot((1,2),(3.3125,1.5625),'b:')\n",
    "\n",
    "axis.plot(0,0,'bo')\n",
    "axis.annotate('C = point of inflexion',xy=(0.1,0),c='b')\n",
    "axis.plot((-0.4,0.4),(-2,2),'b:')\n",
    "\n",
    "axis.plot(1,3,'bo')\n",
    "axis.annotate('A = local maximum',xy=(1,3.4),c='b')\n",
    "axis.plot((0,2),(3,3),'b:')\n",
    "\n",
    "axis.plot(1.90587,1.95494,'bo')\n",
    "axis.annotate('B = local minimum',xy=(1.90587,1.404),c='b')\n",
    "axis.plot((0.90587,2.90587),(1.95494,1.95494),'b:')\n",
    "\n",
    "plt.show()\n",
    "\n",
    "code_toggle()"
   ]
  },
  {
   "cell_type": "markdown",
   "metadata": {},
   "source": [
    "A and B are described as *local* since we don't know if there are other turning points elsewhere in this function."
   ]
  },
  {
   "cell_type": "markdown",
   "metadata": {},
   "source": [
    "### Maxima\n",
    "\n",
    "Examine how the gradient (first differential, $\\frac{dy}{dx}$) and the gradient of the gradient (second differential, $\\frac{d^2y}{dx^2}$) changes as we pass through a maximum:"
   ]
  },
  {
   "cell_type": "code",
   "execution_count": 30,
   "metadata": {
    "jupyter": {
     "source_hidden": true
    }
   },
   "outputs": [
    {
     "data": {
      "image/png": "[encoded data removed]",
      "text/plain": [
       "<Figure size 360x720 with 2 Axes>"
      ]
     },
     "metadata": {
      "needs_background": "light"
     },
     "output_type": "display_data"
    },
    {
     "data": {
      "text/html": [
       "\n",
       "        <script>\n",
       "            function code_toggle_6573836104362763592() {\n",
       "                $('div.cell.code_cell.rendered.selected').find('div.input').toggle();\n",
       "            }\n",
       "\n",
       "            \n",
       "        </script>\n",
       "\n",
       "        <a href=\"javascript:code_toggle_6573836104362763592()\">Show Python code</a>\n",
       "    "
      ],
      "text/plain": [
       "<IPython.core.display.HTML object>"
      ]
     },
     "execution_count": 30,
     "metadata": {},
     "output_type": "execute_result"
    }
   ],
   "source": [
    "x = numpy.linspace(-1.8, 1.8, 5000)\n",
    "\n",
    "fig,axis=plt.subplots(nrows=2,ncols=1,figsize=(5,10))\n",
    "\n",
    "axis[0].axis('off')\n",
    "\n",
    "y = -x**2\n",
    "axis[0].plot(x, y,'r-')\n",
    "\n",
    "axis[0].plot(0,0,'ko')\n",
    "axis[0].annotate('gradient = 0',xy=(0,-0.4),c='k',ha='center')\n",
    "axis[0].plot((-1,1),(0,0),'k:')\n",
    "\n",
    "axis[0].plot(1,-1,'ko')\n",
    "axis[0].annotate('gradient is negative',xy=(1.1,-1),c='k',ha='left')\n",
    "axis[0].plot((0.5,1.5),(0,-2),'k:')\n",
    "\n",
    "axis[0].plot(-1,-1,'ko')\n",
    "axis[0].annotate('gradient is positive',xy=(-1.1,-1),c='k',ha='right')\n",
    "axis[0].plot((-0.5,-1.5),(0,-2),'k:')\n",
    "\n",
    "# axis[0].annotate('$\\\\frac{dy}{dx} = 0$',xy=(0,-1),ha='center',fontsize=18,c='r')\n",
    "\n",
    "axis[0].plot((0,0),(0,-3.24),'k--')\n",
    "axis[1].plot((0,0),(0,3.6),'k--')\n",
    "\n",
    "axis[0].plot((-1,-1),(-1,-3.24),'k--')\n",
    "axis[1].plot((-1,-1),(2,3.6),'k--')\n",
    "\n",
    "axis[0].plot((1,1),(-1,-3.24),'k--')\n",
    "axis[1].plot((1,1),(3.6,-2),'k--')\n",
    "\n",
    "\n",
    "dydx=-2*x\n",
    "# axis[1].spines['left'].set_position('zero')\n",
    "axis[1].spines['right'].set_color('none')\n",
    "axis[1].spines['bottom'].set_position('zero')\n",
    "axis[1].spines['top'].set_color('none')\n",
    "axis[1].set_xlabel('$x$')\n",
    "axis[1].set_ylabel('$\\\\frac{dy}{dx}$',rotation=0,fontsize=18,ha='right')\n",
    "axis[1].tick_params(axis='both',which='both',bottom=False,top=False,labelbottom=False,labelleft=False,left=False)\n",
    "axis[1].tick_params(axis='y',which='both',bottom=False,top=False,labelbottom=False)\n",
    "# axis[1].annotate('$\\\\frac{d^2y}{dx^2} < 0$',xy=(0,-1.5),ha='right',fontsize=18,c='b')\n",
    "axis[1].plot(x, dydx,'b-')\n",
    "\n",
    "plt.show()\n",
    "\n",
    "code_toggle()"
   ]
  },
  {
   "cell_type": "markdown",
   "metadata": {},
   "source": [
    "At a *maximum* the gradient is *zero*, and the gradient of the gradient has a *negative* slope."
   ]
  },
  {
   "cell_type": "markdown",
   "metadata": {},
   "source": [
    "### Minima\n",
    "\n",
    "Let's do the same thing for a minima"
   ]
  },
  {
   "cell_type": "code",
   "execution_count": 31,
   "metadata": {
    "jupyter": {
     "source_hidden": true
    }
   },
   "outputs": [
    {
     "data": {
      "image/png": "[encoded data removed]",
      "text/plain": [
       "<Figure size 360x720 with 2 Axes>"
      ]
     },
     "metadata": {
      "needs_background": "light"
     },
     "output_type": "display_data"
    },
    {
     "data": {
      "text/html": [
       "\n",
       "        <script>\n",
       "            function code_toggle_12321046795682537677() {\n",
       "                $('div.cell.code_cell.rendered.selected').find('div.input').toggle();\n",
       "            }\n",
       "\n",
       "            \n",
       "        </script>\n",
       "\n",
       "        <a href=\"javascript:code_toggle_12321046795682537677()\">Show Python code</a>\n",
       "    "
      ],
      "text/plain": [
       "<IPython.core.display.HTML object>"
      ]
     },
     "execution_count": 31,
     "metadata": {},
     "output_type": "execute_result"
    }
   ],
   "source": [
    "x = numpy.linspace(-1.8, 1.8, 5000)\n",
    "\n",
    "fig,axis=plt.subplots(nrows=2,ncols=1,figsize=(5,10))\n",
    "\n",
    "axis[0].axis('off')\n",
    "\n",
    "y = x**2\n",
    "axis[0].plot(x, y,'r-')\n",
    "\n",
    "axis[0].plot(0,0,'ko')\n",
    "axis[0].annotate('gradient = 0',xy=(0,0.4),c='k',ha='center')\n",
    "axis[0].plot((-1,1),(0,0),'k:')\n",
    "\n",
    "axis[0].plot(1,1,'ko')\n",
    "axis[0].annotate('gradient is positive',xy=(1.1,1),c='k',ha='left')\n",
    "axis[0].plot((0.5,1.5),(0,2),'k:')\n",
    "\n",
    "axis[0].plot(-1,1,'ko')\n",
    "axis[0].annotate('gradient is negative',xy=(-1.1,1),c='k',ha='right')\n",
    "axis[0].plot((-0.5,-1.5),(0,2),'k:')\n",
    "\n",
    "# axis[0].annotate('$\\\\frac{dy}{dx} = 0$',xy=(0,1),ha='center',fontsize=18,c='r')\n",
    "\n",
    "axis[0].plot((0,0),(0,-0.5),'k--')\n",
    "axis[1].plot((0,0),(0,3.6),'k--')\n",
    "\n",
    "axis[0].plot((1,1),(1,-0.5),'k--')\n",
    "axis[1].plot((1,1),(2,3.6),'k--')\n",
    "\n",
    "axis[0].plot((-1,-1),(1,-0.5),'k--')\n",
    "axis[1].plot((-1,-1),(3.6,-2),'k--')\n",
    "\n",
    "\n",
    "dydx=2*x\n",
    "# axis[1].spines['left'].set_position('zero')\n",
    "axis[1].spines['right'].set_color('none')\n",
    "axis[1].spines['bottom'].set_position('zero')\n",
    "axis[1].spines['top'].set_color('none')\n",
    "axis[1].set_xlabel('$x$')\n",
    "axis[1].set_ylabel('$\\\\frac{dy}{dx}$',rotation=0,fontsize=18,ha='right')\n",
    "axis[1].tick_params(axis='both',which='both',bottom=False,top=False,labelbottom=False,labelleft=False,left=False)\n",
    "axis[1].tick_params(axis='y',which='both',bottom=False,top=False,labelbottom=False)\n",
    "# axis[1].annotate('$\\\\frac{d^2y}{dx^2} > 0$',xy=(0,-1.5),ha='left',fontsize=18,c='b')\n",
    "axis[1].plot(x, dydx,'b-')\n",
    "\n",
    "plt.show()\n",
    "\n",
    "code_toggle()"
   ]
  },
  {
   "cell_type": "markdown",
   "metadata": {},
   "source": [
    "This is exactly opposite: at a *minimum* the gradient is *zero* and the gradient of the gradient has a *positive* slope."
   ]
  },
  {
   "cell_type": "markdown",
   "metadata": {},
   "source": [
    "### Point of inflexion\n",
    "\n",
    "Points of inflexion are a little different. "
   ]
  },
  {
   "cell_type": "code",
   "execution_count": 32,
   "metadata": {
    "jupyter": {
     "source_hidden": true
    }
   },
   "outputs": [
    {
     "data": {
      "image/png": "[encoded data removed]",
      "text/plain": [
       "<Figure size 360x720 with 2 Axes>"
      ]
     },
     "metadata": {
      "needs_background": "light"
     },
     "output_type": "display_data"
    },
    {
     "data": {
      "text/html": [
       "\n",
       "        <script>\n",
       "            function code_toggle_2064204125359543121() {\n",
       "                $('div.cell.code_cell.rendered.selected').find('div.input').toggle();\n",
       "            }\n",
       "\n",
       "            \n",
       "        </script>\n",
       "\n",
       "        <a href=\"javascript:code_toggle_2064204125359543121()\">Show Python code</a>\n",
       "    "
      ],
      "text/plain": [
       "<IPython.core.display.HTML object>"
      ]
     },
     "execution_count": 32,
     "metadata": {},
     "output_type": "execute_result"
    }
   ],
   "source": [
    "x = numpy.linspace(-1.4, 1.4, 5000)\n",
    "\n",
    "fig,axis=plt.subplots(nrows=2,ncols=1,figsize=(5,10))\n",
    "\n",
    "axis[0].axis('off')\n",
    "\n",
    "y = -x**3\n",
    "axis[0].plot(x, y,'r-')\n",
    "\n",
    "axis[0].plot(0,0,'ko')\n",
    "axis[0].annotate('gradient = 0',xy=(0,0.3),c='k',ha='center')\n",
    "axis[0].plot((-0.8,0.8),(0,0),'k:')\n",
    "\n",
    "axis[0].plot(1,-1,'ko')\n",
    "axis[0].annotate('gradient is negative',xy=(1.1,-1),c='k',ha='left')\n",
    "axis[0].plot((0.5,1.5),(0.5,-2.5),'k:')\n",
    "\n",
    "axis[0].plot(-1,1,'ko')\n",
    "axis[0].annotate('gradient is negative',xy=(-1.1,1),c='k',ha='right')\n",
    "axis[0].plot((-0.5,-1.5),(-0.5,2.5),'k:')\n",
    "\n",
    "# axis[0].annotate('$\\\\frac{dy}{dx} = 0$',xy=(0,1),ha='center',fontsize=18,c='r')\n",
    "\n",
    "axis[0].plot((0,0),(0,-3.375),'k--')\n",
    "axis[1].plot((0,0),(1,-1),'k--')\n",
    "\n",
    "axis[0].plot((1,1),(-1,-3.375),'k--')\n",
    "axis[1].plot((1,1),(1,-3),'k--')\n",
    "\n",
    "axis[0].plot((-1,-1),(1,-3.5),'k--')\n",
    "axis[1].plot((-1,-1),(1,-3),'k--')\n",
    "\n",
    "\n",
    "dydx=numpy.concatenate([2*x[x<0]-1,-2*x[x>=0]-1])\n",
    "dydx=-2*x**2-1\n",
    "# axis[1].spines['left'].set_position('zero')\n",
    "axis[1].spines['right'].set_color('none')\n",
    "axis[1].spines['bottom'].set_position('zero')\n",
    "axis[1].spines['top'].set_color('none')\n",
    "axis[1].set_xlabel('$x$')\n",
    "axis[1].set_ylabel('$\\\\frac{dy}{dx}$',rotation=0,fontsize=18,ha='right')\n",
    "axis[1].tick_params(axis='both',which='both',bottom=False,top=False,labelbottom=False,labelleft=False,left=False)\n",
    "axis[1].tick_params(axis='y',which='both',bottom=False,top=False,labelbottom=False)\n",
    "# axis[1].annotate('$\\\\frac{d^2y}{dx^2} = 0$',xy=(0,-2),ha='center',fontsize=18,c='b')\n",
    "axis[1].plot(x, dydx,'b-')\n",
    "\n",
    "plt.show()\n",
    "\n",
    "code_toggle()"
   ]
  },
  {
   "cell_type": "markdown",
   "metadata": {},
   "source": [
    "In the example shown here the gradient is zero and the gradient of the gradient changes sign as you pass through the point such that it is also zero at the point.\n",
    "\n",
    "A point of inflexion always has \n",
    "\n",
    "$$\n",
    "\\frac{d^2y}{dx^2} = 0\n",
    "$$\n",
    "\n",
    "but $\\frac{dy}{dx}$ is not *necessarily* zero."
   ]
  },
  {
   "cell_type": "code",
   "execution_count": 33,
   "metadata": {
    "jupyter": {
     "source_hidden": true
    }
   },
   "outputs": [
    {
     "data": {
      "image/png": "[encoded data removed]",
      "text/plain": [
       "<Figure size 360x1080 with 3 Axes>"
      ]
     },
     "metadata": {
      "needs_background": "light"
     },
     "output_type": "display_data"
    },
    {
     "data": {
      "text/html": [
       "\n",
       "        <script>\n",
       "            function code_toggle_9768128359813763226() {\n",
       "                $('div.cell.code_cell.rendered.selected').find('div.input').toggle();\n",
       "            }\n",
       "\n",
       "            \n",
       "        </script>\n",
       "\n",
       "        <a href=\"javascript:code_toggle_9768128359813763226()\">Show Python code</a>\n",
       "    "
      ],
      "text/plain": [
       "<IPython.core.display.HTML object>"
      ]
     },
     "execution_count": 33,
     "metadata": {},
     "output_type": "execute_result"
    }
   ],
   "source": [
    "x = numpy.linspace(-4, 8, 5000)\n",
    "\n",
    "fig,axis=plt.subplots(nrows=3,ncols=1,figsize=(5,15))\n",
    "\n",
    "# axis.axis('off')\n",
    "\n",
    "for i in [0, 1, 2]:\n",
    "    axis[i].set_xlabel('$x$')\n",
    "    # axis.spines['left'].set_position('zero')\n",
    "    axis[i].spines['right'].set_color('none')\n",
    "    axis[i].spines['bottom'].set_position('zero')\n",
    "    axis[i].spines['top'].set_color('none')\n",
    "\n",
    "axis[0].set_ylabel('$y$',rotation=0)\n",
    "axis[1].set_ylabel('$\\\\frac{dy}{dx}$',rotation=0)\n",
    "axis[2].set_ylabel('$\\\\frac{d^2y}{dx^2}$',rotation=0)\n",
    "\n",
    "y = -(x**3)/6 + x**2 + 2*x + 2 \n",
    "axis[0].plot(x, y,'r-')\n",
    "\n",
    "axis[0].annotate('$y$',xy=(-2,15),ha='left',fontsize=18,c='r')\n",
    "axis[1].annotate('$\\\\frac{dy}{dx}$',xy=(-3,2),ha='left',fontsize=18,c='b')\n",
    "axis[2].annotate('$\\\\frac{d^2y}{dx^2}$',xy=(-3,1),ha='left',fontsize=18,c='g')\n",
    "\n",
    "axis[0].plot((2,2),(26/3,-4),'k:')\n",
    "axis[1].plot((2,2),(4,-13),'k:')\n",
    "axis[2].plot((2,2),(6,0),'k:')\n",
    "\n",
    "axis[0].plot(2,26/3,'ro')\n",
    "axis[0].plot(4.8284,16.2091,'ro')\n",
    "axis[0].plot(-0.8284,1.124,'ro')\n",
    "\n",
    "axis[0].plot((4.8284,4.8284),(16.2091,-4),'k:')\n",
    "axis[1].plot((4.8284,4.8284),(4,-13),'k:')\n",
    "axis[2].plot((4.8284,4.8284),(6,-2.8284),'k:')\n",
    "\n",
    "axis[1].plot(2,4,'bo')\n",
    "axis[1].plot(4.8284,0,'bo')\n",
    "axis[1].plot(-0.8284,0,'bo')\n",
    "\n",
    "axis[0].plot((-0.8284,-0.8284),(1.124,-4),'k:')\n",
    "axis[1].plot((-0.8284,-0.8284),(4,-13),'k:')\n",
    "axis[2].plot((-0.8284,-0.8284),(6,2.8284),'k:')\n",
    "\n",
    "axis[2].plot(2,0,'go')\n",
    "axis[2].plot(4.8284,-2.824,'go')\n",
    "axis[2].plot(-0.8284,2.824,'go')\n",
    "\n",
    "\n",
    "y = -(x**2)/2 + 2*x + 2\n",
    "axis[1].plot(x, y,'b-')\n",
    "\n",
    "y = -x + 2\n",
    "axis[2].plot(x, y,'g-')\n",
    "\n",
    "plt.show()\n",
    "\n",
    "code_toggle()"
   ]
  },
  {
   "cell_type": "markdown",
   "metadata": {},
   "source": [
    "### How to locate and identify turning points\n",
    "\n",
    "The above suggests a way of finding the turning points of a given function.\n",
    "\n",
    "1. Differentiate the function to get $f'(x)$, find the values of $x$ where $f'(x) = 0$. This tells us where any maximia and minima (and potentially also points of inflexion that happen to have zero gradient), but NOT which is which.\n",
    "2. Differiate a second time to get $f''(x)$. Substitute in the values $x$ we have just found and check to see if $f''(x)$ is negative, positive or zero.\n",
    "3. To find any points of inflexion set $f''(x)=0$.\n",
    "4. Substitute the solutions of $f'(x)=0$ found in step 1 into $f(x)$ so we find the values of $(x,f(x))$.\n",
    "\n",
    "If the second differential ($f''(x)$ or $\\frac{d^2y}{dx^2}$) is POSITIVE then the point is a MINIMUM. If it is negative, then the point is a MAXIMUM."
   ]
  },
  {
   "cell_type": "markdown",
   "metadata": {},
   "source": [
    "### Example\n",
    "\n",
    "Find the turning points of \n",
    "\n",
    "$$ y = 2x^3 -5x^2 -4x $$\n",
    "\n",
    "#### Step 1. Differentiate with respect to $x$.\n",
    "\n",
    "$$ \\frac{dy}{dx} = 6x^2 -10x -4 $$\n",
    "\n",
    "when $\\frac{dy}{dx} = 0$ we have maxima and/or minima and possibly points of inflexion. To find these we solve\n",
    "\n",
    "\\begin{eqnarray*}\n",
    "6x^2 -10x -4  &=& 0\\\\\n",
    "(3x+1)(2x-4) &=&0\\\\\n",
    "x &=& -1/3 \\quad\\text{or}\\quad x =2\n",
    "\\end{eqnarray*}"
   ]
  },
  {
   "cell_type": "markdown",
   "metadata": {},
   "source": [
    "#### Step 2. Differentiate a second time.\n",
    "\n",
    "$$ \\frac{d^2y}{dx^2} = 12x -10$$\n",
    "\n",
    "at $x= -1/3$, $\\frac{d^2y}{dx^2} = 12(-1/3) - 10 = -14$ which is negative, $\\therefore x=-1/3$ is a MAXIMUM.\n",
    "\n",
    "at $x=2$, $\\frac{d^2y}{dx^2} = 12(2) - 10 = 14$ which is positive, $\\therefore x=2$ is a MINIMUM.\n",
    "\n",
    "$$\\therefore \\text{MAXIMUM at} \\left ( -\\frac{1}{3},\\frac{19}{27} \\right )$$\n",
    "$$\\therefore \\text{MINIMUM at} \\left ( 2,-12 \\right )$$"
   ]
  },
  {
   "cell_type": "markdown",
   "metadata": {},
   "source": [
    "#### Step 3. Check for points of inflexion\n",
    "\n",
    "when $\\frac{d^2y}{dx^2} = 0$ we have points of inflexion. To find these we solve\n",
    "\n",
    "\\begin{eqnarray*}\n",
    "12x-10 &=& 0\\\\\n",
    "x &=& \\frac{5}{6}\\\\\n",
    "\\end{eqnarray*}\n",
    "\n",
    "find $y$ when $x=5/6$ \n",
    "\n",
    "\\begin{eqnarray*}\n",
    " y &=& 2 \\left(\\frac{5}{6}\\right)^3 - 5\\left(\\frac{5}{6}\\right)^2 - 4 \\times \\frac{5}{6}\\\\\n",
    "   &=& \\frac{2 \\times 125}{216} - \\frac{125}{36} - \\frac{30}{6}\\\\\n",
    "   &=& \\frac{250 - (6 \\times 125) - (36 \\times 20}{216}\\\\\n",
    "   &=& \\frac{250-750-720}{216}\\\\\n",
    "   &=& \\frac{-1220}{216}\\\\\n",
    "   &=& \\frac{-305}{54}\\\\\n",
    "   &=& -5.65 \\quad\\text{(3sf)}\\\\\n",
    "\\end{eqnarray*}\n",
    "\n",
    "Note manipulation of fractions! Whatever you do to the numerator (top) you also have to do the denominator (bottom)."
   ]
  },
  {
   "cell_type": "markdown",
   "metadata": {},
   "source": [
    "Now we have enough information to sketch our function and label the turning points:"
   ]
  },
  {
   "cell_type": "code",
   "execution_count": 34,
   "metadata": {
    "jupyter": {
     "source_hidden": true
    }
   },
   "outputs": [
    {
     "data": {
      "image/png": "[encoded data removed]",
      "text/plain": [
       "<Figure size 360x360 with 1 Axes>"
      ]
     },
     "metadata": {
      "needs_background": "light"
     },
     "output_type": "display_data"
    },
    {
     "data": {
      "text/html": [
       "\n",
       "        <script>\n",
       "            function code_toggle_14579105242991394155() {\n",
       "                $('div.cell.code_cell.rendered.selected').find('div.input').toggle();\n",
       "            }\n",
       "\n",
       "            \n",
       "        </script>\n",
       "\n",
       "        <a href=\"javascript:code_toggle_14579105242991394155()\">Show Python code</a>\n",
       "    "
      ],
      "text/plain": [
       "<IPython.core.display.HTML object>"
      ]
     },
     "execution_count": 34,
     "metadata": {},
     "output_type": "execute_result"
    }
   ],
   "source": [
    "x = numpy.linspace(-1.5, 3.5, 5000)\n",
    "\n",
    "# plt.xkcd()\n",
    "fig,axis=plt.subplots(nrows=1,ncols=1,figsize=(5,5))\n",
    "\n",
    "# axis.set_xlim([0,3])\n",
    "axis.set_xticks(numpy.arange(-3,4))\n",
    "axis.set_xlabel('$x$')\n",
    "# axis.set_ylim([-30,30])\n",
    "#     axis[i].set_yticks([0,10,20])\n",
    "axis.set_ylabel('$y$',rotation=0)\n",
    "axis.spines['left'].set_position('zero')\n",
    "axis.spines['right'].set_color('none')\n",
    "axis.spines['bottom'].set_position('zero')\n",
    "axis.spines['top'].set_color('none')\n",
    "\n",
    "y = 2*x**3 -5*x**2 -4*x \n",
    "axis.annotate('$y=2x^3 -5x^2- 4x$',xy=(0.5,5),c='r',ha='left')\n",
    "axis.plot(x, y,'r-')\n",
    "axis.plot(2,-12,'ko')\n",
    "axis.annotate('local minimum (2,-12)',xy=(2.3,-12),c='k',ha='left')\n",
    "axis.plot(-0.3333,19/27,'ko')\n",
    "axis.annotate('local maximum (-1/3,19/27)',xy=(-1/3+0.2,19/27),c='k',ha='left')\n",
    "axis.plot(5/6,-305/54,'ko')\n",
    "axis.annotate('point of inflexion (5/6,-305/54)',xy=(5/6+0.2,-305/54),c='k',ha='left')\n",
    "plt.show()\n",
    "\n",
    "code_toggle()"
   ]
  },
  {
   "cell_type": "markdown",
   "metadata": {},
   "source": [
    "### A bit more on points of inflexion\n",
    "\n",
    "At a point of inflexion this is always true: $f''(x) = 0$. The first gradient may or may not be zero, i.e. $f'(x)  =0$ or $f'(x) \\neq 0$.\n",
    "\n",
    "#### Example\n",
    "\n",
    "\\begin{align*}\n",
    "y&=x^3\\\\\n",
    "f'(x) = \\frac{dy}{dx} &= 3x^2\\\\\n",
    "0 &= 3x^2 \\quad\\text{at a turning point}\\\\\n",
    "\\implies x &= 0\\\\\n",
    "f''(x) = \\frac{dy}{dx} &= 6x\n",
    "\\end{align*}\n",
    "\n",
    "\n",
    "hence when $x=0$, $f'(x)=0$ and $f''(x)=0$. $\\therefore$ there is a point of inflexion at $(0,0)$ and this one happens to have zero gradient."
   ]
  },
  {
   "cell_type": "markdown",
   "metadata": {},
   "source": [
    "### Biochemistry Example: Buffers\n",
    "\n",
    "Plot of pH against concentration of added hydroxide (OH$^-$) ions for the acetate-acetic acid system"
   ]
  },
  {
   "cell_type": "code",
   "execution_count": 35,
   "metadata": {
    "jupyter": {
     "source_hidden": true
    }
   },
   "outputs": [
    {
     "data": {
      "image/png": "[encoded data removed]",
      "text/plain": [
       "<Figure size 576x360 with 1 Axes>"
      ]
     },
     "metadata": {
      "needs_background": "light"
     },
     "output_type": "display_data"
    },
    {
     "data": {
      "text/html": [
       "\n",
       "        <script>\n",
       "            function code_toggle_14616487819691247786() {\n",
       "                $('div.cell.code_cell.rendered.selected').find('div.input').toggle();\n",
       "            }\n",
       "\n",
       "            \n",
       "        </script>\n",
       "\n",
       "        <a href=\"javascript:code_toggle_14616487819691247786()\">Show Python code</a>\n",
       "    "
      ],
      "text/plain": [
       "<IPython.core.display.HTML object>"
      ]
     },
     "execution_count": 35,
     "metadata": {},
     "output_type": "execute_result"
    }
   ],
   "source": [
    "x = numpy.linspace(0.1, 99.9, 10000)\n",
    "\n",
    "# plt.xkcd()\n",
    "fig,axis=plt.subplots(nrows=1,ncols=1,figsize=(8,5))\n",
    "\n",
    "# axis.set_xlim([0,3])\n",
    "# axis.set_xticks(numpy.arange(-3,4))\n",
    "axis.set_xlabel('Degree of titration (%)')\n",
    "axis.set_ylim([1,9])\n",
    "#     axis[i].set_yticks([0,10,20])\n",
    "axis.set_ylabel('pH',rotation=90)\n",
    "axis.spines['left'].set_position('zero')\n",
    "axis.spines['right'].set_color('none')\n",
    "axis.spines['bottom'].set_position('zero')\n",
    "axis.spines['top'].set_color('none')\n",
    "\n",
    "y = 4.75 + numpy.log10(x/(100-x)) # - numpy.log((100-x)/100)\n",
    "axis.annotate('pH = pK$_a$ = 4.75',xy=(51,3),c='k',ha='left')\n",
    "axis.plot(x, y,'r-')\n",
    "axis.plot((50,50),(0,4.75),'k--')\n",
    "axis.plot((0,50),(4.75,4.75),'k--')\n",
    "\n",
    "axis.plot((90.9,90.9),(0,5.75),'k--')\n",
    "axis.plot((0,90.9),(5.75,5.75),'k--')\n",
    "\n",
    "axis.plot((9.09,9.09),(0,3.75),'k--')\n",
    "axis.plot((0,9.09),(3.75,3.75),'k--')\n",
    "\n",
    "plt.show()\n",
    "\n",
    "code_toggle()"
   ]
  },
  {
   "cell_type": "markdown",
   "metadata": {},
   "source": [
    "We can show (not in this course) that varying the degree of titration in the range 9.1-90.9% only alters the pH by two units, when we are close to the pK$_a$."
   ]
  },
  {
   "cell_type": "markdown",
   "metadata": {},
   "source": [
    "## Why do I need to learn calculus again?\n",
    "\n",
    "(from start of lecture) I have some bacteria growing on a plate. By taking measurements I am able to fit the following polynomial (just involves powers of $x$ and numbers) equation to your data, a bit like we did at the end of the last lecture.\n",
    "\n",
    "$$\n",
    "n(t) = 15.42 + 6t -t^2\n",
    "$$\n",
    "\n",
    "where $n(t)$ is the number of bacteria in thousands after $t$ (measured in days). When will I have the greatest number of bacteria?"
   ]
  },
  {
   "cell_type": "markdown",
   "metadata": {},
   "source": [
    "Now we see that to answer this, we differentiate $n(t)$ with respect to $t$, set $\\frac{dn}{dt} = 0$ (equivalently $n'(t) =0$) and solve for $n$. This will give us the locations of any turning points. By differentiating again to get  $\\frac{d^2n}{dt^2}$ (equivalently $n''(t) =0$) we can test the sign of $\\frac{d^2n}{dt^2}$ at each turning point to identify whether they are a maximum or minimum. "
   ]
  },
  {
   "cell_type": "markdown",
   "metadata": {},
   "source": [
    "\\begin{eqnarray*}\n",
    "\\frac{dn}{dt} &=& 6 - 2t\\\\\n",
    "           0 &=& 6-2t\\\\\n",
    "           -2t &=& 6\\\\\n",
    "           t &=&3\n",
    "\\end{eqnarray*}\n",
    "\n",
    "Since\n",
    "\n",
    "$$\\frac{d^2n}{dt^2} = -2$$\n",
    "\n",
    "then this is a maximum (and so will be the greatest number of bacteria). To find that out, we simply substitute $t=3$ days back into the expression for $n(t)$.\n",
    "\n",
    "$$\\boxed{n=24.6 \\times 10^3 \\quad \\text{bacteria}}$$\n"
   ]
  },
  {
   "cell_type": "markdown",
   "metadata": {},
   "source": [
    "Oh, and you can enjoy [xkcd](https://xkcd.com) comics!\n",
    "\n",
    "\n",
    "![Oh, and you can enjoy xkcd comics!](images/xkcd-newton_and_leibniz.png)"
   ]
  },
  {
   "cell_type": "code",
   "execution_count": null,
   "metadata": {
    "jupyter": {
     "source_hidden": true
    }
   },
   "outputs": [],
   "source": []
  }
 ],
 "metadata": {
  "kernelspec": {
   "display_name": "Python 3.10.7 64-bit",
   "language": "python",
   "name": "python3"
  },
  "language_info": {
   "codemirror_mode": {
    "name": "ipython",
    "version": 3
   },
   "file_extension": ".py",
   "mimetype": "text/x-python",
   "name": "python",
   "nbconvert_exporter": "python",
   "pygments_lexer": "ipython3",
   "version": "3.10.7"
  },
  "vscode": {
   "interpreter": {
    "hash": "7a792fcb311f9eb9f3c1b942a8c87ada8484712b89b670347c16a1088e0a1f69"
   }
  }
 },
 "nbformat": 4,
 "nbformat_minor": 4
}
