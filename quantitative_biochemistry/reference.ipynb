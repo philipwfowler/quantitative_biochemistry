{
 "cells": [
  {
   "cell_type": "markdown",
   "metadata": {},
   "source": [
    "<span style=\"color:red\">Text</span> red text\n",
    "\n",
    "\n",
    "<div class=\"alert alert-block alert-danger\">\n",
    "<img src=\"images/curtis.jpg\" width=50 title=\"Curtis is not happy\" style=\"vertical-align:top\"/>\n",
    "<b>Common misconception:</b> The square root of $(a^2 + b^2) \\ne \\sqrt{a^2} + \\sqrt{b^2}$. We can simplify $\\sqrt{a^2} + \\sqrt{b^2} = a+b$, and hence if this was true, then $y=(a+b)^2$ but when we expand the bracket on the RHS we get $y=a^2+2ab+b^2$ which is NOT what we started with so this is wrong.\n",
    "</div>\n",
    "\n",
    "<div class=\"alert alert-block alert-success\">\n",
    "<img src=\"images/pointing-finger.png\" width=50 title=\"For you\" style=\"vertical-align:top\"/>\n",
    "<b>For you:</b><br>\n",
    "1. What is $x$ if $y=10^x = 40000000000?$\n",
    "</div>\n",
    "\n",
    "<div class=\"alert alert-block alert-info\">\n",
    "<img src=\"images/tick.png\" width=50 title=\"Tip\" style=\"vertical-align:top\"/>\n",
    "<b>Tip:</b> Clearly layout your mathematics with (i) each equation is on its own line on the page, (ii) the = signs of each equation lie underneath one another and (iii) the operation you are applying to each side of the equation clearly identified\n",
    "</div>\n",
    "\n",
    "<div class=\"alert alert-block alert-warning\">\n",
    "<img src=\"images/thinking-face.png\" width=50 title=\"Hmm\" style=\"vertical-align:top\"/>\n",
    "<b>Thought:</b> Clearly layout your mathematics with (i) each equation is on its own line on the page, (ii) the = signs of each equation lie underneath one another and (iii) the operation you are applying to each side of the equation clearly identified\n",
    "</div>"
   ]
  },
  {
   "cell_type": "markdown",
   "metadata": {},
   "source": [
    "## Warm up exercises\n",
    "\n",
    "<div class=\"alert alert-block alert-danger\">\n",
    "<b>Warning:</b> No calculators!\n",
    "</div>\n",
    "\n",
    "$$\n",
    "\\begin{eqnarray*}\n",
    "&1.\\quad & \\frac{dy}{dx} &=& 0 &\\quad\\text{Find } y &=\\\\\n",
    "&2.\\quad & \\frac{dy}{dx} &=& 20x &\\quad\\text{Find } y&=\\\\\n",
    "&3. \\quad & \\frac{dy}{dx} &=& \\frac{1}{x} &\\quad\\text{Find } y&=\\\\\n",
    "&4. \\quad & \\frac{dy}{dx} &=& \\sin x &\\quad\\text{Find } y&=\\\\\n",
    "&5. \\quad &&&& \\frac{6.1 \\times 10^{-3}}{7 \\times 10^5} &=\\\\ \n",
    "&6. \\quad &&&& \\frac{6.63 \\times 10^{-34} \\times 3 \\times 10^8}{500 \\times 10^{-9}} &=\\\\\n",
    "&7. \\quad &&&& \\sqrt {0.00064} &=\\\\\n",
    "&8. \\quad &&&& \\int_0^6 {1\\over e^x}\\, dx&=\\\\\n",
    "&9. \\quad & \\frac{y}{x} &=& e^x, &\\quad\\text{Find } y&=\\\\\n",
    "&10.\\quad &&&& \\frac{9^0}{10000000} &=\\\\ \n",
    "\\end{eqnarray*}$$\n",
    "11. What is the molar concentration of a solution of 500 ml water to which I have added 2.2 g KCl? (The molar mass of KCl is approx. 66 g/mol)\n"
   ]
  },
  {
   "cell_type": "markdown",
   "metadata": {},
   "source": [
    "<div class=\"alert alert-block alert-warning\">\n",
    "<b>Brainteaser:</b> By moving only one number, rearrange $62 - 1 = 63$ so that it is numerically correct. Please send answers to <a href=\"mailto:philip.fowler@ndm.ox.ac.uk\">philip.fowler@ndm.ox.ac.uk</a> before the next lecture.\n",
    "</div>"
   ]
  },
  {
   "cell_type": "markdown",
   "metadata": {},
   "source": [
    "\n",
    "\n",
    "\n",
    "<div class=\"alert alert-block alert-warning\">\n",
    "<img src=\"images/curtis.jpg\" width=50 title=\"Python Logo\" style=\"vertical-align:top\"/>\n",
    "<b>Warning:</b> No calculators!\n",
    "</div>"
   ]
  },
  {
   "cell_type": "code",
   "execution_count": null,
   "metadata": {},
   "outputs": [],
   "source": []
  }
 ],
 "metadata": {
  "kernelspec": {
   "display_name": "Python 3",
   "language": "python",
   "name": "python3"
  },
  "language_info": {
   "codemirror_mode": {
    "name": "ipython",
    "version": 3
   },
   "file_extension": ".py",
   "mimetype": "text/x-python",
   "name": "python",
   "nbconvert_exporter": "python",
   "pygments_lexer": "ipython3",
   "version": "3.7.8"
  }
 },
 "nbformat": 4,
 "nbformat_minor": 4
}
