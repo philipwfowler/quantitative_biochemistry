{
 "cells": [
  {
   "cell_type": "code",
   "execution_count": 1,
   "metadata": {
    "jupyter": {
     "source_hidden": true
    }
   },
   "outputs": [],
   "source": [
    "import numpy, math\n",
    "from matplotlib import pyplot as plt\n",
    "from matplotlib import patches\n",
    "from src import code_toggle\n",
    "%matplotlib inline"
   ]
  },
  {
   "cell_type": "markdown",
   "metadata": {},
   "source": [
    "# Warm-up exercises\n",
    "\n",
    "FIXME\n",
    "\n"
   ]
  },
  {
   "cell_type": "markdown",
   "metadata": {},
   "source": [
    "# Challenge\n",
    "\n",
    "FIXME"
   ]
  },
  {
   "cell_type": "markdown",
   "metadata": {},
   "source": [
    "# Integration\n",
    "\n",
    "## How can we calculate the area under a curve?\n",
    "\n",
    "Consider the graph of \n",
    "\n",
    "$$y=x^2$$\n",
    "\n",
    "Suppose we want to find the area under the curve from $x=1$ to $x=2$."
   ]
  },
  {
   "cell_type": "code",
   "execution_count": 9,
   "metadata": {
    "jupyter": {
     "source_hidden": true
    }
   },
   "outputs": [
    {
     "data": {
      "image/png": "[encoded data removed]",
      "text/plain": [
       "<Figure size 504x360 with 1 Axes>"
      ]
     },
     "metadata": {
      "needs_background": "light"
     },
     "output_type": "display_data"
    },
    {
     "data": {
      "text/html": [
       "\n",
       "        <script>\n",
       "            function code_toggle_7239623318454472590() {\n",
       "                $('div.cell.code_cell.rendered.selected').find('div.input').toggle();\n",
       "            }\n",
       "\n",
       "            \n",
       "        </script>\n",
       "\n",
       "        <a href=\"javascript:code_toggle_7239623318454472590()\">Show Python code</a>\n",
       "    "
      ],
      "text/plain": [
       "<IPython.core.display.HTML object>"
      ]
     },
     "execution_count": 9,
     "metadata": {},
     "output_type": "execute_result"
    }
   ],
   "source": [
    "from matplotlib.patches import Polygon\n",
    "\n",
    "x = numpy.linspace(0, 3, 300)\n",
    "\n",
    "# plt.xkcd()\n",
    "fig,axis=plt.subplots(nrows=1,ncols=1,figsize=(7,5))\n",
    "\n",
    "axis.set_xlim([0,3])\n",
    "axis.set_xticks(numpy.arange(0,4))\n",
    "axis.set_xlabel('$x$')\n",
    "axis.set_ylim([0,7])\n",
    "axis.set_ylabel('$y$',rotation=0)\n",
    "axis.spines['left'].set_position('zero')\n",
    "axis.spines['right'].set_color('none')\n",
    "axis.spines['bottom'].set_position('zero')\n",
    "axis.spines['top'].set_color('none')\n",
    "\n",
    "def func(x):\n",
    "    return(x**2)\n",
    "\n",
    "a=1\n",
    "b=2\n",
    "ix=numpy.linspace(a,b)\n",
    "iy=func(ix)\n",
    "verts = [(a, 0), *zip(ix, iy), (b, 0)]\n",
    "poly = Polygon(verts, facecolor='0.9', edgecolor='0.5')\n",
    "axis.add_patch(poly)\n",
    "\n",
    "y = x**2\n",
    "axis.annotate('$y=x^2$',xy=(1,4),c='r')\n",
    "axis.plot(x, y,'r-')\n",
    "plt.show()\n",
    "\n",
    "code_toggle()"
   ]
  },
  {
   "cell_type": "markdown",
   "metadata": {},
   "source": [
    "We could divide the area into strips, calculate the area of each strip and sum these areas together"
   ]
  },
  {
   "cell_type": "code",
   "execution_count": 31,
   "metadata": {
    "jupyter": {
     "source_hidden": true
    }
   },
   "outputs": [
    {
     "data": {
      "image/png": "[encoded data removed]",
      "text/plain": [
       "<Figure size 504x360 with 1 Axes>"
      ]
     },
     "metadata": {
      "needs_background": "light"
     },
     "output_type": "display_data"
    },
    {
     "data": {
      "text/html": [
       "\n",
       "        <script>\n",
       "            function code_toggle_11025421071693720721() {\n",
       "                $('div.cell.code_cell.rendered.selected').find('div.input').toggle();\n",
       "            }\n",
       "\n",
       "            \n",
       "        </script>\n",
       "\n",
       "        <a href=\"javascript:code_toggle_11025421071693720721()\">Show Python code</a>\n",
       "    "
      ],
      "text/plain": [
       "<IPython.core.display.HTML object>"
      ]
     },
     "execution_count": 31,
     "metadata": {},
     "output_type": "execute_result"
    }
   ],
   "source": [
    "from matplotlib.patches import Polygon\n",
    "\n",
    "x = numpy.linspace(0, 3, 300)\n",
    "\n",
    "# plt.xkcd()\n",
    "fig,axis=plt.subplots(nrows=1,ncols=1,figsize=(7,5))\n",
    "\n",
    "axis.set_xlim([0,3])\n",
    "axis.set_xticks(numpy.arange(0,4))\n",
    "axis.set_xlabel('$x$')\n",
    "axis.set_ylim([0,7])\n",
    "axis.set_ylabel('$y$',rotation=0)\n",
    "axis.spines['left'].set_position('zero')\n",
    "axis.spines['right'].set_color('none')\n",
    "axis.spines['bottom'].set_position('zero')\n",
    "axis.spines['top'].set_color('none')\n",
    "\n",
    "def func(x):\n",
    "    return(x**2)\n",
    "\n",
    "\n",
    "a=1.4\n",
    "b=1.6\n",
    "ix=numpy.linspace(a,b)\n",
    "iy=func(ix)\n",
    "verts = [(a, 0), *zip(ix, iy), (b, 0)]\n",
    "poly = Polygon(verts, facecolor='0.9', edgecolor='0.5')\n",
    "axis.add_patch(poly)\n",
    "\n",
    "axis.plot((1,1),(0,1),'k--')\n",
    "axis.plot((2,2),(0,4),'k--')\n",
    "\n",
    "axis.plot((1.4,1.4),(0,2.56),'k-')\n",
    "axis.plot((1.6,1.6),(0,2.56),'k-')\n",
    "axis.plot((1.4,1.6),(2.56,2.56),'k-')\n",
    "axis.annotate('$\\delta x$',xy=(1.5,0.5),ha='center',color='black')\n",
    "axis.annotate('$y$',xy=(1.65,1.3),ha='left',color='black')\n",
    "\n",
    "y = x**2\n",
    "axis.annotate('$y=x^2$',xy=(1,4),c='r')\n",
    "axis.plot(x, y,'r-')\n",
    "plt.show()\n",
    "\n",
    "code_toggle()"
   ]
  },
  {
   "cell_type": "markdown",
   "metadata": {},
   "source": [
    "The area of the small shaded strip drawn on the graph above is $\\delta A$ (since it is small and finite) and \n",
    "\n",
    "$$ \\delta A \\approx y. \\delta x $$\n",
    "\n",
    "But this is clearly an overestimate (if the curve had $\\frac{dy}{dx} < 0$ then it would be an underestimate)"
   ]
  },
  {
   "cell_type": "markdown",
   "metadata": {},
   "source": [
    "However we can imagine splitting up the region betwen $x=1$ and $x=2$ into lots of small strips, calculating their areas and adding them up (summing them)\n",
    "\n",
    "\n",
    "$$ \\text{total area (A)} \\approx \\sum_{x=1}^{x=2} y.\\delta x$$"
   ]
  },
  {
   "cell_type": "markdown",
   "metadata": {},
   "source": [
    "where the capital Greek sigma ($\\Sigma$) is used since it is short for 'sum'. Consider our first equation and re-arrange it to make y the subject\n",
    "\n",
    "$$ y \\approx \\frac{\\delta A}{\\delta x} $$"
   ]
  },
  {
   "cell_type": "markdown",
   "metadata": {},
   "source": [
    "Just like when we were trying to calculate the slope of a function, as we make $\\delta x$ smaller and smaller, this becomes more and more accurate. If we let $\\delta x$ become infinitely small then it will be exact i.e.\n",
    "\n",
    "$$ y = \\lim_{\\delta x \\rightarrow 0} \\frac{\\delta A}{\\delta x} $$"
   ]
  },
  {
   "cell_type": "markdown",
   "metadata": {},
   "source": [
    "Notice how we now have an equality (rather than an approximately equals sign: $\\approx$)"
   ]
  },
  {
   "cell_type": "markdown",
   "metadata": {},
   "source": [
    "This can be written in Leibnizian form as \n",
    "\n",
    "$$ y = \\frac{dA}{dx} $$\n",
    "\n",
    "where just like before the RHS is a single term (it is the differential of $A$ with respect to $x$) and CANNOT be simplified."
   ]
  },
  {
   "cell_type": "markdown",
   "metadata": {},
   "source": [
    "Hence we can write\n",
    "\n",
    "\\begin{align*}\n",
    "A &= \\lim_{\\delta x \\rightarrow 0} \\sum_{x=1}^{x=2} \\delta A\\\\\n",
    " &= \\lim_{\\delta x \\rightarrow 0} \\sum_{x=1}^{x=2}  y. \\delta x\\\\\n",
    "\\end{align*}"
   ]
  },
  {
   "cell_type": "markdown",
   "metadata": {},
   "source": [
    "At this point we get tired of writing the limit symbol and then the summation symbol and so invent a new one; the long s was chosen by Leibniz since this is an infinite sum. "
   ]
  },
  {
   "cell_type": "markdown",
   "metadata": {},
   "source": [
    "\\begin{align*}\n",
    "A &= \\int_{x=1}^{x=2} dA\\\\\n",
    "&= \\int_{x=1}^{x=2} y.dx\\\\\n",
    "\\end{align*}"
   ]
  },
  {
   "cell_type": "markdown",
   "metadata": {},
   "source": [
    "Over time the long s has been lost from English but lives on as part of the sharp s in German. It means \"sum over\""
   ]
  },
  {
   "cell_type": "markdown",
   "metadata": {},
   "source": [
    "Fine. We've got some fancy new notation. How do we DO integration? \n",
    "\n",
    "We said that:\n",
    "\n",
    "\\begin{align*}\n",
    "A &= \\int_{x_1}^{x_2} dA \\\\\n",
    " &= \\int_{x1}^{x2} y.dx\n",
    "\\end{align*}\n",
    "\n",
    "but we also showed that $y = \\frac{dA}{dx}$, therefore\n",
    "\n",
    "$$\\boxed{ A = \\int_{x_1}^{x_2} \\frac{dA}{dx}. dx }$$\n",
    "\n",
    "So INTEGRATION reverses the process of DIFFERENTIATION. It is the inverse mathematical operation."
   ]
  },
  {
   "cell_type": "markdown",
   "metadata": {},
   "source": [
    "### Example 1\n",
    "\n",
    "We know that \n",
    "\n",
    "$$\\frac{d}{dx}(x^2) = 2x $$ \n",
    "\n",
    "so \n",
    "\n",
    "$$ \\left [ x^2 \\right ]_{x_1}^{x_2} - \\int_{x_1}^{x_2} 2x. dx $$\n",
    "\n",
    "where the square brackets around our function mean \"the area of the function (here $x^2$) between the values $x=1$ and $x=2$\". The more positive number is always the top one.\n"
   ]
  },
  {
   "cell_type": "markdown",
   "metadata": {},
   "source": [
    "### Example 2\n",
    "\n",
    "Likewise\n",
    "\n",
    "$$\\frac{d}{dx}\\left (\\frac{1}{3} x^3 \\right ) = x^2 $$ \n",
    "so \n",
    "\n",
    "\\begin{align*}\n",
    "\\int_{x=1}^{x=2} 2x. dx &= \\left [ \\frac{1}{3} x^3 \\right ]_{x=1}^{x=2}\\\\\n",
    "&= \\frac{8}{3} - \\frac{1}{3}\\\\\n",
    "&= \\frac{7}{3} \n",
    "\\end{align*}\n"
   ]
  },
  {
   "cell_type": "markdown",
   "metadata": {},
   "source": [
    "### Integrating polynomials\n",
    "\n",
    "Since we already know that \n",
    "\n",
    "$$ \\frac{d}{dx} (ax^{n+1}) = a(n+1)x^n $$\n",
    "\n",
    "where $a$ and $n$ are constants (just numbers). (I've just written it with a power of $(n+1)$ rather than $n$ as we normally do, but you can check it is correct). Then we can infer that\n",
    "\n",
    "$$ \\boxed{ \\int_{x_1}^{x_2} ax^n.dx = \\left [ \\frac{a}{(n+1)}x^{n+1} \\right ]_{x_1}^{x_2} }$$\n",
    "\n",
    "EXCEPT when $n=-1$"
   ]
  },
  {
   "cell_type": "markdown",
   "metadata": {},
   "source": [
    "### Example 3\n",
    "\n",
    "$$ \\int_{x_1}^{x_2} x^6. dx = \\left [ \\frac{1}{7} x^7 \\right ]_{x_1}^{x_2}$$\n",
    "\n",
    "Because integration is the INVERSE of differentiation we can ALWAYS CHECK our answer by differentiating it!\n",
    "\n",
    "\\begin{align*}\n",
    "\\frac{d}{dx}\\left (\\frac{1}{7}x^7 \\right ) &= \\frac{7}{7}x^6\\\\\n",
    "&= x^6\n",
    "\\end{align*}\n",
    "\n",
    "Yes, our answer is correct"
   ]
  },
  {
   "cell_type": "markdown",
   "metadata": {},
   "source": [
    "### Example 4\n",
    "\n",
    "\\begin{align*} \n",
    "\\int_{x_1}^{x_2} x^{3/2}. dx &= \\left [ \\frac{1}{5/2} x^{5/2} \\right ]_{x_1}^{x_2}\\\\\n",
    "&= \\left [ \\frac{2}{5} x^{5/2} \\right ]_{x_1}^{x_2}\n",
    "\\end{align*}\n",
    "\n",
    "Differentiating to check ...\n",
    "\n",
    "\\begin{align*}\n",
    "\\frac{d}{dx}\\left ( \\frac{2}{5} x^{5/2} \\right ) &= \\frac{2}{5}. \\frac{5}{2}x^{3/2}\\\\\n",
    "&= x^{3/2} \n",
    "\\end{align*}\n",
    "\n",
    "Yes, our answer is correct"
   ]
  },
  {
   "cell_type": "markdown",
   "metadata": {},
   "source": [
    "### Example 5\n",
    "\n",
    "\\begin{align*} \n",
    "\\int_{x_1}^{x_2} \\frac{1}{\\sqrt{x}}. dx &= \\left [ \\frac{1}{1/2} x^{1/2} \\right ]_{x_1}^{x_2}\\\\\n",
    "&= \\left [ 2 x^{1/2} \\right ]_{x_1}^{x_2}\\\\\n",
    "&= \\left [ 2 \\sqrt{x} \\right ]_{x_1}^{x_2}\n",
    "\\end{align*}\n",
    "\n",
    "Differentiating to check ...\n",
    "\n",
    "\\begin{align*}\n",
    "\\frac{d}{dx}\\left ( 2 x^{1/2} \\right ) &= 2. \\frac{1}{2}x^{-1/2}\\\\\n",
    "&= x^{-1/2}\\\\\n",
    "&= \\frac{1}{\\sqrt{x}}\n",
    "\\end{align*}\n",
    "\n",
    "Yes, our answer is correct"
   ]
  },
  {
   "cell_type": "markdown",
   "metadata": {},
   "source": [
    "<div class=\"alert alert-block alert-danger\">\n",
    "<img src=\"images/curtis.jpg\" width=50 title=\"Curtis is not happy\" style=\"vertical-align:top\"/>\n",
    "<b>Common misconception:</b> It is very easy to get $x_1$ and $x_2$ the wrong way round. \n",
    "</div>\n",
    "\n",
    "$x_1$ and $x_2$ are called the LIMITS of the integration (in our motiviating example the limits were 1 and 2). Both of these are correct;\n",
    "\n",
    "\\begin{align*}\n",
    "\\int^b_a f'(x).dx &= \\left [ f(x) \\right ]^b_a\\\\\n",
    "&= f(b)-f(a)\n",
    "\\end{align*}\n",
    "\n",
    "\\begin{align*}\n",
    "\\int^a_b f'(x).dx &= \\left [ f(x) \\right ]^a_b\\\\\n",
    "&= f(a)-f(b)\n",
    "\\end{align*}\n",
    "\n",
    "Notice how it is always the top limit minus the bottom limit.\n"
   ]
  },
  {
   "cell_type": "code",
   "execution_count": null,
   "metadata": {
    "jupyter": {
     "source_hidden": true
    }
   },
   "outputs": [],
   "source": []
  }
 ],
 "metadata": {
  "kernelspec": {
   "display_name": "Python 3",
   "language": "python",
   "name": "python3"
  },
  "language_info": {
   "codemirror_mode": {
    "name": "ipython",
    "version": 3
   },
   "file_extension": ".py",
   "mimetype": "text/x-python",
   "name": "python",
   "nbconvert_exporter": "python",
   "pygments_lexer": "ipython3",
   "version": "3.7.8"
  }
 },
 "nbformat": 4,
 "nbformat_minor": 4
}
