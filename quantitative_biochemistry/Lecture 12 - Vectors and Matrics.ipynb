{
 "cells": [
  {
   "cell_type": "code",
   "execution_count": 2,
   "metadata": {
    "jupyter": {
     "source_hidden": true
    }
   },
   "outputs": [],
   "source": [
    "import numpy, math\n",
    "from matplotlib import pyplot as plt\n",
    "from matplotlib import patches\n",
    "from src import code_toggle\n",
    "%matplotlib inline"
   ]
  },
  {
   "cell_type": "markdown",
   "metadata": {},
   "source": [
    "# Warm-up exercises\n",
    "\n",
    "\\begin{align*}\n",
    "&1.\\quad && \\frac{0.002}{50} &&=\\\\\n",
    "&2.\\quad && \\frac{1.5 \\times 10^8}{500} &&=\\\\\n",
    "&3. \\quad && \\frac{[2 \\times 10^{-15}]^3}{4\\times 3\\times [9 \\times 10^{-12}]^2 \\times 10^{-10}} &&=\\\\\n",
    "&4. \\quad && \\ln(A-3) - \\ln A &&=\\\\\n",
    "&5. \\quad && \\log\\sqrt{N} + \\log N^3 &&=\\\\\n",
    "&6. \\quad && \\int^\\infty_{-\\infty} x^3 dx &&=\\\\\n",
    "&7. \\quad && \\int^1_0 \\frac{1}{e^{-2x}} dx &&=\\\\\n",
    "&8.\\quad && \\text{If }  \\frac{dy}{dx}=\\sqrt{x}  &  \\text{ find }  y&=\\\\ \n",
    "\\end{align*}"
   ]
  },
  {
   "cell_type": "markdown",
   "metadata": {},
   "source": [
    "# Challenge\n",
    "\n",
    "<div class=\"alert alert-block alert-success\">\n",
    "<img src=\"images/pointing-finger.png\" width=50 title=\"For you\" style=\"vertical-align:top\"/>\n",
    "<b>For you:</b> Answer to Week 7 Challenge: I have 8 identical balls, and a ninth that looks identical but which is either lighter or heavier than the others. I have a pair of weighing scales which are the old  fashioned balance ones with a plate on each side of the balance point. I am allowed three uses of these scales to identify the odd ball. How can I do it?\n",
    "</div>\n",
    "Divide the balls into 3 groups of 3, and for the 3 allowed uses of the scales, you could do the following:\n",
    "\n",
    "1. Take one group of 3 and put it on 1 side, and another group on the other side. If they are equal, the odd ball is in the third group (in which case see point (4)).\n",
    "2. If one group goes down relative to the other, I don't know if I have a light ball or a heavy ball with respect to the norm, so I would test one group against the resting group. Then I would know which group the odd ball was in, and I would also know whether it was lighter or heavier than the others.\n",
    "3. Now I take the group of three in which the odd ball is lurking, and put one of them on each side of the scales. If they are equal, the odd ball is the unweighed one. If not, I know which is the odd one, since I already know if it is lighter or heavier than the others. Thus in this case I found the odd one in 2 weighings. \n",
    "4. In point (1) if the 2 groups of 3 are equal, the odd ball is in the unweighed trio, and I don't know yet if it is heavier or lighter. So I weigh the trio against one of the other trios, and then I am at (2) above and can do (3), so I have found the odd ball in 3 weighings."
   ]
  },
  {
   "cell_type": "markdown",
   "metadata": {},
   "source": [
    "<div class=\"alert alert-block alert-success\">\n",
    "<img src=\"images/pointing-finger.png\" width=50 title=\"For you\" style=\"vertical-align:top\"/>\n",
    "<b>For you:</b> Week 8 Challenge: I put a piece of string of length $Q$ metres all the way around the equator next to the earth. I cut another piece of string, $\\pi$ metres longer than the first, and put it around the equator too, held an equal distance from the centre of the earth all the way round. How far from the earth is the second piece of string?\n",
    "</div>"
   ]
  },
  {
   "cell_type": "markdown",
   "metadata": {},
   "source": [
    "# Basic Scalar and Vector Algebra\n",
    "\n",
    "A **scalar** quantity is one that is fully defined by magnitude alone.\n",
    "\n",
    "e.g. Length is a scalar quantity as the length of a piece of string does not depend on its direction when it is measured. Temperature, density and volume and are also scalars."
   ]
  },
  {
   "cell_type": "markdown",
   "metadata": {},
   "source": [
    "A **vector** is a quantity which has both **magnitude** and a specific **direction** in space.\n",
    "\n",
    "## Vector nomenclature\n",
    "\n",
    "It is represented as a straight line the length of which is its magnitude and with an arrow indicating its direction. It is usually written bold type. e.g. **a** or when handwritten, it is underlined $\\underline{a}$. If it is between point $A$ and $B$ it can be written $\\vec{AB}$ with an arrow above it.\n",
    "\n",
    "Velocity, acceleration, and force are all examples of vectors. Electric fields (and magnetic ones) are 'vector fields'.\n",
    "\n",
    "The magnitude of the vector is its *modulus* ($|\\underline{a}|$).\n",
    "\n",
    "Below are drawn two vectors, $\\vec{AB}$ and $\\vec{BA}$."
   ]
  },
  {
   "cell_type": "code",
   "execution_count": 122,
   "metadata": {
    "jupyter": {
     "source_hidden": true
    }
   },
   "outputs": [
    {
     "data": {
      "image/png": "[encoded data removed]",
      "text/plain": [
       "<Figure size 576x288 with 1 Axes>"
      ]
     },
     "metadata": {},
     "output_type": "display_data"
    },
    {
     "data": {
      "text/html": [
       "\n",
       "        <script>\n",
       "            function code_toggle_16980121279650969340() {\n",
       "                $('div.cell.code_cell.rendered.selected').find('div.input').toggle();\n",
       "            }\n",
       "\n",
       "            \n",
       "        </script>\n",
       "\n",
       "        <a href=\"javascript:code_toggle_16980121279650969340()\">Show Python code</a>\n",
       "    "
      ],
      "text/plain": [
       "<IPython.core.display.HTML object>"
      ]
     },
     "execution_count": 122,
     "metadata": {},
     "output_type": "execute_result"
    }
   ],
   "source": [
    "\n",
    "fig,axis=plt.subplots(nrows=1,ncols=1,figsize=(8,4))\n",
    "\n",
    "axis.spines['left'].set_color('none')\n",
    "axis.spines['right'].set_color('none')\n",
    "axis.spines['bottom'].set_color('none')\n",
    "axis.spines['top'].set_color('none')\n",
    "axis.set_xlim([0,2])\n",
    "axis.set_ylim([0,1])\n",
    "axis.set_xticks([])\n",
    "axis.set_yticks([])\n",
    "\n",
    "def plot_vector(x1,y1,x2,y2,label):\n",
    "    x_mid=x1+(x2-x1)/2\n",
    "    y_mid=y1+(y2-y1)/2\n",
    "    axis.arrow(x1,y1,x_mid-x1,y_mid-y1,head_width=0.1, head_length=0.1, overhang=1,fc='k', ec='k')\n",
    "    axis.plot([x_mid,x2],[y_mid,y2],'k')\n",
    "    axis.text(x_mid+0.1,y_mid-0.1,label,fontweight='heavy',fontsize='large')# $\\underline{a}$')\n",
    "\n",
    "axis.text(0-0.05,0-0.05,'A',fontsize='large')\n",
    "axis.text(1+0.05,1+0.05,'B',fontsize='large')\n",
    "plot_vector(0,0,1,1,'a')\n",
    "\n",
    "\n",
    "axis.text(1-0.05,0-0.05,'A',fontsize='large')\n",
    "axis.text(2+0.05,1+0.05,'B',fontsize='large')\n",
    "plot_vector(2,1,1,0,'-a')\n",
    "\n",
    "plt.show()\n",
    "\n",
    "code_toggle()"
   ]
  },
  {
   "cell_type": "markdown",
   "metadata": {},
   "source": [
    "## Vector manipulation\n",
    "\n",
    "We can *multiply* a vector by a scalar, $\\lambda$ to get $\\lambda \\underline{a}$ which is in the same direction as $\\underline{a}$ but has a magnitude $\\lambda$ times the modulus of $\\underline{a}$ i.e. $\\lambda |a|$."
   ]
  },
  {
   "cell_type": "markdown",
   "metadata": {},
   "source": [
    "The vector $-\\underline{a}$  has the same magnitude as $\\underline{a}$ but has the *opposite* direction."
   ]
  },
  {
   "cell_type": "markdown",
   "metadata": {},
   "source": [
    "We can *add* 2 vectors $\\underline{p}$ and $\\underline{q}$  by placing the tail of $\\underline{q}$ at the head of $\\underline{p}$, and drawing a line between the tail of $\\underline{p}$ and the head of $\\underline{q}$ to get a so called *resultant*."
   ]
  },
  {
   "cell_type": "code",
   "execution_count": 135,
   "metadata": {
    "jupyter": {
     "source_hidden": true
    }
   },
   "outputs": [
    {
     "data": {
      "image/png": "[encoded data removed]",
      "text/plain": [
       "<Figure size 576x288 with 1 Axes>"
      ]
     },
     "metadata": {},
     "output_type": "display_data"
    },
    {
     "data": {
      "text/html": [
       "\n",
       "        <script>\n",
       "            function code_toggle_11352307969651592660() {\n",
       "                $('div.cell.code_cell.rendered.selected').find('div.input').toggle();\n",
       "            }\n",
       "\n",
       "            \n",
       "        </script>\n",
       "\n",
       "        <a href=\"javascript:code_toggle_11352307969651592660()\">Show Python code</a>\n",
       "    "
      ],
      "text/plain": [
       "<IPython.core.display.HTML object>"
      ]
     },
     "execution_count": 135,
     "metadata": {},
     "output_type": "execute_result"
    }
   ],
   "source": [
    "\n",
    "fig,axis=plt.subplots(nrows=1,ncols=1,figsize=(8,4))\n",
    "\n",
    "axis.spines['left'].set_color('none')\n",
    "axis.spines['right'].set_color('none')\n",
    "axis.spines['bottom'].set_color('none')\n",
    "axis.spines['top'].set_color('none')\n",
    "axis.set_xlim([0,6])\n",
    "axis.set_ylim([0,3])\n",
    "axis.set_xticks([])\n",
    "axis.set_yticks([])\n",
    "\n",
    "def plot_vector(x1,y1,x2,y2,label):\n",
    "    x_mid=x1+(x2-x1)/2\n",
    "    y_mid=y1+(y2-y1)/2\n",
    "    axis.arrow(x1,y1,x_mid-x1,y_mid-y1,head_width=0.1, head_length=0.1, overhang=1,fc='k', ec='k')\n",
    "    axis.plot([x_mid,x2],[y_mid,y2],'k')\n",
    "    axis.text(x_mid+0.1,y_mid-0.1,label,fontweight='heavy',fontsize='large')# $\\underline{a}$')\n",
    "\n",
    "# axis.text(0-0.05,0-0.05,'A',fontsize='large')\n",
    "# axis.text(1+0.05,1+0.05,'B',fontsize='large')\n",
    "plot_vector(0,0,1,2,'p')\n",
    "\n",
    "\n",
    "# axis.text(1-0.05,0-0.05,'A',fontsize='large')\n",
    "# axis.text(2+0.05,1+0.05,'B',fontsize='large')\n",
    "plot_vector(0,0,2,1,'q')\n",
    "\n",
    "plot_vector(2,0,3,2,'p')\n",
    "plot_vector(3,2,5,3,'q')\n",
    "plot_vector(2,0,5,3,'p+q')\n",
    "\n",
    "plt.show()\n",
    "\n",
    "code_toggle()"
   ]
  },
  {
   "cell_type": "markdown",
   "metadata": {},
   "source": [
    "We can also *subtract* 2 vectors $\\underline{p} -  \\underline{q}$  by replacing $\\underline{q}$ by $\\underline{-q}$ (same magnitude, opposite direction) and adding it to $\\underline{p}$, as above to get $\\underline{p}-\\underline{q}$\n"
   ]
  },
  {
   "cell_type": "code",
   "execution_count": 136,
   "metadata": {
    "jupyter": {
     "source_hidden": true
    }
   },
   "outputs": [
    {
     "data": {
      "image/png": "[encoded data removed]",
      "text/plain": [
       "<Figure size 576x288 with 1 Axes>"
      ]
     },
     "metadata": {},
     "output_type": "display_data"
    },
    {
     "data": {
      "text/html": [
       "\n",
       "        <script>\n",
       "            function code_toggle_15346047921242973032() {\n",
       "                $('div.cell.code_cell.rendered.selected').find('div.input').toggle();\n",
       "            }\n",
       "\n",
       "            \n",
       "        </script>\n",
       "\n",
       "        <a href=\"javascript:code_toggle_15346047921242973032()\">Show Python code</a>\n",
       "    "
      ],
      "text/plain": [
       "<IPython.core.display.HTML object>"
      ]
     },
     "execution_count": 136,
     "metadata": {},
     "output_type": "execute_result"
    }
   ],
   "source": [
    "\n",
    "fig,axis=plt.subplots(nrows=1,ncols=1,figsize=(8,4))\n",
    "\n",
    "axis.spines['left'].set_color('none')\n",
    "axis.spines['right'].set_color('none')\n",
    "axis.spines['bottom'].set_color('none')\n",
    "axis.spines['top'].set_color('none')\n",
    "axis.set_xlim([0,6])\n",
    "axis.set_ylim([0,3])\n",
    "axis.set_xticks([])\n",
    "axis.set_yticks([])\n",
    "\n",
    "def plot_vector(x1,y1,x2,y2,label):\n",
    "    x_mid=x1+(x2-x1)/2\n",
    "    y_mid=y1+(y2-y1)/2\n",
    "    axis.arrow(x1,y1,x_mid-x1,y_mid-y1,head_width=0.1, head_length=0.1, overhang=1,fc='k', ec='k')\n",
    "    axis.plot([x_mid,x2],[y_mid,y2],'k')\n",
    "    axis.text(x_mid+0.1,y_mid-0.1,label,fontweight='heavy',fontsize='large')# $\\underline{a}$')\n",
    "\n",
    "# axis.text(0-0.05,0-0.05,'A',fontsize='large')\n",
    "# axis.text(1+0.05,1+0.05,'B',fontsize='large')\n",
    "plot_vector(0,0,1,2,'p')\n",
    "\n",
    "\n",
    "# axis.text(1-0.05,0-0.05,'A',fontsize='large')\n",
    "# axis.text(2+0.05,1+0.05,'B',fontsize='large')\n",
    "plot_vector(0,0,2,1,'q')\n",
    "\n",
    "plot_vector(4,0,5,2,'p')\n",
    "plot_vector(5,2,3,1,'q')\n",
    "plot_vector(4,0,3,1,'p-q')\n",
    "\n",
    "plt.show()\n",
    "\n",
    "code_toggle()"
   ]
  },
  {
   "cell_type": "markdown",
   "metadata": {},
   "source": [
    "## Three-dimensional vectors in Cartesian space\n",
    "\n",
    "In Cartesian space, a vector can be represented by 3 orthogonal directional components of unit magnitude  $\\underline{i}, \\underline{j}, \\underline{k}$ multiplied by scalar. \n",
    "\n",
    "For example, \n",
    "$$\\underline{v_1}=2\\underline{i}+3\\underline{j} -4\\underline{k}$$ \n",
    "and\n",
    "$$\\underline{v_2}=4\\underline{i}-2\\underline{j} +6\\underline{k}$$\n",
    "\n",
    "These directional components are sometimes written with a 'hat'; this signifies that they have length one. \n",
    "\n",
    "e.g. $$\\underline{v_1}=2\\underline{\\hat{i}}+3\\underline{\\hat{j}} -4\\underline{\\hat{k}}$$ "
   ]
  },
  {
   "cell_type": "markdown",
   "metadata": {},
   "source": [
    "Vectors can also be represented as *column vectors* where, starting from the top and working down, they given you the magnitudes of $\\underline{i}, \\underline{j}$ and  $\\underline{k}$, respectively.\n",
    "\n",
    "$$\\underline{v_1} = \\begin{pmatrix}2\\\\3\\\\-4\\end{pmatrix}$$\n",
    "\n",
    "$$\\underline{v_2} = \\begin{pmatrix}4\\\\-2\\\\6\\end{pmatrix}$$\n"
   ]
  },
  {
   "cell_type": "markdown",
   "metadata": {},
   "source": [
    "Adding and subtracting is simply a case of collecting similar components ($\\underline{i}$ etc) together\n",
    "\n",
    "e.g.\n",
    "\n",
    "\\begin{align*}\n",
    "\\underline{v_1} + \\underline{v_2}&=(2\\underline{i}+3\\underline{j} -4\\underline{k})+(4\\underline{i}-2\\underline{j} +6\\underline{k})\\\\\n",
    "&= (2+4)\\underline{i}+(3-2)\\underline{j}+ (-4+6)\\underline{k}\\\\\n",
    "&= 6\\underline{i} + \\underline{j} +2\\underline{k}\n",
    "\\end{align*}\n",
    "\n",
    "\\begin{align*}\n",
    "\\underline{v_1} - \\underline{v_2}&=(2\\underline{i}+3\\underline{j} -4\\underline{k})-(4\\underline{i}-2\\underline{j} +6\\underline{k})\\\\\n",
    "&= (2-4)\\underline{i}+(3-(-2))\\underline{j}+ (-4-6)\\underline{k}\\\\\n",
    "&= -2\\underline{i} + 5\\underline{j} -10\\underline{k}\n",
    "\\end{align*}"
   ]
  },
  {
   "cell_type": "markdown",
   "metadata": {},
   "source": [
    "or, using column vectors\n",
    "\n",
    "\\begin{align*}\n",
    "\\underline{v_1}+\\underline{v_2} &= \\begin{pmatrix}2\\\\3\\\\-4\\end{pmatrix} + \\begin{pmatrix}4\\\\-2\\\\6\\end{pmatrix}\\\\\n",
    "&=\\begin{pmatrix}6\\\\1\\\\2\\end{pmatrix}\n",
    "\\end{align*}\n",
    "\n",
    "\\begin{align*}\n",
    "\\underline{v_1}-\\underline{v_2} &= \\begin{pmatrix}2\\\\3\\\\-4\\end{pmatrix} - \\begin{pmatrix}4\\\\-2\\\\6\\end{pmatrix}\\\\\n",
    "&=\\begin{pmatrix}-2\\\\5\\\\10\\end{pmatrix}\n",
    "\\end{align*}"
   ]
  },
  {
   "cell_type": "markdown",
   "metadata": {},
   "source": [
    "### Example\n",
    "\n",
    "Show $\\underline{v_3}=2\\underline{i}+3\\underline{j} $ and $\\underline{v_4}=4\\underline{i}-2\\underline{j} $ on an $x-y$ plane. It does not matter where on the $x-y$ plane you place them.\n"
   ]
  },
  {
   "cell_type": "code",
   "execution_count": 146,
   "metadata": {
    "jupyter": {
     "source_hidden": true
    }
   },
   "outputs": [
    {
     "data": {
      "image/png": "[encoded data removed]",
      "text/plain": [
       "<Figure size 216x432 with 1 Axes>"
      ]
     },
     "metadata": {},
     "output_type": "display_data"
    },
    {
     "data": {
      "text/html": [
       "\n",
       "        <script>\n",
       "            function code_toggle_9113805501470732789() {\n",
       "                $('div.cell.code_cell.rendered.selected').find('div.input').toggle();\n",
       "            }\n",
       "\n",
       "            \n",
       "        </script>\n",
       "\n",
       "        <a href=\"javascript:code_toggle_9113805501470732789()\">Show Python code</a>\n",
       "    "
      ],
      "text/plain": [
       "<IPython.core.display.HTML object>"
      ]
     },
     "execution_count": 146,
     "metadata": {},
     "output_type": "execute_result"
    }
   ],
   "source": [
    "\n",
    "fig,axis=plt.subplots(nrows=1,ncols=1,figsize=(3,6))\n",
    "\n",
    "axis.spines['left'].set_color('none')\n",
    "axis.spines['right'].set_color('none')\n",
    "axis.spines['bottom'].set_color('none')\n",
    "axis.spines['top'].set_color('none')\n",
    "axis.set_xlim([0,3])\n",
    "axis.set_ylim([-3,3])\n",
    "axis.set_xticks([])\n",
    "axis.set_yticks([])\n",
    "\n",
    "def plot_vector(x1,y1,x2,y2,label):\n",
    "    x_mid=x1+(x2-x1)/2\n",
    "    y_mid=y1+(y2-y1)/2\n",
    "    axis.arrow(x1,y1,x_mid-x1,y_mid-y1,head_width=0.1, head_length=0.1, overhang=1,fc='k', ec='k')\n",
    "    axis.plot([x_mid,x2],[y_mid,y2],'k')\n",
    "    axis.text(x_mid+0.1,y_mid-0.1,label,fontweight='heavy',fontsize='large')# $\\underline{a}$')\n",
    "\n",
    "# axis.text(0-0.05,0-0.05,'A',fontsize='large')\n",
    "# axis.text(1+0.05,1+0.05,'B',fontsize='large')\n",
    "plot_vector(0,0,2,3,'$v_3$')\n",
    "\n",
    "\n",
    "# axis.text(1-0.05,0-0.05,'A',fontsize='large')\n",
    "# axis.text(2+0.05,1+0.05,'B',fontsize='large')\n",
    "plot_vector(0,0,1,-2,'$v_4$')\n",
    "\n",
    "# plot_vector(4,0,5,2,'p')\n",
    "# plot_vector(5,2,3,1,'q')\n",
    "# plot_vector(4,0,3,1,'p-q')\n",
    "\n",
    "plt.show()\n",
    "\n",
    "code_toggle()"
   ]
  },
  {
   "cell_type": "markdown",
   "metadata": {},
   "source": [
    "From the sketch, the magnitude of $\\underline{v_3}$ (i.e. $|v_3|$) is given by Pythagoras' theorem:\n",
    "\n",
    "$$|v_3| = \\sqrt{2^2+3^2} = \\sqrt{13}$$"
   ]
  },
  {
   "cell_type": "markdown",
   "metadata": {},
   "source": [
    "## The scalar (or dot) product\n",
    "\n",
    "The scalar product of two vectors $\\underline{a}$ and $\\underline{b}$ can be constructed by taking the component of one vector in the direction of the other (i.e. the magnitude of first $\\times \\cos\\theta$) and multiplying it by the magnitude of the other vector. i.e. \n",
    "\n",
    "$$\\underline{a}.\\underline{b}=|a| |b|\\cos\\theta$$\n",
    "\n",
    "Note that since $|a| |b| \\cos\\theta=|b| |a|\\cos\\theta$, then $\\underline{a}.\\underline{b}=\\underline{b}.\\underline{a}$ "
   ]
  },
  {
   "cell_type": "markdown",
   "metadata": {},
   "source": [
    "### Example\n",
    "\n",
    "Find $\\underline{v_3}.\\underline{v_4}$\n",
    "\n",
    "\\begin{align*}\n",
    "\\underline{v_3}.\\underline{v_4} &= (2\\underline{i}+3\\underline{j}).(\\underline{i}-2\\underline{j})\\\\\n",
    "&= 2\\underline{i}.\\underline{i}-4\\underline{i}.\\underline{j}+3\\underline{j}.\\underline{i}-6\\underline{j}.\\underline{j}\\\\\n",
    "&= 2-0-0-6\\\\\n",
    "&= -4\n",
    "\\end{align*}\n",
    "\n",
    "Since $\\underline{i}.\\underline{i} = |i||i|\\cos 0 = i^2 = 1$ (and likewise for $\\underline{j}.\\underline{j}$) and $\\underline{i}.\\underline{j} = |i||j|\\cos 90 = 0$ (since $\\underline{i}$ and $\\underline{j}$ are orthogonal) (and likewise for $\\underline{j}.\\underline{i}$)."
   ]
  },
  {
   "cell_type": "markdown",
   "metadata": {},
   "source": [
    "We can also use column vectors, which is simpler but doesn't show you how the orthongality simplifies the expression\n",
    "\n",
    "\\begin{align*}\n",
    "\\underline{v_3}.\\underline{v_4} &= \\begin{pmatrix}2\\\\3\\end{pmatrix}.\\begin{pmatrix}1\\\\-2\\end{pmatrix}\\\\\n",
    "&= 2-6\\\\\n",
    "&= -4\n",
    "\\end{align*}"
   ]
  },
  {
   "cell_type": "markdown",
   "metadata": {},
   "source": [
    "We can rearrange the dot product to make $\\theta$ the subject\n",
    "\n",
    "$$ \\cos \\theta = \\frac{\\underline{a}.\\underline{b}}{|a||b|}$$\n",
    "\n",
    "and hence this gives us a way of calculating the angle, $\\theta$, between two vectors."
   ]
  },
  {
   "cell_type": "markdown",
   "metadata": {},
   "source": [
    "since $|v_3| = \\sqrt{13}$ and $|v_4| = \\sqrt{5}$, \n",
    "\n",
    "\\begin{align*}\n",
    "\\cos \\theta &= \\frac{-4}{\\sqrt{13}\\times\\sqrt{5}}\\\\\n",
    "&=-\\frac{4}{\\sqrt{65}}\\\\\n",
    "\\theta &= 119^\\circ\\\\\n",
    "&=2.1 \\text{ radians}\n",
    "\\end{align*}\n",
    "\n",
    "<div class=\"alert alert-block alert-warning\">\n",
    "<img src=\"images/thinking-face.png\" width=50 title=\"Hmm\" style=\"vertical-align:top\"/>\n",
    "<b>Thought:</b> Notice how the dot product has correctly given us an obtuse angle.\n",
    "</div>"
   ]
  },
  {
   "cell_type": "markdown",
   "metadata": {},
   "source": [
    "## The vector (or cross) product\n",
    "\n",
    "Given two linearly independent vectors $\\underline{a}$ and $\\underline{b}$, the *cross product*, $\\underline{a} \\wedge\\underline{b}$, is a *vector* that is perpendicular to both $\\underline{a}$ and $\\underline{b}$ and therefore *normal* to the plane containing them. \n",
    "\n",
    "The magnitude of the vector product of two vectors can be constructed by taking the product of the magnitudes of the vectors multiplied by the sine of the angle ($<180^{\\circ}$) between them. The magnitude of the vector product can be expressed in the form:\n",
    "\n",
    "$$|\\underline{a}\\wedge \\underline{b}|=|a||b|\\sin\\theta$$\n",
    "\n",
    "Note that sometimes the cross ($\\wedge$) between 2 vectors is replaced by a bold cross ($\\bf \\times$): either is used to denote the so  called 'cross product'. For two vectors $\\underline{a}$ and $\\underline{b}$, $\\theta$ can be determined from the dot product. \n",
    "\n"
   ]
  },
  {
   "cell_type": "markdown",
   "metadata": {},
   "source": [
    "<div class=\"alert alert-block alert-warning\">\n",
    "<img src=\"images/thinking-face.png\" width=50 title=\"Hmm\" style=\"vertical-align:top\"/>\n",
    "<b>Thought:</b> Unlike the dot product, the vector product yields a vector. Since the result is orthogonal to the original two vectors and any two vectors, whether 2- or 3-dimensional, always describe a 2-d plane, you always end up with a 3-d arrangement.\n",
    "</div>"
   ]
  },
  {
   "cell_type": "markdown",
   "metadata": {},
   "source": [
    "<div class=\"alert alert-block alert-success\">\n",
    "<img src=\"images/pointing-finger.png\" width=50 title=\"For you\" style=\"vertical-align:top\"/>\n",
    "<b>For you:</b><br>\n",
    "Draw two vectors and their resultant cross product vector here:\n",
    "</div>"
   ]
  },
  {
   "cell_type": "markdown",
   "metadata": {},
   "source": [
    "We are not going to show how to perform the cross product since it is more complex."
   ]
  },
  {
   "cell_type": "markdown",
   "metadata": {},
   "source": [
    "## Applications in Biochemistry\n",
    "\n",
    "We will use vector algebra in conjuction with a so-called 'Argand diagram' in Year 3 when we prepare for understanding the diffraction patterns made by X-rays incident on protein crystals. These patters enable us to determine the 3-dimensional structure of proteins, RNA and DNA using crystallographic methods. In crystallography we will sum the X-ray scattering contributions of all the atoms in the protein by adding them *vectorially*."
   ]
  },
  {
   "cell_type": "markdown",
   "metadata": {},
   "source": [
    "<div class=\"alert alert-block alert-warning\">\n",
    "<img src=\"images/thinking-face.png\" width=50 title=\"Hmm\" style=\"vertical-align:top\"/>\n",
    "<b>Thought:</b> We have chosen to introduce this mathematics here so when you reach Y3 you will have seen it once before.\n",
    "</div>"
   ]
  },
  {
   "cell_type": "markdown",
   "metadata": {},
   "source": [
    "# Matrics\n",
    "\n",
    "## What is a matrix?\n",
    "\n",
    "A matrix is an array of numbers such as:\n",
    "$$\\begin{pmatrix}a&b&c\\\\d&e&f\\\\ g&h&i\\\\\\end{pmatrix}$$\n",
    "\n",
    "The *order* of the matrix is the (number of rows $\\times$ number of columns) hence the order of the above matrix is:  3 $\\times$ 3."
   ]
  },
  {
   "cell_type": "markdown",
   "metadata": {},
   "source": [
    "## Basic Matrix Algebra\n",
    "\n",
    "I can add or subtract 2 matrices as long as they have the *same* order:\n",
    " $$\\begin{pmatrix}2&1\\\\3&-4\\end{pmatrix}+\\begin{pmatrix}6&-5\\\\1&-7\\end{pmatrix}=\\begin{pmatrix}8&-4\\\\4&-11\\end{pmatrix}$$\n",
    " \n",
    "I can also multiply a matrix by a scalar:\n",
    "\n",
    " $$5.\\begin{pmatrix}2&1\\\\ 3&-4\\end{pmatrix}=\\begin{pmatrix}10&5\\\\15&-20\\end{pmatrix}$$\n"
   ]
  },
  {
   "cell_type": "markdown",
   "metadata": {},
   "source": [
    "## What use are matrices?"
   ]
  },
  {
   "cell_type": "markdown",
   "metadata": {},
   "source": [
    "Consider the pair of *simultaneous equations*.\n",
    "\n",
    "\\begin{align*}\n",
    "a_1x+b_1y&=c_1\\\\\n",
    "a_2x+b_2y&=c_2\\\\\n",
    "\\end{align*}\n",
    "\n",
    "where $a_1, b_1, a_2, b_2, c_1$ and $c_2$ are given constants.\n",
    "\n",
    "We know that $x$ and $y$ can be found (i.e. expressed in terms of the constants $a_1,a_2\\ldots$ etc) by substitution or adding or subtracting the equations.\n",
    "\n",
    "For example, if we multiply the first equation by $b_2$ and the second by $b_1$ we get\n",
    "\n",
    "\\begin{align*}\n",
    "b_2a_1x+b_2b_1y&=b_2c_1\\\\\n",
    "b_1a_2x+b_1b_2y&=b_1c_2\\\\\n",
    "\\end{align*}\n",
    "\n",
    "Now subtracting the second equation from the first:\n",
    "\n",
    " $$b_2a_1x-b_1a_2x=b_2c_1-b_1c_2$$\n"
   ]
  },
  {
   "cell_type": "markdown",
   "metadata": {},
   "source": [
    "Thus:\n",
    "\\begin{align*}\n",
    "x&=\\frac{b_2c_1-b_1c_2}{b_2a_1-b_1a_2}\\\\\n",
    "y&=\\frac{a_1c_2-a_2c_1}{a_1b_2-a_2b_1}\n",
    "\\end{align*}\n",
    "provided $a_1b_2-a_2b_1\\neq 0$"
   ]
  },
  {
   "cell_type": "markdown",
   "metadata": {},
   "source": [
    "To simplify our notation, let's define a *determinant*, $D$\n",
    "\n",
    "\\begin{align*}\n",
    "D&= \\begin{vmatrix}a_1&b_1\\\\a_2&b_2\\end{vmatrix}\\\\\n",
    " &=a_1\\times b_2-a_2\\times b_1  \n",
    "\\end{align*}\n",
    "\n",
    "(multiply the NW-SE diagonal elements and subtract the SW-NE diagonal elements multiplied together)\n"
   ]
  },
  {
   "cell_type": "markdown",
   "metadata": {},
   "source": [
    "This lets us write the general solution to this pair of simultaneous equations as\n",
    "\n",
    "$$\\frac{x}{\\begin{vmatrix}c_1&b_1\\\\c_2&b_2\\end{vmatrix}} = \\frac{y}{\\begin{vmatrix}a_1&c_1\\\\a_2&c_2\\end{vmatrix}} = \\frac{1}{\\begin{vmatrix}a_1&b_1\\\\a_2&b_2\\end{vmatrix}}$$"
   ]
  },
  {
   "cell_type": "markdown",
   "metadata": {},
   "source": [
    "Now that is fine, but it is a lot of algebra. We can instead write our pair of simultaneous equations in *matrix form*.\n",
    "\n",
    "$$\\begin{pmatrix}a_1&b_1\\\\a_2&b_2\\end{pmatrix}\\begin{pmatrix}x\\\\y\\end{pmatrix}=\\begin{pmatrix}c_1\\\\c_2\\end{pmatrix}$$\n"
   ]
  },
  {
   "cell_type": "markdown",
   "metadata": {},
   "source": [
    "This is identical to\n",
    "\n",
    "\\begin{align*}\n",
    "a_1x+b_1y&=c_1\\\\\n",
    "a_2x+b_2y&=c_2\\\\\n",
    "\\end{align*}"
   ]
  },
  {
   "cell_type": "markdown",
   "metadata": {},
   "source": [
    "## Multiplying matrices\n",
    "\n",
    "The principle is rows $\\times$ columns\n",
    "\n",
    "$$\\begin{pmatrix}1&2\\\\3&4\\end{pmatrix}\\begin{pmatrix}1&-1\\\\0&2\\end{pmatrix}=\\begin{pmatrix}1&3\\\\3&5\\end{pmatrix}$$\n",
    "\n",
    " $$\\begin{pmatrix}1&2&3&4\\\\5&6&7&8\\end{pmatrix}\\begin{pmatrix}1&2&3\\\\ 4&5&6\\\\ 7&8&9\\\\ 10&11&12\\end{pmatrix}=\\begin{pmatrix}70&80&90\\\\ 158&84&210 \\end{pmatrix}$$"
   ]
  },
  {
   "cell_type": "markdown",
   "metadata": {},
   "source": [
    "Hence the \n",
    "\n",
    "$$\\text{number of rows of LH matrix} = \\text{number of columns of RH matrix}$$\n",
    "\n",
    "from which we can infer that matrix multiplication is *not commutative*.\n"
   ]
  },
  {
   "cell_type": "markdown",
   "metadata": {},
   "source": [
    "<div class=\"alert alert-block alert-success\">\n",
    "<img src=\"images/pointing-finger.png\" width=50 title=\"For you\" style=\"vertical-align:top\"/>\n",
    "<b>For you:</b><br>\n",
    "Multiply these 2 matrices together.\n",
    "     $$\\begin{pmatrix}4&0&2&3\\cr 1&0&5&2\\end{pmatrix}\\begin{pmatrix}6&0\\cr 2&1\\cr 3&0\\cr 3&10\\end{pmatrix}=$$\n",
    "</div>"
   ]
  },
  {
   "cell_type": "markdown",
   "metadata": {},
   "source": [
    "### Notation\n",
    "\n",
    "Sometimes it is helpful to be able to refer to an element in a matrix; here we use the convention of 'rows then columns' (which is a bit like $x$ then $y$). In a matrix $A$, the element at the $i$the row and $j$th column would then be described as $a_{ij}$.\n",
    "\n",
    "This notation lets us describe matrix multiplication:\n",
    "\n",
    "$$c_{jk} = \\sum_{l=1}^{n} a_{jl}b_{lk} $$\n",
    "\n",
    "but usually it is easier to remember how you multiply matrices visually!"
   ]
  },
  {
   "cell_type": "markdown",
   "metadata": {},
   "source": [
    "## The identity matrix, $I$\n",
    "\n",
    "Just as we know that there is a number ($1$) such that when other numbers are  multiplied by it leads to no change, there is a matrix that when other matrices are multipled by it do not change the matrix.\n",
    "\n",
    "This is called the *identity matrix*, $I$,  and it has zeros everywhere, except on the *leading diagonal*.\n",
    "\n",
    " $$\\begin{pmatrix}1&0&0\\cr 0&1&0\\cr 0&0&1\\cr\\end{pmatrix}\\begin{pmatrix}1&2&-1\\cr 3&1&-4\\cr -4 &1&2\\end{pmatrix}=\\begin{pmatrix}1&2&-1\\cr 3&1&-4\\cr -4&1&2\\end{pmatrix}$$"
   ]
  },
  {
   "cell_type": "markdown",
   "metadata": {},
   "source": [
    "Multiplication by the identity matrix *is* communtative i.e.\n",
    "\n",
    "$$AI = IA = A $$"
   ]
  },
  {
   "cell_type": "markdown",
   "metadata": {},
   "source": [
    "## Determinant of a matrix\n",
    "\n",
    "If \n",
    "\n",
    "$$A = \\begin{pmatrix}p&q\\\\r&s\\end{pmatrix}$$\n",
    "\n",
    "then the *determinant* of A is\n",
    "\n",
    "$$|A| = ps-qr$$"
   ]
  },
  {
   "cell_type": "markdown",
   "metadata": {},
   "source": [
    "If $|A|=0$ the matrix is said to be *singular*"
   ]
  },
  {
   "cell_type": "markdown",
   "metadata": {},
   "source": [
    "## Finding the inverse of a matrix\n",
    "\n",
    "All non-singular matrices, $A$, have an inverse, $A^{-1}$, such that $A^{-1}A=I$.\n",
    "\n",
    "\\begin{align*}\n",
    "A &= \\begin{pmatrix}p&q\\\\r&s\\end{pmatrix}\\\\\n",
    "A^{-1} &= \\frac{1}{ps-qr}\\begin{pmatrix}s&-q\\\\-r&p\\end{pmatrix}\\\\\n",
    "&= \\frac{1}{|A|} \\begin{pmatrix}s&-q\\\\-r&p\\end{pmatrix}\\\\\n",
    "\\end{align*}"
   ]
  },
  {
   "cell_type": "markdown",
   "metadata": {},
   "source": [
    "(you can see how if $|A|=0$ the prefactor will be undefined, hence the requirement it isn't zero i.e. $A$ is not singular)"
   ]
  },
  {
   "cell_type": "markdown",
   "metadata": {},
   "source": [
    "To find the inverse of a $2 \\times 2$ matrix:\n",
    "1. Swap the top left and bottom right elements.\n",
    "2. Change the sign of the top right and bottom left elements.\n",
    "3. Divide through by the *determinant* of the matrix.\n",
    "\n",
    "If $|A|$ is zero, the matrix is SINGULAR and has NO INVERSE."
   ]
  },
  {
   "cell_type": "markdown",
   "metadata": {},
   "source": [
    "We've just stated it, so let's check it is true.\n",
    "\n",
    "\\begin{align*}\n",
    "A^{-1}A &= {1\\over ps-qr}\\begin{pmatrix}s&-q\\cr -r&p\\end{pmatrix}\\begin{pmatrix}p&q\\cr r&s\\end{pmatrix}\\\\\n",
    "&={1\\over ps-qr}\\begin{pmatrix}sp-qr&sq-qs\\cr -rp+rp&-rq+ps\\end{pmatrix}\\\\\n",
    "&={1\\over ps-qr}\\begin{pmatrix}ps-qr&0\\cr 0&ps-qr\\end{pmatrix}\\\\\n",
    "&=\\begin{pmatrix}1& 0\\cr 0&1\\end{pmatrix}\\\\\n",
    "&=I\n",
    "\\end{align*}"
   ]
  },
  {
   "cell_type": "markdown",
   "metadata": {},
   "source": [
    "<div class=\"alert alert-block alert-success\">\n",
    "<img src=\"images/pointing-finger.png\" width=50 title=\"For you\" style=\"vertical-align:top\"/>\n",
    "<b>For you:</b><br> what is the inverse of $A$?\n",
    "$$A=\\begin{pmatrix}2&-3\\cr -2&4\\end{pmatrix}$$\n",
    "    Check by calculating $A^{-1}A$.\n",
    "</div>"
   ]
  },
  {
   "cell_type": "markdown",
   "metadata": {},
   "source": [
    "## How can this help us solve simultaneous equations?\n",
    "\n",
    "Remember we started out looking at these? Consider an example\n",
    "\n",
    "\\begin{align*}\n",
    "5x+4y &= 7\\\\\n",
    "3x-y &=11\n",
    "\\end{align*}\n",
    "\n",
    "We can rewrite this as $A\\underline{r} = B$ where $\\underline{r}$ is the vector $\\begin{pmatrix}x\\\\y\\end{pmatrix}$:\n",
    "\n",
    "\\begin{align*}\n",
    "\\begin{pmatrix}5&4\\\\3&-1\\end{pmatrix}\\begin{pmatrix}x\\\\y\\end{pmatrix} &= \\begin{pmatrix}7\\\\11\\end{pmatrix}\\\\\n",
    "\\end{align*}\n"
   ]
  },
  {
   "cell_type": "markdown",
   "metadata": {},
   "source": [
    "(check that if we multiply it out we get the same simultaneous equations).\n",
    "\n",
    "To solve the equation, we simply have to multiply both sides by the inverse of $A$ as this will yield $\\underline{r} = A^{-1}B$.\n",
    "\n",
    "What is the inverse of $A$?\n",
    "\n",
    "\\begin{align*}\n",
    "A^{-1} &= \\frac{1}{-5-12} \\begin{pmatrix}-1&-4\\\\-3&5\\end{pmatrix}\\\\\n",
    "&= -\\frac{1}{17}\\begin{pmatrix}-1&-4\\\\-3&5\\end{pmatrix}\\\\\n",
    "&= \\frac{1}{17}\\begin{pmatrix}1&4\\\\3&-5\\end{pmatrix})\n",
    "\\end{align*}\n",
    "\n"
   ]
  },
  {
   "cell_type": "markdown",
   "metadata": {},
   "source": [
    "Then we multiply both sides of our simultaneous equations in matrix form by $A^{-1}$. Although we know that $A^{-1}A = I$, let's do it explicitly this time to show how it works.\n",
    "\n",
    "\\begin{align*}\n",
    "\\frac{1}{17}\\begin{pmatrix}1&4\\\\3&-5\\end{pmatrix} \\begin{pmatrix}5&4\\\\3&-1\\end{pmatrix}\\begin{pmatrix}x\\\\y\\end{pmatrix} &= \\frac{1}{17}\\begin{pmatrix}1&4\\\\3&-5\\end{pmatrix}\\begin{pmatrix}7\\\\11\\end{pmatrix}\\\\\n",
    "\\frac{1}{17}\\begin{pmatrix}5+12&4-4\\\\15-15&12+5\\end{pmatrix}\\begin{pmatrix}x\\\\y\\end{pmatrix} &= \\frac{1}{17}\\begin{pmatrix}7+44\\\\21-55\\end{pmatrix}\\\\\n",
    "\\frac{1}{17}\\begin{pmatrix}17&0\\\\0&17\\end{pmatrix}\\begin{pmatrix}x\\\\y\\end{pmatrix} &= \\frac{1}{17}\\begin{pmatrix}51\\\\-34\\end{pmatrix}\\\\\n",
    "\\begin{pmatrix}1&0\\\\0&1\\end{pmatrix}\\begin{pmatrix}x\\\\y\\end{pmatrix} &= \\begin{pmatrix}3\\\\-2\\end{pmatrix}\\\\\n",
    "\\begin{pmatrix}x\\\\y\\end{pmatrix} &= \\begin{pmatrix}3\\\\-2\\end{pmatrix}\\\\\n",
    "\\end{align*}\n"
   ]
  },
  {
   "cell_type": "markdown",
   "metadata": {},
   "source": [
    "Thus $x=3$ and $y = -2$ and we have solved the equations. This seems a bit cumbersome for just a pair of simultaneous equations but it is highly efficient for large families of simultaneous equations with many unknown variables since the method is identical; the matrices are just bigger."
   ]
  },
  {
   "cell_type": "markdown",
   "metadata": {},
   "source": [
    "## Application of matrices in geometric transformations"
   ]
  },
  {
   "cell_type": "markdown",
   "metadata": {},
   "source": [
    "Another place where matrices come in very useful is in image manipulation, which is increasingly relevant as microscopy becomes driven by software and image recognition techniques. These examples are for your information and are not  examinable."
   ]
  },
  {
   "cell_type": "markdown",
   "metadata": {},
   "source": [
    "For example, in 2-dimensions, any point $\\underline{r} = \\begin{pmatrix}x\\\\y\\end{pmatrix}$ can be scaled by a factor $k$ using a matrix $\\begin{pmatrix}k&0\\\\0&k\\end{pmatrix}$ since\n",
    "\n",
    "$$\\begin{pmatrix}k&0\\\\0&k\\end{pmatrix}\\begin{pmatrix}x\\\\y\\end{pmatrix} = \\begin{pmatrix}kx\\\\ky\\end{pmatrix}$$"
   ]
  },
  {
   "cell_type": "markdown",
   "metadata": {},
   "source": [
    "Many other transformations are also possible, e.g. rotating by an angle, $\\theta$ clockwise about the origin can be done via\n",
    "\n",
    "$$\\begin{pmatrix}\\cos \\theta&-\\sin \\theta\\\\\\sin \\theta&\\cos \\theta\\end{pmatrix}\\begin{pmatrix}x\\\\y\\end{pmatrix} = \\begin{pmatrix}x\\cos \\theta - y\\sin\\theta\\\\ x\\sin\\theta + y\\cos\\theta\\end{pmatrix}$$"
   ]
  },
  {
   "cell_type": "markdown",
   "metadata": {},
   "source": [
    "Below $\\underline{r}=\\begin{pmatrix}1\\\\2\\end{pmatrix}$ and by using the general form of the rotation matrix in 2-dimensions it is computationally straightforward to rotate $\\underline{r}$ by 10$^\\circ$ and draw the new vector in red and then repeat."
   ]
  },
  {
   "cell_type": "code",
   "execution_count": 21,
   "metadata": {
    "jupyter": {
     "source_hidden": true
    }
   },
   "outputs": [
    {
     "data": {
      "image/png": "[encoded data removed]",
      "text/plain": [
       "<Figure size 432x432 with 1 Axes>"
      ]
     },
     "metadata": {},
     "output_type": "display_data"
    },
    {
     "data": {
      "text/html": [
       "\n",
       "        <script>\n",
       "            function code_toggle_6100768943393348800() {\n",
       "                $('div.cell.code_cell.rendered.selected').find('div.input').toggle();\n",
       "            }\n",
       "\n",
       "            \n",
       "        </script>\n",
       "\n",
       "        <a href=\"javascript:code_toggle_6100768943393348800()\">Show Python code</a>\n",
       "    "
      ],
      "text/plain": [
       "<IPython.core.display.HTML object>"
      ]
     },
     "execution_count": 21,
     "metadata": {},
     "output_type": "execute_result"
    }
   ],
   "source": [
    "fig,axis=plt.subplots(nrows=1,ncols=1,figsize=(6,6))\n",
    "\n",
    "axis.spines['left'].set_color('none')\n",
    "axis.spines['right'].set_color('none')\n",
    "axis.spines['bottom'].set_color('none')\n",
    "axis.spines['top'].set_color('none')\n",
    "axis.set_xlim([-2.5,2.5])\n",
    "axis.set_ylim([-2.5,2.5])\n",
    "axis.set_xticks([])\n",
    "axis.set_yticks([])\n",
    "\n",
    "def plot_vector(x1,y1,x2,y2,label,colour):\n",
    "    x_mid=x1+(x2-x1)/2\n",
    "    y_mid=y1+(y2-y1)/2\n",
    "    axis.arrow(x1,y1,x_mid-x1,y_mid-y1,head_width=0.1, head_length=0.1, overhang=1,fc=colour, ec=colour)\n",
    "    axis.plot([x_mid,x2],[y_mid,y2],colour)\n",
    "    axis.text(x_mid+0.1,y_mid-0.1,label,fontweight='heavy',fontsize='large')# $\\underline{a}$')\n",
    "\n",
    "r=numpy.array([1,2])\n",
    "\n",
    "def create_rotation_array(theta):\n",
    "    theta=math.pi*theta/180\n",
    "    cosine=math.cos(theta)\n",
    "    sine=math.sin(theta)\n",
    "\n",
    "    return(numpy.array([[cosine,-sine],[sine,cosine]]))\n",
    "    \n",
    "plot_vector(0,0,1,2,'p','k')\n",
    "for i in range(10,360,10):\n",
    "    rot=create_rotation_array(i)\n",
    "    p=numpy.matmul(rot,r)\n",
    "\n",
    "    plot_vector(0,0,p[0],p[1],'','r')\n",
    "\n",
    "plt.show()\n",
    "\n",
    "code_toggle()"
   ]
  },
  {
   "cell_type": "markdown",
   "metadata": {},
   "source": [
    "<div class=\"alert alert-block alert-warning\">\n",
    "<img src=\"images/thinking-face.png\" width=50 title=\"Hmm\" style=\"vertical-align:top\"/>\n",
    "<b>Thought:</b> If biochemistry is getting more quantitative, that means that we need to not only be proficient in some parts of mathematics, but also that we can use computers to do calculations at scale on e.g. images or experimental data.\n",
    "</div>"
   ]
  },
  {
   "cell_type": "markdown",
   "metadata": {},
   "source": [
    "# A final note on units and SI prefixes\n",
    "\n",
    "* 'T' (tera) denotes $10^{12}$\n",
    "* 'G' (giga) denotes $10^9$   \n",
    "* 'M' (mega) denotes $10^6$\n",
    "* 'k' (kilo) denotes $10^3$ (note lower case 'k')\n",
    "* 'd' (deci) denotes $10^{-1}$\n",
    "* 'c' (centi) denotes $10^{-2}$\n",
    "* 'm' (milli) denotes $10^{-3}$ \n",
    "* '$\\mu$' (micro) denotes $10^{-6}$\n",
    "* 'n' (nano) denotes $10^{-9}$\n",
    "* 'p' (pico) denotes $10^{-12}$\n",
    "* 'f' (femto) denotes $10^{-15}$\n",
    "\n",
    "Obviously in Biochemistry we typically deal with length- and time-scales much shorter than our everyday world e.g. nm, ms.\n",
    "\n",
    "There are other prefixes in common use, for example the Angstrom which specifically means $10^{-10}$ m"
   ]
  },
  {
   "cell_type": "markdown",
   "metadata": {},
   "source": [
    "# The departmental assesssment next term\n",
    "\n",
    "Although you all are required to have a high level of experience in Chemistry, we've found over the years that the level of experience people have in mathematics varies much more widely. \n",
    "\n",
    "So that we can identify who might need some additional support and help, we run a departmental assessment early next term. It is NOT AN EXAM. All we care about is finding out who might have found the pace of this course too fast and might benefit from extra help. It is no bearing *whatsoever* on your Prelims."
   ]
  },
  {
   "cell_type": "markdown",
   "metadata": {},
   "source": [
    "<div class=\"alert alert-block alert-danger\">\n",
    "<img src=\"images/curtis.jpg\" width=50 title=\"Curtis is not happy\" style=\"vertical-align:top\"/>\n",
    "<b>Common misconception:</b> Curtis says: \"IT IS NOT AN EXAM!\"\n",
    "</div>"
   ]
  },
  {
   "cell_type": "markdown",
   "metadata": {},
   "source": [
    "Usually, this would be a paper-based assessment, however this is unlikely to be possible, so this year we will be be using a Canvas Quiz. The exact details will be confirmed closer to the time, but it will look something like\n",
    "\n",
    "* the quiz will be published at a specific time on a specific day e.g. 2pm.\n",
    "* you will then have to login into Canvas using your Oxford SSO and complete the quiz in the time allowed (1 hr 45 min). \n",
    "* a question may ask for \n",
    "  - a *numerical* answer, in which case it will tell you the units required (if applicable), and you then enter the number you've worked out in the box\n",
    "  - an *algebraic* answer, in which you'll be presented with several choices and have to select one\n",
    "  - a *graph*. You will need to plot this on 2 mm graph paper and e.g. measure the gradient if that is required. A photograph or scan of the graph must be either uploaded to the question or sent to your tutor.\n",
    "* the quiz will close later in the same day, e.g. 4.30pm which allows for technical problems and scanning the graph."
   ]
  },
  {
   "cell_type": "markdown",
   "metadata": {},
   "source": [
    "## Canvas example\n",
    "\n",
    "We will now look at a few example questions in Canvas to give you a feel for how it will work."
   ]
  },
  {
   "cell_type": "markdown",
   "metadata": {},
   "source": [
    "<div class=\"alert alert-block alert-danger\">\n",
    "<img src=\"images/curtis.jpg\" width=50 title=\"Curtis is not happy\" style=\"vertical-align:top\"/>\n",
    "<b>Common misconception:</b> Curtis says: \"IT IS STILL NOT AN EXAM!\"\n",
    "</div>"
   ]
  },
  {
   "cell_type": "markdown",
   "metadata": {},
   "source": [
    "## Will I be told my mark?\n",
    "\n",
    "We plan on scoring the assessment in the same way as the practicals i.e. S+,S,S-,NS such that a score of NS means we think you would benefit from some extra help (and we will talk to you about this!) and a score of S- means we think you don't need extra help but you weren't far off so keep practicing!\n",
    "\n",
    "## What about my working? How will you give credit for that?\n",
    "\n",
    "We won't be able to do that, but we don't expect that to matter much since the aim of the assessment is to find the people who need extra help not to accurately assess your attainment and understanding.\n",
    "\n",
    "Many of the questions will be fairly short, or split into parts, to avoid the problem of using the right method but making a mistake right at the end and thereby choosing the wrong answer.\n"
   ]
  },
  {
   "cell_type": "markdown",
   "metadata": {},
   "source": [
    "## How much revision should I do?\n",
    "\n",
    "Going back to Lecture 1, I would say *revision* is the wrong word. For maths the right word is *practice*.\n",
    "\n",
    "If you've listened to all the lectures and done all the problem sheets, *well done!* You have surfed the wave and at this very minute you are competent at maths. If you don't do any maths between the end of term and the assessment you will get *rusty* and things that are currently second-nature will become unfamiliar.\n",
    "\n",
    "![surfing](images/surfing.jpg)\n",
    "\n",
    "I'd recommend doing some *practice* to keep your maths skill level up and to stop the rustiness setting in. Alongside Problem Sheet 8 (which is due in at the start of week 1 next term) you will find a Christmas Practice sheet. If you are experienced at Maths, doing the questions on that sheet over the course of the holidays should be enough. Or you might choose to redo the odd question off a problem sheet. The important thing is NOT to do a lot - you'll need a break which is also really important - but to do a little quite often.\n",
    "\n",
    "Also don't 'read' the lecture notes. That might *feel* like learning, but it is only by *doing* mathematics that you keep your skill-level up. \n",
    "\n",
    "This applies to preparing for the Prelims as well; better to do a little maths here and there rather than do none for months and then try and revise a week before the exam. This might work for a subject where it is more about remembering facts but not for mathematics.\n",
    "\n",
    "Imagine training for a marathon that way!\n",
    "\n",
    "This applies *regardless* of your level of mathematical experience: all of us who teach on the course start out a little rusty but recover our competence by doing the questions, just like you.\n",
    "\n",
    "What you want to avoid is thinking \"well, if I could have sat the exam in December I'd have done much better, but I'm a bit rusty now\""
   ]
  },
  {
   "cell_type": "markdown",
   "metadata": {},
   "source": [
    "# A last word from xkcd"
   ]
  },
  {
   "cell_type": "markdown",
   "metadata": {},
   "source": [
    "![don't do garbage math](images/xkcd-garbage_math.png)"
   ]
  },
  {
   "cell_type": "markdown",
   "metadata": {},
   "source": [
    "![biochemistry has a positive velocity](images/xkcd-purity.png)"
   ]
  },
  {
   "cell_type": "markdown",
   "metadata": {},
   "source": [
    "# Course feedback\n",
    "\n",
    "Please complete the following quiz; I've lectured for over ten years and always ask the students questions in the last lecture whilst it is all fresh in your mind. I will (and have) change the course depending on what you say."
   ]
  },
  {
   "cell_type": "code",
   "execution_count": null,
   "metadata": {},
   "outputs": [],
   "source": [
    "Strongly disagree\n",
    "Disagree\n",
    "Neither disagree or agree\n",
    "Agree\n",
    "Strongly agree"
   ]
  },
  {
   "cell_type": "code",
   "execution_count": null,
   "metadata": {},
   "outputs": [],
   "source": [
    "* I enjoyed the course\n",
    "* The warm-up exercises helped me get in the right frame of mind for the lecture\n",
    "* I enjoyed the weekly challenges\n",
    "* It would help my understanding if there were short quizzes in the middle of the lectures\n",
    "* The lectures were easy to understand and follow\n",
    "* I found I could concentrate more having the lectures split into smaller parts\n",
    "* This course was useful as it helped me the other subjects\n",
    "* Doing the problem sheets helped me understand the content of the lectures\n",
    "* The examples classes were helpful and a valuable use of my time\n",
    "* My tutor thought carefully about how best to help me understand the content of the course\n",
    "* I studied mathematics in my last year at school\n",
    "* What three things would you like to see changed for next year?\n",
    "* What three things would you like to see kept for next year?"
   ]
  },
  {
   "cell_type": "code",
   "execution_count": null,
   "metadata": {
    "jupyter": {
     "source_hidden": true
    }
   },
   "outputs": [],
   "source": []
  }
 ],
 "metadata": {
  "kernelspec": {
   "display_name": "Python 3",
   "language": "python",
   "name": "python3"
  },
  "language_info": {
   "codemirror_mode": {
    "name": "ipython",
    "version": 3
   },
   "file_extension": ".py",
   "mimetype": "text/x-python",
   "name": "python",
   "nbconvert_exporter": "python",
   "pygments_lexer": "ipython3",
   "version": "3.7.8"
  }
 },
 "nbformat": 4,
 "nbformat_minor": 4
}
