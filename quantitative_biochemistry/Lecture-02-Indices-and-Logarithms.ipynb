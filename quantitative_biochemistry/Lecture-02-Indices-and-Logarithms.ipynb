{
 "cells": [
  {
   "cell_type": "code",
   "execution_count": 2,
   "metadata": {
    "jupyter": {
     "source_hidden": true
    }
   },
   "outputs": [],
   "source": [
    "import numpy, math\n",
    "from matplotlib import pyplot as plt\n",
    "from numpy.polynomial.polynomial import polyfit\n",
    "from src import code_toggle\n",
    "%matplotlib inline"
   ]
  },
  {
   "cell_type": "markdown",
   "metadata": {},
   "source": [
    "# Warm-up exercises\n",
    "\n",
    "\n",
    "\\begin{align*}\n",
    "&1. \\quad \\frac{51000}{6.3} &=\\\\\n",
    "&2. \\quad \\frac{3 \\times 10^7}{4.5} &=\\\\\n",
    "&3. \\quad \\frac{10^4}{74} &=\\\\\n",
    "&4. \\quad \\frac{7000}{8.6 \\times 10^2} &=\\\\\n",
    "&5. \\quad \\frac{3800}{0.65} &=\\\\\n",
    "&6. \\quad \\frac{5.5 \\times 10^6}{73} &=\\\\\n",
    "&7. \\quad \\frac{360}{2 \\times \\pi} &=\\\\\n",
    "\\end{align*}\n",
    "\n",
    "8. What is the molarity of 2.5 l of a solution containing 0.75 mol of solute?\n",
    "\n",
    "9. Your volume $=$\n"
   ]
  },
  {
   "cell_type": "markdown",
   "metadata": {},
   "source": [
    "# Brainteaser\n",
    "\n",
    "<div class=\"alert alert-block alert-success\">\n",
    "<img src=\"images/pointing-finger.png\" width=50 title=\"For you\" style=\"vertical-align:top\"/>\n",
    "<b>For you:</b> By moving only one number, rearrange $62 - 1 = 63$ so that it is numerically correct. Swapping numbers counts as moving two numbers! Please send answers to \n",
    "   <a href=\"mailto:philip.fowler@ndm.ox.ac.uk\">philip.fowler@ndm.ox.ac.uk</a> before the next lecture.\n",
    "</div>"
   ]
  },
  {
   "cell_type": "markdown",
   "metadata": {},
   "source": [
    "# Key mathematical concepts (continued from L01)\n",
    "\n",
    "## Examples of Bad Graphs\n",
    "\n",
    "There are many ways to mislead your audience when plotting data. Including, but not limited to\n",
    "* not showing the full extent of an axis (emphasises a trend that may not be there)\n",
    "* using too large a range for an axis (underemphasises possible trends)\n",
    "* deliberately confusing (no labels, no title)\n",
    "* using the wrong representation\n",
    "* using logarithmic scales unnecessarily\n",
    "* not plotting errors/confidence limits"
   ]
  },
  {
   "cell_type": "markdown",
   "metadata": {},
   "source": [
    "![A bad graph](images/badgraph-smallpox.png)"
   ]
  },
  {
   "cell_type": "markdown",
   "metadata": {},
   "source": [
    "![A bad graph](images/xkcd-badgraph1.png)"
   ]
  },
  {
   "cell_type": "markdown",
   "metadata": {},
   "source": [
    "![A bad graph](images/xkcd-badgraph2.png)"
   ]
  },
  {
   "cell_type": "markdown",
   "metadata": {},
   "source": [
    "### Good graphs\n",
    "\n",
    "If you want to read more about the *art* of visualising data (this is not part of this course!), I'd strongly recommend the work of [Edward Tufte](https://www.edwardtufte.com/tufte/). He has some beautiful books."
   ]
  },
  {
   "cell_type": "markdown",
   "metadata": {},
   "source": [
    "## Inequalities\n",
    "\n",
    "We will be using symbols like $>$ and $\\ge$. \n",
    "* $a>b$ means \"$a$ is greater than $b$\" \n",
    "* $a\\ge b$ means \"$a$ is greater than or equal to $b$\".\n",
    "\n",
    "They can be combined to specify a *range*.\n",
    "\n",
    "### Example\n",
    "\n",
    "\\begin{align*}\n",
    "-8 &< 4x-12 &\\le 24 \\quad &\\text{add 12}\\\\\n",
    "4 &< 4x &\\le 36 \\quad &\\text{divide by 4}\\\\\n",
    "1 &< x &\\le 9 \\quad\n",
    "\\end{align*}\n",
    "\n",
    "So, if $x$ can only be an integer, then it could take one of $\\{2,3,4,5,6,7,8,9\\}$."
   ]
  },
  {
   "cell_type": "markdown",
   "metadata": {},
   "source": [
    "<div class=\"alert alert-block alert-success\">\n",
    "<img src=\"images/pointing-finger.png\" width=50 title=\"For you\" style=\"vertical-align:top\"/>\n",
    "<b>For you:</b>\n",
    "$$5 < 3x-1 < 14$$<br>\n",
    "</div>"
   ]
  },
  {
   "cell_type": "markdown",
   "metadata": {},
   "source": [
    "## What is an equation?\n",
    "\n",
    "The $=$ sign in this expression is an **equality** i.e. the left-hand side (LHS) is identical to the right-hand side. \n",
    "\n",
    "$$\n",
    "y = a^2 + b^2\n",
    "$$\n",
    "\n",
    "\n",
    "To keep this equality, if I do a mathematical operation on one side, I **must** do it to the other side. \n",
    "\n",
    "<div class=\"alert alert-block alert-info\">\n",
    "<img src=\"images/tick.png\" width=50 title=\"Python Logo\" style=\"vertical-align:top\"/>\n",
    "<b>Tip:</b> Clearly layout your mathematics with (i) each equation is on its own line on the page, (ii) the = signs of each equation lie underneath one another and (iii) the operation you are applying to each side of the equation clearly identified\n",
    "</div>\n",
    "\n",
    "\\begin{align*}\n",
    "y &= a^2 + b^2 &\\text{operation: subtract 4 from both sides}\\\\\n",
    "y-4 &= a^2 + b^2 -4 & \\text{operation: add 4}\\\\\n",
    "y &= a^2 + b^2 & \\text{operation: take the square root of both sides}\\\\\n",
    "\\sqrt{y} &= \\sqrt{a^2 + b^2}\\\\\n",
    "\\end{align*}\n",
    "\n",
    "<div class=\"alert alert-block alert-danger\">\n",
    "<img src=\"images/curtis.jpg\" width=50 title=\"Python Logo\" style=\"vertical-align:top\"/>\n",
    "<b>Common misconception:</b> The square root of $(a^2 + b^2) \\ne \\sqrt{a^2} + \\sqrt{b^2}$. We can simplify $\\sqrt{a^2} + \\sqrt{b^2} = a+b$, and hence if this was true, then $y=(a+b)^2$ but when we expand the bracket on the RHS we get $y=a^2+2ab+b^2$ which is NOT what we started with so this is wrong.\n",
    "</div>\n",
    "\n"
   ]
  },
  {
   "cell_type": "markdown",
   "metadata": {},
   "source": [
    "## What is a limit?\n",
    "\n",
    "A limit is the value ($L$) that a function ($f(n)$) approaches as the variable ($n$) in the function is allowed to approach ('get more and more like') a specified value ($c$, often zero or an infinity). It is written like\n",
    "\n",
    "$$\\lim_{n \\to c} f(n) = L$$\n",
    "\n",
    "$$f(n) \\to L$$\n",
    "For example, what are \n",
    "\n",
    "\\begin{eqnarray*}\n",
    "\\lim_{x \\to \\infty} x^2 &=&\\\\\n",
    "\\lim_{x \\to 0} \\frac{1}{x} &=&\\\\\n",
    "\\lim_{x \\to 1} \\frac{1}{(x-1)^2} &=&\\\\\n",
    "\\end{eqnarray*}"
   ]
  },
  {
   "cell_type": "markdown",
   "metadata": {},
   "source": [
    "# Indices\n",
    "\n",
    "\n",
    "In an expression like $b^n$, $b$ is called the **base** and $n$ is called the **index** or **power**. (It can also be called the exponent but this can be confusing when we talk about exponential functions later so we will try not to use this word).\n",
    "\n",
    "The index tells you how many times to multiply the base. For example, here the index is 3, hence the base, 5, is multiplied three times.\n",
    "\n",
    "$$5^3 = 5 \\times 5 \\times 5$$\n",
    "\n",
    "If the base $b$ is a constant, then we can write a function $y = b^x$. This family of functions grow very quickly if $b>1$."
   ]
  },
  {
   "cell_type": "code",
   "execution_count": 3,
   "metadata": {},
   "outputs": [
    {
     "data": {
      "image/png": "[encoded data removed]",
      "text/plain": [
       "<Figure size 360x360 with 1 Axes>"
      ]
     },
     "metadata": {
      "needs_background": "light"
     },
     "output_type": "display_data"
    },
    {
     "data": {
      "text/html": [
       "\n",
       "        <script>\n",
       "            function code_toggle_13324482009167760161() {\n",
       "                $('div.cell.code_cell.rendered.selected').find('div.input').toggle();\n",
       "            }\n",
       "\n",
       "            \n",
       "        </script>\n",
       "\n",
       "        <a href=\"javascript:code_toggle_13324482009167760161()\">Show Python code</a>\n",
       "    "
      ],
      "text/plain": [
       "<IPython.core.display.HTML object>"
      ]
     },
     "execution_count": 3,
     "metadata": {},
     "output_type": "execute_result"
    }
   ],
   "source": [
    "x = numpy.linspace(0, 5, 50)\n",
    "\n",
    "# plt.xkcd()\n",
    "fig,axis=plt.subplots(figsize=(5,5))\n",
    "axis.set_xlim([0,5])\n",
    "axis.set_xticks(range(6))\n",
    "axis.set_xlabel('$x$')\n",
    "axis.set_ylim([0,35])\n",
    "axis.set_yticks([0,10,20,30])\n",
    "axis.set_ylabel('$y$')\n",
    "axis.spines['left'].set_position('zero')\n",
    "axis.spines['right'].set_color('none')\n",
    "axis.spines['bottom'].set_position('zero')\n",
    "axis.spines['top'].set_color('none')\n",
    "\n",
    "a = 1\n",
    "y = a**x\n",
    "axis.plot(x, y,'k-')\n",
    "axis.annotate('$y=1^x$',xy=(3,2),c='k')\n",
    "\n",
    "a = 2\n",
    "y = a**x\n",
    "axis.plot(x, y,'r-')\n",
    "axis.annotate('$y=2^x$',xy=(2,3),c='r')\n",
    "\n",
    "a = 3\n",
    "y = a**x\n",
    "axis.plot(x, y,'b-')\n",
    "axis.annotate('$y=3^x$',xy=(2,7),c='b')\n",
    "\n",
    "\n",
    "plt.show()\n",
    "\n",
    "code_toggle()"
   ]
  },
  {
   "cell_type": "markdown",
   "metadata": {},
   "source": [
    "## Laws of Indices\n",
    "\n",
    "There are six laws that help us simplify complex algebraic expressions involving multiple indices\n",
    "\n",
    "### 1. Multiplying terms with the same base\n",
    "\n",
    "If:\n",
    "\n",
    "\n",
    "\\begin{eqnarray*}\n",
    "5^3 \\times 5^2 &=& (5 \\times 5 \\times 5) \\times (5 \\times 5)\\\\\n",
    "    &=& 5^5\n",
    "\\end{eqnarray*}\n",
    "\n",
    "\n",
    "So, *by extension*:\n",
    "\n",
    "\n",
    "\\begin{equation}\n",
    "\\boxed{a^n \\times a^m = a^{n+m}}\n",
    "\\end{equation}"
   ]
  },
  {
   "cell_type": "markdown",
   "metadata": {},
   "source": [
    "### 2. Dividing terms with the same base\n",
    "\n",
    "If:\n",
    "\n",
    "\n",
    "\\begin{eqnarray*}\n",
    "\\frac{5^3}{5^2} &=& \\frac{5 \\times 5 \\times 5}{5 \\times 5}\\\\\n",
    "    &=& 5^{3-2}\\\\\n",
    "    &=& 5^1\\\\\n",
    "    &=& 5\n",
    "\\end{eqnarray*}\n",
    "\n",
    "\n",
    "So, *by extension*:\n",
    "\n",
    "\n",
    "\\begin{equation}\n",
    "\\boxed{a^n \\div a^m = \\frac{a^n}{a^m} = a^{n-m}}\n",
    "\\end{equation}"
   ]
  },
  {
   "cell_type": "markdown",
   "metadata": {},
   "source": [
    "### 3. Raising to a power\n",
    "\n",
    "If:\n",
    "\n",
    "\n",
    "\\begin{eqnarray*}\n",
    "(5^3)^2 &=& (5 \\times 5 \\times 5)^2\\\\\n",
    "    &=& 5 \\times 5 \\times 5 \\times 5 \\times 5 \\times 5\\\\\n",
    "    &=& 5^6\\\\\n",
    "    &=& 5^{3 \\times 2}\\\\\n",
    "    &=& 15,625\n",
    "\\end{eqnarray*}\n",
    "\n",
    "\n",
    "So, *by extension*:\n",
    "\n",
    "\n",
    "\\begin{equation}\n",
    "\\boxed{(a^n)^m = a^{nm}}\n",
    "\\end{equation}\n",
    "\n",
    "\n",
    "We can check that the above hold by substituting integers into each of the three expressions. What about the cases where $m$ and $n$ are fractions?"
   ]
  },
  {
   "cell_type": "markdown",
   "metadata": {},
   "source": [
    "### 4. Negative indices\n",
    "\n",
    "From equation 2, \n",
    "\n",
    "$$a^3 \\div a^5 = a^{-2}$$\n",
    "\n",
    "But:\n",
    "\n",
    "$$a^3 \\div a^5 = \\frac{a \\times a \\times a}{a \\times a \\times a \\times a \\times a} = \\frac{1}{a^2}$$\n",
    "\n",
    "Therefore:\n",
    "\\begin{equation}\\boxed{a^{-n} = \\frac{1}{a^n}}\\end{equation}"
   ]
  },
  {
   "cell_type": "markdown",
   "metadata": {},
   "source": [
    "### 5. Zero index\n",
    "\n",
    "Also from equation 2,\n",
    "\n",
    "$$a^3 \\div a^3 = a^{3-3} = a^0$$\n",
    "\n",
    "but we know that\n",
    "\n",
    "$$\\frac{a^3}{a^3} = 1$$\n",
    "\n",
    "Therefore:\n",
    "\\begin{equation}\\boxed{a^0 = 1}\\end{equation}"
   ]
  },
  {
   "cell_type": "markdown",
   "metadata": {},
   "source": [
    "### 6. Fractional indices\n",
    "\n",
    "From equation 1,\n",
    "\n",
    "$$a^1 = a^{1/2} \\times a^{1/2}$$\n",
    "\n",
    "hence\n",
    "\n",
    "$$a^{1/2} = \\sqrt{a}$$\n",
    "\n",
    "likewise\n",
    "\n",
    "$$a^{3/4} = a^{1/4} \\times a^{1/4} \\times a^{1/4}$$\n",
    "\n",
    "So, *by extension*\n",
    "\n",
    "\\begin{equation}\n",
    "\\boxed{a^{n/m} = \\sqrt[m]{a^n} = \\left ( \\sqrt[m]{a} \\right )^n}\n",
    "\\end{equation}\n",
    "\n",
    "Examples:\n",
    "\n",
    "\n",
    "\\begin{eqnarray*}\n",
    "a^{n/m} &=& a^{3/4}\\\\\n",
    "        &=& \\sqrt[4]{a^3}\\\\\n",
    "        &=& \\left ( \\sqrt[4]{a} \\right )^3\n",
    "\\end{eqnarray*}        \n",
    "\n",
    "\\begin{eqnarray*}\n",
    "a^{n/m} &=& 8^{2/3}\\\\\n",
    "        &=& \\sqrt[3]{8^2}\\\\\n",
    "        &=& \\left ( \\sqrt[3]{8} \\right )^2\\\\\n",
    "        &=&\n",
    "\\end{eqnarray*}  "
   ]
  },
  {
   "cell_type": "markdown",
   "metadata": {},
   "source": [
    "## Order of Operation\n",
    "\n",
    "For indices, it does not matter what order the mathematical operations are performed in.\n",
    "\n",
    "(see Booklet Section 2 or Croft and Davidson, Chapters 7 \\& 20)\n",
    "\n",
    "Examples:\n",
    "\n",
    "(i) \n",
    "\\begin{eqnarray*}\n",
    "y &=& 8^{1/6} \\times 2^6 \\times 2^{-1/2}\\\\\n",
    "  &=& 2^{3/6} \\times 2^6 \\times 2^{-1/2}\\\\\n",
    "  &=& 2^{1/2} \\times 2^6 \\times 2^{-1/2}\\\\\n",
    "  &=& 2^6\\\\\n",
    "  &=& 4^3\\\\\n",
    "  &=& 64\n",
    "\\end{eqnarray*}\n",
    "\n",
    "\n",
    "(ii) \n",
    "\\begin{eqnarray*}\n",
    "y &=& \\frac{(p^{1/3})^2 \\times (p^2)^{1/3}}{\\sqrt[3]{p}}\\\\\n",
    "  &=& p^{2/3} \\times p^{2/3} \\times p^{-1/3}\\\\\n",
    "  &=& p^{4/3} \\times p^{-1/3}\\\\\n",
    "  &=& p\n",
    "\\end{eqnarray*}\n",
    "\n"
   ]
  },
  {
   "cell_type": "markdown",
   "metadata": {},
   "source": [
    "Different bases, same index\n",
    "\n",
    "\n",
    "\\begin{eqnarray*}\n",
    "(a.b)^n &=& a^nb^n\\\\\n",
    "\\left ( \\frac{a}{b} \\right )^n &=& \\frac{a^n}{b^n}\n",
    "\\end{eqnarray*}"
   ]
  },
  {
   "cell_type": "markdown",
   "metadata": {},
   "source": [
    "<div class=\"alert alert-block alert-danger\">\n",
    "<img src=\"images/curtis.jpg\" width=50 title=\"Python Logo\" style=\"vertical-align:top\"/>\n",
    "<b>Common misconception:</b> You CANNOT \"take the power inside the bracket\". This is wrong. See below.\n",
    "</div>\n",
    "\n",
    "\n",
    "\\begin{eqnarray*}\n",
    "(a +b)^n \\neq a^n + b^n\\\\\n",
    "(a -b)^n \\neq a^n - b^n\\\\\n",
    "\\end{eqnarray*}\n",
    "\n",
    "(Remember you can always test a law/rule using some real numbers) "
   ]
  },
  {
   "cell_type": "markdown",
   "metadata": {},
   "source": [
    "## Multiplying out brackets\n",
    "\n",
    "It is very common to have two polynomial functions multiplied together. Each term in the first bracket must be multiplied by each term in the second bracket, hence if there are $n$ terms in the first bracket and $m$ in the second, we should get $n \\times m$ terms before simplication.\n",
    "\n",
    "$$\n",
    "(p+q)(s+t) = ps + pt + qs + qt\n",
    "$$\n",
    "\n",
    "There are some cases that it can be helpful to remember as they are very common\n",
    "\n",
    "\n",
    "\\begin{align*}\n",
    "(a+b)^2 &= (a+b)(a+b) &= a^2 + 2ab + b^2\\\\\n",
    "(a-b)^2 &= (a-b)(a-b) &= a^2 - 2ab + b^2\\\\\n",
    "(a+b)(a-b) &= a^2 - b^2\\\\\n",
    "\\end{align*}\n",
    "\n",
    "\n",
    "The last expression is usually called the *'difference of two squares'*"
   ]
  },
  {
   "cell_type": "markdown",
   "metadata": {},
   "source": [
    "# Logathrims\n",
    "\n",
    "## Definition\n",
    "\n",
    "Taking the logathrim is the reverse mathematical operation to indexation ('raising to the power').\n",
    "\n",
    "A **logathrim** is another word for an **index** or **power**. For example in the expression \n",
    "$$2^3=8$$\n",
    "\n",
    "The number 3 is the *power* to which the *base* 2 must be raised to yield 8. An exactly equivalent description is 3 is the *logathrim* which with a *base* of 2 yields 8. This is written\n",
    "\n",
    "$$3 = \\log_2 8$$\n",
    "\n",
    "In general\n",
    "\n",
    "$$\n",
    "\\text{If} \\quad y = a^x \\quad \\text{then} \\quad  x = \\log_a{y}\n",
    "$$\n",
    "\n",
    "It is more usual to think of it written this way \n",
    "\n",
    "$$\n",
    "\\boxed{\\text{If} \\quad x = a^y \\quad \\text{then} \\quad  y = \\log_a{x}}\n",
    "$$\n",
    "\n",
    "'Taking the logarithm' **undoes** 'raising to a power':\n",
    "\n",
    "$$\\log_aa^r = r$$\n",
    "\n",
    "and 'raising to a power' **undoes** 'taking the logarithm'\n",
    "\n",
    "$$a^{\\log_ab} = b$$\n",
    "\n",
    "Hence our description of 'taking the logarithim' as the mathematical inverse of indexation / 'raising to the power' (and exponentiation, although we are trying not to use that word to avoid confusion when we reach the expoential function)."
   ]
  },
  {
   "cell_type": "markdown",
   "metadata": {},
   "source": [
    "## What are logarithms used for?\n",
    "\n",
    "They are commonly used for describing phenomena which have a very large dynamic range.\n",
    "\n",
    "For example, the volume of sound (bel), pitch (octave), earthquakes (Richter scale), pH.\n",
    "\n",
    "Bels, pH and the Richter scale all use logarithms with base 10, hence an increase of one unit is equivalent a factor of ten. For example, if a sound is measured to be 1 bel (or 10 decibels) louder than another, then its power is ten times the other sound. Or a solution with a pH of 6 has ten times the concentration of hydrogen ions of a solution with pH 7.\n",
    "\n",
    "Octaves use base 2, hence the higher of two notes separated by a single octave has exactly double the frequency of the lower note."
   ]
  },
  {
   "cell_type": "markdown",
   "metadata": {},
   "source": [
    "![Don't do this!](images/xkcd-log_scale.png)"
   ]
  },
  {
   "cell_type": "markdown",
   "metadata": {},
   "source": [
    "## Getting a feel for logarithms\n",
    "\n",
    "Question: What is $x$ if $10^x = 7$? \n",
    "\n",
    "Answer: $x$ must lie in the range $0 < x < 1$ since $10^0 = 1$ and $10^1=10$.\n",
    "\n",
    "Generally we know that if $10^x = y$ then $\\log_{10}y=x$.\n",
    "\n",
    "Hence in base 10, if\n",
    "\n",
    "\\begin{align*}\n",
    "1 &\\le y <& 10 &\\quad \\text{then} \\quad &0 &\\le x <& 1\\\\\n",
    "10 &\\le y <& 100 &\\quad \\text{then} \\quad &1 &\\le x <& 2\\\\\n",
    "0.1 &\\le y <& 1 &\\quad \\text{then} \\quad &-1 &\\le x <& 0\\\\\n",
    "0.01 &\\le y <& 0.1 &\\quad \\text{then} \\quad &-2 &\\le x <& -1\\\\\n",
    "\\end{align*}\n"
   ]
  },
  {
   "cell_type": "markdown",
   "metadata": {},
   "source": [
    "<div class=\"alert alert-block alert-success\">\n",
    "<img src=\"images/pointing-finger.png\" width=50 title=\"For you\" style=\"vertical-align:top\"/>\n",
    "<b>For you:</b><br>\n",
    "1. What is $x$ if $y=10^x = 40000000000?$<br>\n",
    "2. What is $x$ if $y=10^x = 0.004$?\n",
    "</div>"
   ]
  },
  {
   "cell_type": "markdown",
   "metadata": {},
   "source": [
    "### Example\n",
    "If\n",
    "\n",
    "$$\n",
    "\\left (\\frac{1}{5} \\right)^{-2} = 25\n",
    "$$\n",
    "\n",
    "then $-2$ is the *logarithm* which with a *base* of $1/5$ gives $25$, or equivalently to above\n",
    "\n",
    "$$\n",
    "-2 = \\log_{1/5} 25\n",
    "$$\n",
    "\n",
    "The base of a logarithm may be any number. Commonly logarithms have **base 10**. From a calculator (or from tables in a book) it is found that the logarithm (to the base 10) of 5 is $0.6690$, hence\n",
    "\n",
    "$$\n",
    "10^{0.6690} = 5\n",
    "$$\n",
    "\n",
    "or equivalently,\n",
    "\n",
    "$$\n",
    "\\log_{10} 5 = 0.6990\n",
    "$$\n",
    "\n",
    "Base 10 is so common that this can be written as\n",
    "\n",
    "$$\n",
    "\\log 5 = 0.6990\n",
    "$$\n",
    "\n",
    "But any base other than 10 **must** be stated explicitly e.g.\n",
    "\n",
    "$$\n",
    "\\log_3 9 = 2\n",
    "$$"
   ]
  },
  {
   "cell_type": "markdown",
   "metadata": {},
   "source": [
    "## Laws of Logarithms\n",
    "\n",
    "### 1. Taking the logarithm\n",
    "\n",
    "Taking the logarithm **undoes** (i.e. is the inverse operation to) raising to a power, i.e.\n",
    "\n",
    "$$\n",
    "\\boxed{\\log_a a^r = r}\n",
    "$$\n",
    "\n",
    "Hence, raising to a power **undoes** taking the logarithm \n",
    "\n",
    "$$\n",
    "\\boxed{a^{\\log_a b} = b}\n",
    "$$\n"
   ]
  },
  {
   "cell_type": "markdown",
   "metadata": {},
   "source": [
    "### 2. Adding logarithms with the same base"
   ]
  },
  {
   "cell_type": "markdown",
   "metadata": {},
   "source": [
    "How can we add two logarithms with the same base i.e. what is $z$?\n",
    "\n",
    "$$\\log_a b + \\log_a c = z$$\n",
    "\n",
    "First, let $\\log_a b = x$ and $\\log_a c = y$ then we can write\n",
    "\n",
    "$$x + y = z$$\n",
    "\n",
    "but using our definition of what a logarithm is, we can write down $a^x = b$ and $a^y = c$. Multiplying these together \n",
    "\n",
    "\n",
    "\\begin{align*}\n",
    "a^x a^y &= bc \\quad & \\text{using the first law of indices above}\\\\\n",
    "a^{x+y} &= bc \\quad & \\text{taking logarithms to the base a of both sides} \\\\\n",
    "\\log_a (a^{x+y}) &= \\log_a (bc) \\quad & \\text{taking the log to base a is the inverse to raising a to a power} \\\\\n",
    "x + y &= \\log_a (bc)\n",
    "\\end{align*}\n",
    "\n",
    "Hence the result\n",
    "\n",
    "$$\n",
    "\\boxed{\\log_a b + \\log_a c = \\log_a (bc)}\n",
    "$$\n",
    "\n",
    "e.g. \n",
    "\n",
    "\n",
    "\\begin{eqnarray*}\n",
    "\\log_4 2 + \\log_4 3 &=& \\log_4 (2 \\times 3)\\\\\n",
    "                  &=& \\log_4 6\n",
    "\\end{eqnarray*}\n"
   ]
  },
  {
   "cell_type": "markdown",
   "metadata": {},
   "source": [
    "### 3. Subtracting logarithms with the same base\n",
    "\n",
    "In a similar way, if we want to know what is $z$ when \n",
    "\n",
    "$$\\log_a b - \\log_a c = z$$\n",
    "\n",
    "We let $\\log_a b = x$ and $\\log_a c = y$ as before, which are equivalent to $a^x = b$ and $a^y = c$. But this time we divide the first term by the second:\n",
    "\n",
    "\n",
    "\\begin{align*}\n",
    "\\frac{a^x}{a^y} &= \\frac{b}{c} \\quad & \\text{using the second law of indices above}\\\\\n",
    "a^{x-y} &= \\frac{b}{c} \\quad & \\text{taking logarithms to the base a of both sides} \\\\\n",
    "\\log_a (a^{x-y}) &= \\log_a \\left (\\frac{b}{c} \\right )\\quad & \\text{taking the log to base a is the inverse to raising a to a power} \\\\\n",
    "x - y &= \\log_a  \\left (\\frac{b}{c} \\right )\n",
    "\\end{align*}\n",
    "\n",
    "Hence the result\n",
    "\n",
    "$$\n",
    "\\boxed{\\log_a b - \\log_a c =\\log_a  \\left (\\frac{b}{c} \\right )}\n",
    "$$"
   ]
  },
  {
   "cell_type": "markdown",
   "metadata": {},
   "source": [
    "### 4. Multiplying a logarithm by a real number\n",
    "\n",
    "How do we simplify the logarithm of a number raised to a power? i.e. what is $z$:\n",
    "\n",
    "$$\n",
    "\\log_a b^n = z\n",
    "$$\n",
    "\n",
    "Again we can rewrite this using the definition of a logarithm\n",
    "\n",
    "\n",
    "\\begin{align*}\n",
    "b^n &= a^z \\quad & \\text{taking the $(n)$th root of both sides}\\\\\n",
    "b &= a^{z/n} \\quad & \\text{taking logarithms with base $a$ to both sides}\\\\\n",
    "\\log_a b &= \\log_a \\left( a^{z/n} \\right ) \\quad & \\text{noting that log to the base $a$ is the inverse of raising $a$ to a power}\\\\\n",
    "\\log_a b &= \\frac{z}{n} \\quad & \\text{$\\times$ both sides by $n$}\\\\\n",
    "n \\log_a b &= z\n",
    "\\end{align*}\n",
    "\n",
    "Hence our result\n",
    "\n",
    "$$\\boxed{\\log_a b^n = n \\log_a b}$$\n",
    "\n",
    "e.g. \n",
    "\n",
    "\\begin{align*}\n",
    "5 \\log 6 &= \\log 6^5 &= 3.89\\\\\n",
    "5\\times(0.778) &= \\log (7,776) &= \\text{check with calculator!}\n",
    "\\end{align*}\n",
    "\n",
    "\n"
   ]
  },
  {
   "cell_type": "markdown",
   "metadata": {},
   "source": [
    "### 5. Changing the base of a logarithm\n",
    "\n",
    "\\begin{align*}\n",
    "\\text{If} \\quad & \\log_a c &= x\\\\\n",
    "\\text{Then using the definition of a logarithms:} \\quad & c &= a^x\\\\\n",
    "\\text{If we now take logs to base $b$ of both sides} \\quad & \\log_b c &= \\log_b a^x\\\\\n",
    "\\text{Applying log law 4 from above} \\quad & &= x \\log_b a\\\\\n",
    "\\text{Rearranging..} \\quad x &= \\frac{\\log_b c}{\\log_b a}\\\\\n",
    "\\end{align*}\n",
    "\n",
    "Hence our result that allows us to change the base of a logarithm\n",
    "\n",
    "$$\n",
    "\\boxed{\\log_a c = \\frac{\\log_b c}{\\log_b a}}\n",
    "$$\n",
    "\n",
    "e.g. let's move from base 3 to base 10.\n",
    "\n",
    "\\begin{eqnarray*}\n",
    "\\log_3 9 &=& 2\\\\\n",
    "         &=& \\log_a c\\\\\n",
    "         &=& \\frac{\\log_b c}{\\log_b a}\\\\\n",
    "         &=& \\frac{\\log_{10} 9}{\\log_{10} 3}\\\\\n",
    "         &=& \\frac{0.954}{0.477}\\\\\n",
    "         &=& 2\n",
    "\\end{eqnarray*}"
   ]
  },
  {
   "cell_type": "markdown",
   "metadata": {},
   "source": [
    "### 6. A logarithm of one\n",
    "\n",
    "Again drawing on the definition of the logarithm, if $\\log_a y =x$, then $y = a^x$. If $y = a$, then $\\log_a a = x$ i.e. $a = a^x$ so $x=1$.\n",
    "\n",
    "Thus,\n",
    "\n",
    "$$\\boxed{\\log_a a = 1}$$"
   ]
  },
  {
   "cell_type": "markdown",
   "metadata": {},
   "source": [
    "### 7. Changing the base: the special case when $b=c$\n",
    "\n",
    "We know from above that\n",
    "\n",
    "$$\n",
    "\\log_a c = \\frac{\\log_b c}{\\log_b a}\n",
    "$$\n",
    "\n",
    "but what about the special case when $b=c$? This yields\n",
    "\n",
    "$$\n",
    "\\log_a b = \\frac{\\log_b b}{\\log_b a}\n",
    "$$\n",
    "\n",
    "but we know now that $\\log_a a = 1$ which leads us to the final result\n",
    "\n",
    "$$\\boxed{\\log_a b         = \\frac{1}{\\log_b a}}$$\n",
    "\n",
    "e.g.\n",
    "\n",
    "$$\\log_3 9 = \\frac{1}{\\log_9 3}\n",
    "$$\n",
    "\n",
    "and if $a=b$, then we also get back what we expect\n",
    "\n",
    "\n",
    "\\begin{eqnarray*}\n",
    "\\log_a a &=& \\frac{1}{\\log_a a}\\\\\n",
    "1 &=& \\frac{1}{1}\\\\\n",
    "\\end{eqnarray*}\n",
    "\n",
    "\n",
    "QED"
   ]
  },
  {
   "cell_type": "markdown",
   "metadata": {},
   "source": [
    "### 8. A special case\n",
    "\n",
    "Again drawing on the definition of the logarithm, if $\\log_a y =x$, then $y = a^x$. If $x=0$, then $a^0 = 1$ hence our result\n",
    "\n",
    "$$\\boxed{\\log_a 1 = 0}$$"
   ]
  },
  {
   "cell_type": "markdown",
   "metadata": {},
   "source": [
    "### 9. Negative logs\n",
    "\n",
    "\n",
    "\\begin{eqnarray*}\n",
    "\\log_a \\frac{1}{x} &=& \\log_a 1 - \\log_a x\\\\\n",
    "                   &=& - \\log_a x\n",
    "\\end{eqnarray*}\n"
   ]
  },
  {
   "cell_type": "markdown",
   "metadata": {},
   "source": [
    "We've looked at logarithms enough to sketch the function $y = \\log_a x$ for a couple of values of $a$.\n",
    "\n",
    "Note how they both pass through $(1,0)$ as just predicted and how the function is only defined for $x>0$."
   ]
  },
  {
   "cell_type": "code",
   "execution_count": 4,
   "metadata": {
    "jupyter": {
     "source_hidden": true
    }
   },
   "outputs": [
    {
     "data": {
      "image/png": "[encoded data removed]",
      "text/plain": [
       "<Figure size 360x360 with 1 Axes>"
      ]
     },
     "metadata": {
      "needs_background": "light"
     },
     "output_type": "display_data"
    },
    {
     "data": {
      "text/html": [
       "\n",
       "        <script>\n",
       "            function code_toggle_2513285183299450687() {\n",
       "                $('div.cell.code_cell.rendered.selected').find('div.input').toggle();\n",
       "            }\n",
       "\n",
       "            \n",
       "        </script>\n",
       "\n",
       "        <a href=\"javascript:code_toggle_2513285183299450687()\">Show Python code</a>\n",
       "    "
      ],
      "text/plain": [
       "<IPython.core.display.HTML object>"
      ]
     },
     "execution_count": 4,
     "metadata": {},
     "output_type": "execute_result"
    }
   ],
   "source": [
    "x = numpy.linspace(0.002, 10, 500)\n",
    "\n",
    "# plt.xkcd()\n",
    "fig,axis=plt.subplots(figsize=(5,5))\n",
    "axis.set_xlim([0,10])\n",
    "axis.set_xticks(range(10))\n",
    "axis.set_xlabel('$x$')\n",
    "axis.set_ylim([-5,5])\n",
    "axis.set_yticks([-4,-2,0,2,4])\n",
    "axis.set_ylabel('$y$')\n",
    "axis.spines['left'].set_position('zero')\n",
    "axis.spines['right'].set_color('none')\n",
    "axis.spines['bottom'].set_position('zero')\n",
    "axis.spines['top'].set_color('none')\n",
    "\n",
    "y = numpy.log(x)/numpy.log(2)\n",
    "axis.plot(x, y,'r-')\n",
    "axis.annotate('$y=\\log_2 x$',xy=(1,1.5),c='r')\n",
    "\n",
    "y = numpy.log(x)/numpy.log(10)\n",
    "axis.plot(x, y,'k-')\n",
    "axis.annotate('$y=\\log_{10}x$',xy=(7,1.2),c='k')\n",
    "\n",
    "plt.show()\n",
    "\n",
    "code_toggle()"
   ]
  },
  {
   "cell_type": "markdown",
   "metadata": {},
   "source": [
    "## Common misconceptions and traps\n",
    "\n",
    "Terms like $\\log (x+y)$ and $\\log (x-y)$ **cannot** be simplified. Nor can $\\log_a x \\times \\log_a y$ or $\\frac{\\log_a x}{\\log_a y}$. Just leave 'em alone. \n",
    "\n",
    "'Take the logarithm' is an operation that applies to an **entire** mathematical term, hence 'taking logarithms' of an equation means you 'take the log' of the LHS and you 'take the log' of the RHS. i.e.\n",
    "\n",
    "$$\n",
    "x = y + z\\\\\n",
    "\\log(x) = \\log(y+z)\n",
    "$$\n",
    "\n",
    "Hence this is just WRONG\n",
    "\n",
    "$$\n",
    "x = y + z\\\\\n",
    "\\log(x) \\neq \\log(y) + \\log(z)\n",
    "$$\n",
    "\n",
    "<div class=\"alert alert-block alert-danger\">\n",
    "<img src=\"images/curtis.jpg\" width=50 title=\"Python Logo\" style=\"vertical-align:top\"/>\n",
    "<b>Common misconception:</b> You CANNOT \"divide through by logarithms\" as that is wrong (and makes no sense since logarithm is a mathematical operation). This means you can only simplify terms with logarithms so far!\n",
    "</div>\n"
   ]
  },
  {
   "cell_type": "markdown",
   "metadata": {},
   "source": [
    "Numbers in expressions containing logarithms can complicate applying any of the log laws to simplify an equation. For example if we are asked to simplify \n",
    "\n",
    "$$ \\log x = - \\log k - 3$$\n",
    "\n",
    "then we have to transform the number 3 into a logarithm so we can apply log law 3. Since the base has not been specified, it must be 10, therefore $3 = \\log 10^3$, and therefore we can rewrite the equation as\n",
    "\n",
    "$$ \\log x = - \\log k - \\log 10^3$$\n",
    "\n"
   ]
  },
  {
   "cell_type": "markdown",
   "metadata": {},
   "source": [
    "## Biochemistry Examples\n",
    "\n",
    "### 1. Using logarithms to fit data that conforms to a power law\n",
    "\n",
    "We can use logarithms to find out if data can be fitted to an equation of the form $y = Ax^n$.\n",
    "\n",
    "Start by taking logs. of both sides\n",
    "\n",
    "\n",
    "\\begin{align*}\n",
    "\\log y &= \\log Ax^n \\quad & \\text{applying log law 2}\\\\\n",
    "       &= \\log A + \\log x^n \\quad & \\text{applying log law 4}\\\\\n",
    "       &= \\log A + n \\log x\n",
    "\\end{align*}\n",
    "\n",
    "\n",
    "Let $Y= \\log y$, $C= \\log A$ and $X = \\log x$, then we can rewrite the above as\n",
    "\n",
    "$$\n",
    "Y = nX + C\n",
    "$$\n",
    "\n",
    "which is the equation of a straight line with gradient $n$ and y-intercept $C$."
   ]
  },
  {
   "cell_type": "markdown",
   "metadata": {},
   "source": [
    "Hence if we are given the data, \n",
    "\n",
    "| x | y | \n",
    "|---|-----|\n",
    "| 4.0 | 6.0 |\n",
    "| 16.0 | 12.0 |\n",
    "| 25.0 | 15.0 |\n",
    "| 64.0 | 24.0 |\n",
    "\n",
    "how can we fit a curve of the form $y=Ax^n$? If we plot the data, we indeed see that it isn't going to be described by a straight line and a function of the form $Ax^n$ does indeed look promising. We could draw by hand a curve through the points, but that doesn't tells us anything! For example, it doesn't help us prediction a value of $y$ when $x=100$. "
   ]
  },
  {
   "cell_type": "code",
   "execution_count": 5,
   "metadata": {
    "jupyter": {
     "source_hidden": true
    }
   },
   "outputs": [
    {
     "data": {
      "image/png": "[encoded data removed]",
      "text/plain": [
       "<Figure size 360x360 with 1 Axes>"
      ]
     },
     "metadata": {
      "needs_background": "light"
     },
     "output_type": "display_data"
    },
    {
     "data": {
      "text/html": [
       "\n",
       "        <script>\n",
       "            function code_toggle_13727761689571289728() {\n",
       "                $('div.cell.code_cell.rendered.selected').find('div.input').toggle();\n",
       "            }\n",
       "\n",
       "            \n",
       "        </script>\n",
       "\n",
       "        <a href=\"javascript:code_toggle_13727761689571289728()\">Show Python code</a>\n",
       "    "
      ],
      "text/plain": [
       "<IPython.core.display.HTML object>"
      ]
     },
     "execution_count": 5,
     "metadata": {},
     "output_type": "execute_result"
    }
   ],
   "source": [
    "x = numpy.array([4,16,25,64])\n",
    "y = numpy.array([6,12,15,24])\n",
    "\n",
    "# plt.xkcd()\n",
    "fig,axis=plt.subplots(figsize=(5,5))\n",
    "axis.set_xlim([0,65])\n",
    "axis.set_xticks([0,10,20,30,40,50,60])\n",
    "axis.set_xlabel('$x$',color='blue')\n",
    "axis.set_ylim([0,65])\n",
    "axis.set_yticks([0,10,20,30,40,50,60])\n",
    "axis.set_ylabel('$y$',color='blue')\n",
    "axis.spines['left'].set_position('zero')\n",
    "axis.spines['right'].set_color('none')\n",
    "axis.spines['bottom'].set_position('zero')\n",
    "axis.spines['top'].set_color('none')\n",
    "\n",
    "axis.scatter(x, y,s=120,color='blue',marker='+')\n",
    "\n",
    "plt.show()\n",
    "\n",
    "code_toggle()"
   ]
  },
  {
   "cell_type": "code",
   "execution_count": 1,
   "metadata": {},
   "outputs": [],
   "source": [
    "#($\\log_{10} x$) | Y ($\\log_{10} y$) |"
   ]
  },
  {
   "cell_type": "markdown",
   "metadata": {},
   "source": [
    "First, let's transform the data by taking logarithms to base 10 of both sides:\n",
    "\n",
    "| x | y       | X $=\\log_{10} x$ | Y $=\\log_{10} y$ |\n",
    "|---|----|------|------------|\n",
    "| 4.0 | 6.0   | 0.6 | 0.78 |\n",
    "| 16.0 | 12.0 | 1.20 | 1.08 |\n",
    "| 25.0 | 15.0 | 1.40 | 1.18 |\n",
    "| 64.0 | 24.0 | 1.81 | 1.38 |\n",
    "\n",
    "Now if we plot $Y$ against $X$ (i.e. $\\log_{10} y$ against $\\log_{10} x$) we find this transformed data is well described by a straight and (using a computer) we can find the coefficients of the straight line that best fits the (transformed) data"
   ]
  },
  {
   "cell_type": "code",
   "execution_count": 6,
   "metadata": {
    "jupyter": {
     "source_hidden": true
    }
   },
   "outputs": [
    {
     "data": {
      "image/png": "[encoded data removed]",
      "text/plain": [
       "<Figure size 360x360 with 1 Axes>"
      ]
     },
     "metadata": {
      "needs_background": "light"
     },
     "output_type": "display_data"
    },
    {
     "data": {
      "text/html": [
       "\n",
       "        <script>\n",
       "            function code_toggle_15041586508241740227() {\n",
       "                $('div.cell.code_cell.rendered.selected').find('div.input').toggle();\n",
       "            }\n",
       "\n",
       "            \n",
       "        </script>\n",
       "\n",
       "        <a href=\"javascript:code_toggle_15041586508241740227()\">Show Python code</a>\n",
       "    "
      ],
      "text/plain": [
       "<IPython.core.display.HTML object>"
      ]
     },
     "execution_count": 6,
     "metadata": {},
     "output_type": "execute_result"
    }
   ],
   "source": [
    "X = numpy.array([0.6,1.20,1.40,1.81])\n",
    "Y = numpy.array([0.78,1.08,1.18,1.38])\n",
    "\n",
    "# plt.xkcd()\n",
    "fig,axis=plt.subplots(figsize=(5,5))\n",
    "axis.set_xlim([0,2])\n",
    "axis.set_xticks(range(3))\n",
    "axis.set_xlabel('$X = \\log_{10}(x)$')\n",
    "axis.set_ylim([0,2])\n",
    "axis.set_yticks([0,1,2])\n",
    "axis.set_ylabel('$Y = \\log_{10}(y)$')\n",
    "axis.spines['left'].set_position('zero')\n",
    "axis.spines['right'].set_color('none')\n",
    "axis.spines['bottom'].set_position('zero')\n",
    "axis.spines['top'].set_color('none')\n",
    "\n",
    "axis.scatter(X, Y,s=120,color='red',marker='+')\n",
    "axis.annotate('$Y=mX + c$',xy=(1.5,1),c='r')\n",
    "\n",
    "c,m = polyfit(X,Y,1)\n",
    "axis.plot(X,c+m*X,'r-')\n",
    "axis.annotate('m=%.2f' % m,xy=(1.5,0.8),c='r')\n",
    "axis.annotate('c=%.2f' % c,xy=(1.5,0.6),c='r')\n",
    "\n",
    "plt.show()\n",
    "\n",
    "code_toggle()"
   ]
  },
  {
   "cell_type": "markdown",
   "metadata": {},
   "source": [
    "Hence $\\log A = 0.48$ and $n = 0.50$. $A = 3.02$.\n",
    "\n",
    "Our data are therefore well-described by the equation $y= 3.02 x^{0.50}$ which we can check by substituting values of $x$ from the original table. It also lets us predict that when $x=100$,$y=30.2$.\n",
    "\n",
    "<div class=\"alert alert-block alert-warning\">\n",
    "<img src=\"images/thinking-face.png\" width=50 title=\"Hmm\" style=\"vertical-align:top\"/>\n",
    "<b>Thought:</b> Without logarithms, we would have been unable to fit this equation to our data!\n",
    "</div>\n",
    "\n"
   ]
  },
  {
   "cell_type": "code",
   "execution_count": 7,
   "metadata": {
    "jupyter": {
     "source_hidden": true
    }
   },
   "outputs": [
    {
     "data": {
      "image/png": "[encoded data removed]",
      "text/plain": [
       "<Figure size 360x360 with 1 Axes>"
      ]
     },
     "metadata": {
      "needs_background": "light"
     },
     "output_type": "display_data"
    },
    {
     "data": {
      "text/html": [
       "\n",
       "        <script>\n",
       "            function code_toggle_4235635970943230266() {\n",
       "                $('div.cell.code_cell.rendered.selected').find('div.input').toggle();\n",
       "            }\n",
       "\n",
       "            \n",
       "        </script>\n",
       "\n",
       "        <a href=\"javascript:code_toggle_4235635970943230266()\">Show Python code</a>\n",
       "    "
      ],
      "text/plain": [
       "<IPython.core.display.HTML object>"
      ]
     },
     "execution_count": 7,
     "metadata": {},
     "output_type": "execute_result"
    }
   ],
   "source": [
    "x = numpy.array([4,16,25,64])\n",
    "y = numpy.array([6,12,15,24])\n",
    "\n",
    "# plt.xkcd()\n",
    "fig,axis=plt.subplots(figsize=(5,5))\n",
    "axis.set_xlim([0,100])\n",
    "axis.set_xticks(range(0,110,20))\n",
    "axis.set_xlabel('$x$',color='blue')\n",
    "axis.set_ylim([0,65])\n",
    "axis.set_yticks([0,10,20,30,40,50,60])\n",
    "axis.set_ylabel('$y$',color='blue')\n",
    "axis.spines['left'].set_position('zero')\n",
    "axis.spines['right'].set_color('none')\n",
    "axis.spines['bottom'].set_position('zero')\n",
    "axis.spines['top'].set_color('none')\n",
    "\n",
    "axis.scatter(x, y,s=120,color='blue',marker='+')\n",
    "X = numpy.linspace(0, 100, 50)\n",
    "Y=3.02*numpy.power(X,0.50)\n",
    "axis.plot(X,Y,'b-')\n",
    "axis.annotate('$y = 3.02x^{0.50}$',xy=(70,30),c='b')\n",
    "\n",
    "plt.show()\n",
    "\n",
    "code_toggle()"
   ]
  },
  {
   "cell_type": "markdown",
   "metadata": {},
   "source": [
    "### 2. pH\n",
    "\n",
    "The pH of a solution is related to the concentration of hydrogen ions via\n",
    "\n",
    "$$\n",
    "pH = - \\log_{10} [H^+]\n",
    "$$\n",
    "\n",
    "e.g. \n",
    "\n",
    "(i) what is the pH of a 0.011 M solution of HCl? Since HCl is a strong acid we can assume it entirely disassociates in solution.\n",
    "\n",
    "\n",
    "\\begin{eqnarray*}\n",
    "pH &=& - \\log_{10} (0.011)\\\\\n",
    " &=& - (-1.959)\\\\\n",
    " &=& 1.959\n",
    "\\end{eqnarray*}\n",
    "\n",
    "(ii) what is the concentration of hydrogen ions in a solution of HCl with a pH of 3?\n",
    "\n",
    "\\begin{align*}\n",
    "- \\log_{10} [H^+] &=& 3\\\\\n",
    "            [H^+] &=& 10^{-3}\\\\\n",
    "                  &=& 0.001 M\n",
    "\\end{align*}\n"
   ]
  },
  {
   "cell_type": "markdown",
   "metadata": {},
   "source": [
    "![Two wrongs do make a right](images/farside-two-wrongs.jpg)"
   ]
  }
 ],
 "metadata": {
  "kernelspec": {
   "display_name": "Python 3",
   "language": "python",
   "name": "python3"
  },
  "language_info": {
   "codemirror_mode": {
    "name": "ipython",
    "version": 3
   },
   "file_extension": ".py",
   "mimetype": "text/x-python",
   "name": "python",
   "nbconvert_exporter": "python",
   "pygments_lexer": "ipython3",
   "version": "3.7.8"
  }
 },
 "nbformat": 4,
 "nbformat_minor": 4
}
