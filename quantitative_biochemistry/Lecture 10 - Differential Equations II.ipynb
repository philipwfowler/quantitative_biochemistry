{
 "cells": [
  {
   "cell_type": "code",
   "execution_count": 1,
   "metadata": {
    "jupyter": {
     "source_hidden": true
    }
   },
   "outputs": [],
   "source": [
    "import numpy, math\n",
    "from matplotlib import pyplot as plt\n",
    "from matplotlib import patches\n",
    "from src import code_toggle\n",
    "%matplotlib inline"
   ]
  },
  {
   "cell_type": "markdown",
   "metadata": {},
   "source": [
    "# Warm-up exercises\n",
    "\n",
    "\\begin{align*}\n",
    "&1. \\quad \\frac{[1.6 \\times 10^{-19}]^2}{4 \\times \\pi \\times 8.85 \\times 10^{-12} \\times [10^{-10}]^2} &=\\\\\n",
    "&2. \\quad \\frac{0.01}{50} &=\\\\\n",
    "&3. \\quad \\frac{1.5 \\times 10^{-10}}{30} &=\\\\\n",
    "&4. \\quad \\text{if } \\frac{dy}{dx} = 4 \\text{ find } y &=\\\\\n",
    "&5. \\quad \\frac{4 \\times 10^6}{6.2 \\times 10^{-4}} &=\\\\\n",
    "&6. \\quad \\frac{0.000008}{0.0008} &=\\\\\n",
    "&7. \\quad \\frac{6.1 \\times 10^{-2}}{8 \\times 10^4} &=\\\\\n",
    "&8. \\quad \\ln \\frac{N}{N} &=\\\\\n",
    "&9. \\quad \\int^\\infty_0 \\frac{1}{e^x}.dx &=\\\\\n",
    "&10. \\quad \\text{if } \\frac{dy}{dx} = 4x^2 + e^{-x} \\text{ find } y &=\\\\\n",
    "\\end{align*}\n",
    "\n",
    "11. If I have a 0.02 M solution made by adding 0.29 g NaCl (the molar mass of NaCl is approximately 58 g) to some water, what is the volume of my solution?"
   ]
  },
  {
   "cell_type": "markdown",
   "metadata": {},
   "source": [
    "# Differential Equations (cont.)\n",
    "\n",
    "## Example\n",
    "\n",
    "A circular patch of oil on the surface of some water has a radius $r$ metres at time $t$ minutes. \n",
    "When $t=0$ minutes, $r=1$m and when $t=10$ minutes, $r=2$m.\n",
    "\n",
    "### (a) Predict the value $T$ of $t$ when $r=4$m, using a simple model in which the rate of increase of $r$ is taken to be constant. Find $T$ for this model"
   ]
  },
  {
   "cell_type": "markdown",
   "metadata": {},
   "source": [
    "\n",
    "The above tells us that \n",
    "\n",
    "\\begin{align*}\n",
    "\\frac{dr}{dt} &= c \\quad&\\text{INTEGRATE w.r.t time}\\\\\n",
    "\\int\\frac{dr}{dt}.dt &= c \\int.dt\\\\\n",
    "\\int dr &= c \\int dt\\\\\n",
    "r &= ct + k\\\\\n",
    "\\end{align*}\n",
    "\n",
    "where $c$ and $k$ are constants. We need to apply the *boundary conditions* to find out their values. Since there are two unknowns we need two conditions since each will give us a simultaneous equation."
   ]
  },
  {
   "cell_type": "markdown",
   "metadata": {},
   "source": [
    "Applying the boundary conditions we are given $(t=0, r=1)$ and $(t=10,r=2)$\n",
    "\n",
    "\\begin{align*}\n",
    "1 &= c.0 + k\\\\\n",
    "2 &= 10c + k\n",
    "\\end{align*}\n",
    "\n",
    "The first yields $k=1$. Substitute into the second and we get \n",
    "\n",
    "\\begin{align*}\n",
    "2 &= 10c + 1\\\\\n",
    "10c &= 1\\\\\n",
    "c&=\\frac{1}{10}\n",
    "\\end{align*}\n",
    "\n",
    "Hence our solution is \n",
    "\n",
    "$$\\boxed{r = \\frac{t}{10} + 1}$$\n",
    "\n",
    "To predict when the patch will grow to reach $r=4$, we simply substitute into the above model\n",
    "\n",
    "\\begin{align*}\n",
    "4 &= \\frac{T}{10} + 1\\\\\n",
    "3 &= \\frac{T}{10}\\\\\n",
    "T &= 30 \\text{ min}\\\\\n",
    "\\end{align*}\n",
    "\n"
   ]
  },
  {
   "cell_type": "markdown",
   "metadata": {},
   "source": [
    "### (b) In a more refined model, the rate of increase of $r$ is taken to be proportional to $1/r$. Express this statement as a differential equation and find the general solution. Find $T$ for this model\n",
    "\n",
    "This time our differential equation is \n",
    "\n",
    "\\begin{align*}\n",
    "\\frac{dr}{dt} &= \\frac{B}{r} \\quad&\\text{SEPARATE}\\\\\n",
    "r \\frac{dr}{dt} &= B \\quad&\\text{INTEGRATE w.r.t time}\\\\\n",
    "\\int r.dr &= B \\int dt\\\\\n",
    "\\frac{r^2}{2} &= Bt + c\\\\\n",
    "r^2 &= Dt + E \\quad&\\text{where $D$ and $E$ are constants}\\\\\n",
    "\\end{align*}\n"
   ]
  },
  {
   "cell_type": "markdown",
   "metadata": {},
   "source": [
    "We apply the same boundary conditions as before:\n",
    "\n",
    "\\begin{align*}\n",
    "1 &= D.0 + E\\\\\n",
    "4 &= 10D + E\\\\\n",
    "\\end{align*}\n",
    "\n",
    "The first equations yields  $E=1$ and hence\n",
    "\n",
    "\\begin{align*}\n",
    "4 &= 10D + 1\\\\\n",
    "3 &= 10D\\\\\n",
    "D &= \\frac{3}{10}\n",
    "\\end{align*}\n",
    "\n",
    "Hence our solution for this more refined model is \n",
    "\n",
    "$$\\boxed{r^2 = \\frac{3t}{10} + 1}$$"
   ]
  },
  {
   "cell_type": "markdown",
   "metadata": {},
   "source": [
    "To predict when the patch will grow to reach $r=4$, we simply substitute into the above model\n",
    "\n",
    "\\begin{align*}\n",
    "16 &= \\frac{3t}{10} + 1\\\\\n",
    "15 &= \\frac{3t}{10}\\\\\n",
    "150 &= 3t\\\\\n",
    "t &= 50 \\text{ min}\n",
    "\\end{align*}"
   ]
  },
  {
   "cell_type": "markdown",
   "metadata": {},
   "source": [
    "### (c) Compare the two models by sketching $r(t)$ on the same figure  \n",
    "\n",
    "As you can see in the sketch below, in the regime $0 \\le t \\le 10$ min which is where the boundary conditions were measured, these two models are very similar. As $t$ increases, however, they diverge leading to different predictions for when $r=4$ m. This is very typical for predictive models!"
   ]
  },
  {
   "cell_type": "code",
   "execution_count": 20,
   "metadata": {
    "jupyter": {
     "source_hidden": true
    }
   },
   "outputs": [
    {
     "data": {
      "image/png": "[encoded data removed]",
      "text/plain": [
       "<Figure size 576x360 with 1 Axes>"
      ]
     },
     "metadata": {
      "needs_background": "light"
     },
     "output_type": "display_data"
    },
    {
     "data": {
      "text/html": [
       "\n",
       "        <script>\n",
       "            function code_toggle_17393528405055125513() {\n",
       "                $('div.cell.code_cell.rendered.selected').find('div.input').toggle();\n",
       "            }\n",
       "\n",
       "            \n",
       "        </script>\n",
       "\n",
       "        <a href=\"javascript:code_toggle_17393528405055125513()\">Show Python code</a>\n",
       "    "
      ],
      "text/plain": [
       "<IPython.core.display.HTML object>"
      ]
     },
     "execution_count": 20,
     "metadata": {},
     "output_type": "execute_result"
    }
   ],
   "source": [
    "t = numpy.linspace(0, 60, 60)\n",
    "\n",
    "fig,axis=plt.subplots(nrows=1,ncols=1,figsize=(8,5))\n",
    "\n",
    "axis.set_xlabel('$t$ (min)')\n",
    "axis.set_ylabel('$r(t)$ (m)',rotation=90)\n",
    "axis.spines['left'].set_position('zero')\n",
    "axis.spines['right'].set_color('none')\n",
    "axis.spines['bottom'].set_position('zero')\n",
    "axis.spines['top'].set_color('none')\n",
    "\n",
    "def func1(t):\n",
    "    return((t/10)+1)\n",
    "\n",
    "def func2(t):\n",
    "    return(((3*t/10)+1)**0.5)\n",
    "\n",
    "y1=func1(t)\n",
    "y2=func2(t)\n",
    "\n",
    "\n",
    "axis.annotate('$r=4$ m',xy=(10,4.2),c='k')\n",
    "axis.annotate('$r=t/10+1$',xy=(30,5),c='r')\n",
    "axis.annotate('$r^2=3t/10+1$',xy=(35,3),c='b')\n",
    "axis.plot(t, y1,'r-')\n",
    "axis.plot(t, y2,'b-')\n",
    "axis.plot([0,60],[4,4],'k:')\n",
    "axis.plot([30,30],[0,4],'r:')\n",
    "axis.plot([50,50],[0,4],'b:')\n",
    "plt.show()\n",
    "\n",
    "code_toggle()"
   ]
  },
  {
   "cell_type": "markdown",
   "metadata": {},
   "source": [
    "## First-order processes (growth)\n",
    "\n",
    "A process reaction where A is growing and the rate of change of A depends only on the amount of A present at time $t$ is described by the following rate law\n",
    "\n",
    "$$\\frac{d[A]}{dt} = k[A]$$\n",
    "\n",
    "where $[A]$ is the concentration of $A$ and it varies with time, $t$. \n",
    "\n",
    "An example is bacterial growth, where, given sufficent nutrients, the growth rate will only depend on the number of bacteria at time. $t$. Let's solve this equation\n",
    "\n",
    "\\begin{align*}\n",
    "\\frac{d[A]}{dt} &= k[A] &\\quad&\\text{SEPARATE variables}\\\\\n",
    "\\frac{1}{[A]}. \\frac{d[A]}{dt} &= k &\\quad&\\text{INTEGRATE both sides w.r.t time}\\\\\n",
    "\\int \\frac{1}{[A]}. \\frac{d[A]}{dt}.dt &= \\int k.dt  &\\quad&\\text{INTEGRATE both sides w.r.t time}\\\\\n",
    "\\int \\frac{1}{[A]}. d[A] &= k \\int dt  \\\\\n",
    "\\ln [A] &= kt + c\\\\\n",
    "\\end{align*}\n"
   ]
  },
  {
   "cell_type": "markdown",
   "metadata": {},
   "source": [
    "Let's assume we know the *intial condition* i.e. that when $t=0$, $A=A_0$. Then we can substitute these into the general solution above and get\n",
    "\n",
    "\\begin{align*}\n",
    "\\ln [A_0] &= k.0 + c\\\\\n",
    "c &= \\ln [A_0]\n",
    "\\end{align*}\n",
    "\n",
    "Hence\n",
    "\n",
    "\\begin{align*}\n",
    "\\ln [A] &= kt + \\ln [A_0]\\\\\n",
    "\\ln [A] - \\ln [A_0] &= kt\\\\\n",
    "\\ln \\frac{[A]}{[A_0]} &= kt &\\quad&\\text{exponentiate both sides}\\\\\n",
    "e^{\\ln \\frac{[A]}{[A_0]}} &= e^{kt}\\\\\n",
    "\\frac{[A]}{[A_0]} &= e^{kt}\\\\\n",
    "[A] &= [A_0]e^{kt}\n",
    "\\end{align*}\n",
    "\n"
   ]
  },
  {
   "cell_type": "markdown",
   "metadata": {},
   "source": [
    "Whilst the above solution is true, if we have measured $[A]$ at different times, $t$ and want to calculate $[A_0]$ and $k$, then we need to transform the general exponential solution so it is in the form of a straight line $y=mx+c$. Fortunately, if we look through our working we see we've already done this. \n",
    "\n",
    "$$ \\ln [A] = kt + \\ln [A_0]$$\n",
    "\n",
    "i.e. a plot of $\\ln[A]$ against $t$ should give a straight line with gradient $k$ and y-intercept $\\ln [A_0]$. If it isn't a straight line then it might not be a first-order process!\n",
    "\n"
   ]
  },
  {
   "cell_type": "markdown",
   "metadata": {},
   "source": [
    "Instead of applying a specific initial condition like $(t=0,[A]=[A_0])$, we can instead apply a general initial condition $(t=t_0,[A]=[A_0])$. \n",
    "\n",
    "\\begin{align*}\n",
    "\\ln [A] &= kt+ c\\\\\n",
    "\\ln [A_0] &= kt_0 +c\\\\\n",
    "c&= \\ln [A_0]-kt_0\\\\\n",
    "\\end{align*}"
   ]
  },
  {
   "cell_type": "markdown",
   "metadata": {},
   "source": [
    "Let's substitute this back in\n",
    "\n",
    "\\begin{align*}\n",
    "\\ln[A] &= kt + \\ln[A_0] - kt_0\\\\\n",
    "\\ln[A] - \\ln[A_0] &= k(t-t_0)\\\\\n",
    "\\ln\\frac{[A]}{[A_0]}  &= k(t-t_0)\\\\\n",
    "\\frac{[A]}{[A_0]} &= e^{k(t-t_0)}\\\\\n",
    "[A] &= [A_0]e^{k(t-t_0)}\\\\\n",
    "\\end{align*}\n",
    "\n",
    "$$\\boxed{[A] = [A_0]e^{k(t-t_0)}}$$\n",
    "\n",
    "This is a general solution based on you knowing $(t=t_0,[A]=[A_0])$. If $t_0=0$ then we get back our earlier solution."
   ]
  },
  {
   "cell_type": "markdown",
   "metadata": {},
   "source": [
    "<div class=\"alert alert-block alert-warning\">\n",
    "<img src=\"images/thinking-face.png\" width=50 title=\"Hmm\" style=\"vertical-align:top\"/>\n",
    "<b>Thought:</b> You might have noticed that when we integrated $\\int 1/[A]. dx$ we put $ln [A] + c$ rather than $\\ln |[A]| +c$. This is because $[A]>0$ and so the modulus operator is not needed.\n",
    "</div>"
   ]
  },
  {
   "cell_type": "markdown",
   "metadata": {},
   "source": [
    "### A numerical example\n",
    "\n",
    "If there are $N_0$ bacteria at $t=0$ and $3N_0$ at $t=10$ hours, how long will it take for there to be $11N_0$?\n",
    "\n",
    "Looking above, the appropriate equation, assuming this is first-order and the form of the initial condition we have, is\n",
    "\n",
    "\\begin{align*}\n",
    "N &= N_0e^{kt}\n",
    "\\end{align*}\n",
    "\n",
    "First, let's find $k$ by substituting in $t=10, N=3N_0$.\n",
    "\n",
    "\\begin{align*}\n",
    "3N_0 &= N_0e^{10k}\\\\\n",
    "3 &= e^{10k} \\quad\\text{take natural logs of both sides}\\\\\n",
    "\\ln 3 &= \\ln e^{10k}\\\\\n",
    "\\ln 3 &= 10k\\\\\n",
    "k &= \\frac{1}{10}\\ln 3\\\\\n",
    "&= 0.110 \\text{ hour}^{-1}\n",
    "\\end{align*}\n"
   ]
  },
  {
   "cell_type": "markdown",
   "metadata": {},
   "source": [
    "<div class=\"alert alert-block alert-warning\">\n",
    "<img src=\"images/thinking-face.png\" width=50 title=\"Hmm\" style=\"vertical-align:top\"/>\n",
    "<b>Thought:</b> The units of $k$ must be time$^{-1}$ so that $kt$ is dimensionless since you cannot exponentiate a quantity with dimensions.\n",
    "</div>"
   ]
  },
  {
   "cell_type": "markdown",
   "metadata": {},
   "source": [
    "Hence to find how long it will take for the population to growth by $11\\times$ we must solve\n",
    "\n",
    "\\begin{align*}\n",
    "11N_0 &= N_0 e^{0.110t}\\\\\n",
    "11 &= e^{0.110t}\\\\\n",
    "\\ln 11 &= 0.110 t\\\\\n",
    "t = \\frac{1}{0.110}\\ln 11\\\\\n",
    "t = 21.8 \\text{ hours}\n",
    "\\end{align*}"
   ]
  },
  {
   "cell_type": "markdown",
   "metadata": {},
   "source": [
    "<div class=\"alert alert-block alert-warning\">\n",
    "<img src=\"images/thinking-face.png\" width=50 title=\"Hmm\" style=\"vertical-align:top\"/>\n",
    "<b>Thought:</b> Notice how I quoted $k$ to 3.s.fs and hence that also limits the precision to which I can quote the time.\n",
    "</div>"
   ]
  },
  {
   "cell_type": "markdown",
   "metadata": {},
   "source": [
    "## First-order processes (decay)\n",
    "\n",
    "Here the rate law is exactly the same except for the introduction of a minus sign. We could simply allow $k$ to take a negative value, but by convention $k>0$ hence the minus sign\n",
    "\n",
    "$$\n",
    "\\frac{d[A]}{dt} = -k [A]\n",
    "$$\n",
    "\n",
    "Any example of a first-order decay process is *radioactive decay*."
   ]
  },
  {
   "cell_type": "markdown",
   "metadata": {},
   "source": [
    "\\begin{align*}\n",
    "\\frac{d[A]}{dt} &= -k[A] &\\quad&\\text{SEPARATE variables}\\\\\n",
    "\\frac{1}{[A]}. \\frac{d[A]}{dt} &= -k &\\quad&\\text{INTEGRATE both sides w.r.t time}\\\\\n",
    "\\int \\frac{1}{[A]}. \\frac{d[A]}{dt}.dt &= \\int -k.dt  &\\quad&\\text{INTEGRATE both sides w.r.t time}\\\\\n",
    "\\int \\frac{1}{[A]}. d[A] &= -k \\int dt  \\\\\n",
    "\\ln [A] &= -kt + c\\\\\n",
    "\\end{align*}"
   ]
  },
  {
   "cell_type": "markdown",
   "metadata": {},
   "source": [
    "Let's assume we know the *intial condition* i.e. that when $t=0$, $A=A_0$. Then we can substitute these into the general solution above and get\n",
    "\n",
    "\\begin{align*}\n",
    "\\ln [A_0] &= -k.0 + c\\\\\n",
    "c &= \\ln [A_0]\n",
    "\\end{align*}\n",
    "\n",
    "Hence\n",
    "\n",
    "\\begin{align*}\n",
    "\\ln [A] &= -kt + \\ln [A_0]\\\\\n",
    "\\ln [A] - \\ln [A_0] &= -kt\\\\\n",
    "\\ln \\frac{[A]}{[A_0]} &= -kt &\\quad&\\text{exponentiate both sides}\\\\\n",
    "e^{\\ln \\frac{[A]}{[A_0]}} &= e^{-kt}\\\\\n",
    "\\frac{[A]}{[A_0]} &= e^{-kt}\\\\\n",
    "[A] &= [A_0]e^{-kt}\n",
    "\\end{align*}\n"
   ]
  },
  {
   "cell_type": "markdown",
   "metadata": {},
   "source": [
    "Again we had measured [A] at several timepoints, $t$, we can plot a transformed version of the above to find out $k$ and $[A_0]$ and we've already written one down as part of our working:\n",
    "\n",
    "$$\\ln [A] = -kt + \\ln [A_0]$$\n",
    "\n",
    "Hence a plot of $\\ln [A]$ against $t$ has gradient $-k$ and y-intercept $\\ln [A_0]$."
   ]
  },
  {
   "cell_type": "markdown",
   "metadata": {},
   "source": [
    "A more general solution where the initial condition is $(t=t_0, [A]=[A_0])$ is \n",
    "\n",
    "$$\\boxed{[A] = [A_0]e^{-k(t-t_0)}}$$\n",
    "\n",
    "which is identical to our general solution for first-order growth, except we have $-k$ instead of $k$ in the index of the exponential. Setting $t_0=0$ reduces this to our previous expression."
   ]
  },
  {
   "cell_type": "markdown",
   "metadata": {},
   "source": [
    "### Half-life (for first-order decay processes)\n",
    "\n",
    "Radioactive decay is often written in this form\n",
    "\n",
    "$$N_t = N_0 e^{-\\lambda(t-t_0)}$$\n",
    "\n",
    "where $N_t$ is the number of atoms at time $t$, $N_0$ is the number of atoms at $t=t_0$ and $\\lambda$ is the 'decay constant'.\n",
    "\n",
    "A useful quantity to measure is the time taken for the number of atoms to halve i.e. to reduce from $[N]$ to $[N]/2$. This is called the *half-life*. \n",
    "\n",
    "Hence $[N] = \\frac{[N_0]}{2}$ when $t=t_0 + t_{1/2}$. Substituting these into the above equation we get\n",
    "\n",
    "\\begin{align*}\n",
    "\\frac{N_0}{2} &= N_0 e^{-\\lambda(t_0+t_{1/2}-t_0)}\\\\\n",
    "\\frac{1}{2} &= e^{-\\lambda t_{1/2}} &\\quad&\\text{take natural logs of both sides}\\\\\n",
    "\\ln \\left(\\frac{1}{2} \\right) &= -\\lambda t_{1/2} &\\quad&\\text{applying a log law}\\\\\n",
    "\\ln 2 &= \\lambda t_{1/2}\\\\\n",
    "t_{1/2} &= \\frac{\\ln 2}{\\lambda}\\\\\n",
    "&= \\frac{0.693}{\\lambda}\n",
    "\\end{align*}\n",
    "\n"
   ]
  },
  {
   "cell_type": "markdown",
   "metadata": {},
   "source": [
    "<div class=\"alert alert-block alert-warning\">\n",
    "<img src=\"images/thinking-face.png\" width=50 title=\"Hmm\" style=\"vertical-align:top\"/>\n",
    "<b>Thought:</b> The half-life is independent of the concentration\n",
    "</div>"
   ]
  },
  {
   "cell_type": "markdown",
   "metadata": {},
   "source": [
    "hence we can rewrite this as \n",
    "\n",
    "$$N = N_0 e^{\\ln 2(t-t_0)/t_{1/2}}$$\n",
    "\n"
   ]
  },
  {
   "cell_type": "code",
   "execution_count": 43,
   "metadata": {
    "jupyter": {
     "source_hidden": true
    }
   },
   "outputs": [
    {
     "data": {
      "image/png": "[encoded data removed]",
      "text/plain": [
       "<Figure size 720x504 with 1 Axes>"
      ]
     },
     "metadata": {
      "needs_background": "light"
     },
     "output_type": "display_data"
    },
    {
     "data": {
      "text/html": [
       "\n",
       "        <script>\n",
       "            function code_toggle_16160736029817742186() {\n",
       "                $('div.cell.code_cell.rendered.selected').find('div.input').toggle();\n",
       "            }\n",
       "\n",
       "            \n",
       "        </script>\n",
       "\n",
       "        <a href=\"javascript:code_toggle_16160736029817742186()\">Show Python code</a>\n",
       "    "
      ],
      "text/plain": [
       "<IPython.core.display.HTML object>"
      ]
     },
     "execution_count": 43,
     "metadata": {},
     "output_type": "execute_result"
    }
   ],
   "source": [
    "t = numpy.linspace(0, 6, 60)\n",
    "\n",
    "fig,axis=plt.subplots(nrows=1,ncols=1,figsize=(10,7))\n",
    "\n",
    "axis.set_xlabel('$t$ (min)')\n",
    "axis.set_ylabel('$r(t)$ (m)',rotation=90)\n",
    "axis.spines['left'].set_position('zero')\n",
    "axis.spines['right'].set_color('none')\n",
    "axis.spines['bottom'].set_position('zero')\n",
    "axis.spines['top'].set_color('none')\n",
    "\n",
    "def func(t):\n",
    "    return(numpy.exp(-0.5*t))\n",
    "\n",
    "y=func(t)\n",
    "\n",
    "\n",
    "axis.annotate('$t_{1/2}$',xy=(1.386,-0.05),c='k',ha='center')\n",
    "axis.annotate('$2t_{1/2}$',xy=(2.772,-0.05),c='k',ha='center')\n",
    "axis.annotate('$3t_{1/2}$',xy=(4.158,-0.05),c='k',ha='center')\n",
    "axis.annotate('$4t_{1/2}$',xy=(5.545,-0.05),c='k',ha='center')\n",
    "\n",
    "# axis.annotate('$r=t/10+1$',xy=(30,5),c='r')\n",
    "# axis.annotate('$r^2=3t/10+1$',xy=(35,3),c='b')\n",
    "axis.plot(t, y,'r-')\n",
    "# axis.plot(t, y2,'b-')\n",
    "axis.plot([0,1.386],[0.5,0.5],'k:')\n",
    "axis.plot([1.386,1.386],[0,0.5],'k:')\n",
    "axis.plot([0,2.772],[0.25,0.25],'k:')\n",
    "axis.plot([2.772,2.772],[0,0.25],'k:')\n",
    "axis.plot([0,4.158],[0.125,0.125],'k:')\n",
    "axis.plot([4.158,4.158],[0,0.125],'k:')\n",
    "axis.plot([0,5.545],[0.0625,0.0625],'k:')\n",
    "axis.plot([5.545,5.545],[0,0.0625],'k:')\n",
    "# axis.plot([30,30],[0,4],'r:')\n",
    "# axis.plot([50,50],[0,4],'b:')\n",
    "plt.show()\n",
    "\n",
    "code_toggle()"
   ]
  },
  {
   "cell_type": "markdown",
   "metadata": {},
   "source": [
    "## Doubling-time (for first-order growth processes)\n",
    "\n",
    "The analogous quantity for a first-order growth process is the *doubling time* which is often used to characterise the growth of bacterial populations that are unconstrained by nutrient supply. In exactly the same way, the doubling time purely depends on $k$ and is independent of the number of bacteria.\n",
    "\n",
    "More topically, it is also used in epidemiology to describe how quickly an infection is spreading through a population."
   ]
  },
  {
   "cell_type": "markdown",
   "metadata": {},
   "source": [
    "## Decay example\n",
    "\n",
    "The element radium (A=226) has a decay constant ($\\lambda$) of 13.6 $\\times 10^{-12}$ s$^{-1}$. How many disintegrations per second will 1 g of radium produce? The half-life of radium is 1,662 years.\n",
    "\n",
    "1 g of radium contains \n",
    "\n",
    "$$\\frac{6.02 \\times 10^{23}}{226} = 2.66 \\times 10^{21} \\text{ atoms}$$\n",
    "\n",
    "\\begin{align*}\n",
    "\\frac{d[N]}{dt} &= -\\lambda [N]\\\\\n",
    "&= 13.6 \\times 10^{-12} \\times 2.66 \\times 10^{21}\\\\\n",
    "&= 3.6 \\times 10^{10} \\text{ disintegrations/sec}\n",
    "\\end{align*}\n",
    "\n",
    "Marie Curie studied radtioactivity (including coining the term) and discovered polonium and radium  for which she won the Nobel Prize in Chemistry in 1911. In recognition of this, the unit of radioactivity is called the *Curie* which is $3.7 \\times 10^{10}$ disintegrations per second."
   ]
  },
  {
   "cell_type": "markdown",
   "metadata": {},
   "source": [
    "## Epidemiology example\n",
    "\n",
    "As of 9 November 2020, the doubling time for SARS-Covid-2019 deaths in the U.K. was 195 days. This is almost twice that of the world average, which was 109 days. Assuming those doubling times remain constant and noting that the current deaths from Covid are 49,770 and 1.27 million in the UK and worldwide, respectively.\n",
    "\n",
    "How many people would we predict to die in the UK and worldwide by the end of the year?\n",
    "\n",
    "There are 21+31=62 days left in the year. \n",
    "\n",
    "$$N=N_0e^{\\lambda t}$$\n",
    "\n",
    "where $\\lambda = \\ln 2/t_{double}$\n",
    "\n",
    "So $\\lambda_{\\text{UK}} = 3.55 \\times 10^{-3}$ per day and $\\lambda_{\\text{world}} = 6.36\\times 10^{-3}$ per day.\n",
    "\n",
    "\\begin{align*}\n",
    "N_{\\text{UK}} &= 49770\\times e^{3.55 \\times 10^{-3} \\times 62}\\\\\n",
    "&= 62,000 \\text{ 3.s.f}\\\\\n",
    "N_{\\text{world}} &= 1,270,000\\times e^{6.36 \\times 10^{-3} \\times 62}\\\\\n",
    "&= 1.88 \\text{ million (3.s.f)}\n",
    "\\end{align*}\n",
    "\n",
    "\n",
    "What would happen if the doubling time was twice as long? That is equivalent to $\\lambda$ being halved, hence\n",
    "\n",
    "\\begin{align*}\n",
    "N_{\\text{UK}} &= 49770\\times e^{0.5*3.55 \\times 10^{-3} \\times 62}\\\\\n",
    "&= 55,600 \\text{ 3.s.f}\\\\\n",
    "N_{\\text{world}} &= 1,270,000\\times e^{0.5*6.36 \\times 10^{-3} \\times 62}\\\\\n",
    "&= 1.54 \\text{ million (3.s.f)}\n",
    "\\end{align*}\n",
    "\n",
    "\n"
   ]
  },
  {
   "cell_type": "code",
   "execution_count": null,
   "metadata": {
    "jupyter": {
     "source_hidden": true
    }
   },
   "outputs": [],
   "source": []
  }
 ],
 "metadata": {
  "kernelspec": {
   "display_name": "Python 3",
   "language": "python",
   "name": "python3"
  },
  "language_info": {
   "codemirror_mode": {
    "name": "ipython",
    "version": 3
   },
   "file_extension": ".py",
   "mimetype": "text/x-python",
   "name": "python",
   "nbconvert_exporter": "python",
   "pygments_lexer": "ipython3",
   "version": "3.7.8"
  }
 },
 "nbformat": 4,
 "nbformat_minor": 4
}
