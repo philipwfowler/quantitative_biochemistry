{
 "cells": [
  {
   "cell_type": "code",
   "execution_count": 1,
   "metadata": {
    "jupyter": {
     "source_hidden": true
    }
   },
   "outputs": [],
   "source": [
    "import numpy, math\n",
    "from matplotlib import pyplot as plt\n",
    "from matplotlib import patches\n",
    "from src import code_toggle\n",
    "%matplotlib inline"
   ]
  },
  {
   "cell_type": "markdown",
   "metadata": {},
   "source": [
    "<div class=\"alert alert-block alert-warning\">\n",
    "<b>L3 challenge answer:</b> The employee gets 99% of their previous wage.\n",
    "</div>\n",
    "\n",
    "\n",
    "<div class=\"alert alert-block alert-warning\">\n",
    "<b>L4 challenge:</b> A camel has 300 bananas, and she has to eat 1 per mile as she goes along to fuel her locomotion. However, she can only carry 100 at a time. What is the maximum distance from her starting point in the dessert she can reach? Please send answers to <a href=\"mailto:philip.fowler@ndm.ox.ac.uk\">philip.fowler@ndm.ox.ac.uk</a> before the next lecture.\n",
    "</div>"
   ]
  },
  {
   "cell_type": "markdown",
   "metadata": {},
   "source": [
    "# Trigonmetric functions\n",
    "\n",
    "You need to know these for e.g. X-ray crystallography."
   ]
  },
  {
   "cell_type": "code",
   "execution_count": 2,
   "metadata": {
    "jupyter": {
     "source_hidden": true
    }
   },
   "outputs": [
    {
     "data": {
      "image/png": "[encoded data removed]",
      "text/plain": [
       "<Figure size 288x288 with 1 Axes>"
      ]
     },
     "metadata": {
      "needs_background": "light"
     },
     "output_type": "display_data"
    },
    {
     "data": {
      "text/html": [
       "\n",
       "        <script>\n",
       "            function code_toggle_4298174756521301374() {\n",
       "                $('div.cell.code_cell.rendered.selected').find('div.input').toggle();\n",
       "            }\n",
       "\n",
       "            \n",
       "        </script>\n",
       "\n",
       "        <a href=\"javascript:code_toggle_4298174756521301374()\">Show Python code</a>\n",
       "    "
      ],
      "text/plain": [
       "<IPython.core.display.HTML object>"
      ]
     },
     "execution_count": 2,
     "metadata": {},
     "output_type": "execute_result"
    }
   ],
   "source": [
    "page,graph=plt.subplots(nrows=1,ncols=1,figsize=(4,4))\n",
    "\n",
    "graph.axis(\"off\")\n",
    "graph.set_xlim([-0.2,1.2])\n",
    "graph.set_ylim([-0.2,1.2])\n",
    "\n",
    "graph.plot((0,1),(0,0),'k-')\n",
    "graph.plot((1,1),(0,1),'k-')\n",
    "graph.plot((0,1),(0,1),'k-')\n",
    "\n",
    "graph.plot((0.95,0.95),(0,0.05),'k-')\n",
    "graph.plot((0.95,1),(0.05,0.05),'k-')\n",
    "\n",
    "graph.annotate('adjacent',xy=(0.5,-0.1),c='k',ha='center')\n",
    "graph.annotate('opposite',xy=(1.05,0.5),c='k',ha='left')\n",
    "graph.annotate('hypotenuse',xy=(0.45,0.5),c='k',ha='right')\n",
    "\n",
    "e1 = patches.Arc((0,0), 0.3,0.3,\n",
    "                     angle=0, linewidth=2, fill=False, zorder=2,theta1=0, theta2=45)\n",
    "\n",
    "graph.add_patch(e1)\n",
    "graph.annotate('$\\\\theta$',xy=(0.2,0.05),c='k',ha='right')\n",
    "\n",
    "plt.show()\n",
    "\n",
    "code_toggle()"
   ]
  },
  {
   "cell_type": "markdown",
   "metadata": {},
   "source": [
    "## Definitions\n",
    "\n",
    "We will only mainly use the basic three functions.\n",
    "\n",
    "\\begin{align*}\n",
    "\\sin \\theta &= \\frac{o}{h}\\\\\n",
    "\\cos \\theta &= \\frac{a}{h}\\\\\n",
    "\\tan \\theta &= \\frac{o}{a}\\\\\n",
    "\\end{align*}\n",
    "\n",
    "We can rewrite $\\tan \\theta$ as\n",
    "\n",
    "$$\n",
    "\\tan \\theta = \\frac{o}{h}.\\frac{h}{a} = \\frac{\\sin \\theta}{\\cos \\theta}\n",
    "$$\n",
    "\n",
    "## Projection onto Cartesian axes"
   ]
  },
  {
   "cell_type": "code",
   "execution_count": 3,
   "metadata": {
    "jupyter": {
     "source_hidden": true
    }
   },
   "outputs": [
    {
     "data": {
      "image/png": "[encoded data removed]",
      "text/plain": [
       "<Figure size 432x432 with 1 Axes>"
      ]
     },
     "metadata": {},
     "output_type": "display_data"
    },
    {
     "data": {
      "text/html": [
       "\n",
       "        <script>\n",
       "            function code_toggle_11544810333279852075() {\n",
       "                $('div.cell.code_cell.rendered.selected').find('div.input').toggle();\n",
       "            }\n",
       "\n",
       "            \n",
       "        </script>\n",
       "\n",
       "        <a href=\"javascript:code_toggle_11544810333279852075()\">Show Python code</a>\n",
       "    "
      ],
      "text/plain": [
       "<IPython.core.display.HTML object>"
      ]
     },
     "execution_count": 3,
     "metadata": {},
     "output_type": "execute_result"
    }
   ],
   "source": [
    "page,graph=plt.subplots(nrows=1,ncols=1,figsize=(6,6))\n",
    "\n",
    "graph.set_xlim([-1.6,1.6])\n",
    "graph.set_ylim([-1.6,1.6])\n",
    "\n",
    "graph.spines['left'].set_position('zero')\n",
    "graph.spines['right'].set_color('none')\n",
    "graph.spines['bottom'].set_position('zero')\n",
    "graph.spines['top'].set_color('none')\n",
    "\n",
    "graph.set_xticks([])\n",
    "graph.set_yticks([])\n",
    "graph.set_xlabel('$x$',x=1)\n",
    "graph.set_ylabel('$y$',y=1,rotation=0)\n",
    "\n",
    "graph.plot((0,1),(0,0),'k-')\n",
    "graph.plot((1,1),(0,1),'k-')\n",
    "graph.plot((0,1),(0,1),'k-')\n",
    "graph.plot((0,1),(1,1),'k--')\n",
    "\n",
    "graph.plot((0.9,0.9),(0,0.1),'k-')\n",
    "graph.plot((0.9,1),(0.1,0.1),'k-')\n",
    "\n",
    "graph.annotate('$P$',xy=(1.05,1.05),c='k',ha='left')\n",
    "graph.annotate('1',xy=(1.45,-0.1),c='k',ha='left')\n",
    "graph.annotate('-1',xy=(-1.52,-0.1),c='k',ha='left')\n",
    "graph.annotate('1',xy=(0.05,1.45),c='k',ha='left')\n",
    "graph.annotate('-1',xy=(0.05,-1.5),c='k',ha='left')\n",
    "graph.annotate('$O$',xy=(-0.1,-0.1),c='k',ha='left')\n",
    "\n",
    "# graph.annotate('opposite',xy=(1.05,0.5),c='k',ha='left')\n",
    "# graph.annotate('hypotenuse',xy=(0.45,0.5),c='k',ha='right')\n",
    "\n",
    "e1 = patches.Arc((0,0), 0.5,0.5,\n",
    "                     angle=0, linewidth=2, fill=False, zorder=2,theta1=0, theta2=45)\n",
    "graph.add_patch(e1)\n",
    "\n",
    "e2 = patches.Ellipse((0,0), 2.82,2.82,\n",
    "                     angle=0, linewidth=1, fill=False, zorder=2)\n",
    "graph.add_patch(e2)\n",
    "\n",
    "\n",
    "\n",
    "graph.annotate('$\\\\theta$',xy=(0.3,0.08),c='k',ha='left')\n",
    "\n",
    "plt.show()\n",
    "\n",
    "code_toggle()"
   ]
  },
  {
   "cell_type": "markdown",
   "metadata": {},
   "source": [
    "* $\\sin \\theta$ is the *projection* of $OP$ on the $y$-axis.\n",
    "* $\\cos \\theta$ is the *projection* of $OP$ on the $x$-axis.\n"
   ]
  },
  {
   "cell_type": "markdown",
   "metadata": {},
   "source": [
    "## Graphs"
   ]
  },
  {
   "cell_type": "code",
   "execution_count": 4,
   "metadata": {
    "jupyter": {
     "source_hidden": true
    }
   },
   "outputs": [
    {
     "data": {
      "image/png": "[encoded data removed]",
      "text/plain": [
       "<Figure size 648x216 with 1 Axes>"
      ]
     },
     "metadata": {
      "needs_background": "light"
     },
     "output_type": "display_data"
    },
    {
     "data": {
      "text/html": [
       "\n",
       "        <script>\n",
       "            function code_toggle_7291427701255026677() {\n",
       "                $('div.cell.code_cell.rendered.selected').find('div.input').toggle();\n",
       "            }\n",
       "\n",
       "            \n",
       "        </script>\n",
       "\n",
       "        <a href=\"javascript:code_toggle_7291427701255026677()\">Show Python code</a>\n",
       "    "
      ],
      "text/plain": [
       "<IPython.core.display.HTML object>"
      ]
     },
     "execution_count": 4,
     "metadata": {},
     "output_type": "execute_result"
    }
   ],
   "source": [
    "page,graph=plt.subplots(nrows=1,ncols=1,figsize=(9,3))\n",
    "\n",
    "x = numpy.linspace(0, 6.5, 500)\n",
    "\n",
    "pi=numpy.pi\n",
    "\n",
    "graph.set_xlim([0,6.5])\n",
    "graph.set_ylim([-1.1,1.1])\n",
    "\n",
    "graph.spines['left'].set_position('zero')\n",
    "graph.spines['right'].set_color('none')\n",
    "graph.spines['bottom'].set_position('zero')\n",
    "graph.spines['top'].set_color('none')\n",
    "\n",
    "y=numpy.sin(x)\n",
    "graph.plot(x,y,'r-')\n",
    "\n",
    "y2=numpy.cos(x)\n",
    "graph.plot(x,y2,'b-')\n",
    "\n",
    "graph.set_xticks([0,pi/2,pi,1.5*pi,2*pi])\n",
    "graph.set_xticklabels([0,'$\\pi$/2','$\\pi$','3$\\pi$/2','2$\\pi$'])\n",
    "\n",
    "\n",
    "graph.annotate('$\\\\sin \\\\theta$',xy=(0.5+pi/2,1),c='r',ha='left')\n",
    "graph.annotate('$\\\\cos \\\\theta$',xy=(0.5,1),c='b',ha='left')\n",
    "\n",
    "plt.show()\n",
    "\n",
    "code_toggle()"
   ]
  },
  {
   "cell_type": "code",
   "execution_count": 5,
   "metadata": {
    "jupyter": {
     "source_hidden": true
    }
   },
   "outputs": [
    {
     "data": {
      "image/png": "[encoded data removed]",
      "text/plain": [
       "<Figure size 648x432 with 1 Axes>"
      ]
     },
     "metadata": {
      "needs_background": "light"
     },
     "output_type": "display_data"
    },
    {
     "data": {
      "text/html": [
       "\n",
       "        <script>\n",
       "            function code_toggle_14437527408816005345() {\n",
       "                $('div.cell.code_cell.rendered.selected').find('div.input').toggle();\n",
       "            }\n",
       "\n",
       "            \n",
       "        </script>\n",
       "\n",
       "        <a href=\"javascript:code_toggle_14437527408816005345()\">Show Python code</a>\n",
       "    "
      ],
      "text/plain": [
       "<IPython.core.display.HTML object>"
      ]
     },
     "execution_count": 5,
     "metadata": {},
     "output_type": "execute_result"
    }
   ],
   "source": [
    "page,graph=plt.subplots(nrows=1,ncols=1,figsize=(9,6))\n",
    "\n",
    "\n",
    "pi=numpy.pi\n",
    "\n",
    "graph.set_xlim([0,6.5])\n",
    "graph.set_ylim([-2.1,2.1])\n",
    "\n",
    "graph.spines['left'].set_position('zero')\n",
    "graph.spines['right'].set_color('none')\n",
    "graph.spines['bottom'].set_position('zero')\n",
    "graph.spines['top'].set_color('none')\n",
    "\n",
    "x = numpy.linspace(0, pi/2-0.01, 500)\n",
    "y=numpy.tan(x)\n",
    "graph.plot(x,y,'g')\n",
    "\n",
    "x = numpy.linspace(pi/2+0.01, 3*pi/2-0.01,500)\n",
    "y=numpy.tan(x)\n",
    "graph.plot(x,y,'g')\n",
    "\n",
    "x = numpy.linspace(3*pi/2+0.01, 5*pi/2-0.01,500)\n",
    "y=numpy.tan(x)\n",
    "graph.plot(x,y,'g')\n",
    "\n",
    "\n",
    "graph.set_xticks([0,pi/2,pi,1.5*pi,2*pi])\n",
    "graph.set_xticklabels([0,'$\\pi$/2','$\\pi$','3$\\pi$/2','2$\\pi$'])\n",
    "graph.plot((pi/2,pi/2),(-10,10),'g--')\n",
    "graph.plot((3*pi/2,3*pi/2),(-10,10),'g--')\n",
    "\n",
    "graph.annotate('$\\\\tan \\\\theta$',xy=(0.5,1),c='g',ha='right')\n",
    "\n",
    "plt.show()\n",
    "\n",
    "code_toggle()"
   ]
  },
  {
   "cell_type": "markdown",
   "metadata": {},
   "source": [
    "## Further definitions\n",
    "\n",
    "You can also define these trig functions which you may see. Remember you can always rewrite them in terms of the three basic functions.\n",
    "\n",
    "\\begin{align*}\n",
    "\\sec \\theta &= \\frac{1}{\\cos \\theta}\\\\\n",
    "\\text{cosec } \\theta &= \\frac{1}{\\sin \\theta}\\\\\n",
    "\\cot \\theta &= \\frac{1}{\\tan \\theta}\n",
    "\\end{align*}\n",
    "\n",
    "We will not use them in this course.\n",
    "\n",
    "## Inverse functions\n",
    "\n",
    "The *inverse* function 'undoes' the mathematical operation. The *recipricol* of a function $f(x)$ is $\\frac{1}{f(x)}$. \n",
    "\n",
    "The only function for which the *inverse* and the *recipricol* are the same is, unfortunately, $x$, since $x \\times \\frac{1}{x} = 1$. Now, we can write $\\frac{1}{x} = x^{-1}$.\n",
    "\n",
    "This often leads to people getting confused about the difference between *inverse* and *reciprocol* and we can very clearly feel that here.\n",
    "\n",
    "The inverse of $\\sin \\theta$ is $\\sin^{-1} \\theta$ (this is sometimes called $\\arcsin \\theta$). BUT\n",
    "\n",
    "$$ \\sin^{-1} \\theta \\neq \\frac{1}{\\sin \\theta} $$\n",
    "\n",
    "Instead, the recipricol of $\\sin \\theta$ is \n",
    "\n",
    "$$ \\frac{1}{\\sin \\theta} = ( \\sin \\theta )^{-1} $$\n",
    "\n",
    "This also explains why the $-1$ is placed on the name of the trigonmetric function, as if you placed it after the argument you couldn't tell the difference!\n",
    "\n",
    "<div class=\"alert alert-block alert-warning\">\n",
    "<img src=\"images/curtis.jpg\" width=50 title=\"Python Logo\" style=\"vertical-align:top\"/>\n",
    "<b>Common misconception:</b> The inverse of a function 'underdoes' the mathematical operation, whilst the recipricol of a function is $\\frac{1}{\\text{function}}$. Don't mix them up.\n",
    "</div>\n",
    "\n",
    "Note that raising a trig function to a power other than $-1$ doesn't suffer from this confusion, hence\n",
    "\n",
    "$$ \\sin^2 \\theta = (\\sin \\theta)^2 $$"
   ]
  },
  {
   "cell_type": "markdown",
   "metadata": {},
   "source": [
    "## Trigonmetric identities from Pythagoras's theorem"
   ]
  },
  {
   "cell_type": "code",
   "execution_count": 6,
   "metadata": {
    "jupyter": {
     "source_hidden": true
    }
   },
   "outputs": [
    {
     "data": {
      "image/png": "[encoded data removed]",
      "text/plain": [
       "<Figure size 288x288 with 1 Axes>"
      ]
     },
     "metadata": {
      "needs_background": "light"
     },
     "output_type": "display_data"
    },
    {
     "data": {
      "text/html": [
       "\n",
       "        <script>\n",
       "            function code_toggle_42792977543557663() {\n",
       "                $('div.cell.code_cell.rendered.selected').find('div.input').toggle();\n",
       "            }\n",
       "\n",
       "            \n",
       "        </script>\n",
       "\n",
       "        <a href=\"javascript:code_toggle_42792977543557663()\">Show Python code</a>\n",
       "    "
      ],
      "text/plain": [
       "<IPython.core.display.HTML object>"
      ]
     },
     "execution_count": 6,
     "metadata": {},
     "output_type": "execute_result"
    }
   ],
   "source": [
    "page,graph=plt.subplots(nrows=1,ncols=1,figsize=(4,4))\n",
    "\n",
    "graph.axis(\"off\")\n",
    "graph.set_xlim([-0.2,1.2])\n",
    "graph.set_ylim([-0.2,1.2])\n",
    "\n",
    "graph.plot((0,1),(0,0),'k-')\n",
    "graph.plot((1,1),(0,1),'k-')\n",
    "graph.plot((0,1),(0,1),'k-')\n",
    "\n",
    "graph.plot((0.95,0.95),(0,0.05),'k-')\n",
    "graph.plot((0.95,1),(0.05,0.05),'k-')\n",
    "\n",
    "graph.annotate('c',xy=(0.5,-0.1),c='k',ha='center')\n",
    "graph.annotate('a',xy=(1.05,0.5),c='k',ha='left')\n",
    "graph.annotate('b',xy=(0.45,0.5),c='k',ha='right')\n",
    "\n",
    "e1 = patches.Arc((0,0), 0.3,0.3,\n",
    "                     angle=0, linewidth=2, fill=False, zorder=2,theta1=0, theta2=45)\n",
    "\n",
    "graph.add_patch(e1)\n",
    "graph.annotate('$\\\\theta$',xy=(0.2,0.05),c='k',ha='right')\n",
    "\n",
    "plt.show()\n",
    "\n",
    "code_toggle()"
   ]
  },
  {
   "cell_type": "markdown",
   "metadata": {},
   "source": [
    "Pythagoras tells us that\n",
    "\n",
    "$$b^2 = a^2 + c^2$$\n",
    "\n",
    "by substituting in the definitions of the trigonmetric functions we find that\n",
    "\n",
    "\\begin{align*}\n",
    "\\cos^2 \\theta + \\sin^2 \\theta &= 1\\\\\n",
    "1 + \\tan^2 \\theta &= \\sec^2 \\theta\\\\\n",
    "1 + \\cot^2 \\theta &= \\text{cosec}^2\\ \\theta\n",
    "\\end{align*}\n",
    "\n",
    "These occasionally come in useful"
   ]
  },
  {
   "cell_type": "markdown",
   "metadata": {},
   "source": [
    "## Radians to degrees\n",
    "\n",
    "We will measure angles in *radians* not *degrees*. (You'll also find that trig functions in computer programming languages expect angles in radians as well).\n",
    "\n",
    "\\begin{align*}\n",
    "360^{\\circ} &= 2\\pi \\text{ radians}\\\\\n",
    "180^{\\circ} &= \\pi \\text{ radians}\\\\\n",
    "90^{\\circ} &= \\frac{\\pi}{2} \\text{ radians}\\\\\n",
    "1^{\\circ} &= \\frac{\\pi}{180} \\text{ radians}\\\\\n",
    "&=0.0175 \\text{ radians (3s.f.)} \\\\\n",
    "1 \\text{radian} &= \\frac{180^\\circ}{\\pi}\\\\\n",
    "&= 57.3^\\circ \\text{ (3s.f.)}\n",
    "\\end{align*}"
   ]
  },
  {
   "cell_type": "markdown",
   "metadata": {},
   "source": [
    "## Differentiation\n",
    "\n",
    "We are not going to prove these results; they are\n",
    "\n",
    "\\begin{align*}\n",
    "\\frac{d}{dx}(\\sin x) &= \\cos x\\\\\n",
    "\\frac{d}{dx}(\\cos x) &= \\sin x\\\\\n",
    "\\frac{d}{dx}(\\tan x) &= \\sec^2 x\\\\\n",
    "&=\\frac{1}{\\cos^2 x}\\\\\n",
    "&=\\frac{1}{(\\cos x)^2}\\\\\n",
    "&=\\frac{1}{\\cos x \\times \\cos x}\\\\\n",
    "\\end{align*}\n",
    "\n",
    "If you want to convince yourself, take a look at the graph of each trig function and think how the gradient varies.\n"
   ]
  },
  {
   "cell_type": "markdown",
   "metadata": {},
   "source": [
    "# Polar coordinates\n",
    "\n",
    "We have plotted and sketched all graphs using $Cartesian$ coordinates e.g. $(y,x)$. This isn't the only way of describing a curve; polar coordinates is another option and in some situations this makes the mathematics easier.\n",
    "\n",
    "A point, $P$, is described by how far it is from the origin ($r$) and the angle ($\\theta$) the resulting line makes with the horizontal axis (which would be $x$ if we were using Cartesians)."
   ]
  },
  {
   "cell_type": "code",
   "execution_count": 7,
   "metadata": {
    "jupyter": {
     "source_hidden": true
    }
   },
   "outputs": [
    {
     "data": {
      "image/png": "[encoded data removed]",
      "text/plain": [
       "<Figure size 216x216 with 1 Axes>"
      ]
     },
     "metadata": {},
     "output_type": "display_data"
    },
    {
     "data": {
      "text/html": [
       "\n",
       "        <script>\n",
       "            function code_toggle_3498339690381748211() {\n",
       "                $('div.cell.code_cell.rendered.selected').find('div.input').toggle();\n",
       "            }\n",
       "\n",
       "            \n",
       "        </script>\n",
       "\n",
       "        <a href=\"javascript:code_toggle_3498339690381748211()\">Show Python code</a>\n",
       "    "
      ],
      "text/plain": [
       "<IPython.core.display.HTML object>"
      ]
     },
     "execution_count": 7,
     "metadata": {},
     "output_type": "execute_result"
    }
   ],
   "source": [
    "page,graph=plt.subplots(nrows=1,ncols=1,figsize=(3,3))\n",
    "\n",
    "graph.set_xlim([0,1.2])\n",
    "graph.set_ylim([0,1.2])\n",
    "\n",
    "graph.spines['left'].set_position('zero')\n",
    "graph.spines['right'].set_color('none')\n",
    "graph.spines['bottom'].set_position('zero')\n",
    "graph.spines['top'].set_color('none')\n",
    "\n",
    "graph.set_xticks([])\n",
    "graph.set_yticks([])\n",
    "graph.set_xlabel('$x$',x=1)\n",
    "graph.set_ylabel('$y$',y=1,rotation=0)\n",
    "\n",
    "graph.plot((0,1),(0,1),'k-')\n",
    "graph.annotate('$P$',xy=(1.05,1.05),c='k',ha='left')\n",
    "e1 = patches.Arc((0,0), 0.5,0.5,\n",
    "                     angle=0, linewidth=2, fill=False, zorder=2,theta1=0, theta2=45)\n",
    "graph.add_patch(e1)\n",
    "graph.annotate('$\\\\theta$',xy=(0.3,0.08),c='k',ha='left')\n",
    "graph.annotate('$r$',xy=(0.5,0.55),c='k',ha='right')\n",
    "\n",
    "plt.show()\n",
    "\n",
    "code_toggle()"
   ]
  },
  {
   "cell_type": "markdown",
   "metadata": {},
   "source": [
    "Note that $\\theta$ conventionally lies between $-\\pi$ and $\\pi$ and for positive angles is measured anti-clockwise, so in the above example $\\theta = \\frac{\\pi}{4}$ radians.\n",
    "\n",
    "If $P$ lies below the $x$-axis, as below, then $\\theta = -\\frac{\\pi}{4}$ radians."
   ]
  },
  {
   "cell_type": "code",
   "execution_count": 8,
   "metadata": {
    "jupyter": {
     "source_hidden": true
    }
   },
   "outputs": [
    {
     "data": {
      "image/png": "[encoded data removed]",
      "text/plain": [
       "<Figure size 252x252 with 1 Axes>"
      ]
     },
     "metadata": {},
     "output_type": "display_data"
    },
    {
     "data": {
      "text/html": [
       "\n",
       "        <script>\n",
       "            function code_toggle_11189724861425701613() {\n",
       "                $('div.cell.code_cell.rendered.selected').find('div.input').toggle();\n",
       "            }\n",
       "\n",
       "            \n",
       "        </script>\n",
       "\n",
       "        <a href=\"javascript:code_toggle_11189724861425701613()\">Show Python code</a>\n",
       "    "
      ],
      "text/plain": [
       "<IPython.core.display.HTML object>"
      ]
     },
     "execution_count": 8,
     "metadata": {},
     "output_type": "execute_result"
    }
   ],
   "source": [
    "page,graph=plt.subplots(nrows=1,ncols=1,figsize=(3.5,3.5))\n",
    "\n",
    "graph.set_xlim([-0.4,1.2])\n",
    "graph.set_ylim([-1.2,0.4])\n",
    "\n",
    "graph.spines['left'].set_position('zero')\n",
    "graph.spines['right'].set_color('none')\n",
    "graph.spines['bottom'].set_position('zero')\n",
    "graph.spines['top'].set_color('none')\n",
    "\n",
    "graph.set_xticks([])\n",
    "graph.set_yticks([])\n",
    "graph.set_xlabel('$x$',x=1)\n",
    "graph.set_ylabel('$y$',y=1,rotation=0)\n",
    "\n",
    "graph.plot((0,1),(0,-1),'k-')\n",
    "graph.annotate('$P$',xy=(1.05,-1.05),c='k',ha='left')\n",
    "e1 = patches.Arc((0,0), 0.5,-0.5,\n",
    "                     angle=0, linewidth=2, fill=False, zorder=2,theta1=0, theta2=-45)\n",
    "graph.add_patch(e1)\n",
    "graph.annotate('$\\\\theta$',xy=(0.15,-0.08),c='k',ha='left')\n",
    "graph.annotate('$r$',xy=(0.5,-0.40),c='k',ha='right')\n",
    "\n",
    "plt.show()\n",
    "\n",
    "code_toggle()"
   ]
  },
  {
   "cell_type": "markdown",
   "metadata": {},
   "source": [
    "Since we now know about trig functions, we can transform back to Cartesian coordinates via\n",
    "\n",
    "\\begin{align*}\n",
    "x&= r \\cos \\theta\\\\\n",
    "y&= r \\sin \\theta\\\\\n",
    "\\end{align*}\n",
    "\n",
    "or to go the other way\n",
    "\n",
    "\\begin{align*}\n",
    "r &= \\sqrt{x^2 + y^2}\\\\\n",
    "\\theta &= \\tan^{-1} \\frac{y}{x}\n",
    "\\end{align*}"
   ]
  },
  {
   "cell_type": "markdown",
   "metadata": {},
   "source": [
    "## Example\n",
    "\n",
    "Sketch\n",
    "\n",
    "$$ y = 5 + 4.9 \\cos x $$\n",
    "\n",
    "\n",
    "and find any turning points"
   ]
  },
  {
   "cell_type": "code",
   "execution_count": 9,
   "metadata": {
    "jupyter": {
     "source_hidden": true
    }
   },
   "outputs": [
    {
     "data": {
      "image/png": "[encoded data removed]",
      "text/plain": [
       "<Figure size 648x216 with 1 Axes>"
      ]
     },
     "metadata": {
      "needs_background": "light"
     },
     "output_type": "display_data"
    },
    {
     "data": {
      "text/html": [
       "\n",
       "        <script>\n",
       "            function code_toggle_8928860825906934926() {\n",
       "                $('div.cell.code_cell.rendered.selected').find('div.input').toggle();\n",
       "            }\n",
       "\n",
       "            \n",
       "        </script>\n",
       "\n",
       "        <a href=\"javascript:code_toggle_8928860825906934926()\">Show Python code</a>\n",
       "    "
      ],
      "text/plain": [
       "<IPython.core.display.HTML object>"
      ]
     },
     "execution_count": 9,
     "metadata": {},
     "output_type": "execute_result"
    }
   ],
   "source": [
    "page,graph=plt.subplots(nrows=1,ncols=1,figsize=(9,3))\n",
    "\n",
    "x = numpy.linspace(0, 10, 500)\n",
    "\n",
    "pi=numpy.pi\n",
    "\n",
    "graph.set_xlim([0,10])\n",
    "graph.set_ylim([0,10])\n",
    "\n",
    "graph.spines['left'].set_position('zero')\n",
    "graph.spines['right'].set_color('none')\n",
    "graph.spines['bottom'].set_position('zero')\n",
    "graph.spines['top'].set_color('none')\n",
    "graph.set_xlabel('$x$')\n",
    "graph.set_ylabel('$y$')\n",
    "\n",
    "y=5+4.9*numpy.cos(x)\n",
    "graph.plot(x,y,'b-')\n",
    "\n",
    "graph.set_xticks([0,pi,2*pi,3*pi])\n",
    "graph.set_xticklabels([0,'$\\pi$','$2\\pi$','3$\\pi$'])\n",
    "\n",
    "plt.show()\n",
    "\n",
    "code_toggle()"
   ]
  },
  {
   "cell_type": "markdown",
   "metadata": {},
   "source": [
    "To find the location of the turning points we must differentiate $y$ with respect to $x$\n",
    "\n",
    "\\begin{align*}\n",
    "\\frac{dy}{dx} &= -4.9 \\sin x \\\\\n",
    "0 &= -4.9 \\sin x\n",
    "\\end{align*}\n",
    "\n",
    "Because the trig functions repeat (they are *periodic*) there are an infinite number of values of $x$ for which this is true, so typically we give the values of $x$ where there are turning points in the first repeating unit (first wavelength) of the function. To make this clear we can state the range of values of $x$ in which the turning points are found.\n",
    "\n",
    "$$\\implies x = 0,\\pi \\quad (0 \\le x < 2\\pi) $$"
   ]
  },
  {
   "cell_type": "markdown",
   "metadata": {},
   "source": [
    "# The linear approximation\n",
    "\n",
    "This is a minor diversion but we'll need it shortly. \n",
    "\n",
    "Suppose we have a function, say\n",
    "\n",
    "$$y = 4x^2 + 5x + 6$$\n",
    "\n",
    "We can evaluate $y$ at a given point e.g. $x=2$\n",
    "\n",
    "\\begin{align*}\n",
    "y &= 4(2)^2 + 5(2) + 6\\\\\n",
    "&= 32\n",
    "\\end{align*}\n",
    "\n",
    "Now imagine we want to evalulate $y$ at a point close by, say $x=2.1$. We can do this one of two ways\n",
    "\n",
    "1. Directly evaluate the function at $x=2.1$.\n",
    "2. Make a good approximation to the answer by using our knowledge of graphs and gradients.\n",
    "\n",
    "Although it is easy here, it isn't always possible to do option 1. So, let's see how you might do option 2. by drawing a graph."
   ]
  },
  {
   "cell_type": "code",
   "execution_count": 10,
   "metadata": {
    "jupyter": {
     "source_hidden": true
    }
   },
   "outputs": [
    {
     "data": {
      "image/png": "[encoded data removed]",
      "text/plain": [
       "<Figure size 432x432 with 1 Axes>"
      ]
     },
     "metadata": {},
     "output_type": "display_data"
    },
    {
     "data": {
      "text/html": [
       "\n",
       "        <script>\n",
       "            function code_toggle_10928406269575166066() {\n",
       "                $('div.cell.code_cell.rendered.selected').find('div.input').toggle();\n",
       "            }\n",
       "\n",
       "            \n",
       "        </script>\n",
       "\n",
       "        <a href=\"javascript:code_toggle_10928406269575166066()\">Show Python code</a>\n",
       "    "
      ],
      "text/plain": [
       "<IPython.core.display.HTML object>"
      ]
     },
     "execution_count": 10,
     "metadata": {},
     "output_type": "execute_result"
    }
   ],
   "source": [
    "x = numpy.linspace(1.8, 2.75, 5000)\n",
    "\n",
    "fig,axis=plt.subplots(nrows=1,ncols=1,figsize=(6,6))\n",
    "\n",
    "axis.set_xlim([1.8,3])\n",
    "axis.set_ylim([-2,30])\n",
    "axis.set_xticks([])\n",
    "axis.set_yticks([])\n",
    "axis.set_xlabel('$x$',x=1)\n",
    "axis.set_ylabel('$y$',rotation=0,y=1)\n",
    "axis.spines['right'].set_color('none')\n",
    "axis.spines['bottom'].set_position('zero')\n",
    "axis.spines['top'].set_color('none')\n",
    "\n",
    "y = x**3 + 2\n",
    "axis.plot(x, y,'r-')\n",
    "\n",
    "axis.plot((2,2),(0,10),'k:')\n",
    "axis.plot((0,2),(10,10),'k:')\n",
    "\n",
    "axis.annotate(s='$f(a)$',xy=(1.8,10),ha='right')\n",
    "axis.annotate(s='$f(b)$',xy=(1.8,17.625),ha='right')\n",
    "\n",
    "axis.annotate(s='$a$',xy=(2,-1.5),ha='center')\n",
    "axis.annotate(s='$b$',xy=(2.5,-1.5),ha='center')\n",
    "\n",
    "\n",
    "axis.plot((2,2.5),(10,10),'k:')\n",
    "axis.plot((2.5,2.5),(10,17.625),'k:')\n",
    "\n",
    "axis.plot((1.75,2.75),(7,19),'b-')\n",
    "axis.annotate('gradient $f\\'(x)$',xy=(2.78,19),ha='left',color='b')\n",
    "axis.annotate('y=$f(x)$',xy=(2.78,23.952),ha='left',color='r')\n",
    "\n",
    "axis.plot((2.5,2.5),(0,10),'k:')\n",
    "axis.plot((2.5,0),(17.625,17.625),'k:')\n",
    "\n",
    "axis.annotate(s='',xy=(2,5),xytext=(2.5,5),arrowprops=dict(arrowstyle='<->'))\n",
    "axis.annotate('$h=b-a$',xy=(2.25,3.6),ha='center')\n",
    "\n",
    "axis.annotate(s='',xy=(2.55,10),xytext=(2.55,16),arrowprops=dict(arrowstyle='<->'))\n",
    "axis.annotate('$d$',xy=(2.6,13))\n",
    "\n",
    "axis.annotate(s='',xy=(2.55,0),xytext=(2.55,10),arrowprops=dict(arrowstyle='<->'))\n",
    "axis.annotate('$f(a)$',xy=(2.6,5))\n",
    "\n",
    "axis.annotate(s='',xy=(2.55,16),xytext=(2.55,17.625),arrowprops=dict(arrowstyle='<->'))\n",
    "axis.annotate('$\\epsilon$',xy=(2.6,16.5))\n",
    "\n",
    "plt.show()\n",
    "code_toggle()"
   ]
  },
  {
   "cell_type": "markdown",
   "metadata": {},
   "source": [
    "We can see how $f(b)$ is made up of three distances:\n",
    "\n",
    "$$ f(b) = f(a) + d + \\epsilon $$\n",
    "\n",
    "but we know that \n",
    "\n",
    "\\begin{align*}\n",
    "\\text{gradient} &= f'(a)\\\\\n",
    "&= \\frac{d}{h}\\\\\n",
    "\\implies d &= hf'(a)\n",
    "\\end{align*}\n",
    "\n",
    "$$ \\therefore f(b) = f(a) + hf'(a) + \\epsilon $$\n",
    "\n",
    "If $h$ is very small then $\\epsilon$ will also become small and we can neglect it. We then have\n",
    "\n",
    "$$ f(b) = f(a) + hf'(a) $$\n",
    "\n",
    "Or more generally\n",
    "\n",
    "$$ \\boxed{ f(x+h) \\approx f(x) + f'(x).h } $$ \n",
    "\n",
    "We can see graphically how we are assuming that if we only take tiny steps in $x$ (a bit like zooming in) away from a known point on a function we can assume it looks like a straight line. How true this is depends of course on how rapidly the function changes with $x$!\n",
    "\n",
    "This is called a linear approximation as we are assuming the gradient isn't changing."
   ]
  },
  {
   "cell_type": "markdown",
   "metadata": {},
   "source": [
    "## Example\n",
    "\n",
    "Without using a calculator what is $\\sqrt{5218}$? \n",
    "\n",
    "We know that $70^2 = 4900$ -- this is our $f(a)$. First let's identify the function and then differentiate it so we can use the linear approximation above.\n",
    "\n",
    "\\begin{align*}\n",
    "f(x) &= \\sqrt{x}\\\\\n",
    "&= x^{1/2}\\\\\n",
    "f'(x) &= \\frac{1}{2x^{1/2}}\\\\\n",
    "&= \\frac{1}{2\\sqrt{x}}\n",
    "\\end{align*}"
   ]
  },
  {
   "cell_type": "markdown",
   "metadata": {},
   "source": [
    "Now we know that $5218 = 4900 + 318$ and hence $h = 318$. Using the result\n",
    "\n",
    "$$f(x+h) \\approx f(x) + f'(x).h  $$\n",
    "\n",
    "we can write (note where the equals sign changes to an approximately equals!)\n",
    "\n",
    "\\begin{align*}\n",
    "\\sqrt{5218} &= \\sqrt{4900 + 318}\\\\\n",
    "&\\approx \\sqrt{4900} + \\frac{1}{2\\sqrt{4900}} \\times 318\\\\\n",
    "&\\approx 70 + \\frac{318}{2\\times 70}\\\\\n",
    "&\\approx 70 + \\frac{318}{140}\\\\\n",
    "&\\approx 70 + 2.3\\\\\n",
    "&\\approx 72.3\\\\\n",
    "\\end{align*}\n",
    "\n",
    "The exact values is 72.24! If we picked another point further away from 4900 (e.g. 5500) then we'd expect the approximation to fare worse."
   ]
  },
  {
   "cell_type": "markdown",
   "metadata": {},
   "source": [
    "<div class=\"alert alert-block alert-info\">\n",
    "<b>Observation:</b> This method will over- or under-estimate depending on the local curvature of the function\n",
    "</div>"
   ]
  },
  {
   "cell_type": "markdown",
   "metadata": {},
   "source": [
    "<div class=\"alert alert-block alert-warning\">\n",
    "<b>For you to do:</b> Without using your calculator, estimate $5.3^3$. How close are you to the true value?\n",
    "</div>"
   ]
  },
  {
   "cell_type": "markdown",
   "metadata": {},
   "source": [
    "# Calculus (cont.)\n",
    "\n",
    "Back to calculus: in the last lecture we had worked out how to differentiate the general function $x^n$ and we've just seen how to differentiate the basic trignometric functions. But what about when we start to *combine* functions together? \n",
    "\n",
    "## The recipricol of a differential\n",
    "\n",
    "Remember we were talking about the difference between *inverse* and *recipricol*? \n",
    "\n",
    "\\begin{align*}\n",
    "y &=f(x)\\\\\n",
    "x &= f^{-1}(y) \\\\\n",
    "\\end{align*}\n",
    "\n",
    "FIXME: don't see how this follows!"
   ]
  },
  {
   "cell_type": "markdown",
   "metadata": {},
   "source": [
    "## Differentiating sums, differences and scalar multiples\n",
    "\n",
    "The differential of a sum of functions is simply the sum of the differentials\n",
    "\n",
    "$$ \\left ( f(x) + g(x) \\right)' = f'(x) + g'(x) $$\n",
    "\n",
    "e.g.\n",
    "\n",
    "\\begin{align*}\n",
    "y &= x^2 + \\frac{1}{x^2}\\\\\n",
    "\\frac{dy}{dx} &= 2x - \\frac{2}{x^3}\n",
    "\\end{align*}\n",
    "\n",
    "We can can see that differences follow the same pattern by substituting $-h(x) =  g(x)$"
   ]
  },
  {
   "cell_type": "markdown",
   "metadata": {},
   "source": [
    "If a function is multiplied by a scalar then the differential is simply the scalar multiplied by the differential of the function\n",
    "\n",
    "$$ \\left ( a. f(x) \\right )' = a.f'(x) $$\n",
    "\n",
    "e.g.\n",
    "\n",
    "\\begin{align*}\n",
    "y &= 6x^3 \\\\\n",
    "\\frac{dy}{dx} &= 6 \\times 3 \\times x^2\\\\\n",
    "&=18x^2\n",
    "\\end{align*}\n"
   ]
  },
  {
   "cell_type": "markdown",
   "metadata": {},
   "source": [
    "## Differentiating two functions multiplied together\n",
    "\n",
    "Sometimes we may wish to differentiate two functions multipled together i.e.\n",
    "\n",
    "\\begin{align*}\n",
    "y &= f(x)g(x)\\\\\n",
    "\\frac{dy}{dx} &= \\text{ ?}\n",
    "\\end{align*}\n",
    "\n",
    "This is a little more complex, however sometimes we can simply rewrite the product of the functions as a series (sum) of other functions\n",
    "\n",
    "e.g.\n",
    "\n",
    "\\begin{align*}\n",
    "y &= (6x^3-1)(3x^2 +4) &\\text{multiply out}\\\\\n",
    "y &= 18x^5 + 24x^3 -3x^2 -4\\\\\n",
    "\\frac{dy}{dx} &= 90x^4 + 72x^2 -6x\n",
    "\\end{align*}\n",
    "\n",
    "But there is another way!"
   ]
  },
  {
   "cell_type": "markdown",
   "metadata": {},
   "source": [
    "Recall that \n",
    "\n",
    "\\begin{equation}\n",
    "\\frac{dy}{dx} = \\lim_{h \\rightarrow 0} \\frac{f(x+h) - f(x)}{h}\n",
    "\\end{equation}\n",
    "\n",
    "But this time $y = f(x)g(x)$, hence\n",
    "\n",
    "\\begin{equation}\n",
    "\\frac{dy}{dx} = \\lim_{h \\rightarrow 0} \\frac{f(x+h)g(x+h) - f(x)g(x)}{h}\n",
    "\\end{equation}\n",
    "\n",
    "This is where we need the linear approximation result from our diversion. If we let \n",
    "\n",
    "$$b=x+h$$\n",
    "\n",
    "and $h$ is small (but we are going to take the limits and let $h$ tend to zero in a bit anyway so that is fine)\n",
    "\n",
    "$$f(x+h) \\approx f(x) + hf'(x)$$\n",
    "\n",
    "substituting\n",
    "\n",
    "<div class=\"alert alert-block alert-warning\">\n",
    "<img src=\"images/curtis.jpg\" width=50 title=\"Python Logo\" style=\"vertical-align:top\"/>\n",
    "<b>Warning:</b> This is the first time we've encountered heavy algebra; remember to layout the working clearly with the = signs below one another. \n",
    "</div>\n",
    "\n",
    "\n",
    "\\begin{align*}\n",
    "\\frac{dy}{dx} &= \\lim_{h \\rightarrow 0} \\frac{[f(x) + hg'(x)][f(x) + hg'(x)] - f(x)g(x)}{h}\\\\\n",
    "&= \\lim_{h \\rightarrow 0} \\frac{[f(x)g(x) +hf'(x)g(x) +hf(x)g'(x) + h^2f'(x)g'(x)] - f(x)g(x)}{h}\\\\\n",
    "&= \\lim_{h \\rightarrow 0} \\frac{[hf'(x)g(x) +hf(x)g'(x) + h^2f'(x)g'(x)]}{h}\\\\\n",
    "&= \\lim_{h \\rightarrow 0} f'(x)g(x) +f(x)g'(x) + hf'(x)g'(x)\\\\\n",
    "&= f'(x)g(x) +f(x)g'(x)\\\\\n",
    "\\end{align*}"
   ]
  },
  {
   "cell_type": "markdown",
   "metadata": {},
   "source": [
    "This is an important result and is called the PRODUCT RULE. Let's write in a slightly easier form\n",
    "\n",
    "$$ \\boxed{ \\frac{d}{dx} (fg) = f'g + fg' } $$"
   ]
  },
  {
   "cell_type": "markdown",
   "metadata": {},
   "source": [
    "### Example 1\n",
    "\n",
    "Let's try it on our earlier example since we know what the answer should be since we multiplied out the brackets and then differentiated\n",
    "\n",
    "\\begin{align*}\n",
    "y &= (6x^3-1)(3x^2 +4)\\\\\n",
    "\\frac{dy}{dx} &= 18x^2(3x^2+4) + 6x(6x^3-1)\\\\\n",
    "&= 54x^4 + 72x^2 + 36x^4 - 6x\\\\\n",
    "&= 90x^4 + 72x^2 -6x\n",
    "\\end{align*}\n",
    "\n",
    "It works! \n",
    "\n",
    "Now you might be thinking \"well, I don't have to understand this since I can always multiply the functions out\" but you can encounter functions for which that will either be hard or impossible ($y=x \\sin x$?)"
   ]
  },
  {
   "cell_type": "markdown",
   "metadata": {},
   "source": [
    "<div class=\"alert alert-block alert-warning\">\n",
    "<img src=\"images/curtis.jpg\" width=50 title=\"Python Logo\" style=\"vertical-align:top\"/>\n",
    "<b>Tip:</b> In the example above (and in all below), notice how I keep the order of $f$ and $g$ in my working so that it matches our result above. Approaching problems the same way each time helps build 'maths memory' and helps reduce the number of mistakes you make. In very complicated questions, I'll separate off some of the working (e.g. calculating $f'(x)$ and $g'(x)$).\n",
    "</div>"
   ]
  },
  {
   "cell_type": "markdown",
   "metadata": {},
   "source": [
    "### Example 2\n",
    "\n",
    "$$y = (x^2+1)(x-2)$$\n",
    "\n",
    "Since this is a bit more complicated, I'm going to do some working out first before substituting back in. If I was doing this on paper, I'd do it off on the side to make it clear it was separate.\n",
    "\n",
    "\\begin{align*}\n",
    "\\quad\\quad & f(x) &= x^2 +1 &\\quad f'(x) &=2x\\\\\n",
    "\\quad\\quad & g(x) &= (x-2) &\\quad g'(x) &=1\n",
    "\\end{align*}\n",
    "\n",
    "Now I've got everything I need and I can use the product rule\n",
    "\n",
    "\\begin{align*}\n",
    "\\frac{dy}{dx} &= 2x(x-2) + 1(x^2+1)\\\\\n",
    "&= 2x^2 - 4x + x^2 +1 \\\\\n",
    "&= 3x^2 -4x +1\n",
    "\\end{align*}\n",
    "\n",
    "<div class=\"alert alert-block alert-warning\">\n",
    "<b>For you to do:</b> Multiply out the function and differentiate the terms individually. Do you get the same answer?\n",
    "</div>\n"
   ]
  },
  {
   "cell_type": "markdown",
   "metadata": {},
   "source": [
    "### Example 3\n",
    "\n",
    "Here is a function we *cannot* multiple out so *have* to use the product rule to differentiate.\n",
    "\n",
    "$$ y =x \\sin x$$\n",
    "\n",
    "Since this is the first time we've done a question like this, let's explicitly identify the terms and separately differentiate them to make our life easier\n",
    "\n",
    "\\begin{align*}\n",
    "f(x) &= x \\quad &f'(x) &=1\\\\\n",
    "g(x) &= \\sin x \\quad &g'(x) &=\\cos x\n",
    "\\end{align*}\n",
    "\n",
    "To apply the product rule we substitute for the above terms \n",
    "\n",
    "\\begin{align*}\n",
    "\\frac{dy}{dx} &= 1.\\sin x + x \\cos x\\\\\n",
    "&= \\sin x + x \\cos x\n",
    "\\end{align*}\n",
    "\n",
    "Without the product rule this would have been IMPOSSIBLE.\n"
   ]
  },
  {
   "cell_type": "code",
   "execution_count": null,
   "metadata": {
    "jupyter": {
     "source_hidden": true
    }
   },
   "outputs": [],
   "source": []
  }
 ],
 "metadata": {
  "kernelspec": {
   "display_name": "Python 3",
   "language": "python",
   "name": "python3"
  },
  "language_info": {
   "codemirror_mode": {
    "name": "ipython",
    "version": 3
   },
   "file_extension": ".py",
   "mimetype": "text/x-python",
   "name": "python",
   "nbconvert_exporter": "python",
   "pygments_lexer": "ipython3",
   "version": "3.7.8"
  }
 },
 "nbformat": 4,
 "nbformat_minor": 4
}
