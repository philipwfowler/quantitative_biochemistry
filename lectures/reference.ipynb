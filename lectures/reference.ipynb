{
 "cells": [
  {
   "cell_type": "markdown",
   "metadata": {},
   "source": [
    "<span style=\"color:red\">Text</span> red text\n",
    "\n",
    "<div class=\"alert alert-block alert-warning\">\n",
    "<b>Example:</b> Use yellow boxes for examples that are not inside code cells, or use for mathematical formulas if needed. Typically also used to display warning messages.\n",
    "</div>\n",
    "\n",
    "<div class=\"alert alert-block alert-danger\">\n",
    "<b>Warning:</b> This alert box indicates a dangerous or potentially negative action.\n",
    "</div>\n",
    "\n",
    "<div class=\"alert alert-block alert-info\">\n",
    "<b>Note:</b> Use blue boxes (alert-info) for tips and notes.</div>\n"
   ]
  },
  {
   "cell_type": "markdown",
   "metadata": {},
   "source": [
    "## Wake up exercises\n",
    "\n",
    "<div class=\"alert alert-block alert-danger\">\n",
    "<b>Warning:</b> No calculators!\n",
    "</div>\n",
    "\n",
    "$$\n",
    "\\begin{eqnarray*}\n",
    "&1.\\quad & \\frac{dy}{dx} &=& 0 &\\quad\\text{Find } y &=\\\\\n",
    "&2.\\quad & \\frac{dy}{dx} &=& 20x &\\quad\\text{Find } y&=\\\\\n",
    "&3. \\quad & \\frac{dy}{dx} &=& \\frac{1}{x} &\\quad\\text{Find } y&=\\\\\n",
    "&4. \\quad & \\frac{dy}{dx} &=& \\sin x &\\quad\\text{Find } y&=\\\\\n",
    "&5. \\quad &&&& \\frac{6.1 \\times 10^{-3}}{7 \\times 10^5} &=\\\\ \n",
    "&6. \\quad &&&& \\frac{6.63 \\times 10^{-34} \\times 3 \\times 10^8}{500 \\times 10^{-9}} &=\\\\\n",
    "&7. \\quad &&&& \\sqrt {0.00064} &=\\\\\n",
    "&8. \\quad &&&& \\int_0^6 {1\\over e^x}\\, dx&=\\\\\n",
    "&9. \\quad & \\frac{y}{x} &=& e^x, &\\quad\\text{Find } y&=\\\\\n",
    "&10.\\quad &&&& \\frac{9^0}{10000000} &=\\\\ \n",
    "\\end{eqnarray*}$$\n",
    "11. What is the molar concentration of a solution of 500 ml water to which I have added 2.2 g KCl? (The molar mass of KCl is approx. 66 g/mol)\n"
   ]
  },
  {
   "cell_type": "code",
   "execution_count": null,
   "metadata": {},
   "outputs": [],
   "source": []
  }
 ],
 "metadata": {
  "kernelspec": {
   "display_name": "Python 3",
   "language": "python",
   "name": "python3"
  },
  "language_info": {
   "codemirror_mode": {
    "name": "ipython",
    "version": 3
   },
   "file_extension": ".py",
   "mimetype": "text/x-python",
   "name": "python",
   "nbconvert_exporter": "python",
   "pygments_lexer": "ipython3",
   "version": "3.7.8"
  }
 },
 "nbformat": 4,
 "nbformat_minor": 4
}
