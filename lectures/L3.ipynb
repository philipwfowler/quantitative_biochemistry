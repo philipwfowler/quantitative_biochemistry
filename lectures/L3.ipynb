{
 "cells": [
  {
   "cell_type": "markdown",
   "metadata": {},
   "source": [
    "# Lecture 3 - Introducing calculus"
   ]
  },
  {
   "cell_type": "code",
   "execution_count": 2,
   "metadata": {
    "jupyter": {
     "source_hidden": true
    }
   },
   "outputs": [],
   "source": [
    "import numpy, math\n",
    "from matplotlib import pyplot as plt\n",
    "from src import code_toggle\n",
    "%matplotlib inline"
   ]
  },
  {
   "cell_type": "raw",
   "metadata": {},
   "source": [
    "%%javascript\n",
    "MathJax.Hub.Config({\n",
    "    TeX: { equationNumbers: { autoNumber: \"AMS\" } }\n",
    "});"
   ]
  },
  {
   "cell_type": "markdown",
   "metadata": {},
   "source": [
    "<div class=\"alert alert-block alert-warning\">\n",
    "<b>Answer to L2 challenge:</b> By moving only one number, rearrange $62 - 1 = 63$ so that it is numerically correct:\n",
    "</div>"
   ]
  },
  {
   "cell_type": "markdown",
   "metadata": {},
   "source": [
    "<div class=\"alert alert-block alert-warning\">\n",
    "<b>L3 challenge:</b> A company who wanted to survive the receission decided to cut the hourly rate they paid their employees by 10% but offered 10% more hours to each employee? Who was better off with this arrangement? Please send answers to <a href=\"mailto:philip.fowler@ndm.ox.ac.uk\">philip.fowler@ndm.ox.ac.uk</a> before the next lecture.\n",
    "</div>"
   ]
  },
  {
   "cell_type": "markdown",
   "metadata": {},
   "source": [
    "![You'll (hopefully) find this funny by the end of the lecture...](https://imgs.xkcd.com/comics/newton_and_leibniz.png)"
   ]
  },
  {
   "cell_type": "markdown",
   "metadata": {},
   "source": [
    "## Calculus\n",
    "\n",
    "### Why do I need to learn calculus?\n",
    "\n",
    "I have some bacteria growing on a plate. By taking measurements I am able to fit the following polynomial (just involves powers of $x$ and numbers) equation to your data, a bit like we did at the end of the last lecture.\n",
    "\n",
    "$$\n",
    "n(t) = 15.42 + 6t -t^2\n",
    "$$\n",
    "\n",
    "where $n(t)$ is the number of bacteria in thousands after $t$ (measured in days). When will I have the greatest number of bacteria?\n",
    "\n",
    "<div class=\"alert alert-block alert-info\">\n",
    "    <b>$\\rightarrow$</b> you need calculus to answer this.</div>"
   ]
  },
  {
   "cell_type": "markdown",
   "metadata": {},
   "source": [
    "### History and confusion with other parts of Biochemistry \n",
    "\n",
    "Isaac Newton invented calculus while isolated during the 'plague years' of 1666-7 but did not publish his findings until much later. He defined things called *fluents* and *fluxions* these terms are no longer used. Gottfried Leibniz independently discovered what we now call calculus in 1674-75.\n",
    "\n",
    "As we shall see later, both introduced different mathematical notations and both are still used today which can be confusing. On the whole, we tend to favour the Leibniz notation and will only occasionally use Newton notation.\n",
    "\n",
    "The first key part to calculus is called *differentiation* which also can be confusing since the same term is used in developmental biology to mean: \n",
    "\n",
    "> The formation, in embryos and regenerating animals, of complex specialised cells from simple unspecialised types. The specialised cells go to make up the tissues and organs of the body."
   ]
  },
  {
   "cell_type": "markdown",
   "metadata": {},
   "source": [
    "### Gradients and rates of change\n",
    "\n",
    "Very often we wish to know about how quickly a quantity is changing, often with time. This is called its *rate of change*. \n",
    "\n",
    "#### Example applications\n",
    "\n",
    "1. Rate of disapperance of substrate with time in an enzyme reaction\n",
    "2. Rate of decay of a radio-labelled substance - for how long will it have an activity above a certain level?\n",
    "3. Rate of bacterial growth with time.\n",
    "4. Rate of heat diffusion through a rock\n",
    "5. Rate of onset of boredom amongst students in a lecture...\n",
    "\n",
    "To look at the ways in which a rate of change can be expressed and worked out mathematically, consider *graphs* (back to L1)."
   ]
  },
  {
   "cell_type": "markdown",
   "metadata": {},
   "source": [
    "#### Definition\n",
    "\n",
    "The *gradient* of a curve at a point $P$ is all of:\n",
    "* the gradient of the *tangent* to the curve at $P$\n",
    "* the rate of change\n",
    "* its 'derivative'\n",
    "\n",
    "<div class=\"alert alert-block alert-info\">\n",
    "    <b>Note:</b> The process of finding the gradient mathematically is called <b>differentiation</b>.</div>"
   ]
  },
  {
   "cell_type": "markdown",
   "metadata": {},
   "source": [
    "#### Gradient of a straight line\n",
    "\n",
    "Consider having a straight line, perhaps a line of best fit we have drawn through our (perhaps transformed) experimental data."
   ]
  },
  {
   "cell_type": "code",
   "execution_count": 2,
   "metadata": {
    "jupyter": {
     "source_hidden": true
    }
   },
   "outputs": [
    {
     "data": {
      "image/png": "[encoded data removed]",
      "text/plain": [
       "<Figure size 360x360 with 1 Axes>"
      ]
     },
     "metadata": {
      "needs_background": "light"
     },
     "output_type": "display_data"
    },
    {
     "data": {
      "text/html": [
       "\n",
       "        <script>\n",
       "            function code_toggle_15404697502702051383() {\n",
       "                $('div.cell.code_cell.rendered.selected').find('div.input').toggle();\n",
       "            }\n",
       "\n",
       "            \n",
       "        </script>\n",
       "\n",
       "        <a href=\"javascript:code_toggle_15404697502702051383()\">Show Python code</a>\n",
       "    "
      ],
      "text/plain": [
       "<IPython.core.display.HTML object>"
      ]
     },
     "execution_count": 2,
     "metadata": {},
     "output_type": "execute_result"
    }
   ],
   "source": [
    "x = numpy.linspace(-1, 3, 5000)\n",
    "\n",
    "# plt.xkcd()\n",
    "fig,axis=plt.subplots(nrows=1,ncols=1,figsize=(5,5))\n",
    "\n",
    "axis.set_xlim([-1,3])\n",
    "axis.set_xticks(numpy.arange(-1,4))\n",
    "axis.set_xlabel('$x$')\n",
    "axis.set_ylim([-1,3])\n",
    "axis.set_yticks([-1,0,1,2,3])\n",
    "axis.set_ylabel('$y$',rotation=0)\n",
    "axis.spines['left'].set_position('zero')\n",
    "axis.spines['right'].set_color('none')\n",
    "axis.spines['bottom'].set_position('zero')\n",
    "axis.spines['top'].set_color('none')\n",
    "\n",
    "y = x\n",
    "axis.annotate('$y=x$',xy=(1.2,1.7),c='r')\n",
    "axis.plot(x, y,'r-')\n",
    "axis.plot((1,2),(1,1),'k--')\n",
    "axis.plot((2,2),(1,2),'k--')\n",
    "axis.annotate('$(x_1,y_1)$',xy=(1,0.8),c='k')\n",
    "axis.annotate('$(x_2,y_2)$',xy=(2.2,2),c='k')\n",
    "\n",
    "plt.show()\n",
    "\n",
    "code_toggle()\n",
    "\n"
   ]
  },
  {
   "cell_type": "markdown",
   "metadata": {},
   "source": [
    "Calculating the gradient is simple; we construct a triangle \n",
    "\n",
    "$$\n",
    "\\begin{equation}\n",
    "\\text{gradient} = \\frac{y_2 - y_1}{x_2 - x_1}\n",
    "\\end{equation}\n",
    "$$\n",
    "\n",
    "The key point is because it is a straight line, our choices of $(x_1,y_1)$ and $(x_2,y_2)$ don't matter. We can have them far apart or close together and we will still get the same answer. "
   ]
  },
  {
   "cell_type": "markdown",
   "metadata": {},
   "source": [
    "#### Notation\n",
    "\n",
    "If the independent variable is $x$, then the gradient of a function, $f(x)$, can be rewritten as one of \n",
    "* y' (\"y prime\" or \"y dash\")\n",
    "* f'(x) (\"f dash x\")\n",
    "* $\\frac{dy}{dx}$ (\"dy by dx\")\n",
    "\n",
    "The first two are attributed to Newton whilst the last is the style Leibniz introduced. If time, $t$, is the independent variable (i.e. not $x$), then instead of $y'$, people sometimes write $\\dot{y}$ (\"y dot\"). That is the sort of thing physicists do and we won't be doing that, but you might see it in some textbooks or online.\n",
    "\n",
    "Generally the Leibniz form is clearer as it is directly formed from how the gradient is calculated, as we shortly shall see! The Newtonian forms are easier and faster to write, however, so sometimes people swap from one form to the other to save time. This can be confusing."
   ]
  },
  {
   "cell_type": "markdown",
   "metadata": {},
   "source": [
    "#### Example functions\n",
    "\n",
    "1. $y=x^2$.\n",
    "\n",
    "The function is drawn below in <span style=\"color:red\">red</span> whilst its gradient/rate of change/derivative is drawn in <span style=\"color:blue\">blue</span>."
   ]
  },
  {
   "cell_type": "code",
   "execution_count": 3,
   "metadata": {
    "jupyter": {
     "source_hidden": true
    }
   },
   "outputs": [
    {
     "data": {
      "image/png": "[encoded data removed]",
      "text/plain": [
       "<Figure size 360x720 with 2 Axes>"
      ]
     },
     "metadata": {
      "needs_background": "light"
     },
     "output_type": "display_data"
    },
    {
     "data": {
      "text/html": [
       "\n",
       "        <script>\n",
       "            function code_toggle_14657247740995777506() {\n",
       "                $('div.cell.code_cell.rendered.selected').find('div.input').toggle();\n",
       "            }\n",
       "\n",
       "            \n",
       "        </script>\n",
       "\n",
       "        <a href=\"javascript:code_toggle_14657247740995777506()\">Show Python code</a>\n",
       "    "
      ],
      "text/plain": [
       "<IPython.core.display.HTML object>"
      ]
     },
     "execution_count": 3,
     "metadata": {},
     "output_type": "execute_result"
    }
   ],
   "source": [
    "x = numpy.linspace(-5, 5, 500)\n",
    "\n",
    "# plt.xkcd()\n",
    "fig,axis=plt.subplots(nrows=2,ncols=1,figsize=(5,10))\n",
    "\n",
    "for i in [0, 1]:\n",
    "    axis[i].set_xlim([-5,5])\n",
    "    axis[i].set_xticks(numpy.arange(-5,6))\n",
    "    axis[i].set_xlabel('$x$')\n",
    "    axis[i].set_ylim([0,26])\n",
    "    axis[i].set_yticks([0,10,20])\n",
    "    axis[i].set_ylabel('$y$',rotation=0)\n",
    "    axis[i].spines['left'].set_position('zero')\n",
    "    axis[i].spines['right'].set_color('none')\n",
    "    axis[i].spines['bottom'].set_position('zero')\n",
    "    axis[i].spines['top'].set_color('none')\n",
    "\n",
    "y = x**2\n",
    "axis[0].plot(x, y,'r-')\n",
    "axis[0].annotate('$y=x^2$',xy=(2,2),c='r')\n",
    "\n",
    "\n",
    "y = 2*x\n",
    "axis[1].set_ylim([-13,13])\n",
    "axis[1].set_ylabel('$\\\\frac{dy}{dx}$',rotation=0)\n",
    "axis[1].plot(x, y,'b-')\n",
    "axis[1].annotate('gradient of $y=x^2$',xy=(2,2),c='b')\n",
    "\n",
    "\n",
    "plt.show()\n",
    "\n",
    "code_toggle()"
   ]
  },
  {
   "cell_type": "markdown",
   "metadata": {},
   "source": [
    "2. $y = \\log_{10} x$\n",
    "\n",
    "Whilst this is a more complex function we can see how the gradient is large and positive at small values of $x$ and gradually decreases as $x$ gets larger."
   ]
  },
  {
   "cell_type": "code",
   "execution_count": 4,
   "metadata": {
    "jupyter": {
     "source_hidden": true
    }
   },
   "outputs": [
    {
     "name": "stderr",
     "output_type": "stream",
     "text": [
      "/opt/local/Library/Frameworks/Python.framework/Versions/3.7/lib/python3.7/site-packages/ipykernel_launcher.py:18: RuntimeWarning: invalid value encountered in log\n"
     ]
    },
    {
     "data": {
      "image/png": "[encoded data removed]",
      "text/plain": [
       "<Figure size 360x720 with 2 Axes>"
      ]
     },
     "metadata": {
      "needs_background": "light"
     },
     "output_type": "display_data"
    },
    {
     "data": {
      "text/html": [
       "\n",
       "        <script>\n",
       "            function code_toggle_6361566623671323127() {\n",
       "                $('div.cell.code_cell.rendered.selected').find('div.input').toggle();\n",
       "            }\n",
       "\n",
       "            \n",
       "        </script>\n",
       "\n",
       "        <a href=\"javascript:code_toggle_6361566623671323127()\">Show Python code</a>\n",
       "    "
      ],
      "text/plain": [
       "<IPython.core.display.HTML object>"
      ]
     },
     "execution_count": 4,
     "metadata": {},
     "output_type": "execute_result"
    }
   ],
   "source": [
    "x = numpy.linspace(-5, 5, 5000)\n",
    "\n",
    "# plt.xkcd()\n",
    "fig,axis=plt.subplots(nrows=2,ncols=1,figsize=(5,10))\n",
    "\n",
    "for i in [0, 1]:\n",
    "    axis[i].set_xlim([0,3])\n",
    "    axis[i].set_xticks(numpy.arange(0,3))\n",
    "    axis[i].set_xlabel('$x$')\n",
    "    axis[i].set_ylim([-5,2])\n",
    "#     axis[i].set_yticks([0,10,20])\n",
    "    axis[i].set_ylabel('$y$',rotation=0)\n",
    "    axis[i].spines['left'].set_position('zero')\n",
    "    axis[i].spines['right'].set_color('none')\n",
    "    axis[i].spines['bottom'].set_position('zero')\n",
    "    axis[i].spines['top'].set_color('none')\n",
    "\n",
    "y = numpy.log(x)/numpy.log(10)\n",
    "axis[0].plot(x, y,'r-')\n",
    "axis[0].annotate('$y=\\log_{10} x$',xy=(2,2),c='r')\n",
    "\n",
    "\n",
    "y = math.log(10)/x\n",
    "axis[1].set_ylim([0,7])\n",
    "axis[1].set_ylabel('$\\\\frac{dy}{dx}$',rotation=0)\n",
    "axis[1].plot(x, y,'b-')\n",
    "axis[1].annotate('gradient of $y=\\log_{10} x$',xy=(2,2),c='b')\n",
    "\n",
    "\n",
    "plt.show()\n",
    "\n",
    "code_toggle()"
   ]
  },
  {
   "cell_type": "markdown",
   "metadata": {},
   "source": [
    "### How do we calculate the gradient of a curve?\n",
    "\n",
    "Suppose that\n",
    "\n",
    "$$\n",
    "y=x^3 + 2\n",
    "$$"
   ]
  },
  {
   "cell_type": "code",
   "execution_count": 5,
   "metadata": {
    "jupyter": {
     "source_hidden": true
    }
   },
   "outputs": [
    {
     "data": {
      "image/png": "[encoded data removed]",
      "text/plain": [
       "<Figure size 360x360 with 1 Axes>"
      ]
     },
     "metadata": {
      "needs_background": "light"
     },
     "output_type": "display_data"
    },
    {
     "data": {
      "text/html": [
       "\n",
       "        <script>\n",
       "            function code_toggle_7387985348171806773() {\n",
       "                $('div.cell.code_cell.rendered.selected').find('div.input').toggle();\n",
       "            }\n",
       "\n",
       "            \n",
       "        </script>\n",
       "\n",
       "        <a href=\"javascript:code_toggle_7387985348171806773()\">Show Python code</a>\n",
       "    "
      ],
      "text/plain": [
       "<IPython.core.display.HTML object>"
      ]
     },
     "execution_count": 5,
     "metadata": {},
     "output_type": "execute_result"
    }
   ],
   "source": [
    "x = numpy.linspace(-3, 3, 5000)\n",
    "\n",
    "# plt.xkcd()\n",
    "fig,axis=plt.subplots(nrows=1,ncols=1,figsize=(5,5))\n",
    "\n",
    "# axis.set_xlim([0,3])\n",
    "axis.set_xticks(numpy.arange(-3,4))\n",
    "axis.set_xlabel('$x$')\n",
    "axis.set_ylim([-30,30])\n",
    "#     axis[i].set_yticks([0,10,20])\n",
    "axis.set_ylabel('$y$',rotation=0)\n",
    "axis.spines['left'].set_position('zero')\n",
    "axis.spines['right'].set_color('none')\n",
    "axis.spines['bottom'].set_position('zero')\n",
    "axis.spines['top'].set_color('none')\n",
    "\n",
    "y = x**3 + 2\n",
    "axis.annotate('$y=x^3 + 2$',xy=(-2,2),c='r')\n",
    "axis.plot(x, y,'r-')\n",
    "plt.show()\n",
    "\n",
    "code_toggle()"
   ]
  },
  {
   "cell_type": "markdown",
   "metadata": {},
   "source": [
    "We would like to ask \n",
    "\n",
    "> What is the gradient of the graph at any value of $x$?\n",
    "\n",
    "but that looks too hard at the moment. Instead let's ask\n",
    "\n",
    "> What is the gradient of the graph when $x=2$?\n",
    "\n",
    "and we will draw triangles centred on $x=2$ to calculate the gradient, like we did before for the straight line. Let's zoom into the graph though to give us space to draw some small triangles.\n",
    "\n",
    "First let's try a triangle where the $x$ values are separated by 1 unit i.e. $x_1=1.5$ and $x_2=2.5$."
   ]
  },
  {
   "cell_type": "code",
   "execution_count": 6,
   "metadata": {
    "jupyter": {
     "source_hidden": true
    }
   },
   "outputs": [
    {
     "data": {
      "image/png": "[encoded data removed]",
      "text/plain": [
       "<Figure size 360x360 with 1 Axes>"
      ]
     },
     "metadata": {
      "needs_background": "light"
     },
     "output_type": "display_data"
    },
    {
     "data": {
      "text/html": [
       "\n",
       "        <script>\n",
       "            function code_toggle_4550194134876715195() {\n",
       "                $('div.cell.code_cell.rendered.selected').find('div.input').toggle();\n",
       "            }\n",
       "\n",
       "            \n",
       "        </script>\n",
       "\n",
       "        <a href=\"javascript:code_toggle_4550194134876715195()\">Show Python code</a>\n",
       "    "
      ],
      "text/plain": [
       "<IPython.core.display.HTML object>"
      ]
     },
     "execution_count": 6,
     "metadata": {},
     "output_type": "execute_result"
    }
   ],
   "source": [
    "x = numpy.linspace(1, 3, 5000)\n",
    "\n",
    "fig,axis=plt.subplots(nrows=1,ncols=1,figsize=(5,5))\n",
    "\n",
    "axis.set_xlim([1.25,2.75])\n",
    "axis.set_ylim([3.9,23])\n",
    "axis.axis('off')\n",
    "\n",
    "y = x**3 + 2\n",
    "axis.plot(x, y,'r-')\n",
    "\n",
    "\n",
    "axis.plot((2,2),(1,10),'k--')\n",
    "axis.plot((1,2),(10,10),'k--')\n",
    "axis.annotate('$x=2$',xy=(2.03,4),c='k')\n",
    "axis.annotate('$y=10$',xy=(1.25,10.5),c='k')\n",
    "\n",
    "axis.plot((1.5,2.5),(5.375,5.375),'b--')\n",
    "axis.plot((2.5,2.5),(5.375,17.625),'b--')\n",
    "axis.plot((1.5,2.5),(5.375,17.625),'b-')\n",
    "axis.annotate('$(1.5,5.375)$',xy=(1.5,4.5),c='b')\n",
    "axis.annotate('$(2.5,17.625)$',xy=(2.53,17.6),c='b')\n",
    "\n",
    "plt.show()\n",
    "code_toggle()"
   ]
  },
  {
   "cell_type": "markdown",
   "metadata": {},
   "source": [
    "Using Equation 1 above\n",
    "\n",
    "$$ \\text{gradient} = \\frac{17.625-5.375}{2.5-1.5} = 12.25 $$\n",
    "\n",
    "but we can see how the slope of the triangle isn't *exactly* the same as the slope of the tangent at $x=2$. Making the triangle smaller should help, so let's make it five times smaller"
   ]
  },
  {
   "cell_type": "code",
   "execution_count": 7,
   "metadata": {
    "jupyter": {
     "source_hidden": true
    }
   },
   "outputs": [
    {
     "data": {
      "image/png": "[encoded data removed]",
      "text/plain": [
       "<Figure size 360x360 with 1 Axes>"
      ]
     },
     "metadata": {
      "needs_background": "light"
     },
     "output_type": "display_data"
    },
    {
     "data": {
      "text/html": [
       "\n",
       "        <script>\n",
       "            function code_toggle_11489298391369888419() {\n",
       "                $('div.cell.code_cell.rendered.selected').find('div.input').toggle();\n",
       "            }\n",
       "\n",
       "            \n",
       "        </script>\n",
       "\n",
       "        <a href=\"javascript:code_toggle_11489298391369888419()\">Show Python code</a>\n",
       "    "
      ],
      "text/plain": [
       "<IPython.core.display.HTML object>"
      ]
     },
     "execution_count": 7,
     "metadata": {},
     "output_type": "execute_result"
    }
   ],
   "source": [
    "x = numpy.linspace(1, 3, 5000)\n",
    "\n",
    "fig,axis=plt.subplots(nrows=1,ncols=1,figsize=(5,5))\n",
    "\n",
    "axis.set_xlim([1.25,2.75])\n",
    "axis.set_ylim([3.9,23])\n",
    "axis.axis('off')\n",
    "\n",
    "y = x**3 + 2\n",
    "axis.plot(x, y,'r-')\n",
    "\n",
    "\n",
    "axis.plot((2,2),(1,10),'k--')\n",
    "axis.plot((1,2),(10,10),'k--')\n",
    "axis.annotate('$x=2$',xy=(2.03,4),c='k')\n",
    "axis.annotate('$y=10$',xy=(1.25,10.5),c='k')\n",
    "\n",
    "axis.plot((1.9,2.1),(8.859,8.859),'b--')\n",
    "axis.plot((2.1,2.1),(8.859,11.261),'b--')\n",
    "axis.plot((1.9,2.1),(8.859,11.261),'b-')\n",
    "axis.annotate('$(1.9,8.859)$',xy=(1.56,8.7),c='b')\n",
    "axis.annotate('$(2.1,11.261)$',xy=(2.12,11),c='b')\n",
    "\n",
    "plt.show()\n",
    "code_toggle()"
   ]
  },
  {
   "cell_type": "markdown",
   "metadata": {},
   "source": [
    "That looks better, but has the estimated value of the gradient changed?\n",
    "\n",
    "$$ \\text{gradient} = \\frac{11.261-8.859}{2.1-1.9} = 12.01$$\n",
    "\n",
    "So, yes, it has got a bit smaller. We could keep going and make our triangle smaller and smaller. If we were doing this on graph paper though we'd run out of space! Let's try and do it *numerically* (i.e. using a computer)"
   ]
  },
  {
   "cell_type": "code",
   "execution_count": 8,
   "metadata": {
    "jupyter": {
     "source_hidden": true
    }
   },
   "outputs": [
    {
     "data": {
      "image/png": "[encoded data removed]",
      "text/plain": [
       "<Figure size 720x360 with 2 Axes>"
      ]
     },
     "metadata": {
      "needs_background": "light"
     },
     "output_type": "display_data"
    }
   ],
   "source": [
    "import numpy, math\n",
    "from matplotlib import pyplot as plt\n",
    "from src import code_toggle\n",
    "%matplotlib inline\n",
    "\n",
    "# define our mathematical function\n",
    "def f(x):\n",
    "    return x**3+2\n",
    "\n",
    "triangle_base=2\n",
    "x=2\n",
    "\n",
    "ix=[]\n",
    "iy=[]\n",
    "while triangle_base>0.0001:\n",
    "    x1=x-(triangle_base/2)\n",
    "    x2=x+(triangle_base/2)\n",
    "    y1=f(x1)\n",
    "    y2=f(x2)\n",
    "    gradient=(y2-y1)/(x2-x1)\n",
    "    ix.append(triangle_base)\n",
    "    iy.append(gradient)\n",
    "    triangle_base/=2\n",
    "\n",
    "ix=numpy.array(ix)\n",
    "iy=numpy.array(iy)\n",
    "\n",
    "fig,axis=plt.subplots(nrows=1,ncols=2,figsize=(10,5))\n",
    "\n",
    "for i in [0, 1]:\n",
    "    axis[i].set_xlabel('width of triangle')\n",
    "    axis[i].set_ylabel('measured gradient',rotation=90)\n",
    "    axis[i].spines['right'].set_color('none')\n",
    "    axis[i].spines['top'].set_color('none')\n",
    "\n",
    "axis[0].spines['left'].set_position('zero')\n",
    "axis[0].set_xlim([0,2.05])\n",
    "axis[0].plot(ix, iy,'r+')\n",
    "\n",
    "axis[1].set_xlim([0.0001,10])\n",
    "axis[1].set_xscale('log')\n",
    "axis[1].plot(ix, iy,'r+')\n",
    "\n",
    "plt.show()"
   ]
  },
  {
   "cell_type": "markdown",
   "metadata": {},
   "source": [
    "Above is how the measured gradient changes as we made the width of the triangle smaller, plotted both with linear and log x-axes. We can clearly see how as the triangle gets smaller and smaller the measured gradient appears to be getting closer and closer to 12. \n",
    "\n",
    "For example, if the width of the triangle is 0.02, then\n",
    "\n",
    "$$\\text{measured gradient} = \\frac{10.12061 - 9.880599}{2.01-1.99} = 12.0001$$\n",
    "\n",
    "We might infer at this point that the numbers are approaching $12.00000....$ but we can't be *sure*. Is there a way to calculate the gradient *exactly*?"
   ]
  },
  {
   "cell_type": "markdown",
   "metadata": {},
   "source": [
    "Let's take a look at what we are doing. In general, we know that $y$ is some function of $x$. This is written:\n",
    "\n",
    "$$y=f(x)$$\n",
    "\n",
    "In our example, $y = x^3 + 2$. Rather than draw a triangle centred on $x=2$, let's draw a triangle between $x=2$ (point $P$) and $x=(2+\\delta x) $ (point $Q$) where $\\delta x$ means \"a small but finite amount of $x$\". You will see people also use an upper case delta i.e. $\\Delta x$ which means the same thing."
   ]
  },
  {
   "cell_type": "code",
   "execution_count": 9,
   "metadata": {},
   "outputs": [
    {
     "data": {
      "image/png": "[encoded data removed]",
      "text/plain": [
       "<Figure size 576x576 with 1 Axes>"
      ]
     },
     "metadata": {
      "needs_background": "light"
     },
     "output_type": "display_data"
    },
    {
     "data": {
      "text/html": [
       "\n",
       "        <script>\n",
       "            function code_toggle_12145633694537107359() {\n",
       "                $('div.cell.code_cell.rendered.selected').find('div.input').toggle();\n",
       "            }\n",
       "\n",
       "            \n",
       "        </script>\n",
       "\n",
       "        <a href=\"javascript:code_toggle_12145633694537107359()\">Show Python code</a>\n",
       "    "
      ],
      "text/plain": [
       "<IPython.core.display.HTML object>"
      ]
     },
     "execution_count": 9,
     "metadata": {},
     "output_type": "execute_result"
    }
   ],
   "source": [
    "x = numpy.linspace(0, 3, 5000)\n",
    "\n",
    "fig,axis=plt.subplots(nrows=1,ncols=1,figsize=(8,8))\n",
    "\n",
    "axis.set_xlim([1,3])\n",
    "axis.set_ylim([0,30])\n",
    "axis.set_xticks([1,2,3])\n",
    "axis.set_xlabel('$x$')\n",
    "axis.set_ylabel('$y$',rotation=0)\n",
    "# axis.spines['left'].set_position('zero')\n",
    "axis.spines['right'].set_color('none')\n",
    "axis.spines['bottom'].set_position('zero')\n",
    "axis.spines['top'].set_color('none')\n",
    "\n",
    "y = x**3 + 2\n",
    "axis.plot(x, y,'r-')\n",
    "\n",
    "\n",
    "axis.plot((2,2),(0,10),'k:')\n",
    "axis.plot((0,2),(10,10),'k:')\n",
    "\n",
    "axis.plot((2,2.5),(10,10),'b--')\n",
    "axis.plot((2.5,2.5),(10,17.625),'b--')\n",
    "axis.plot((2,2.5),(10,17.625),'b-')\n",
    "axis.annotate('$P$',xy=(2,11),c='b')\n",
    "axis.annotate('$Q$',xy=(2.5,18.5),c='b')\n",
    "\n",
    "axis.plot((2.5,2.5),(0,10),'k:')\n",
    "axis.plot((2.5,3),(10,10),'k:')\n",
    "axis.plot((2.5,3),(17.625,17.625),'k:')\n",
    "\n",
    "axis.annotate(s='',xy=(2,5),xytext=(2.5,5),arrowprops=dict(arrowstyle='<->'))\n",
    "axis.annotate('$\\delta x = h$',xy=(2.1,4))\n",
    "\n",
    "axis.annotate(s='',xy=(2.75,10),xytext=(2.75,17.625),arrowprops=dict(arrowstyle='<->'))\n",
    "axis.annotate('$\\delta y$',xy=(2.8,13.7))\n",
    "\n",
    "plt.show()\n",
    "code_toggle()"
   ]
  },
  {
   "cell_type": "markdown",
   "metadata": {},
   "source": [
    "We have a triangle, so the gradient of $PQ$ is simply\n",
    "\n",
    "$$\n",
    "\\frac{\\delta y}{\\delta x} = \\frac{f(x+\\delta x) - f(x)}{\\delta x}\n",
    "$$\n",
    "\n",
    "when we start evaluating this for specific functions, it can start looking confusing due to all the $\\delta x$ terms, so let's replace $\\delta x$ by $h$ to make it simpler.\n",
    "\n",
    "$$\n",
    "\\begin{equation}\n",
    "\\boxed{\\frac{\\delta y}{\\delta x} = \\frac{f(x+h) - f(x)}{h}}\n",
    "\\end{equation}\n",
    "$$\n",
    "\n"
   ]
  },
  {
   "cell_type": "markdown",
   "metadata": {},
   "source": [
    "### Calculating the exact gradient for our example function\n",
    "\n",
    "$$\n",
    "\\begin{eqnarray*}\n",
    "y &=& x^3+2\\\\\n",
    "\\frac{\\delta y}{\\delta x} &=& \\frac{[(x+h)^3 + 2] - [x^3+2]}{h} \\quad &\\text{by substituting our function into the boxed result above}\\\\\n",
    "&=& \\frac{[(x+h)(x+h)^2 +2]- [x^3+2]}{h}\\\\\n",
    "&=& \\frac{[(x+h)(x^2+2hx+h^2) +2]- [x^3+2]}{h}\\\\\n",
    "&=& \\frac{[(x^3 +3x^2h +3xh^2 +h^3 +2]- [x^3+2]}{h}\\\\\n",
    "&=& \\frac{3x^2h +3xh^2 +h^3}{h}\\\\\n",
    "&=& 3x^2 + 3xh + h^2\\\\\n",
    "\\end{eqnarray*}\n",
    "$$\n",
    "\n",
    "The *crucial* thing to notice is that there is only ONE term that doesn't involve $h$ (this is $3x^2$), so if we start making $h$ very small, i.e. let $h \\rightarrow 0$ (this is called 'taking the limit' and it is mentioned in L1) the other two terms also get very small.\n",
    "\n",
    "$$\n",
    "\\frac{\\delta y}{\\delta x} \\biggr \\rvert_{h \\rightarrow 0} = 3x^2\n",
    "$$\n",
    "\n",
    "The symbol $\\frac{\\delta y}{\\delta x} \\biggr \\rvert_{h \\rightarrow 0}$ is written as $\\frac{dy}{dx}$, i.e.\n",
    "\n",
    "$$\n",
    "\\frac{dy}{dx} = 3x^2\n",
    "$$\n",
    "\n",
    "Unlike $\\frac{\\delta y}{\\delta x}$ where two small but finite numbers have been divided, $\\frac{dy}{dx}$ is the *gradient* of $y$ as a function of $x$. Mathematically therefore it is a whole thing and cannot be separated, although mathematical operations can be applied to it e.g. $2 \\times \\frac{dy}{dx}$ makes sense as this is two times the gradient.\n",
    "\n",
    "<div class=\"alert alert-block alert-warning\">\n",
    "<img src=\"images/curtis.jpg\" width=50 title=\"Python Logo\" style=\"vertical-align:top\"/>\n",
    "<b>Warning:</b> It might look like it but $\\frac{dy}{dx}$ is NOT a fraction. You CANNOT \"divide through by $d$\" and $dx \\neq d \\times x$. \n",
    "</div>\n",
    "\n",
    "\"Differentiate with respect to $x$\" is the mathematical operation we are applying to $y$, and we could write this as\n",
    "\n",
    "$$\n",
    "\\frac{d}{dx}(y)\n",
    "$$\n",
    "\n",
    "which lets us more clearly see that $\\frac{d}{dx}$ is the operator which is working on $y$. Hence we could write the differential of $z$ with respect to $x$ as $\\frac{dz}{dx}$. When you think of it this way you can clearly see how the above misconceptions are incorrect."
   ]
  },
  {
   "cell_type": "markdown",
   "metadata": {},
   "source": [
    "Remember that the $\\frac{dy}{dx}$ notation was introduced by Leibniz and now we can see how it is more closely related to the process of considering $\\frac{\\delta y}{\\delta x}$ and then taking the limit as $\\delta x$ (or $h$) $\\rightarrow 0$. If we were to write the above result using Newtonian notation we would write.\n",
    "\n",
    "$$\n",
    "\\begin{eqnarray*}\n",
    "f(x) &=& x^3+2\\\\\n",
    "f'(x) &=& 3x^2\\\\\n",
    "\\end{eqnarray*}\n",
    "$$\n"
   ]
  },
  {
   "cell_type": "markdown",
   "metadata": {},
   "source": [
    "Going back to our example, when $x=2$\n",
    "\n",
    "$$\n",
    "\\frac{dy}{dx} = 3 \\times (2)^2 + 2 = 12\n",
    "$$\n",
    "\n",
    "which proves what we thought!"
   ]
  },
  {
   "cell_type": "markdown",
   "metadata": {},
   "source": [
    "#### Differentiating a polynomial\n",
    "\n",
    "In general, if\n",
    "\n",
    "$$\n",
    "y=ax^n\n",
    "$$\n",
    "\n",
    "where $a$ is a constant and $n$ is a real number, then\n",
    "\n",
    "$$\n",
    "\\frac{dy}{dx} = anx^{n-1}\n",
    "$$\n",
    "\n"
   ]
  },
  {
   "cell_type": "markdown",
   "metadata": {},
   "source": [
    "#### Examples\n",
    "\n",
    "1. \n",
    "\n",
    "\n",
    "$$\n",
    "\\begin{eqnarray*}\n",
    "y &=& x^3 + 2x^0\\\\\n",
    "\\frac{dy}{dx} &=& 3x^2 + 0\\times2\\times x^{-1}\\\\\n",
    "&=& 3x^2\n",
    "\\end{eqnarray*}\n",
    "$$\n",
    "\n",
    "Note "
   ]
  },
  {
   "cell_type": "markdown",
   "metadata": {},
   "source": [
    "2.\n",
    "\n",
    "$$\n",
    "\\begin{eqnarray*}\n",
    "y &=& 7x^5\\\\\n",
    "\\frac{dy}{dx} &=& 7\\times5x^4\\\\\n",
    "&=& 35x^4\n",
    "\\end{eqnarray*}\n",
    "$$"
   ]
  },
  {
   "cell_type": "markdown",
   "metadata": {},
   "source": [
    "3.\n",
    "\n",
    "$$\n",
    "\\begin{eqnarray*}\n",
    "y &=& x^{-2} \\\\\n",
    " &=& \\frac{1}{x^2}\\\\\n",
    "\\frac{dy}{dx} &=& -2x^{-3}\\\\\n",
    "&=& \\frac{-2}{x^3}\n",
    "\\end{eqnarray*}\n",
    "$$"
   ]
  },
  {
   "cell_type": "markdown",
   "metadata": {},
   "source": [
    "4.\n",
    "\n",
    "$$\n",
    "\\begin{eqnarray*}\n",
    "y &=& x^{-1/2}\\\\\n",
    "\\frac{dy}{dx} &=& -\\frac{1}{2}x^{-1/2 -1}\\\\\n",
    "&=& -\\frac{1}{2}x^{-3/2}\n",
    "\\end{eqnarray*}\n",
    "$$"
   ]
  },
  {
   "cell_type": "markdown",
   "metadata": {},
   "source": [
    "### Differentiating a differential\n",
    "\n",
    "Yes, you can do this! If the first differential is the gradient of a function, then it is still a function (i.e. something we can plot on a graph) and so itself has a gradient. The gradient of a gradient is known as the second differential. \n",
    "\n",
    "In motion, how quickly your position is changing with time is your *velocity* (first differential) and how quickly your velocity is changing with time is your *acceleration* (second differential).\n",
    "\n",
    "The notation for the second differential looks confusing but can be understood if you remember that \\frac{d}{dx} is the mathematical operation we are doing.\n",
    "\n",
    "$$\n",
    "\\frac{dy}{dx} = \\frac{d}{dx}(y)\n",
    "$$\n",
    "\n",
    "Hence if we apply the operation twice we get\n",
    "\n",
    "$$\n",
    "\\frac{d}{dx}\\left(\\frac{d}{dx}(y)\\right) = \\frac{d^2}{dx^2}(y) = \\frac{d^2y}{dx^2}\n",
    "$$\n",
    "\n",
    "If you don't realise which part is the operator it is hard to see why the superscripts are put where they are!\n",
    "\n",
    "In Newtonian notation you simply add another dash.\n",
    "\n",
    "$$\n",
    "f'(x) = \\frac{dy}{dx}\\\\\n",
    "f''(x) = \\frac{d^2y}{dx^2}\n",
    "$$"
   ]
  },
  {
   "cell_type": "markdown",
   "metadata": {},
   "source": [
    "### Turning points: maxima, minima and points of inflexion\n",
    "\n",
    "Consider a graph describing population growth:"
   ]
  },
  {
   "cell_type": "code",
   "execution_count": 69,
   "metadata": {
    "jupyter": {
     "source_hidden": true
    }
   },
   "outputs": [
    {
     "data": {
      "image/png": "[encoded data removed]",
      "text/plain": [
       "<Figure size 576x360 with 1 Axes>"
      ]
     },
     "metadata": {
      "needs_background": "light"
     },
     "output_type": "display_data"
    },
    {
     "data": {
      "text/html": [
       "\n",
       "        <script>\n",
       "            function code_toggle_16659945519954484701() {\n",
       "                $('div.cell.code_cell.rendered.selected').find('div.input').toggle();\n",
       "            }\n",
       "\n",
       "            \n",
       "        </script>\n",
       "\n",
       "        <a href=\"javascript:code_toggle_16659945519954484701()\">Show Python code</a>\n",
       "    "
      ],
      "text/plain": [
       "<IPython.core.display.HTML object>"
      ]
     },
     "execution_count": 69,
     "metadata": {},
     "output_type": "execute_result"
    }
   ],
   "source": [
    "x = numpy.linspace(-0.5, 2.5, 5000)\n",
    "\n",
    "fig,axis=plt.subplots(nrows=1,ncols=1,figsize=(8,5))\n",
    "\n",
    "axis.axis('off')\n",
    "axis.set_xlabel('$x$')\n",
    "axis.set_ylabel('$y$',rotation=0)\n",
    "\n",
    "y = x**4 - 3*x**3 + 5*x \n",
    "axis.plot(x, y,'r-')\n",
    "\n",
    "axis.plot(1.5,2.4375,'bo')\n",
    "axis.annotate('C',xy=(1.6,2.4375),c='b')\n",
    "axis.plot((1,2),(3.3125,1.5625),'b:')\n",
    "\n",
    "axis.plot(0,0,'bo')\n",
    "axis.annotate('C = point of inflexion',xy=(0.1,0),c='b')\n",
    "axis.plot((-0.4,0.4),(-2,2),'b:')\n",
    "\n",
    "axis.plot(1,3,'bo')\n",
    "axis.annotate('A = local maximum',xy=(1,3.4),c='b')\n",
    "axis.plot((0,2),(3,3),'b:')\n",
    "\n",
    "axis.plot(1.90587,1.95494,'bo')\n",
    "axis.annotate('B = local minimum',xy=(1.90587,1.404),c='b')\n",
    "axis.plot((0.90587,2.90587),(1.95494,1.95494),'b:')\n",
    "\n",
    "plt.show()\n",
    "\n",
    "code_toggle()"
   ]
  },
  {
   "cell_type": "markdown",
   "metadata": {},
   "source": [
    "A and B are described as *local* since we don't know if there are other turning points elsewhere in this function."
   ]
  },
  {
   "cell_type": "markdown",
   "metadata": {},
   "source": [
    "#### Maxima\n",
    "\n",
    "Examine how the gradient (first differential, $\\frac{dy}{dx}$) and the gradient of the gradient (second differential, $\\frac{d^2y}{dx^2}$) changes as we pass through a maximum:"
   ]
  },
  {
   "cell_type": "code",
   "execution_count": 18,
   "metadata": {
    "jupyter": {
     "source_hidden": true
    }
   },
   "outputs": [
    {
     "data": {
      "image/png": "[encoded data removed]",
      "text/plain": [
       "<Figure size 360x720 with 2 Axes>"
      ]
     },
     "metadata": {
      "needs_background": "light"
     },
     "output_type": "display_data"
    },
    {
     "data": {
      "text/html": [
       "\n",
       "        <script>\n",
       "            function code_toggle_17162440761800292739() {\n",
       "                $('div.cell.code_cell.rendered.selected').find('div.input').toggle();\n",
       "            }\n",
       "\n",
       "            \n",
       "        </script>\n",
       "\n",
       "        <a href=\"javascript:code_toggle_17162440761800292739()\">Show Python code</a>\n",
       "    "
      ],
      "text/plain": [
       "<IPython.core.display.HTML object>"
      ]
     },
     "execution_count": 18,
     "metadata": {},
     "output_type": "execute_result"
    }
   ],
   "source": [
    "x = numpy.linspace(-1.8, 1.8, 5000)\n",
    "\n",
    "fig,axis=plt.subplots(nrows=2,ncols=1,figsize=(5,10))\n",
    "\n",
    "axis[0].axis('off')\n",
    "\n",
    "y = -x**2\n",
    "axis[0].plot(x, y,'r-')\n",
    "\n",
    "axis[0].plot(0,0,'ko')\n",
    "axis[0].annotate('gradient = 0',xy=(0,-0.4),c='k',ha='center')\n",
    "axis[0].plot((-1,1),(0,0),'k:')\n",
    "\n",
    "axis[0].plot(1,-1,'ko')\n",
    "axis[0].annotate('gradient is negative',xy=(1.1,-1),c='k',ha='left')\n",
    "axis[0].plot((0.5,1.5),(0,-2),'k:')\n",
    "\n",
    "axis[0].plot(-1,-1,'ko')\n",
    "axis[0].annotate('gradient is positive',xy=(-1.1,-1),c='k',ha='right')\n",
    "axis[0].plot((-0.5,-1.5),(0,-2),'k:')\n",
    "\n",
    "axis[0].annotate('$\\\\frac{dy}{dx} = 0$',xy=(0,-1),ha='center',fontsize=18,c='r')\n",
    "\n",
    "axis[0].plot((0,0),(0,-3.24),'k--')\n",
    "axis[1].plot((0,0),(0,3.6),'k--')\n",
    "\n",
    "axis[0].plot((-1,-1),(-1,-3.24),'k--')\n",
    "axis[1].plot((-1,-1),(2,3.6),'k--')\n",
    "\n",
    "axis[0].plot((1,1),(-1,-3.24),'k--')\n",
    "axis[1].plot((1,1),(3.6,-2),'k--')\n",
    "\n",
    "\n",
    "dydx=-2*x\n",
    "# axis[1].spines['left'].set_position('zero')\n",
    "axis[1].spines['right'].set_color('none')\n",
    "axis[1].spines['bottom'].set_position('zero')\n",
    "axis[1].spines['top'].set_color('none')\n",
    "axis[1].set_xlabel('$x$')\n",
    "axis[1].set_ylabel('$\\\\frac{dy}{dx}$',rotation=0,fontsize=18,ha='right')\n",
    "axis[1].tick_params(axis='both',which='both',bottom=False,top=False,labelbottom=False,labelleft=False,left=False)\n",
    "axis[1].tick_params(axis='y',which='both',bottom=False,top=False,labelbottom=False)\n",
    "axis[1].annotate('$\\\\frac{d^2y}{dx^2} < 0$',xy=(0,-1.5),ha='right',fontsize=18,c='b')\n",
    "axis[1].plot(x, dydx,'b-')\n",
    "\n",
    "plt.show()\n",
    "\n",
    "code_toggle()"
   ]
  },
  {
   "cell_type": "markdown",
   "metadata": {},
   "source": [
    "At a *maximum* the gradient is *zero*, and the gradient of the gradient has a *negative* slope."
   ]
  },
  {
   "cell_type": "markdown",
   "metadata": {},
   "source": [
    "#### Minima\n",
    "\n",
    "Let's do the same thing for a minima"
   ]
  },
  {
   "cell_type": "code",
   "execution_count": 12,
   "metadata": {
    "jupyter": {
     "source_hidden": true
    }
   },
   "outputs": [
    {
     "data": {
      "image/png": "[encoded data removed]",
      "text/plain": [
       "<Figure size 360x720 with 2 Axes>"
      ]
     },
     "metadata": {
      "needs_background": "light"
     },
     "output_type": "display_data"
    },
    {
     "data": {
      "text/html": [
       "\n",
       "        <script>\n",
       "            function code_toggle_17538571195028634923() {\n",
       "                $('div.cell.code_cell.rendered.selected').find('div.input').toggle();\n",
       "            }\n",
       "\n",
       "            \n",
       "        </script>\n",
       "\n",
       "        <a href=\"javascript:code_toggle_17538571195028634923()\">Show Python code</a>\n",
       "    "
      ],
      "text/plain": [
       "<IPython.core.display.HTML object>"
      ]
     },
     "execution_count": 12,
     "metadata": {},
     "output_type": "execute_result"
    }
   ],
   "source": [
    "x = numpy.linspace(-1.8, 1.8, 5000)\n",
    "\n",
    "fig,axis=plt.subplots(nrows=2,ncols=1,figsize=(5,10))\n",
    "\n",
    "axis[0].axis('off')\n",
    "\n",
    "y = x**2\n",
    "axis[0].plot(x, y,'r-')\n",
    "\n",
    "axis[0].plot(0,0,'ko')\n",
    "axis[0].annotate('gradient = 0',xy=(0,0.4),c='k',ha='center')\n",
    "axis[0].plot((-1,1),(0,0),'k:')\n",
    "\n",
    "axis[0].plot(1,1,'ko')\n",
    "axis[0].annotate('gradient is positive',xy=(1.1,1),c='k',ha='left')\n",
    "axis[0].plot((0.5,1.5),(0,2),'k:')\n",
    "\n",
    "axis[0].plot(-1,1,'ko')\n",
    "axis[0].annotate('gradient is negative',xy=(-1.1,1),c='k',ha='right')\n",
    "axis[0].plot((-0.5,-1.5),(0,2),'k:')\n",
    "\n",
    "axis[0].annotate('$\\\\frac{dy}{dx} = 0$',xy=(0,1),ha='center',fontsize=18,c='r')\n",
    "\n",
    "axis[0].plot((0,0),(0,-0.5),'k--')\n",
    "axis[1].plot((0,0),(0,3.6),'k--')\n",
    "\n",
    "axis[0].plot((1,1),(1,-0.5),'k--')\n",
    "axis[1].plot((1,1),(2,3.6),'k--')\n",
    "\n",
    "axis[0].plot((-1,-1),(1,-0.5),'k--')\n",
    "axis[1].plot((-1,-1),(3.6,-2),'k--')\n",
    "\n",
    "\n",
    "dydx=2*x\n",
    "# axis[1].spines['left'].set_position('zero')\n",
    "axis[1].spines['right'].set_color('none')\n",
    "axis[1].spines['bottom'].set_position('zero')\n",
    "axis[1].spines['top'].set_color('none')\n",
    "axis[1].set_xlabel('$x$')\n",
    "axis[1].set_ylabel('$\\\\frac{dy}{dx}$',rotation=0,fontsize=18,ha='right')\n",
    "axis[1].tick_params(axis='both',which='both',bottom=False,top=False,labelbottom=False,labelleft=False,left=False)\n",
    "axis[1].tick_params(axis='y',which='both',bottom=False,top=False,labelbottom=False)\n",
    "axis[1].annotate('$\\\\frac{d^2y}{dx^2} > 0$',xy=(0,-1.5),ha='left',fontsize=18,c='b')\n",
    "axis[1].plot(x, dydx,'b-')\n",
    "\n",
    "plt.show()\n",
    "\n",
    "code_toggle()"
   ]
  },
  {
   "cell_type": "markdown",
   "metadata": {},
   "source": [
    "This is exactly opposite: at a *minimum* the gradient is *zero* and the gradient of the gradient has a *positive* slope."
   ]
  },
  {
   "cell_type": "markdown",
   "metadata": {},
   "source": [
    "#### Point of inflexion\n",
    "\n",
    "Points of inflexion are a little different. "
   ]
  },
  {
   "cell_type": "code",
   "execution_count": 64,
   "metadata": {},
   "outputs": [
    {
     "data": {
      "image/png": "[encoded data removed]",
      "text/plain": [
       "<Figure size 360x720 with 2 Axes>"
      ]
     },
     "metadata": {
      "needs_background": "light"
     },
     "output_type": "display_data"
    },
    {
     "data": {
      "text/html": [
       "\n",
       "        <script>\n",
       "            function code_toggle_9716355317081834361() {\n",
       "                $('div.cell.code_cell.rendered.selected').find('div.input').toggle();\n",
       "            }\n",
       "\n",
       "            \n",
       "        </script>\n",
       "\n",
       "        <a href=\"javascript:code_toggle_9716355317081834361()\">Show Python code</a>\n",
       "    "
      ],
      "text/plain": [
       "<IPython.core.display.HTML object>"
      ]
     },
     "execution_count": 64,
     "metadata": {},
     "output_type": "execute_result"
    }
   ],
   "source": [
    "x = numpy.linspace(-1.4, 1.4, 5000)\n",
    "\n",
    "fig,axis=plt.subplots(nrows=2,ncols=1,figsize=(5,10))\n",
    "\n",
    "axis[0].axis('off')\n",
    "\n",
    "y = -x**3\n",
    "axis[0].plot(x, y,'r-')\n",
    "\n",
    "axis[0].plot(0,0,'ko')\n",
    "axis[0].annotate('gradient = 0',xy=(0,0.3),c='k',ha='center')\n",
    "axis[0].plot((-0.8,0.8),(0,0),'k:')\n",
    "\n",
    "axis[0].plot(1,-1,'ko')\n",
    "axis[0].annotate('gradient is negative',xy=(1.1,-1),c='k',ha='left')\n",
    "axis[0].plot((0.5,1.5),(0.5,-2.5),'k:')\n",
    "\n",
    "axis[0].plot(-1,1,'ko')\n",
    "axis[0].annotate('gradient is negative',xy=(-1.1,1),c='k',ha='right')\n",
    "axis[0].plot((-0.5,-1.5),(-0.5,2.5),'k:')\n",
    "\n",
    "axis[0].annotate('$\\\\frac{dy}{dx} = 0$',xy=(0,1),ha='center',fontsize=18,c='r')\n",
    "\n",
    "axis[0].plot((0,0),(0,-3.375),'k--')\n",
    "axis[1].plot((0,0),(1,-1),'k--')\n",
    "\n",
    "axis[0].plot((1,1),(-1,-3.375),'k--')\n",
    "axis[1].plot((1,1),(1,-3),'k--')\n",
    "\n",
    "axis[0].plot((-1,-1),(1,-3.5),'k--')\n",
    "axis[1].plot((-1,-1),(1,-3),'k--')\n",
    "\n",
    "\n",
    "dydx=numpy.concatenate([2*x[x<0]-1,-2*x[x>=0]-1])\n",
    "dydx=-2*x**2-1\n",
    "# axis[1].spines['left'].set_position('zero')\n",
    "axis[1].spines['right'].set_color('none')\n",
    "axis[1].spines['bottom'].set_position('zero')\n",
    "axis[1].spines['top'].set_color('none')\n",
    "axis[1].set_xlabel('$x$')\n",
    "axis[1].set_ylabel('$\\\\frac{dy}{dx}$',rotation=0,fontsize=18,ha='right')\n",
    "axis[1].tick_params(axis='both',which='both',bottom=False,top=False,labelbottom=False,labelleft=False,left=False)\n",
    "axis[1].tick_params(axis='y',which='both',bottom=False,top=False,labelbottom=False)\n",
    "axis[1].annotate('$\\\\frac{d^2y}{dx^2} = 0$',xy=(0,-2),ha='center',fontsize=18,c='b')\n",
    "axis[1].plot(x, dydx,'b-')\n",
    "\n",
    "plt.show()\n",
    "\n",
    "code_toggle()"
   ]
  },
  {
   "cell_type": "markdown",
   "metadata": {},
   "source": [
    "In the example shown here the gradient is zero and the gradient of the gradient changes sign as you pass through the point such that it is also zero at the point.\n",
    "\n",
    "A point of inflexion always has \n",
    "\n",
    "$$\n",
    "\\frac{d^2y}{dx^2} = 0\n",
    "$$\n",
    "\n",
    "but $\\frac{dy}{dx}$ is not necessarily zero."
   ]
  },
  {
   "cell_type": "code",
   "execution_count": 76,
   "metadata": {},
   "outputs": [
    {
     "data": {
      "image/png": "[encoded data removed]",
      "text/plain": [
       "<Figure size 360x1080 with 3 Axes>"
      ]
     },
     "metadata": {
      "needs_background": "light"
     },
     "output_type": "display_data"
    },
    {
     "data": {
      "text/html": [
       "\n",
       "        <script>\n",
       "            function code_toggle_14333720856598142709() {\n",
       "                $('div.cell.code_cell.rendered.selected').find('div.input').toggle();\n",
       "            }\n",
       "\n",
       "            \n",
       "        </script>\n",
       "\n",
       "        <a href=\"javascript:code_toggle_14333720856598142709()\">Show Python code</a>\n",
       "    "
      ],
      "text/plain": [
       "<IPython.core.display.HTML object>"
      ]
     },
     "execution_count": 76,
     "metadata": {},
     "output_type": "execute_result"
    }
   ],
   "source": [
    "x = numpy.linspace(-4, 8, 5000)\n",
    "\n",
    "fig,axis=plt.subplots(nrows=3,ncols=1,figsize=(5,15))\n",
    "\n",
    "# axis.axis('off')\n",
    "\n",
    "for i in [0, 1, 2]:\n",
    "    axis[i].set_xlabel('$x$')\n",
    "    # axis.spines['left'].set_position('zero')\n",
    "    axis[i].spines['right'].set_color('none')\n",
    "    axis[i].spines['bottom'].set_position('zero')\n",
    "    axis[i].spines['top'].set_color('none')\n",
    "\n",
    "axis[0].set_ylabel('$y$',rotation=0)\n",
    "axis[1].set_ylabel('$\\\\frac{dy}{dx}$',rotation=0)\n",
    "axis[2].set_ylabel('$\\\\frac{d^2y}{dx^2}$',rotation=0)\n",
    "\n",
    "y = -(x**3)/6 + x**2 + 2*x + 2 \n",
    "axis[0].plot(x, y,'r-')\n",
    "\n",
    "axis[0].annotate('$y$',xy=(-2,15),ha='left',fontsize=18,c='r')\n",
    "axis[1].annotate('$\\\\frac{dy}{dx}$',xy=(-3,2),ha='left',fontsize=18,c='b')\n",
    "axis[2].annotate('$\\\\frac{d^2y}{dx^2}$',xy=(-3,1),ha='left',fontsize=18,c='g')\n",
    "\n",
    "axis[0].plot((2,2),(26/3,-4),'k:')\n",
    "axis[1].plot((2,2),(4,-13),'k:')\n",
    "axis[2].plot((2,2),(6,0),'k:')\n",
    "\n",
    "axis[0].plot(2,26/3,'ro')\n",
    "axis[0].plot(4.8284,16.2091,'ro')\n",
    "axis[0].plot(-0.8284,1.124,'ro')\n",
    "\n",
    "axis[0].plot((4.8284,4.8284),(16.2091,-4),'k:')\n",
    "axis[1].plot((4.8284,4.8284),(4,-13),'k:')\n",
    "axis[2].plot((4.8284,4.8284),(6,-2.8284),'k:')\n",
    "\n",
    "axis[1].plot(2,4,'bo')\n",
    "axis[1].plot(4.8284,0,'bo')\n",
    "axis[1].plot(-0.8284,0,'bo')\n",
    "\n",
    "axis[0].plot((-0.8284,-0.8284),(1.124,-4),'k:')\n",
    "axis[1].plot((-0.8284,-0.8284),(4,-13),'k:')\n",
    "axis[2].plot((-0.8284,-0.8284),(6,2.8284),'k:')\n",
    "\n",
    "axis[2].plot(2,0,'go')\n",
    "axis[2].plot(4.8284,-2.824,'go')\n",
    "axis[2].plot(-0.8284,2.824,'go')\n",
    "\n",
    "\n",
    "y = -(x**2)/2 + 2*x + 2\n",
    "axis[1].plot(x, y,'b-')\n",
    "\n",
    "y = -x + 2\n",
    "axis[2].plot(x, y,'g-')\n",
    "\n",
    "plt.show()\n",
    "\n",
    "code_toggle()"
   ]
  },
  {
   "cell_type": "code",
   "execution_count": null,
   "metadata": {
    "jupyter": {
     "source_hidden": true
    }
   },
   "outputs": [],
   "source": []
  }
 ],
 "metadata": {
  "kernelspec": {
   "display_name": "Python 3",
   "language": "python",
   "name": "python3"
  },
  "language_info": {
   "codemirror_mode": {
    "name": "ipython",
    "version": 3
   },
   "file_extension": ".py",
   "mimetype": "text/x-python",
   "name": "python",
   "nbconvert_exporter": "python",
   "pygments_lexer": "ipython3",
   "version": "3.7.8"
  }
 },
 "nbformat": 4,
 "nbformat_minor": 4
}
