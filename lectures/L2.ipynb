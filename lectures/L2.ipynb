{
 "cells": [
  {
   "cell_type": "markdown",
   "metadata": {},
   "source": [
    "# Lecture 2 - Indices and Logarithms\n",
    "\n",
    "1. "
   ]
  },
  {
   "cell_type": "code",
   "execution_count": null,
   "metadata": {},
   "outputs": [],
   "source": [
    "import numpy, math\n",
    "from matplotlib import pyplot as plt\n",
    "from src import code_toggle\n",
    "%matplotlib inline"
   ]
  },
  {
   "cell_type": "code",
   "execution_count": null,
   "metadata": {},
   "outputs": [],
   "source": [
    "%%javascript\n",
    "MathJax.Hub.Config({\n",
    "    TeX: { equationNumbers: { autoNumber: \"AMS\" } }\n",
    "});"
   ]
  },
  {
   "cell_type": "markdown",
   "metadata": {},
   "source": [
    "<div class=\"alert alert-block alert-warning\">\n",
    "<b>Brainteaser:</b> By moving only one number, rearrange $62 - 1 = 63$ so that it is numerically correct. Please send answers to <a href=\"mailto:philip.fowler@ndm.ox.ac.uk\">philip.fowler@ndm.ox.ac.uk</a> before the next lecture.\n",
    "</div>"
   ]
  },
  {
   "cell_type": "markdown",
   "metadata": {},
   "source": [
    "## Key mathematical concepts (continued)\n",
    "\n",
    "### Examples of Good and Bad Graphs\n",
    "\n",
    "FIXME: include here?"
   ]
  },
  {
   "cell_type": "markdown",
   "metadata": {},
   "source": [
    "### Inequalities\n",
    "\n",
    "FIXME: include here?"
   ]
  },
  {
   "cell_type": "markdown",
   "metadata": {},
   "source": [
    "### What is an equation?\n",
    "\n",
    "The $=$ sign in this expression is an **equality** i.e. the left-hand side (LHS) is identical to the right-hand side. \n",
    "\n",
    "$$\n",
    "y = a^2 + b^2\n",
    "$$\n",
    "\n",
    "\n",
    "To keep this equality, if I do a mathematical operation on one side, I **must** do it to the other side. \n",
    "\n",
    "<div class=\"alert alert-block alert-info\">\n",
    "<b>Tip:</b> Clearly layout your mathematics with <ol>\n",
    "    <li>each equation is on its own line on the page</li>\n",
    "    <li>the = signs of each equation lie underneath one another.</li>\n",
    "    <li>the operation you are applying to each side of the equation clearly identified</li>\n",
    "</ol> </div>\n",
    "\n",
    "$$\n",
    "\\begin{eqnarray*}\n",
    "y &=& a^2 + b^2 &\\text{operation: subtract 4 from both sides}\\\\\n",
    "y-4 &=& a^2 + b^2 -4 & \\text{operation: add 4}\\\\\n",
    "y &=& a^2 + b^2 & \\text{operation: take the square root of both sides}\\\\\n",
    "\\sqrt{y} &=& \\sqrt{a^2 + b^2}\\\\\n",
    "\\end{eqnarray*}\n",
    "$$\n",
    "\n",
    "<div class=\"alert alert-block alert-danger\">\n",
    "<b>Common misconception:</b> the square root of $(a^2 + b^2) \\ne \\sqrt{a^2} + \\sqrt{b^2}$. We can simplify $\\sqrt{a^2} + \\sqrt{b^2} = a+b$, and hence if this was true, then $y=(a+b)^2$ but when we expand the bracket on the RHS we get $y=a^2+2ab+b^2$ which is NOT what we started with so this is wrong.\n",
    "</div>\n",
    "\n"
   ]
  },
  {
   "cell_type": "markdown",
   "metadata": {},
   "source": [
    "### What is a limit?\n",
    "\n",
    "A limit is the value ($L$) that a function ($f(n)$) approaches as the variable ($n$) in the function is allowed to approach ('get more and more like') a specified value ($c$, often zero or an infinity). It is written like\n",
    "\n",
    "$$\\lim_{n \\to c} f(n) = L$$\n",
    "\n",
    "$$f(n) \\to L$$\n",
    "For example, what are \n",
    "\n",
    "$$\n",
    "\\begin{eqnarray*}\n",
    "\\lim_{x \\to \\infty} x^2 &=&\\\\\n",
    "\\lim_{x \\to 0} \\frac{1}{x} &=&\\\\\n",
    "\\lim_{x \\to 1} \\frac{1}{(x-1)^2} &=&\\\\\n",
    "\\end{eqnarray*}\n",
    "$$\n"
   ]
  },
  {
   "cell_type": "markdown",
   "metadata": {},
   "source": [
    "## Indices\n",
    "\n",
    "\n",
    "In an expression like $b^n$, $b$ is called the **base** and $n$ is called the **index** or **power**. (It can also be called the exponent but this can be confusing when we talk about exponential functions later so we will try not to use this word).\n",
    "\n",
    "The index tells you how many times to multiply the base. For example, here the index is 3, hence the base, 5, is multiplied three times.\n",
    "\n",
    "$$5^3 = 5 \\times 5 \\times 5$$\n",
    "\n",
    "There are six laws that help us simplify complex algebraic expressions involving multiple indices\n",
    "\n",
    "### Laws of Indices\n",
    "\n",
    "#### 1. Multiplying terms with the same base\n",
    "\n",
    "If:\n",
    "\n",
    "$$\n",
    "\\begin{eqnarray*}\n",
    "5^3 \\times 5^2 &=& (5 \\times 5 \\times 5) \\times (5 \\times 5)\\\\\n",
    "    &=& 5^5\n",
    "\\end{eqnarray*}\n",
    "$$\n",
    "\n",
    "So, *by extension*:\n",
    "\n",
    "$$\n",
    "\\begin{equation}\n",
    "\\boxed{a^n \\times a^m = a^{n+m}}\n",
    "\\end{equation}\n",
    "$$"
   ]
  },
  {
   "cell_type": "markdown",
   "metadata": {},
   "source": [
    "#### 2. Dividing terms with the same base\n",
    "\n",
    "If:\n",
    "\n",
    "$$\n",
    "\\begin{eqnarray*}\n",
    "\\frac{5^3}{5^2} &=& \\frac{5 \\times 5 \\times 5}{5 \\times 5}\\\\\n",
    "    &=& 5^{3-2}\\\\\n",
    "    &=& 5^1\\\\\n",
    "    &=& 5\n",
    "\\end{eqnarray*}\n",
    "$$\n",
    "\n",
    "So, *by extension*:\n",
    "\n",
    "$$\n",
    "\\begin{equation}\n",
    "\\boxed{a^n \\div a^m = \\frac{a^n}{a^m} = a^{n-m}}\n",
    "\\end{equation}\n",
    "$$"
   ]
  },
  {
   "cell_type": "markdown",
   "metadata": {},
   "source": [
    "#### 3. Raising to a power\n",
    "\n",
    "If:\n",
    "\n",
    "$$\n",
    "\\begin{eqnarray*}\n",
    "(5^3)^2 &=& (5 \\times 5 \\times 5)^2\\\\\n",
    "    &=& 5 \\times 5 \\times 5 \\times 5 \\times 5 \\times 5\\\\\n",
    "    &=& 5^6\\\\\n",
    "    &=& 5^{3 \\times 2}\\\\\n",
    "    &=& 15,625\n",
    "\\end{eqnarray*}\n",
    "$$\n",
    "\n",
    "So, *by extension*:\n",
    "\n",
    "$$\n",
    "\\begin{equation}\n",
    "\\boxed{(a^n)^m = a^{nm}}\n",
    "\\end{equation}\n",
    "$$\n",
    "\n",
    "We can check that the above hold by substituting integers into each of the three expressions. What about the cases where $m$ and $n$ are fractions?"
   ]
  },
  {
   "cell_type": "markdown",
   "metadata": {},
   "source": [
    "#### 4. Negative indices\n",
    "\n",
    "From equation 2, \n",
    "\n",
    "$$a^3 \\div a^5 = a^{-2}$$\n",
    "\n",
    "But:\n",
    "\n",
    "$$a^3 \\div a^5 = \\frac{a \\times a \\times a}{a \\times a \\times a \\times a \\times a} = \\frac{1}{a^2}$$\n",
    "\n",
    "Therefore:\n",
    "$$\\begin{equation}\\boxed{a^{-n} = \\frac{1}{a^n}}\\end{equation}$$"
   ]
  },
  {
   "cell_type": "markdown",
   "metadata": {},
   "source": [
    "#### 5. Zero index\n",
    "\n",
    "Also from equation 2,\n",
    "\n",
    "$$a^3 \\div a^3 = a^{3-3} = a^0$$\n",
    "\n",
    "but we know that\n",
    "\n",
    "$$\\frac{a^3}{a^3} = 1$$\n",
    "\n",
    "Therefore:\n",
    "$$\\begin{equation}\\boxed{a^0 = 1}\\end{equation}$$"
   ]
  },
  {
   "cell_type": "markdown",
   "metadata": {},
   "source": [
    "#### 6. Fractional indices\n",
    "\n",
    "From equation 1,\n",
    "\n",
    "$$a^1 = a^{1/2} \\times a^{1/2}$$\n",
    "\n",
    "hence\n",
    "\n",
    "$$a^{1/2} = \\sqrt{a}$$\n",
    "\n",
    "likewise\n",
    "\n",
    "$$a^{3/4} = a^{1/4} \\times a^{1/4} \\times a^{1/4}$$\n",
    "\n",
    "So, *by extension*\n",
    "\n",
    "$$\\begin{equation}\n",
    "\\boxed{a^{n/m} = \\sqrt[m]{a^n} = \\left ( \\sqrt[m]{a} \\right )^n}\n",
    "\\end{equation}$$\n",
    "\n",
    "Examples:\n",
    "\n",
    "$$\n",
    "\\begin{eqnarray*}\n",
    "a^{n/m} &=& a^{3/4}\\\\\n",
    "        &=& \\sqrt[4]{a^3}\\\\\n",
    "        &=& \\left ( \\sqrt[4]{a} \\right )^3\n",
    "\\end{eqnarray*}        \n",
    "$$\n",
    "\n",
    "\\begin{eqnarray*}\n",
    "a^{n/m} &=& 8^{2/3}\\\\\n",
    "        &=& \\sqrt[3]{8^2}\\\\\n",
    "        &=& \\left ( \\sqrt[3]{8} \\right )^2\\\\\n",
    "        &=&\n",
    "\\end{eqnarray*}  "
   ]
  },
  {
   "cell_type": "markdown",
   "metadata": {},
   "source": [
    "### Order of Operation\n",
    "\n",
    "For indices, it does not matter what order the mathematical operations are performed in.\n",
    "\n",
    "(see Booklet Section 2 or Croft and Davidson, Chapters 7 \\& 20)\n",
    "\n",
    "Examples:\n",
    "\n",
    "(i) $$\n",
    "\\begin{eqnarray*}\n",
    "y &=& 8^{1/6} \\times 2^6 \\times 2^{-1/2}\\\\\n",
    "  &=& 2^{3/6} \\times 2^6 \\times 2^{-1/2}\\\\\n",
    "  &=& 2^{1/2} \\times 2^6 \\times 2^{-1/2}\\\\\n",
    "  &=& 2^6\\\\\n",
    "  &=& 4^3\\\\\n",
    "  &=& 64\n",
    "\\end{eqnarray*}\n",
    "$$\n",
    "\n",
    "(ii) $$\n",
    "\\begin{eqnarray*}\n",
    "y &=& \\frac{(p^{1/3})^2 \\times (p^2)^{1/3}}{\\sqrt[3]{p}}\\\\\n",
    "  &=& p^{2/3} \\times p^{2/3} \\times p^{-1/3}\\\\\n",
    "  &=& p^{4/3} \\times p^{-1/3}\\\\\n",
    "  &=& p\n",
    "\\end{eqnarray*}\n",
    "$$\n"
   ]
  },
  {
   "cell_type": "markdown",
   "metadata": {},
   "source": [
    "Different bases, same index\n",
    "\n",
    "$$\n",
    "\\begin{eqnarray*}\n",
    "(a.b)^n &=& a^nb^n\\\\\n",
    "\\left ( \\frac{a}{b} \\right )^n &=& \\frac{a^n}{b^n}\n",
    "\\end{eqnarray*}\n",
    "$$"
   ]
  },
  {
   "cell_type": "markdown",
   "metadata": {},
   "source": [
    "<div class=\"alert alert-block alert-danger\">\n",
    "<b>Warning:</b> Below are some common misconceptions!\n",
    "</div>\n",
    "\n",
    "$$\n",
    "\\begin{eqnarray*}\n",
    "(a +b)^n \\neq a^n + b^n\\\\\n",
    "(a -b)^n \\neq a^n - b^n\\\\\n",
    "\\end{eqnarray*}\n",
    "$$\n",
    "\n",
    "(Remember you can always test a law/rule using some real numbers) "
   ]
  },
  {
   "cell_type": "markdown",
   "metadata": {},
   "source": [
    "### Multiplying out brackets\n",
    "\n",
    "It is very common to have two polynomial functions multiplied together. Each term in the first bracket must be multiplied by each term in the second bracket, hence if there are $n$ terms in the first bracket and $m$ in the second, we should get $n \\times m$ terms before simplication.\n",
    "\n",
    "$$\n",
    "(p+q)(s+t) = ps + pt + qs + qt\n",
    "$$\n",
    "\n",
    "There are some cases that it can be helpful to remember as they are very common\n",
    "\n",
    "$$\n",
    "\\begin{eqnarray*}\n",
    "(a+b)^2 &=& (a+b)(a+b) &=& a^2 + 2ab + b^2\\\\\n",
    "(a-b)^2 &=& (a-b)(a-b) &=& a^2 - 2ab + b^2\\\\\n",
    "(a+b)(a-b) &=& a^2 - b^2\\\\\n",
    "\\end{eqnarray*}\n",
    "$$\n",
    "\n",
    "The last expression is usually called the *'difference of two squares'*"
   ]
  },
  {
   "cell_type": "markdown",
   "metadata": {},
   "source": [
    "## Logathrims\n",
    "\n",
    "### Definition\n",
    "\n",
    "Taking the logathrim is the reverse mathematical operation to indexation ('raising to the power').\n",
    "\n",
    "A **logathrim** is another word for an **index** or **power**. For example in the expression \n",
    "$$2^3=8$$\n",
    "\n",
    "The number 3 is the *power* to which the *base* 2 must be raised to yield 8. An exactly equivalent description is 3 is the *logathrim* which with a *base* of 2 yields 8. This is written\n",
    "\n",
    "$$3 = \\log_2 8$$\n",
    "\n",
    "In general\n",
    "\n",
    "$$\n",
    "\\text{If} \\quad y = a^x \\quad \\text{then} \\quad  x = \\log_a{y}\n",
    "$$\n",
    "\n",
    "It is more usual to think of it written this way \n",
    "\n",
    "$$\n",
    "\\boxed{\\text{If} \\quad x = a^y \\quad \\text{then} \\quad  y = \\log_a{x}}\n",
    "$$\n",
    "\n",
    "'Taking the logarithm' **undoes** 'raising to a power':\n",
    "\n",
    "$$\\log_aa^r = r$$\n",
    "\n",
    "and 'raising to a power' **undoes** 'taking the logarithm'\n",
    "\n",
    "$$a^{\\log_ab} = b$$\n",
    "\n",
    "Hence our description of 'taking the logarithim' as the mathematical inverse of indexation / 'raising to the power' (and exponentiation, although we are trying not to use that word to avoid confusion when we reach the expoential function)."
   ]
  },
  {
   "cell_type": "markdown",
   "metadata": {},
   "source": [
    "### What are logarithms used for?\n",
    "\n",
    "They are commonly used for describing phenomena which have a very large dynamic range.\n",
    "\n",
    "For example, the volume of sound (bel), pitch (octave), earthquakes (Richter scale), pH.\n",
    "\n",
    "Bels, pH and the Richter scale all use logarithms with base 10, hence an increase of one unit is equivalent a factor of ten. For example, if a sound is measured to be 1 bel (or 10 decibels) louder than another, then its power is ten times the other sound. Or a solution with a pH of 6 has ten times the concentration of hydrogen ions of a solution with pH 7.\n",
    "\n",
    "Octaves use base 2, hence the higher of two notes separated by a single octave has exactly double the frequency of the lower note."
   ]
  },
  {
   "cell_type": "markdown",
   "metadata": {},
   "source": [
    "### Getting a feel for logarithms\n",
    "\n",
    "Question: What is $x$ if $10^x = 7$? \n",
    "\n",
    "Answer: $x$ must lie in the range $0 < x < 1$ since $10^0 = 1$ and $10^1=10$.\n",
    "\n",
    "Generally we know that if $10^x = y$ then $\\log_{10}y=x$.\n",
    "\n",
    "Hence in base 10, if\n",
    "$$\n",
    "\\begin{eqnarray*}\n",
    "1 &\\le y <& 10 &\\quad \\text{then} \\quad &0 &\\le x <& 1\\\\\n",
    "10 &\\le y <& 100 &\\quad \\text{then} \\quad &1 &\\le x <& 2\\\\\n",
    "0.1 &\\le y <& 1 &\\quad \\text{then} \\quad &-1 &\\le x <& 0\\\\\n",
    "0.01 &\\le y <& 0.1 &\\quad \\text{then} \\quad &-2 &\\le x <& -1\\\\\n",
    "\\end{eqnarray*}\n",
    "$$"
   ]
  },
  {
   "cell_type": "markdown",
   "metadata": {},
   "source": [
    "<div class=\"alert alert-block alert-warning\">\n",
    "<b>Question 1:</b> What is $x$ if $y=10^x = 40000000000?$<br>\n",
    "<b>Question 2:</b> What is $x$ if $y=10^x = 0.004$?\n",
    "</div>"
   ]
  },
  {
   "cell_type": "markdown",
   "metadata": {},
   "source": [
    "#### Example\n",
    "If\n",
    "\n",
    "$$\n",
    "\\left (\\frac{1}{5} \\right)^{-2} = 25\n",
    "$$\n",
    "\n",
    "then $-2$ is the *logarithm* which with a *base* of $1/5$ gives $25$, or equivalently to above\n",
    "\n",
    "$$\n",
    "-2 = \\log_{1/5} 25\n",
    "$$\n",
    "\n",
    "The base of a logarithm may be any number. Commonly logarithms have **base 10**. From a calculator (or from tables in a book) it is found that the logarithm (to the base 10) of 5 is $0.6690$, hence\n",
    "\n",
    "$$\n",
    "10^{0.6690} = 5\n",
    "$$\n",
    "\n",
    "or equivalently,\n",
    "\n",
    "$$\n",
    "\\log_{10} 5 = 0.6990\n",
    "$$\n",
    "\n",
    "Base 10 is so common that this can be written as\n",
    "\n",
    "$$\n",
    "\\log 5 = 0.6990\n",
    "$$\n",
    "\n",
    "But any base other than 10 **must** be stated explicitly e.g.\n",
    "\n",
    "$$\n",
    "\\log_3 9 = 2\n",
    "$$"
   ]
  },
  {
   "cell_type": "markdown",
   "metadata": {},
   "source": [
    "### Laws of Logarithms\n",
    "\n",
    "#### 1. Taking the logarithm\n",
    "\n",
    "Taking the logarithm **undoes** (i.e. is the inverse operation to) raising to a power, i.e.\n",
    "\n",
    "$$\n",
    "\\boxed{\\log_a a^r = r}\n",
    "$$\n",
    "\n",
    "Hence, raising to a power **undoes** taking the logarithm \n",
    "\n",
    "$$\n",
    "\\boxed{a^{\\log_a b} = b}\n",
    "$$\n"
   ]
  },
  {
   "cell_type": "markdown",
   "metadata": {},
   "source": [
    "#### 2. Adding logarithms with the same base"
   ]
  },
  {
   "cell_type": "code",
   "execution_count": null,
   "metadata": {},
   "outputs": [],
   "source": []
  }
 ],
 "metadata": {
  "kernelspec": {
   "display_name": "Python 3",
   "language": "python",
   "name": "python3"
  },
  "language_info": {
   "codemirror_mode": {
    "name": "ipython",
    "version": 3
   },
   "file_extension": ".py",
   "mimetype": "text/x-python",
   "name": "python",
   "nbconvert_exporter": "python",
   "pygments_lexer": "ipython3",
   "version": "3.7.8"
  }
 },
 "nbformat": 4,
 "nbformat_minor": 4
}
