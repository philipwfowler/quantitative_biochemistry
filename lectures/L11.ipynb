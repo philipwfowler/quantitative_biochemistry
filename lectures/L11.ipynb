{
 "cells": [
  {
   "cell_type": "markdown",
   "metadata": {},
   "source": [
    "# Lecture 11 - Differential Equations\n",
    "\n",
    "1. What is a differential equation?\n",
    "2. What is a solution to a differential equation?\n",
    "3. How do we find solutions to a differential equation?\n",
    "4. Some examples"
   ]
  },
  {
   "cell_type": "code",
   "execution_count": 1,
   "metadata": {},
   "outputs": [],
   "source": [
    "import numpy, math\n",
    "from matplotlib import pyplot as plt\n",
    "from src import code_toggle\n",
    "%matplotlib inline"
   ]
  },
  {
   "cell_type": "markdown",
   "metadata": {},
   "source": [
    "## Wake up exercises\n",
    "\n",
    "<div class=\"alert alert-block alert-danger\">\n",
    "<b>Warning:</b> No calculators!\n",
    "</div>\n",
    "\n",
    "\\begin{align*}\n",
    "&1.\\quad & \\frac{dy}{dx} &= 0 &\\text{Find } y &=\\\\\n",
    "&2.\\quad & \\frac{dy}{dx} &= 20x &\\text{Find } y&=\\\\\n",
    "&3. \\quad & \\frac{dy}{dx} &= \\frac{1}{x} &\\text{Find } y&=\\\\\n",
    "&4. \\quad & \\frac{dy}{dx} &= \\sin x &\\text{Find } y&=\\\\\n",
    "&5. \\quad &&& \\frac{6.1 \\times 10^{-3}}{7 \\times 10^5} &=\\\\ \n",
    "&6. \\quad &&& \\frac{6.63 \\times 10^{-34} \\times 3 \\times 10^8}{500 \\times 10^{-9}} &=\\\\\n",
    "&7. \\quad &&& \\sqrt {0.00064} &=\\\\\n",
    "&8. \\quad &&& \\int_0^6 {1\\over e^x}\\, dx&=\\\\\n",
    "&9. \\quad & \\frac{y}{x} &= e^x, &\\text{Find } y&=\\\\\n",
    "&10.\\quad &&& \\frac{9^0}{10000000} &=\\\\ \n",
    "\\end{align*}\n",
    "11. What is the molar concentration of a solution of 500 ml water to which I have added 2.2 g KCl? (The molar mass of KCl is approx. 66 g/mol)\n"
   ]
  },
  {
   "cell_type": "markdown",
   "metadata": {},
   "source": [
    "## What is a differential equation?\n",
    "\n",
    "If $y$ depends on $x$, then a differential equation in $x$ and $y$ is one that relates one or more derivatives e.g. $\\frac{dy}{dx}$ to $x$, to $y$ or to both. For example \n",
    "\n",
    "$$ \\frac{dy}{dx} = f(x,y) $$"
   ]
  },
  {
   "cell_type": "markdown",
   "metadata": {},
   "source": [
    "## What is a solution to a differential equation?\n",
    "\n",
    "For the above case, $y$ is a solution if its derivative w.r.t. $x$ = $f(x,y)$\n",
    "  \n",
    "To solve it, we must find $y$, i.e.\n",
    "\n",
    "$$ y = \\, ? $$\n",
    "\n",
    "But there are many solutions. Graph passes through one or more points already determined by theory or experiment: 'initial conditions'"
   ]
  },
  {
   "cell_type": "markdown",
   "metadata": {},
   "source": [
    "## How do we find these solutions?\n",
    "\n",
    "We use:\n",
    "\n",
    "<div class=\"alert alert-block alert-info\">\n",
    "<b></b> Method of Separation of Variables.</div>\n",
    "\n",
    "This states that we must apply each of these mathematical operations in turn to a differential equation in order to find its solution\n",
    "\n",
    "<div class=\"alert alert-block alert-info\">\n",
    "1. Separate<br>\n",
    "2. Integrate<br>\n",
    "3. Simplify<br>\n",
    "4. Initial conditions<br>\n",
    "</div>\n",
    "\n",
    "The acronym **SISI** can help you remember the steps and the order to apply them!\n",
    "Note that not all steps may be able to be applied e.g. the equation may already be separated or we may not have any initial conditions. \n",
    "\n",
    "These are best understood via some simple examples"
   ]
  },
  {
   "cell_type": "markdown",
   "metadata": {},
   "source": [
    "## Simple Examples\n",
    "\n",
    "### 1. First derivative is zero\n",
    "\n",
    "$$\\begin{eqnarray}\n",
    "\\frac{dy}{dx} &=& 0 &\\text{equation already SEPARATED, so INTEGRATE both sides w.r.t. x}\\\\\n",
    "\\int \\frac{dy}{dx} . dx &=& \\int 0.\\, dx\\\\\n",
    "      \\int dy  &=& \\int 0.\\, dx\\\\\n",
    "      y +k &=& A &\\text{$A$ and $k$ are constants}\\\\\n",
    "      y &=& A-k\\\\\n",
    "      y &=& B    &\\text{SIMPLIFY by writing $A-k$ as $B$, no INITIAL CONDITIONS to apply}\\\\  \n",
    "\\end{eqnarray}$$"
   ]
  },
  {
   "cell_type": "markdown",
   "metadata": {},
   "source": [
    "### 2. First derivative is a constant, $c$\n",
    "\n",
    "$$\\begin{eqnarray}\n",
    "\\frac{dy}{dx} &=& c &\\text{equation already SEPARATED, so INTEGRATE both sides w.r.t. x}\\\\\n",
    "\\int \\frac{dy}{dx} . dx &=& \\int c.\\, dx\\\\\n",
    "      \\int dy  &=& \\int c.\\, dx\\\\\n",
    "      y +k &=& cx + A &\\text{$A$ and $k$ are constants}\\\\\n",
    "      y &=& cx + A - k\\\\\n",
    "      y &=& cx + B    &\\text{SIMPLIFY by writing $A-k$ as $B$, no INITIAL CONDITIONS to apply}\\\\  \n",
    "\\end{eqnarray}$$"
   ]
  },
  {
   "cell_type": "markdown",
   "metadata": {},
   "source": [
    "### 3. First derivative is a function of $x$\n",
    "\n",
    "$$\n",
    "\\boxed{\\frac{dy}{dx} = x + c}\n",
    "$$\n",
    "\n",
    "$$\\begin{eqnarray}\n",
    "\\frac{dy}{dx} &=& x + c &\\text{equation already SEPARATED, so INTEGRATE both sides w.r.t. x}\\\\\n",
    "\\int \\frac{dy}{dx} . dx &=& \\int (x+c)\\, dx\\\\\n",
    "      \\int dy  &=& \\int (x+c)\\, dx\\\\\n",
    "      y +k &=& \\frac{x^2}{2} + cx + A &\\text{$A$ and $k$ are constants}\\\\\n",
    "      y &=& \\frac{x^2}{2} + cx + A - k &\\text{SIMPLIFY by writing $A-k$ as $B$, no INITIAL CONDITIONS to apply}\\\\\n",
    "\\end{eqnarray}$$\n",
    "\n",
    "Hence the general solution is \n",
    "\n",
    "$$\n",
    "\\boxed{y = \\frac{x^2}{2} + cx + B}\n",
    "$$"
   ]
  },
  {
   "cell_type": "markdown",
   "metadata": {},
   "source": [
    "## More complex examples\n",
    "\n",
    "### 4. First derivative is a polynomial in $x$ and $y$ \n",
    "\n",
    "$$\n",
    "\\boxed{\\frac{dy}{dx} = 5x^{3/2}y}\n",
    "$$\n",
    "\n",
    "\\begin{eqnarray*}\n",
    "\\frac{dy}{dx} &=& 5x^{3/2}y &\\text{first SEPARATE the variables}\\\\\n",
    "\\frac{1}{y}\\frac{dy}{dx} &=& 5x^{3/2} &\\text{now INTEGRATE both sides w.r.t. x}\\\\\n",
    "\\int \\frac{1}{y}\\frac{dy}{dx}.dx &=& \\int 5x^{3/2}dx\\\\\n",
    "\\ln |y| + A &=& \\frac{5x^{3/2}}{5/2} + B & \\text{where $A$ and $B$ are constants of integration}\\\\\n",
    "\\ln |y| &=& 2x^{5/2} + C & \\text{we have SIMPLIFIED by writing $C=B-A$}\\\\\n",
    "|y| &=& e^{2x^{5/2}+C} &\\text{we can SIMPLIFY further by exponentiating both sides..}\\\\\n",
    "|y| &=& Be^{2x^{5/2}} &\\text{..and defining $B=e^C$}\\\\\n",
    "\\end{eqnarray*}\n",
    "\n",
    "The general solution is \n",
    "\n",
    "$$\n",
    "\\boxed{y = \\pm Be^{2x^{5/2}}}\n",
    "$$"
   ]
  },
  {
   "cell_type": "markdown",
   "metadata": {},
   "source": [
    "### 5. First derivative is a more complex function of $x$ and $y$\n",
    "\n",
    "$$\\begin{eqnarray*}\n",
    "e^x\\frac{dy}{dx} &=& \\frac{x}{y} &\\text{first SEPARATE the variables}\\\\\n",
    "y \\frac{dy}{dx} &=& \\frac{x}{e^x} \\\\\n",
    "y \\frac{dy}{dx} &=& x e^{-x} &\\text{now INTEGRATE both sides w.r.t. $x$}\\\\\n",
    "\\int y \\frac{dy}{dx} dx &=& \\int x e^{-x} dx\\\\\n",
    "\\end{eqnarray*}$$\n",
    "\n",
    "At this point we need to recognise that the RHS can be done using integration by parts if we identify $u=x$ and $v'=e^{-x}$!\n",
    "\n",
    "$$\\begin{eqnarray*}\n",
    "\\frac{y^2}{2} + c_1 &=& -x.e^{-x} + \\int e^{-x}.dx \\\\\n",
    "&=& -xe^{-x} - e^{-x} + c_2 &\\text{$c_1$ and $c_2$ are constants of integration. Now SIMPLIFY.}\\\\\n",
    "y^2 &=& -2e^{-x}(1+x) + c_3 &\\text{where $c_3=2(c_3=c_1)$}\\\\\n",
    "y &=& \\pm \\sqrt{-2e^{-x}(1+x) + c_3} &\\text{could choose to write in this form}\\\\\n",
    "\\end{eqnarray*}$$\n"
   ]
  },
  {
   "cell_type": "markdown",
   "metadata": {},
   "source": [
    "## Biochemical processes where the rate depends on the amount\n",
    "\n",
    "There are many processes that occur in Nature where the **rate of growth** (or **rate of decay**) of a bacterium or compound or element is constant (i.e. does not change with time).\n",
    "\n",
    "Let's take the rate of decay; we can write an equation for this\n",
    "\n",
    "$$\n",
    "\\frac{d [A]}{dt} = -k \n",
    "$$\n",
    "\n",
    "where $[A]$ is the concentration of compound A and $t$ is time. The minus sign is there because $k$ is a positive constant and the first derivative must be negative since this is decay i.e. the amount of A is decreasing with time.\n",
    "\n",
    "Once we have separated (which there is no need here) we can classify this equation by the largest power of the independent variable (the variable we will have to integrate w.r.t. in a moment, which here is $t$, time).\n",
    "\n",
    "There are NO terms involving $t$ on the right hand side, but since we can write the RHS as $-kt^0$ (as anything to the power zero is 1), then the largest power of the independent variable is zero.\n",
    "\n",
    "This is therefore described as a **zeroth-order process**.\n",
    "\n",
    "\n",
    "$$\n",
    "\\begin{eqnarray*}\n",
    "\\frac{d [A]}{dt} &=& -k &\\text{no integrate both sides w.r.t $t$}\\\\\n",
    "\\int \\frac{d [A]}{dt}. dt &=& \\int -k\\, dt &\\text{we can take $k$ outside the integrand as it is constant}\\\\\n",
    "\\int d[A] &=& -k \\int dt\\\\\n",
    "[A_t] &=& -kt +c &\\text{note in the form $y=mx+c$}\\\\\n",
    "\\end{eqnarray*}\n",
    "$$\n",
    "\n",
    "To find out what value $c$ takes, we have to supply some initial conditions. If we say that when $t=0$, $[A]=[A_0]$, then we can substitute these in the equation above and solve for $c$.\n",
    "\n",
    "$$\n",
    "\\begin{eqnarray*}\n",
    "[A_0] &=& -k\\times0 +c \\\\\n",
    "k &=& [A_0]\\\\\n",
    "\\end{eqnarray*}\n",
    "$$\n",
    "\n",
    "and hence the solution is \n",
    "\n",
    "$$\n",
    "\\boxed{[A_t] = -kt+ [A_0]}\n",
    "$$\n"
   ]
  },
  {
   "cell_type": "markdown",
   "metadata": {},
   "source": [
    "Below are some example graphs showing how the values of $k$ and $[A_0]$ affect the behaviour of the function."
   ]
  },
  {
   "cell_type": "code",
   "execution_count": 3,
   "metadata": {},
   "outputs": [
    {
     "data": {
      "image/png": "[encoded data removed]",
      "text/plain": [
       "<Figure size 360x360 with 1 Axes>"
      ]
     },
     "metadata": {
      "needs_background": "light"
     },
     "output_type": "display_data"
    },
    {
     "data": {
      "text/html": [
       "\n",
       "        <script>\n",
       "            function code_toggle_5914757905648228860() {\n",
       "                $('div.cell.code_cell.rendered.selected').find('div.input').toggle();\n",
       "            }\n",
       "\n",
       "            \n",
       "        </script>\n",
       "\n",
       "        <a href=\"javascript:code_toggle_5914757905648228860()\">Show Python code</a>\n",
       "    "
      ],
      "text/plain": [
       "<IPython.core.display.HTML object>"
      ]
     },
     "execution_count": 3,
     "metadata": {},
     "output_type": "execute_result"
    }
   ],
   "source": [
    "t = numpy.linspace(0, 5, 50)\n",
    "\n",
    "# plt.xkcd()\n",
    "fig,axis=plt.subplots(figsize=(5,5))\n",
    "axis.set_xlim([0,5])\n",
    "axis.set_xticks(range(6))\n",
    "axis.set_xlabel('$t$')\n",
    "axis.set_ylim([0,5])\n",
    "axis.set_yticks(range(6))\n",
    "axis.set_ylabel('$[A_t]$')\n",
    "axis.spines['left'].set_position('zero')\n",
    "axis.spines['right'].set_color('none')\n",
    "axis.spines['bottom'].set_position('zero')\n",
    "axis.spines['top'].set_color('none')\n",
    "\n",
    "k = 0.5\n",
    "A0 = 3\n",
    "At = -k*t+A0\n",
    "axis.plot(t, At,'r-')\n",
    "axis.annotate('$[A_t]=-t/2+3$',xy=(3,2),c='r')\n",
    "\n",
    "k = 2\n",
    "A0 = 3\n",
    "At = -k*t+A0\n",
    "axis.plot(t, At,'b-')\n",
    "\n",
    "\n",
    "k = 2\n",
    "A0 = 5\n",
    "At = -k*t+A0\n",
    "axis.plot(t, At,'g-')\n",
    "axis.annotate('$[A_t]=-2t+5$',xy=(1,4),c='g')\n",
    "\n",
    "plt.show()\n",
    "\n",
    "code_toggle()"
   ]
  },
  {
   "cell_type": "markdown",
   "metadata": {},
   "source": [
    "## More complex biochemical example: the Michaelis-Menten equation\n",
    "\n",
    "This states that for a large quantity of enzyme\n",
    "\n",
    "$$\\boxed{-\\frac{ds}{dt} = \\frac{V.s}{k+s}}$$\n",
    "\n",
    "where $s$ is the substrate concentration, $t$ is time and $V,k$ are constants that describe the enzyme.\n",
    "\n",
    "Applying **SISI**: \n",
    "\n",
    "$$\n",
    "\\begin{eqnarray*}\n",
    "-\\frac{ds}{dt} &=& \\frac{V.s}{k+s} &\\text{SEPARATE and get all the terms in $s$ on the LHS}\\\\\n",
    "- \\frac{k+s}{V.s} \\frac{ds}{dt} &=& 1 &\\text{now INTEGRATE both sides w.r.t. t}\\\\\n",
    "- \\int \\frac{k+s}{V.s} \\frac{ds}{dt} dt &=& \\int dt\\\\\n",
    "- \\int \\frac{k+s}{V.s} ds &=& \\int dt\n",
    "\\end{eqnarray*}\n",
    "$$\n",
    "\n",
    "It is important to recognise that we cannot integrate the LHS as it is too complicated! Instead we must make some simplifying assumptions that allow us to integrate the LHS, but only in certain regimes.\n",
    "\n",
    "### Regime 1: When $s \\gg k$, $k$ in the numerator can be neglected\n",
    "\n",
    "(remember $\\gg$ means \"much, much larger than\")\n",
    "\n",
    "If $s \\gg k$ we can rewrite the last step as \n",
    "\n",
    "$$\\begin{eqnarray*}\n",
    "- \\int \\frac{s}{V.s} ds &=& \\int dt\\\\\n",
    "- \\int \\frac{1}{V} ds &=& \\int dt &\\text{since $V$ is a constant we can do this}\\\\\n",
    "\\int ds &=& -V \\int dt\\\\\n",
    "s + a &=& -Vt + b &\\text{where $a$ & $b$ are constants of integration}\\\\\n",
    "s &=& -Vt + c &\\text{where $c=b-a$}\\\\\n",
    "\\end{eqnarray*}$$\n",
    "\n",
    "$$\n",
    "\\boxed{s = -Vt + c}\n",
    "$$\n",
    "\n",
    "This is a straight line (i.e. in the form $y=mx+c$) and is a ZEROTH ORDER PROCESS since the rate is independent of the concentration, $s$, since it only depends on time $t$."
   ]
  },
  {
   "cell_type": "code",
   "execution_count": 4,
   "metadata": {},
   "outputs": [
    {
     "data": {
      "image/png": "[encoded data removed]",
      "text/plain": [
       "<Figure size 288x288 with 1 Axes>"
      ]
     },
     "metadata": {},
     "output_type": "display_data"
    },
    {
     "data": {
      "text/html": [
       "\n",
       "        <script>\n",
       "            function code_toggle_6311317869430980888() {\n",
       "                $('div.cell.code_cell.rendered.selected').find('div.input').toggle();\n",
       "            }\n",
       "\n",
       "            \n",
       "        </script>\n",
       "\n",
       "        <a href=\"javascript:code_toggle_6311317869430980888()\">Show Python code</a>\n",
       "    "
      ],
      "text/plain": [
       "<IPython.core.display.HTML object>"
      ]
     },
     "execution_count": 4,
     "metadata": {},
     "output_type": "execute_result"
    }
   ],
   "source": [
    "t = numpy.linspace(0, 5, 50)\n",
    "\n",
    "# plt.xkcd()\n",
    "fig,axis=plt.subplots(figsize=(4,4))\n",
    "axis.spines['right'].set_color('none')\n",
    "axis.spines['top'].set_color('none')\n",
    "axis.set_xticks(range(6,10))\n",
    "axis.set_xlim([0,5])\n",
    "axis.xaxis.set_label_coords(0.95, -0.025)\n",
    "axis.set_xlabel('$t$')\n",
    "axis.spines['left'].set_position('zero')\n",
    "axis.spines['right'].set_color('none')\n",
    "axis.spines['bottom'].set_position('zero')\n",
    "axis.spines['top'].set_color('none')\n",
    "\n",
    "axis.set_yticks(range(6,10))\n",
    "axis.set_ylim([0,5])\n",
    "axis.yaxis.set_label_coords(-0.025,0.95)\n",
    "axis.set_ylabel('$s(t)$')\n",
    "\n",
    "V = 1\n",
    "c = 4\n",
    "s = -V*t+c\n",
    "axis.plot(t, s,'r-')\n",
    "axis.annotate('gradient is -V',xytext=(2.5,3),xy=(2,2),arrowprops=dict(arrowstyle='->'))\n",
    "axis.plot((0,2),(2,2),'k--')\n",
    "axis.plot((2,2),(0,2),'k--')\n",
    "axis.text(2,-0.5,'$t_{1/2}$')\n",
    "axis.text(-0.8,2,'$s_0/2$')\n",
    "axis.text(-0.5,4,'$s_0$')\n",
    "plt.show()\n",
    "\n",
    "code_toggle()"
   ]
  },
  {
   "cell_type": "markdown",
   "metadata": {},
   "source": [
    "### What is the half-life, $t_{1/2}$?\n",
    "\n",
    "The half-life is the length of time it takes for the amount to half (e.g. decay). As shown above, when $t=t_{1/2}$, $s=s_0/2$. We can substitute these above leading to\n",
    "\n",
    "$$\\begin{eqnarray*}\n",
    "- \\int^{s_0/2}_{s_0} \\frac{ds}{V} &=& \\int^{t_{1/2}}_0 dt\\\\\n",
    "- \\left [ \\frac{s}{V} \\right ]^{s_0/2}_{s_0} &=& \\left [ t \\right ]^{t_{1/2}}_0\\\\\n",
    "- \\frac{s_0}{2V} +\\frac{s_0}{V} &=& t_{1/2}\\\\\n",
    "- \\frac{s_0}{2V} &=& t_{1/2}\n",
    "\\end{eqnarray*}$$\n",
    "\n",
    "$$\\boxed{t_{1/2} = \\frac{s_0}{2V}}$$\n",
    "\n",
    "Hence $t_{1/2}$ depends on $s_0$. Since $t$ has the dimensions of time and $s_0$ has the dimensions of concentration, then $V$ in this regime has dimensions of \"concentration per time\" e.g. $V = 10\\, \\mu$mol.dm$^{-3}$.min$^{-1}$\n",
    "\n"
   ]
  },
  {
   "cell_type": "markdown",
   "metadata": {},
   "source": [
    "### Regime 2: When $s \\ll k$, $s$ in the denominator can be neglected\n",
    "\n",
    "$$\\boxed{-\\frac{ds}{dt} = \\frac{V.s}{k+s}}$$\n",
    "\n",
    "If $s \\ll k$ we can rewrite the last step as \n",
    "\n",
    "$$\\begin{eqnarray*}\n",
    "- \\int \\frac{k}{V.s} ds &=& \\int dt\\\\\n",
    "- \\frac{k}{V} \\int \\frac{1}{s} ds &=& \\int dt &\\text{since $k$ & $V$ are both constants we can take them out of the integrand}\\\\\n",
    "D - \\frac{k}{V} \\ln s &=& t + c &\\text{where $D$ & $c$ are constants of integration}\\\\\n",
    "ln \\left | \\frac{B}{s} \\right | &=& \\frac{Vt}{k} &\\text{where $\\ln B = D-c$}\\\\\n",
    "\\frac{B}{s} &=& \\pm e^{Vt/k} &\\text{have to choose the positive or negative solution; let's choose the positive solution}\\\\\n",
    "s &=& B e^{-Vt/k}\\\\\n",
    "\\end{eqnarray*}$$"
   ]
  },
  {
   "cell_type": "code",
   "execution_count": 5,
   "metadata": {},
   "outputs": [
    {
     "data": {
      "image/png": "[encoded data removed]",
      "text/plain": [
       "<Figure size 288x288 with 1 Axes>"
      ]
     },
     "metadata": {},
     "output_type": "display_data"
    },
    {
     "data": {
      "text/html": [
       "\n",
       "        <script>\n",
       "            function code_toggle_975234458426562313() {\n",
       "                $('div.cell.code_cell.rendered.selected').find('div.input').toggle();\n",
       "            }\n",
       "\n",
       "            \n",
       "        </script>\n",
       "\n",
       "        <a href=\"javascript:code_toggle_975234458426562313()\">Show Python code</a>\n",
       "    "
      ],
      "text/plain": [
       "<IPython.core.display.HTML object>"
      ]
     },
     "execution_count": 5,
     "metadata": {},
     "output_type": "execute_result"
    }
   ],
   "source": [
    "t = numpy.linspace(0, 5, 50)\n",
    "\n",
    "# plt.xkcd()\n",
    "fig,axis=plt.subplots(figsize=(4,4))\n",
    "axis.spines['right'].set_color('none')\n",
    "axis.spines['top'].set_color('none')\n",
    "axis.set_xticks(range(6,10))\n",
    "axis.set_xlim([0,5])\n",
    "axis.xaxis.set_label_coords(0.95, -0.025)\n",
    "axis.set_xlabel('$t$')\n",
    "axis.spines['left'].set_position('zero')\n",
    "axis.spines['right'].set_color('none')\n",
    "axis.spines['bottom'].set_position('zero')\n",
    "axis.spines['top'].set_color('none')\n",
    "\n",
    "axis.set_yticks(range(6,10))\n",
    "axis.set_ylim([0,5])\n",
    "axis.yaxis.set_label_coords(-0.025,0.95)\n",
    "axis.set_ylabel('$s(t)$')\n",
    "\n",
    "V=1\n",
    "k = 2\n",
    "B = 4\n",
    "s = B*numpy.exp((-V*t)/k)\n",
    "axis.plot(t, s,'r-')\n",
    "axis.annotate('$B$',xytext=(1,4.5),xy=(0,4),arrowprops=dict(arrowstyle='->'))\n",
    "axis.annotate('$Be^{-Vt/k}$',xytext=(2.5,3),xy=(2,1.7),arrowprops=dict(arrowstyle='->'))\n",
    "axis.text(2.5,4,'First order process')\n",
    "axis.plot((0,1.386),(2,2),'k--')\n",
    "axis.plot((1.386,1.386),(0,2),'k--')\n",
    "axis.text(1.386,-0.5,'$t_{1/2}$')\n",
    "axis.text(-0.8,2,'$s_0/2$')\n",
    "axis.text(-0.5,4,'$s_0$')\n",
    "plt.show()\n",
    "\n",
    "code_toggle()"
   ]
  },
  {
   "cell_type": "markdown",
   "metadata": {},
   "source": [
    "### What is the half-life, $t_{1/2}$?\n",
    "\n",
    "As shown above, when $t=t_{1/2}$, $s=s_0/2$. We can substitute these above leading to\n",
    "\n",
    "$$\\begin{eqnarray*}\n",
    "- \\int^{s_0/2}_{s_0} \\frac{k}{V} \\frac{ds}{s} &=& \\int^{t_{1/2}}_0 dt\\\\\n",
    "- \\left [ \\frac{k}{V} \\ln |s|\\right ]^{s_0/2}_{s_0} &=& \\left [ t \\right ]^{t_{1/2}}_0\\\\\n",
    "-\\frac{k}{V} \\ln |\\frac{s_0}{2}| + \\frac{k}{V} \\ln |s_0| &=& t_{1/2}\\\\\n",
    "-\\frac{k}{V} \\ln \\left | \\frac{s_0}{s_0/2} \\right | &=& t_{1/2}\\\\\n",
    "\\end{eqnarray*}$$\n",
    "\n",
    "$$\\boxed{t_{1/2} = \\frac{k}{V} \\ln 2}$$\n",
    "\n",
    "Hence $t_{1/2}$ depends on $k$ and $V$. e.g. if $V = 10\\, \\mu$mol.dm$^{-3}$.min$^{-1}$ and $k = 100\\, \\mu$mol.dm$^{-3}$, $t_{1/2} = 10 \\ln 2$ = 6.93 min."
   ]
  },
  {
   "cell_type": "markdown",
   "metadata": {},
   "source": [
    "## Summary\n",
    "\n",
    "### Zeroth order process\n",
    "The rate of change is INDEPENDENT of concentration (or equivalently $\\propto s^0$ which is a constant). Characterised by a single positive constant, $k$.\n",
    "\n",
    "\n",
    "$$\\begin{eqnarray*}\n",
    "\\frac{dA}{dt} &=& k &\\quad\\text{GROWTH}\\\\\n",
    "\\frac{dA}{dt} &=& -k &\\quad\\text{DECAY}\\\\\n",
    "\\end{eqnarray*}$$\n",
    "\n",
    "### First order process\n",
    "\n",
    "The rate of change is PROPORTIONAL to concentration (i.e. $\\propto s^1$). Characterised by a single positive constant, $k$.\n",
    "\n",
    "$$\\begin{eqnarray*}\n",
    "\\frac{dA}{dt} &=& kA &\\quad\\text{GROWTH}\\\\\n",
    "\\frac{dA}{dt} &=& -kA &\\quad\\text{DECAY}\\\\\n",
    "\\end{eqnarray*}$$\n",
    "\n",
    "\n",
    "\n"
   ]
  },
  {
   "cell_type": "markdown",
   "metadata": {},
   "source": [
    "## Motivating example from Thermodynamics\n",
    "\n",
    "We are told that the change in free energy $\\Delta G$ is related to the equilibrium constant, $K$, via\n",
    "\n",
    "$$\\Delta G^o = -RT \\ln K$$\n",
    "\n",
    "where $R$ is the Rydberg gas constant and $T$ is the absolute temperature. Can rewrite the above as\n",
    "\n",
    "$$\\begin{eqnarray*}\n",
    "\\ln K &=& - \\frac{\\Delta G^o}{RT}\\\\\n",
    "  &=& - \\frac{\\Delta H^o}{RT} + \\frac{\\Delta S^o}{R}\\\\\n",
    "\\end{eqnarray*}$$\n",
    "\n",
    "If we assume that $\\Delta H^o$ and $\\Delta S^o$ are independent of $T$, then we can write\n",
    "\n",
    "$$\\begin{eqnarray*}\n",
    "\\frac{d \\ln K}{dT} &=& \\frac{d}{dT} \\left ( - \\frac{\\Delta H^o}{R} T^{-1} \\right )\\\\\n",
    "\\frac{d \\ln K}{dT} &=& \\frac{\\Delta H^o}{RT^2} &\\quad\\text{this is the VAN T'HOFF ISOCHORE}\\\\\n",
    "\\end{eqnarray*}$$\n",
    "\n",
    "Reintegrating this equation gives\n",
    "\n",
    "$$\\begin{eqnarray*}\n",
    "\\int^{K_2}_{K_1} \\frac{d \\ln K}{dT}. dT &=& \\int^{T_2}_{T_1} \\frac{\\Delta H^o}{RT^2}. dT\\\\\n",
    "\\int^{K_2}_{K_1} d(\\ln K) &=& \\left [ - \\frac{\\Delta H^o}{RT} \\right ]^{T_2}_{T_1}\\\\\n",
    "\\ln K_2 - \\ln K_1 &=& - \\frac{\\Delta H^o}{R} \\left ( \\frac{1}{T_2} - \\frac{1}{T_1} \\right )\\\\\n",
    "\\ln \\left | \\frac{K_2}{K_1} \\right | = - \\frac{\\Delta H^o}{R} \\left ( \\frac{1}{T_2} - \\frac{1}{T_1} \\right )\\\\\n",
    "\\end{eqnarray*}$$\n",
    "\n",
    "\n",
    "as per your Thermodynamics notes."
   ]
  }
 ],
 "metadata": {
  "kernelspec": {
   "display_name": "Python 3",
   "language": "python",
   "name": "python3"
  },
  "language_info": {
   "codemirror_mode": {
    "name": "ipython",
    "version": 3
   },
   "file_extension": ".py",
   "mimetype": "text/x-python",
   "name": "python",
   "nbconvert_exporter": "python",
   "pygments_lexer": "ipython3",
   "version": "3.7.8"
  }
 },
 "nbformat": 4,
 "nbformat_minor": 4
}
