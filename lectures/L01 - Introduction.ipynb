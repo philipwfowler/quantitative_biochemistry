{
 "cells": [
  {
   "cell_type": "code",
   "execution_count": 1,
   "metadata": {
    "jupyter": {
     "source_hidden": true
    }
   },
   "outputs": [],
   "source": [
    "import numpy, math\n",
    "from matplotlib import pyplot as plt\n",
    "from matplotlib import patches\n",
    "from src import code_toggle\n",
    "%matplotlib inline"
   ]
  },
  {
   "cell_type": "markdown",
   "metadata": {},
   "source": [
    "# Why do Biochemists needs to know Mathematics?\n",
    "\n",
    "1. Plot and analyse experimental data\n",
    "2. When will my bacteria die?\n",
    "3. How fast will my reaction go? How can I make it go faster (or slower)? \n",
    "4. How radioactive is my $^{32}$P? \n",
    "5. Is there a simple relationship betweem the variables in the data I've collected from my experiment?\n",
    "\n",
    "<div class=\"alert alert-block alert-info\">\n",
    "<img src=\"images/pointing-finger.png\" width=50 title=\"Python Logo\" style=\"vertical-align:top\"/>\n",
    "Mathematics is a tool. \n",
    "</div>"
   ]
  },
  {
   "cell_type": "markdown",
   "metadata": {},
   "source": [
    "## Who said this?\n",
    "\n",
    "> During the three years which I spent at Cambridge my time was wasted.... I attempted mathematics and even went during the summer of 1828 with a private tutor to Barmouth but I got on very slowly. The work was repugnant to me, chiefly from my not being able to see any meaning in the early stages of algebra. This impatience was very foolish and in after years I have deeply regretted that I did not proceed far enough at least far enough at least to understand something of the great leading pricniples of mathematics, for [people] thus endowed seem to have an extra sense."
   ]
  },
  {
   "cell_type": "markdown",
   "metadata": {},
   "source": [
    "# Course principles\n",
    "\n",
    "## Maths is both a skill and knowledge.\n",
    "\n",
    "To become competent at mathematics it is not enough to listen and understand the concepts. You must also practice doing mathematics. Much like other skills (training for a sport, playing an instrument), if you don't keep practicing you get rusty and need to regain your competence through more practice."
   ]
  },
  {
   "cell_type": "markdown",
   "metadata": {},
   "source": [
    "## In this course we will build layer upon layer\n",
    "\n",
    "We start off with the bottom layer of bricks; graphs, some algebra, logarithms, indices and trigonometry. Then we start building the next layer; calculus (differentiation) and integration. Finally we place the top layer of bricks: differential equations.\n",
    "\n",
    "Each layer *relies* on the one below: you need algebra and graphs to understand calculus which you need to solve differential equations which you will need in Biochemistry."
   ]
  },
  {
   "cell_type": "markdown",
   "metadata": {},
   "source": [
    "## Hence this course is like surfing a wave.\n",
    "\n",
    "![surfing](images/surfing.jpg)"
   ]
  },
  {
   "cell_type": "markdown",
   "metadata": {},
   "source": [
    "You have to listen to all the lectures, do all the questions, talk to your examples class tutor, otherwise the wave will crash over you and pass you by.\n",
    "\n",
    "If you miss one lecture you might not be able to understand the next concept: the wave will crash over you and pass you by.\n",
    "\n",
    "You might have more experience at mathematics than your friends; don't make the mistake of thinking you can wait until we hit material you don't know. The wave is going fast and will pass you by. Start paddling!"
   ]
  },
  {
   "cell_type": "markdown",
   "metadata": {},
   "source": [
    "## Mathematicians are lazy\n",
    "\n",
    "There will be occasions where you will wonder \"why is writen that way?\". e.g. doesn't $\\sin(x)$ more clearly show what is the function and what is the independent variable? Yes, but after a while, mathematicians get tired of writing brackets and simply put $\\sin x$.\n",
    "\n",
    "## This course is to help you learn biochemistry.\n",
    "\n",
    "Hence we won't do formal proofs; if we examine why something is true it is to help you understand it. It also means we are only covering the concepts you need for the rest of your course. So if you are thinking \"why aren't we doing X?\". The answer is probably because it isn't needed, or needed very often, in the Biochemistry course. Finally, we sometimes need to introduce a concept a little earlier than ideally we'd like so you've heard about it before you encounter it elsewhere in your course, so if you are thinking \"why talk about this now - wouldn't it make more sense later?\" it is probably because another lecturer is about to use that concept."
   ]
  },
  {
   "cell_type": "markdown",
   "metadata": {},
   "source": [
    "# Key mathematical concepts\n",
    "\n",
    "In the remainder of this lecture and the start of the next we will quickly trot through some elementary concepts that hopefully will be familiar to most of you."
   ]
  },
  {
   "cell_type": "markdown",
   "metadata": {},
   "source": [
    "## Graphs and graphical representation"
   ]
  },
  {
   "cell_type": "code",
   "execution_count": 2,
   "metadata": {
    "jupyter": {
     "source_hidden": true
    }
   },
   "outputs": [
    {
     "data": {
      "image/png": "[encoded data removed]",
      "text/plain": [
       "<Figure size 360x360 with 1 Axes>"
      ]
     },
     "metadata": {},
     "output_type": "display_data"
    },
    {
     "data": {
      "text/html": [
       "\n",
       "        <script>\n",
       "            function code_toggle_7493378361798959881() {\n",
       "                $('div.cell.code_cell.rendered.selected').find('div.input').toggle();\n",
       "            }\n",
       "\n",
       "            \n",
       "        </script>\n",
       "\n",
       "        <a href=\"javascript:code_toggle_7493378361798959881()\">Show Python code</a>\n",
       "    "
      ],
      "text/plain": [
       "<IPython.core.display.HTML object>"
      ]
     },
     "execution_count": 2,
     "metadata": {},
     "output_type": "execute_result"
    }
   ],
   "source": [
    "x = numpy.linspace(-1, 3, 5000)\n",
    "\n",
    "# plt.xkcd()\n",
    "page,graph=plt.subplots(nrows=1,ncols=1,figsize=(5,5))\n",
    "\n",
    "graph.set_xlim([0,3])\n",
    "graph.set_xticks([])\n",
    "graph.set_xlabel('abscissa')\n",
    "graph.set_ylim([0,2.5])\n",
    "graph.set_yticks([])\n",
    "graph.set_ylabel('ordinate',rotation=90)\n",
    "graph.spines['left'].set_position('zero')\n",
    "graph.spines['right'].set_color('none')\n",
    "graph.spines['bottom'].set_position('zero')\n",
    "graph.spines['top'].set_color('none')\n",
    "\n",
    "y = 2-numpy.exp(-x)\n",
    "graph.plot(x, y,'r-')\n",
    "\n",
    "plt.show()\n",
    "\n",
    "code_toggle()\n",
    "\n"
   ]
  },
  {
   "cell_type": "markdown",
   "metadata": {},
   "source": [
    "$y$ is the DEPENDENT VARIABLE\n",
    "\n",
    "$x$ is the INDEPENDENT VARIABLE\n"
   ]
  },
  {
   "cell_type": "markdown",
   "metadata": {},
   "source": [
    "### What information should you put on a graph?"
   ]
  },
  {
   "cell_type": "code",
   "execution_count": 3,
   "metadata": {
    "jupyter": {
     "source_hidden": true
    }
   },
   "outputs": [
    {
     "data": {
      "image/png": "[encoded data removed]",
      "text/plain": [
       "<Figure size 432x432 with 1 Axes>"
      ]
     },
     "metadata": {},
     "output_type": "display_data"
    },
    {
     "data": {
      "text/html": [
       "\n",
       "        <script>\n",
       "            function code_toggle_3773559334654735016() {\n",
       "                $('div.cell.code_cell.rendered.selected').find('div.input').toggle();\n",
       "            }\n",
       "\n",
       "            \n",
       "        </script>\n",
       "\n",
       "        <a href=\"javascript:code_toggle_3773559334654735016()\">Show Python code</a>\n",
       "    "
      ],
      "text/plain": [
       "<IPython.core.display.HTML object>"
      ]
     },
     "execution_count": 3,
     "metadata": {},
     "output_type": "execute_result"
    }
   ],
   "source": [
    "x = numpy.linspace(0.5, 2.5, 5)\n",
    "\n",
    "page,graph=plt.subplots(nrows=1,ncols=1,figsize=(6,6))\n",
    "\n",
    "graph.set_xlim([-3,3])\n",
    "graph.set_xticks([])\n",
    "graph.set_xlabel('axis label (units)',x=1)\n",
    "graph.set_ylim([-3,3])\n",
    "graph.set_yticks([])\n",
    "graph.set_ylabel('axis label (units)',rotation=90,y=1,ha='right')\n",
    "graph.spines['left'].set_position('zero')\n",
    "graph.spines['right'].set_color('none')\n",
    "graph.spines['bottom'].set_position('zero')\n",
    "graph.spines['top'].set_color('none')\n",
    "graph.plot(0,0)\n",
    "graph.annotate('$O$',xy=(0,0),c='k',ha='right',va='top')\n",
    "graph.set_title('Descriptive title')\n",
    "\n",
    "y = 2-numpy.exp(-x)\n",
    "\n",
    "graph.plot(x, y,'r+')\n",
    "graph.errorbar(x, y,yerr=0.2*y,fmt='b.')\n",
    "\n",
    "\n",
    "x2 = numpy.linspace(-1.0, 2.5, 5000)\n",
    "y2= 2-numpy.exp(-x2)\n",
    "graph.plot(x2, y2,'g--')\n",
    "\n",
    "plt.show()\n",
    "\n",
    "code_toggle()\n"
   ]
  },
  {
   "cell_type": "markdown",
   "metadata": {},
   "source": [
    "The graph should be **self-contained** i.e. understandable on its own - imagine a piece of graph paper falling out of your lab book. Can you pick it up and understand what it is showing?\n",
    "\n",
    "The TITLE should state the relationship between the independent and dependent variables. e.g. 'The relationship between enzyme activity and external pH'.\n",
    "\n",
    "The AXES should be LABELLED with UNITS and span an appropriate RANGE. You may need to extend an axis if later you need to read where a fitted line crosses the $y$-axis. Does the ORIGIN $(0,0)$ need to be shown? Is it misleading not to? \n",
    "\n",
    "All the DATA POINTS should be clearly plotted with ERROR BARS, if appropriate. Also if a CURVE or LINE is fitted to the data, this needs to be clearly shown. Humans are not good at drawing anything other than straight lines so usually we TRANSFORM the data to ensure it should lie on a STRAIGHT LINE.\n"
   ]
  },
  {
   "cell_type": "markdown",
   "metadata": {},
   "source": [
    "### Equations of a straight line"
   ]
  },
  {
   "cell_type": "code",
   "execution_count": 4,
   "metadata": {
    "jupyter": {
     "source_hidden": true
    }
   },
   "outputs": [
    {
     "data": {
      "image/png": "[encoded data removed]",
      "text/plain": [
       "<Figure size 576x576 with 1 Axes>"
      ]
     },
     "metadata": {},
     "output_type": "display_data"
    },
    {
     "data": {
      "text/html": [
       "\n",
       "        <script>\n",
       "            function code_toggle_4111996363528649990() {\n",
       "                $('div.cell.code_cell.rendered.selected').find('div.input').toggle();\n",
       "            }\n",
       "\n",
       "            \n",
       "        </script>\n",
       "\n",
       "        <a href=\"javascript:code_toggle_4111996363528649990()\">Show Python code</a>\n",
       "    "
      ],
      "text/plain": [
       "<IPython.core.display.HTML object>"
      ]
     },
     "execution_count": 4,
     "metadata": {},
     "output_type": "execute_result"
    }
   ],
   "source": [
    "x = numpy.linspace(-3, 3, 5000)\n",
    "\n",
    "fig,axis=plt.subplots(nrows=1,ncols=1,figsize=(8,8))\n",
    "\n",
    "axis.set_xlim([-3,3])\n",
    "axis.set_ylim([-1,3])\n",
    "axis.set_xticks([])\n",
    "axis.set_yticks([])\n",
    "axis.set_xlabel('$x$',x=1)\n",
    "axis.set_ylabel('$y$',rotation=0,y=1)\n",
    "axis.spines['left'].set_position('zero')\n",
    "axis.spines['right'].set_color('none')\n",
    "axis.spines['bottom'].set_position('zero')\n",
    "axis.spines['top'].set_color('none')\n",
    "\n",
    "y = 0.5*x + 1\n",
    "axis.plot(x, y,'r-')\n",
    "\n",
    "\n",
    "axis.plot((2.5,2.5),(0,2.25),'k:')\n",
    "axis.plot((0.5,0.5),(0,1.25),'k:')\n",
    "\n",
    "axis.plot((0.5,2.5),(1.25,1.25),'k-')\n",
    "axis.plot((2.5,2.5),(1.25,2.25),'k-')\n",
    "\n",
    "axis.plot((0,0.5),(1.25,1.25),'k:')\n",
    "axis.plot((0,2.5),(2.25,2.25),'k:')\n",
    "\n",
    "axis.annotate('$y_2$',xy=(0,2.25),c='k',ha='right')\n",
    "axis.annotate('$y_1$',xy=(0,1.25),c='k',ha='right')\n",
    "axis.annotate('$x_2$',xy=(2.5,0),c='k',va='top')\n",
    "axis.annotate('$x_1$',xy=(0.5,0),c='k',va='top')\n",
    "axis.annotate('$x_0$',xy=(-2,0),c='k',va='top')\n",
    "axis.annotate('$O$',xy=(0,0),c='k',va='top',ha='right')\n",
    "axis.annotate(s='$y$-intercept',xy=(0,1),xytext=(-2,2),arrowprops=dict(arrowstyle='->'))\n",
    "axis.annotate(s='$x$-intercept',xy=(-2,0),xytext=(-3,1),arrowprops=dict(arrowstyle='->'))\n",
    "\n",
    "plt.show()\n",
    "code_toggle()"
   ]
  },
  {
   "cell_type": "markdown",
   "metadata": {},
   "source": [
    "$$\\boxed{ y = mx + c}$$\n",
    "\n",
    "where \n",
    "\\begin{align*}\n",
    "m &= \\text{constant} & &= \\text{GRADIENT OF LINE (+ve or -ve)}\\\\\n",
    "c &= \\text{constant} & &= y\\text{-INTERCEPT}\\\\\n",
    "\\frac{-c}{m} &= \\text{constant} & &= x-\\text{-INTERCEPT}\n",
    "\\end{align*}"
   ]
  },
  {
   "cell_type": "markdown",
   "metadata": {},
   "source": [
    "#### Example"
   ]
  },
  {
   "cell_type": "code",
   "execution_count": 5,
   "metadata": {
    "jupyter": {
     "source_hidden": true
    }
   },
   "outputs": [
    {
     "data": {
      "image/png": "[encoded data removed]",
      "text/plain": [
       "<Figure size 576x576 with 1 Axes>"
      ]
     },
     "metadata": {},
     "output_type": "display_data"
    },
    {
     "data": {
      "text/html": [
       "\n",
       "        <script>\n",
       "            function code_toggle_6245170655734810916() {\n",
       "                $('div.cell.code_cell.rendered.selected').find('div.input').toggle();\n",
       "            }\n",
       "\n",
       "            \n",
       "        </script>\n",
       "\n",
       "        <a href=\"javascript:code_toggle_6245170655734810916()\">Show Python code</a>\n",
       "    "
      ],
      "text/plain": [
       "<IPython.core.display.HTML object>"
      ]
     },
     "execution_count": 5,
     "metadata": {},
     "output_type": "execute_result"
    }
   ],
   "source": [
    "x = numpy.linspace(-3, 3, 5000)\n",
    "\n",
    "fig,axis=plt.subplots(nrows=1,ncols=1,figsize=(8,8))\n",
    "\n",
    "axis.set_xlim([-4,2])\n",
    "axis.set_ylim([-1,5])\n",
    "axis.set_xticks([])\n",
    "axis.set_yticks([])\n",
    "axis.set_xlabel('$x$',x=1)\n",
    "axis.set_ylabel('$y$',rotation=0,y=1)\n",
    "axis.spines['left'].set_position('zero')\n",
    "axis.spines['right'].set_color('none')\n",
    "axis.spines['bottom'].set_position('zero')\n",
    "axis.spines['top'].set_color('none')\n",
    "\n",
    "y = 3*x + 4\n",
    "axis.plot(x, y,'r-')\n",
    "\n",
    "\n",
    "\n",
    "axis.annotate('$O$',xy=(0,0),c='k',va='top',ha='right')\n",
    "axis.annotate('$y=3x+4$',xy=(1,4),c='r',va='top',ha='right')\n",
    "axis.annotate(s='$y_0$',xy=(0,4),xytext=(-1,4.5),arrowprops=dict(arrowstyle='->'))\n",
    "axis.annotate(s='$x_0$',xy=(-4/3,0),xytext=(-2,2),arrowprops=dict(arrowstyle='->'))\n",
    "\n",
    "plt.show()\n",
    "code_toggle()"
   ]
  },
  {
   "cell_type": "markdown",
   "metadata": {},
   "source": [
    "What are the values of $x_0$ and $y_0$ and what is the slope/gradient of the line?\n",
    "\n",
    "\\begin{align*}\n",
    "y &= 3x +4 & \\text{substitute } x=0\\\\\n",
    "y_0 &= 4\n",
    "\\end{align*}\n",
    "\n",
    "\\begin{align*}\n",
    "y &= 3x +4 & \\text{substitute } y=0\\\\\n",
    "0 &= 3x_0 + 4\\\\\n",
    "x_0 &= \\frac{-4}{3}\n",
    "\\end{align*}\n",
    "\n",
    "The slope is 3 (i.e. $m=3$)."
   ]
  },
  {
   "cell_type": "markdown",
   "metadata": {},
   "source": [
    "### Special cases\n",
    "\n",
    "1. When $c=0$ then $y=mx+0$"
   ]
  },
  {
   "cell_type": "code",
   "execution_count": 6,
   "metadata": {
    "jupyter": {
     "source_hidden": true
    }
   },
   "outputs": [
    {
     "data": {
      "image/png": "[encoded data removed]",
      "text/plain": [
       "<Figure size 432x216 with 1 Axes>"
      ]
     },
     "metadata": {},
     "output_type": "display_data"
    },
    {
     "data": {
      "text/html": [
       "\n",
       "        <script>\n",
       "            function code_toggle_2146091036306242413() {\n",
       "                $('div.cell.code_cell.rendered.selected').find('div.input').toggle();\n",
       "            }\n",
       "\n",
       "            \n",
       "        </script>\n",
       "\n",
       "        <a href=\"javascript:code_toggle_2146091036306242413()\">Show Python code</a>\n",
       "    "
      ],
      "text/plain": [
       "<IPython.core.display.HTML object>"
      ]
     },
     "execution_count": 6,
     "metadata": {},
     "output_type": "execute_result"
    }
   ],
   "source": [
    "x = numpy.linspace(-2, 2, 5000)\n",
    "\n",
    "fig,axis=plt.subplots(nrows=1,ncols=1,figsize=(6,3))\n",
    "\n",
    "axis.set_xlim([-2,2])\n",
    "axis.set_ylim([-0.5,1.5])\n",
    "axis.set_xticks([])\n",
    "axis.set_yticks([])\n",
    "axis.set_xlabel('$x$',x=1)\n",
    "axis.set_ylabel('$y$',rotation=0,y=1)\n",
    "axis.spines['left'].set_position('zero')\n",
    "axis.spines['right'].set_color('none')\n",
    "axis.spines['bottom'].set_position('zero')\n",
    "axis.spines['top'].set_color('none')\n",
    "\n",
    "y = x\n",
    "axis.plot(x, y,'r-')\n",
    "\n",
    "\n",
    "plt.show()\n",
    "code_toggle()"
   ]
  },
  {
   "cell_type": "markdown",
   "metadata": {},
   "source": [
    "2. When $m=0$ then $y=c$"
   ]
  },
  {
   "cell_type": "code",
   "execution_count": 7,
   "metadata": {
    "jupyter": {
     "source_hidden": true
    }
   },
   "outputs": [
    {
     "data": {
      "image/png": "[encoded data removed]",
      "text/plain": [
       "<Figure size 432x216 with 1 Axes>"
      ]
     },
     "metadata": {},
     "output_type": "display_data"
    },
    {
     "data": {
      "text/html": [
       "\n",
       "        <script>\n",
       "            function code_toggle_14506159824848456127() {\n",
       "                $('div.cell.code_cell.rendered.selected').find('div.input').toggle();\n",
       "            }\n",
       "\n",
       "            \n",
       "        </script>\n",
       "\n",
       "        <a href=\"javascript:code_toggle_14506159824848456127()\">Show Python code</a>\n",
       "    "
      ],
      "text/plain": [
       "<IPython.core.display.HTML object>"
      ]
     },
     "execution_count": 7,
     "metadata": {},
     "output_type": "execute_result"
    }
   ],
   "source": [
    "x = numpy.linspace(-2, 2, 5000)\n",
    "\n",
    "fig,axis=plt.subplots(nrows=1,ncols=1,figsize=(6,3))\n",
    "\n",
    "axis.set_xlim([-2,2])\n",
    "axis.set_ylim([-0.5,1.5])\n",
    "axis.set_xticks([])\n",
    "axis.set_yticks([])\n",
    "axis.set_xlabel('$x$',x=1)\n",
    "axis.set_ylabel('$y$',rotation=0,y=1)\n",
    "axis.spines['left'].set_position('zero')\n",
    "axis.spines['right'].set_color('none')\n",
    "axis.spines['bottom'].set_position('zero')\n",
    "axis.spines['top'].set_color('none')\n",
    "\n",
    "y = x/x\n",
    "axis.plot(x, y,'r-')\n",
    "\n",
    "plt.show()\n",
    "code_toggle()"
   ]
  },
  {
   "cell_type": "markdown",
   "metadata": {},
   "source": [
    "3. Two lines are PARALLEL if and only if their slopes are the same\n",
    "\n",
    "i.e. in the graph below iff* $m_1 = m_2$.\n",
    "\n",
    "\\* - shorthand for \"if and only if\""
   ]
  },
  {
   "cell_type": "code",
   "execution_count": 8,
   "metadata": {
    "jupyter": {
     "source_hidden": true
    }
   },
   "outputs": [
    {
     "data": {
      "image/png": "[encoded data removed]",
      "text/plain": [
       "<Figure size 432x216 with 1 Axes>"
      ]
     },
     "metadata": {},
     "output_type": "display_data"
    },
    {
     "data": {
      "text/html": [
       "\n",
       "        <script>\n",
       "            function code_toggle_302277558626546355() {\n",
       "                $('div.cell.code_cell.rendered.selected').find('div.input').toggle();\n",
       "            }\n",
       "\n",
       "            \n",
       "        </script>\n",
       "\n",
       "        <a href=\"javascript:code_toggle_302277558626546355()\">Show Python code</a>\n",
       "    "
      ],
      "text/plain": [
       "<IPython.core.display.HTML object>"
      ]
     },
     "execution_count": 8,
     "metadata": {},
     "output_type": "execute_result"
    }
   ],
   "source": [
    "x = numpy.linspace(-2, 2, 5000)\n",
    "\n",
    "fig,axis=plt.subplots(nrows=1,ncols=1,figsize=(6,3))\n",
    "\n",
    "axis.set_xlim([-2,2])\n",
    "axis.set_ylim([-0.5,1.5])\n",
    "axis.set_xticks([])\n",
    "axis.set_yticks([])\n",
    "axis.set_xlabel('$x$',x=1)\n",
    "axis.set_ylabel('$y$',rotation=0,y=1)\n",
    "axis.spines['left'].set_position('zero')\n",
    "axis.spines['right'].set_color('none')\n",
    "axis.spines['bottom'].set_position('zero')\n",
    "axis.spines['top'].set_color('none')\n",
    "\n",
    "y = x+0.5\n",
    "y2=x2+1\n",
    "axis.plot(x, y,'r-')\n",
    "axis.annotate('$y=m_2x+c$',xy=(0.7,1),c='r',ha='left')\n",
    "axis.plot(x2, y2,'b-')\n",
    "axis.annotate('$y=m_1x+b$',xy=(-0.2,1),c='b',ha='right')\n",
    "\n",
    "\n",
    "plt.show()\n",
    "code_toggle()"
   ]
  },
  {
   "cell_type": "markdown",
   "metadata": {},
   "source": [
    "### Polynomials\n",
    "\n",
    "A polynomial is a function that is a sum of one or more powers of $x$. Note that since $x^0 = 1$ they can include numbers.\n",
    "\n",
    "#### Examples\n",
    "\n",
    "1. $y=2x^2$\n",
    "2. $y=5x^2 + 3x^3 +1$\n",
    "3. $y=10x^{100} + 2x^4 +3$"
   ]
  },
  {
   "cell_type": "markdown",
   "metadata": {},
   "source": [
    "We may generalise the form of a POLYNOMIAL EQUATION\n",
    "\n",
    "$\\boxed{y=a_nx^n+ a_{n-1}a^{n-1}+a_{n-2}x^{n-2}+\\dots+a_1x^1+a_0x^0}$\n",
    "\n",
    "where $a_n,a_{n-1},a_{n-2}\\ldots a_1,a_0$ are CONSTANTS. So in Example 3 above $a_{100}=10, a_4=2, a_0=3$.\n",
    "\n",
    "The ORDER of a polynomial is the largest power of $x$. Hence the examples have order 2, 3 and 100, respectively.\n",
    "\n",
    "A polynomial of order $N$ has $N-1$ curves/turning points."
   ]
  },
  {
   "cell_type": "markdown",
   "metadata": {},
   "source": [
    "Can draw graphs of polynomials e.g. $y=5x^2+1$ which is SECOND ORDER and so has one TURNING POINT."
   ]
  },
  {
   "cell_type": "code",
   "execution_count": 9,
   "metadata": {
    "jupyter": {
     "source_hidden": true
    }
   },
   "outputs": [
    {
     "data": {
      "image/png": "[encoded data removed]",
      "text/plain": [
       "<Figure size 432x216 with 1 Axes>"
      ]
     },
     "metadata": {},
     "output_type": "display_data"
    },
    {
     "data": {
      "text/html": [
       "\n",
       "        <script>\n",
       "            function code_toggle_17565740837042879369() {\n",
       "                $('div.cell.code_cell.rendered.selected').find('div.input').toggle();\n",
       "            }\n",
       "\n",
       "            \n",
       "        </script>\n",
       "\n",
       "        <a href=\"javascript:code_toggle_17565740837042879369()\">Show Python code</a>\n",
       "    "
      ],
      "text/plain": [
       "<IPython.core.display.HTML object>"
      ]
     },
     "execution_count": 9,
     "metadata": {},
     "output_type": "execute_result"
    }
   ],
   "source": [
    "x = numpy.linspace(-2, 2, 5000)\n",
    "\n",
    "fig,axis=plt.subplots(nrows=1,ncols=1,figsize=(6,3))\n",
    "\n",
    "axis.set_xlim([-1,1])\n",
    "axis.set_ylim([-0.1,1.9])\n",
    "axis.set_xticks([])\n",
    "axis.set_yticks([])\n",
    "axis.set_xlabel('$x$',x=1)\n",
    "axis.set_ylabel('$y$',rotation=0,y=1)\n",
    "axis.spines['left'].set_position('zero')\n",
    "axis.spines['right'].set_color('none')\n",
    "axis.spines['bottom'].set_position('zero')\n",
    "axis.spines['top'].set_color('none')\n",
    "\n",
    "y = 5*x**2+1\n",
    "axis.plot(x, y,'r-')\n",
    "axis.annotate('$y=5x^2+1$',xy=(0.5,1),c='r',ha='left')\n",
    "\n",
    "\n",
    "plt.show()\n",
    "code_toggle()"
   ]
  },
  {
   "cell_type": "markdown",
   "metadata": {},
   "source": [
    "But we can TRANSFORM this curve by setting $Y=y$ and $X=x^2$, then $Y=5X+1$"
   ]
  },
  {
   "cell_type": "code",
   "execution_count": 10,
   "metadata": {
    "jupyter": {
     "source_hidden": true
    }
   },
   "outputs": [
    {
     "data": {
      "image/png": "[encoded data removed]",
      "text/plain": [
       "<Figure size 432x216 with 1 Axes>"
      ]
     },
     "metadata": {},
     "output_type": "display_data"
    },
    {
     "data": {
      "text/html": [
       "\n",
       "        <script>\n",
       "            function code_toggle_16958795196042944969() {\n",
       "                $('div.cell.code_cell.rendered.selected').find('div.input').toggle();\n",
       "            }\n",
       "\n",
       "            \n",
       "        </script>\n",
       "\n",
       "        <a href=\"javascript:code_toggle_16958795196042944969()\">Show Python code</a>\n",
       "    "
      ],
      "text/plain": [
       "<IPython.core.display.HTML object>"
      ]
     },
     "execution_count": 10,
     "metadata": {},
     "output_type": "execute_result"
    }
   ],
   "source": [
    "x = numpy.linspace(-2, 2, 5000)\n",
    "\n",
    "fig,axis=plt.subplots(nrows=1,ncols=1,figsize=(6,3))\n",
    "\n",
    "axis.set_xlim([-1,1])\n",
    "axis.set_ylim([-0.1,1.9])\n",
    "axis.set_xticks([])\n",
    "axis.set_yticks([])\n",
    "axis.set_xlabel('$X$',x=1)\n",
    "axis.set_ylabel('$Y$',rotation=0,y=1)\n",
    "axis.spines['left'].set_position('zero')\n",
    "axis.spines['right'].set_color('none')\n",
    "axis.spines['bottom'].set_position('zero')\n",
    "axis.spines['top'].set_color('none')\n",
    "\n",
    "y = 5*x+1\n",
    "axis.plot(x, y,'r-')\n",
    "axis.annotate('$Y=5X+1$',xy=(0.5,1),c='r',ha='left')\n",
    "axis.annotate('$1$',xy=(0.05,1),c='r',ha='left')\n",
    "axis.annotate('$-1/5$',xy=(-0.2,0.1),c='r',ha='right',va='bottom')\n",
    "\n",
    "plt.show()\n",
    "code_toggle()"
   ]
  },
  {
   "cell_type": "markdown",
   "metadata": {},
   "source": [
    "### Fitting experimental data to a mathematical function\n",
    "\n",
    "This suggests a method by which we could check whether our data were described by a given functional form. Suppose we think our data have the general form\n",
    "\n",
    "$y=m^2+c$\n",
    "\n",
    "then we could plot a graph of $y$ versus $x^2$ and see if it is a straight line.\n",
    "\n",
    "Many problems in Biosciences reduce down to (i) identifying the theory that might describe your data and then (ii) plotting the right graph so it comes out as a straight line and then finding the gradient and $y$-intercept.\n",
    "\n",
    "One such example is that of enzyme-catalysed reactions."
   ]
  },
  {
   "cell_type": "markdown",
   "metadata": {},
   "source": [
    "#### Enzyme catalysis\n",
    "\n",
    "The inverse of the rate at which a given enzyme can catalyse a reaction can be dependent on the inverse of the substrate concentration plus an offset (this is the Michaelis-Menten equation and will be covered in detail elsewhere in the course).\n",
    "\n",
    "The first thing we have to do is 'translate' the words into a mathematical function\n",
    "\n",
    "$$\\frac{1}{V} = \\frac{m}{S} + c$$"
   ]
  },
  {
   "cell_type": "code",
   "execution_count": 11,
   "metadata": {
    "jupyter": {
     "source_hidden": true
    }
   },
   "outputs": [
    {
     "data": {
      "image/png": "[encoded data removed]",
      "text/plain": [
       "<Figure size 288x288 with 1 Axes>"
      ]
     },
     "metadata": {},
     "output_type": "display_data"
    },
    {
     "data": {
      "text/html": [
       "\n",
       "        <script>\n",
       "            function code_toggle_3669673536243058171() {\n",
       "                $('div.cell.code_cell.rendered.selected').find('div.input').toggle();\n",
       "            }\n",
       "\n",
       "            \n",
       "        </script>\n",
       "\n",
       "        <a href=\"javascript:code_toggle_3669673536243058171()\">Show Python code</a>\n",
       "    "
      ],
      "text/plain": [
       "<IPython.core.display.HTML object>"
      ]
     },
     "execution_count": 11,
     "metadata": {},
     "output_type": "execute_result"
    }
   ],
   "source": [
    "x = numpy.linspace(0, 3, 5000)\n",
    "\n",
    "fig,axis=plt.subplots(nrows=1,ncols=1,figsize=(4,4))\n",
    "\n",
    "axis.set_xlim([-0.1,3])\n",
    "axis.set_ylim([-0.1,3])\n",
    "axis.set_xticks([])\n",
    "axis.set_yticks([])\n",
    "axis.set_xlabel('$1/S$',x=1)\n",
    "axis.set_ylabel('$1/V$',rotation=0,y=1)\n",
    "axis.spines['left'].set_position('zero')\n",
    "axis.spines['right'].set_color('none')\n",
    "axis.spines['bottom'].set_position('zero')\n",
    "axis.spines['top'].set_color('none')\n",
    "\n",
    "y = 0.5*x + 1\n",
    "axis.plot(x, y,'r-')\n",
    "\n",
    "\n",
    "axis.annotate('$O$',xy=(0,0),c='k',va='top',ha='right')\n",
    "axis.annotate(s='$c$',xy=(-0.1,1),xytext=(-0.1,0.5),arrowprops=dict(arrowstyle='->'),ha='center')\n",
    "axis.annotate(s='$c$',xy=(-0.1,0),xytext=(-0.1,0.5),arrowprops=dict(arrowstyle='->'),ha='center')\n",
    "\n",
    "plt.show()\n",
    "code_toggle()"
   ]
  },
  {
   "cell_type": "markdown",
   "metadata": {},
   "source": [
    "### Curve sketching\n",
    "\n",
    "Often useful to be able to assess important details of the curve WITHOUT having to draw it accurately (i.e. using graph paper).\n",
    "\n",
    "(Aside: if you are asked to PLOT a curve, it means accurately using graph paper. SKETCH means what we are doing here; the curve can be done quickly by hand - we are interested in labelling details like where it crosses the axes, the location of any TURNING POINTS)."
   ]
  },
  {
   "cell_type": "markdown",
   "metadata": {},
   "source": [
    "#### Example\n",
    "\n",
    "SKETCH the curve\n",
    "\n",
    "$$y=\\frac{1}{(x-1)(x-2)}$$\n",
    "\n",
    "A good approach is to work out the value of $y$ at key points\n",
    "\n",
    "\\begin{align*}\n",
    "x & & y\\\\\n",
    "0 && 1/2\\\\\n",
    "\\text{very large and positive} && \\text{very small and positive}\\\\\n",
    "\\text{very large and negative} && \\text{very small and positive}\\\\\n",
    "1 && -\\infty\\\\\n",
    "1.5 && -4\\\\\n",
    "2 && +\\infty\\\\\n",
    "3 && 1/2\\\\\n",
    "\\end{align*}\n",
    "\n",
    "\n"
   ]
  },
  {
   "cell_type": "markdown",
   "metadata": {},
   "source": [
    "Now that we have this table, sketching the function is a bit like \"joining the dots\". "
   ]
  },
  {
   "cell_type": "markdown",
   "metadata": {},
   "source": [
    "![Sketching the function](images/L1-sketch-example.jpg)"
   ]
  },
  {
   "cell_type": "markdown",
   "metadata": {},
   "source": [
    "Always check how your curve behaves at $x= \\pm 0, \\pm \\infty$. \n",
    "\n",
    "The dotted lines are ASYMPTOTES. Note how the function never quite reaches e.g. $x=1$. Also how the sketch never quite reaches the $x$-axis (since you'd have to be at $\\pm \\infty$ for that to be true)."
   ]
  },
  {
   "cell_type": "markdown",
   "metadata": {},
   "source": [
    "### Real data\n",
    "\n",
    "Real data collected from experiments is messy.\n",
    "\n",
    "* It can contain OUTLIERS."
   ]
  },
  {
   "cell_type": "code",
   "execution_count": 12,
   "metadata": {
    "jupyter": {
     "source_hidden": true
    }
   },
   "outputs": [
    {
     "data": {
      "image/png": "[encoded data removed]",
      "text/plain": [
       "<Figure size 432x288 with 1 Axes>"
      ]
     },
     "metadata": {},
     "output_type": "display_data"
    },
    {
     "data": {
      "text/html": [
       "\n",
       "        <script>\n",
       "            function code_toggle_462076388801366027() {\n",
       "                $('div.cell.code_cell.rendered.selected').find('div.input').toggle();\n",
       "            }\n",
       "\n",
       "            \n",
       "        </script>\n",
       "\n",
       "        <a href=\"javascript:code_toggle_462076388801366027()\">Show Python code</a>\n",
       "    "
      ],
      "text/plain": [
       "<IPython.core.display.HTML object>"
      ]
     },
     "execution_count": 12,
     "metadata": {},
     "output_type": "execute_result"
    }
   ],
   "source": [
    "x = numpy.linspace(0, 3, 10)\n",
    "\n",
    "fig,axis=plt.subplots(nrows=1,ncols=1,figsize=(6,4))\n",
    "\n",
    "axis.set_xlim([-0,3.1])\n",
    "axis.set_ylim([-0,3])\n",
    "axis.set_xticks([])\n",
    "axis.set_yticks([])\n",
    "axis.set_xlabel('$x$',x=1)\n",
    "axis.set_ylabel('$y$',rotation=0,y=1)\n",
    "axis.spines['left'].set_position('zero')\n",
    "axis.spines['right'].set_color('none')\n",
    "axis.spines['bottom'].set_position('zero')\n",
    "axis.spines['top'].set_color('none')\n",
    "\n",
    "numpy.random.seed(2)\n",
    "y = x - x*0.8*numpy.random.random(10)\n",
    "axis.plot(x, y,'rx')\n",
    "\n",
    "\n",
    "axis.annotate('$O$',xy=(0,0),c='k',va='top',ha='right')\n",
    "axis.annotate(s='$c$',xy=(-0.1,1),xytext=(-0.1,0.5),arrowprops=dict(arrowstyle='->'),ha='center')\n",
    "axis.annotate(s='$c$',xy=(-0.1,0),xytext=(-0.1,0.5),arrowprops=dict(arrowstyle='->'),ha='center')\n",
    "\n",
    "plt.show()\n",
    "code_toggle()"
   ]
  },
  {
   "cell_type": "markdown",
   "metadata": {},
   "source": [
    "* make sure you space the data points out so that sparse areas are populated\n",
    "\n",
    "* can often be terribly plotted\n",
    "\n",
    "* some of the data points may be outliers (see below)\n",
    "\n",
    "* plotting the ERROR BARs is often key\n",
    "\n",
    "For example, the data below are identical but the error bars are 3x larger on the right. Is there still an outlier?"
   ]
  },
  {
   "cell_type": "code",
   "execution_count": 13,
   "metadata": {
    "jupyter": {
     "source_hidden": true
    }
   },
   "outputs": [
    {
     "data": {
      "image/png": "[encoded data removed]",
      "text/plain": [
       "<Figure size 864x288 with 2 Axes>"
      ]
     },
     "metadata": {},
     "output_type": "display_data"
    },
    {
     "data": {
      "text/html": [
       "\n",
       "        <script>\n",
       "            function code_toggle_11416726956291185288() {\n",
       "                $('div.cell.code_cell.rendered.selected').find('div.input').toggle();\n",
       "            }\n",
       "\n",
       "            \n",
       "        </script>\n",
       "\n",
       "        <a href=\"javascript:code_toggle_11416726956291185288()\">Show Python code</a>\n",
       "    "
      ],
      "text/plain": [
       "<IPython.core.display.HTML object>"
      ]
     },
     "execution_count": 13,
     "metadata": {},
     "output_type": "execute_result"
    }
   ],
   "source": [
    "x = numpy.linspace(0, 3, 10)\n",
    "\n",
    "fig,axis=plt.subplots(nrows=1,ncols=2,figsize=(12,4))\n",
    "\n",
    "for i in [0, 1]:\n",
    "    axis[i].set_xlim([-0,3.1])\n",
    "    axis[i].set_ylim([-0.5,3])\n",
    "    axis[i].set_xticks([])\n",
    "    axis[i].set_yticks([])\n",
    "    axis[i].set_xlabel('$x$',x=1)\n",
    "    axis[i].set_ylabel('$y$',rotation=0,y=1)\n",
    "    axis[i].spines['left'].set_position('zero')\n",
    "    axis[i].spines['right'].set_color('none')\n",
    "    axis[i].spines['bottom'].set_position('zero')\n",
    "    axis[i].spines['top'].set_color('none')\n",
    "\n",
    "\n",
    "\n",
    "    axis[i].annotate('$O$',xy=(0,0),c='k',va='top',ha='right')\n",
    "    axis[i].annotate(s='$c$',xy=(-0.1,1),xytext=(-0.1,0.5),arrowprops=dict(arrowstyle='->'),ha='center')\n",
    "    axis[i].annotate(s='$c$',xy=(-0.1,0),xytext=(-0.1,0.5),arrowprops=dict(arrowstyle='->'),ha='center')\n",
    "\n",
    "numpy.random.seed(2)\n",
    "y = x - x*0.8*numpy.random.random(10)\n",
    "errors=0.2*numpy.ones(10)\n",
    "axis[0].errorbar(x, y,yerr=errors,fmt='ro')\n",
    "\n",
    "numpy.random.seed(2)\n",
    "y = x - x*0.8*numpy.random.random(10)\n",
    "errors=0.6*numpy.ones(10)\n",
    "axis[1].errorbar(x, y,yerr=errors,fmt='ro')\n",
    "\n",
    "    \n",
    "plt.show()\n",
    "code_toggle()"
   ]
  },
  {
   "cell_type": "markdown",
   "metadata": {},
   "source": [
    "To work out if a data point is an outlier or to reduce the size of the errors the answer is to collect more data!"
   ]
  },
  {
   "cell_type": "markdown",
   "metadata": {},
   "source": [
    "* Overfitting: you can always find a function that fits your data, but that doesn't mean it is correct!\n",
    "\n",
    "![Overfitting courtesy of xkcd](images/xkcd-curve_fitting.png)"
   ]
  },
  {
   "cell_type": "markdown",
   "metadata": {},
   "source": [
    "* be careful when extrapolating\n",
    "\n",
    "* make sure you use the appropriate scales for the axes\n"
   ]
  },
  {
   "cell_type": "markdown",
   "metadata": {},
   "source": [
    "<div class=\"alert alert-block alert-warning\">\n",
    "<img src=\"images/curtis.jpg\" width=50 title=\"Python Logo\" style=\"vertical-align:top\"/>\n",
    "<b>Common misconception:</b> When finding the slope (gradient) of real data use the FITTED LINE <b>not</b> two points on the graph\n",
    "</div>"
   ]
  },
  {
   "cell_type": "markdown",
   "metadata": {},
   "source": [
    "## Units\n",
    "\n",
    "### Length\n",
    "\n",
    "1 m = 10 dm = 10$^2$ cm = 10$^3$ mm = 10$^6 \\mu$m = 10$^9$ nm = 10$^{10}$ Angstroms.\n",
    "\n",
    "In Biochemistry we commonly swap between these units\n",
    "\n",
    "10$^{-1}$ dm = 1 cm = 10 mm\n",
    "\n",
    "Clearly it would be silly to use of these units in everyday life...\n",
    "\n",
    "$50$ m = $5 \\times 10^{11}$ Angstroms = $5 \\times 10^4$ mm\n",
    "\n",
    "### Area\n",
    "\n",
    "\\begin{align*}\n",
    "1 \\text{m}^2 &= 10^2 \\text{cm} \\times 10^2 \\text{cm} &= 10^4 \\text{cm}^2\\\\\n",
    "             &= 10^3 \\text{mm} \\times 10^3 \\text{mm} &= 10^6 \\text{mm}^2\\\\\n",
    "             &= 10^6 \\mu\\text{m} \\times 10^6 \\mu\\text{m} &= 10^6\\mu\\text{m}^{12}\\\\\n",
    "             &= 10^9 \\text{nm} \\times 10^9 \\text{nm} &= 10^{18} \\text{nm}^2\\\\\n",
    "\\end{align*}\n",
    "\n",
    "For example $50$ mm$^2$ = $50 \\times 10^6 \\mu$m$^2$ = $50 \\times 10^{12}$ nm$^2$. \n",
    "\n",
    "(Aside: in nuclear physics they need *really* small areas so have defined a 1 barn $= 10^{-28}$ m$^2$, 1 outhouse = $10^{-34}$ m$^2$, 1 shed = $10^{-52}$ m$^2$)"
   ]
  },
  {
   "cell_type": "markdown",
   "metadata": {},
   "source": [
    "### Volume\n",
    "\n",
    "\\begin{align*}\n",
    "1 \\text{ dm}^3 &= 10^3 \\text{ ml} &= 10^{-3} \\text{ m}^3\\\\\n",
    "10^{-3} \\text{dm}^3 &= 1 \\text{ ml} &= 1 \\text{ cm}^3 &= 1 \\text{ cc}\\\\\n",
    "1 \\text{ l} &= 1000 \\text{ ml} &= 1000 \\text{ cc}\\\\\n",
    "\\end{align*}\n",
    "\n",
    "\\begin{align*}\n",
    "1 \\text{cm}^3 &= 10^{-2} \\text{m} \\times 10^{-2} \\text{m} \\times 10^{-2} \\text{m} &= 10^{-6} \\text{m}^3\\\\\n",
    "             &= 10^{-3} \\text{dm}^3\\\\\n",
    "\\end{align*}\n",
    "\n",
    "1 dm$^3$ = 10$^3$ ml (estimate of volume of water in jug)\n",
    "\n",
    "For example $5$ ml $= 50 \\times 10^{-3}$ dm$^{3} = 50 \\times 10^{-9}$ m$^3$"
   ]
  },
  {
   "cell_type": "markdown",
   "metadata": {},
   "source": [
    "### Density\n",
    "\n",
    "\\begin{align*}\n",
    "1 \\text{g/mol} &= 1 \\text{g. ml}^{-1}\\\\\n",
    "&= 1 \\times 10^3 \\text{ g }.10^3 \\text{ ml}^{-1}\\\\\n",
    "&= 1 \\text{kg. dm}^{-3}\n",
    "\\end{align*}\n",
    "\n",
    "For proteins, density is usually quoted in mg ml$^{-1}$."
   ]
  },
  {
   "cell_type": "markdown",
   "metadata": {},
   "source": [
    "### Concentration: Molarity\n",
    "\n",
    "\\begin{align*}\n",
    "1 \\text{ M} &= 10^3 \\text{ mM} &= 10^6 \\mu\\text{M} &= 10^9 \\text{ nM}\\\\\n",
    "\\end{align*}\n",
    "\n",
    "hence\n",
    "\n",
    "\\begin{align*}\n",
    "1 \\text{ nM} &= 10^{-6} \\text{ mM} &= 10^{-3} \\mu\\text{M} &= 10^{-9} \\text{ M}\\\\\n",
    "\\end{align*}\n",
    "\n"
   ]
  },
  {
   "cell_type": "markdown",
   "metadata": {},
   "source": [
    "## Moles, molarity and Daltons\n",
    "\n",
    "### Moles (amount)\n",
    "\n",
    "Units of mol.\n",
    "\n",
    "$$\\text{moles} = \\frac{\\text{weight}}{\\text{molecular weight}}$$\n",
    "\n",
    "The units have to be consistent, so if the molecular weight is measured in g/mol then the weight has to be in g.\n",
    "\n"
   ]
  },
  {
   "cell_type": "markdown",
   "metadata": {},
   "source": [
    "### Molarity (concentration)\n",
    "\n",
    "Units of M\n",
    "\n",
    "$$\\text{molarity} = \\frac{\\text{moles of solute}}{\\text{volume of solution}}$$\n",
    "\n",
    "Again, the units have to be consistent so if the volume is measured in l, and molarity is M, which is mol/l (or equivalently mol/dm$^3$), then moles of solute must be measured in mol."
   ]
  },
  {
   "cell_type": "markdown",
   "metadata": {},
   "source": [
    "### Daltons (mass)\n",
    "\n",
    "1 Dalton is one twelth the mass of a carbon-12 atom. The exact nuclide must be specified since carbon has multiple isotopes.\n",
    "\n",
    "$$1 \\text{Dalton} = \\frac{1}{12} \\text{ mass } ^{12}\\text{C} = 1.66054 \\times 10^{-27} \\text{ kg}$$\n",
    "\n",
    "Protein masses are usually quoted in thousands of Daltons (kDa)."
   ]
  },
  {
   "cell_type": "markdown",
   "metadata": {},
   "source": [
    "## Ratios and dilutions\n",
    "\n",
    "Since moles of solute = molarity $\\times$ volume we can often get the answer we need using ratios. i.e.\n",
    "\n",
    "$$M_1 \\times V_1 = M_2 \\times V_2$$\n",
    "\n",
    "### Example 1\n",
    "\n",
    "75 ml of a 1.4 M solution of NaCl is 'made up' to 130 ml. What is the molarity of the new solution?\n",
    "\n",
    "\\begin{align*}\n",
    "M_1 \\times V_1 &= M_2 \\times V_2\\\\\n",
    "75 \\times 1.4 &= M_2 \\times 130\\\\\n",
    "M_2 &= \\frac{75\\times 1.4}{130}\\\\\n",
    "&=\n",
    "\\end{align*}\n",
    "\n",
    "\n",
    "\n"
   ]
  },
  {
   "cell_type": "markdown",
   "metadata": {},
   "source": [
    "### Example 2\n",
    "\n",
    "How many moles of ATP are there in a 25 $\\mu$l of a 3 nM solution?\n",
    "\n",
    "\\begin{align*}\n",
    "\\text{moles of solution} &= \\text{molarity (M)} \\times \\text{volume of solution (l)}\\\\\n",
    " &= 3 \\times 10^{-3} \\times 25 \\times 10^{-6}\\\\\n",
    "  &= 75 \\times 10^{-9} \\text{ moles}\\\\\n",
    "  &= 75 \\text{ nmoles}\\\\\n",
    "\\end{align*}\n",
    "\n",
    "What is its weight? (The molecular mass of ATP is 507.18 g/mol)\n",
    "\n",
    "$$\\text{moles} = \\frac{\\text{weight}}{\\text{molecular weight}}$$\n",
    "\n",
    "hence\n",
    "\n",
    "\\begin{align*}\n",
    "\\text{molecular weight} &= 75 \\times 10^{-9} \\times 507\\\\\n",
    "    &= 3.8 \\times 10^4 \\times 10^{-9}\\\\\n",
    "    &= 3.8 \\times 10^{-5}\\\\\n",
    "    &= 38 \\times 10^{-6}\\\\\n",
    "    &= 38 \\mu g\n",
    "\\end{align*}    "
   ]
  },
  {
   "cell_type": "markdown",
   "metadata": {},
   "source": [
    "## Useful geometric formulae\n",
    "\n",
    "### Circumference of a circle\n",
    "\n",
    "$$ c = 2 \\pi r$$\n",
    "\n",
    "where $r$ is the radius, $\\pi$ is the irrational constant with value 3.141259...and $c$ is the circumference of the circle."
   ]
  },
  {
   "cell_type": "markdown",
   "metadata": {},
   "source": [
    "### Area of a circle\n",
    "\n",
    "$$A_{circ} = \\pi r^2$$"
   ]
  },
  {
   "cell_type": "markdown",
   "metadata": {},
   "source": [
    "### Volume of a sphere\n",
    "\n",
    "$$V_{sph} = \\frac{4}{3}\\pi r^3 $$\n",
    "\n",
    "For example, estimate the volume of a human cell if its length is 8 $\\mu$m. \n",
    "\n",
    "Assume the cell can be approximated by a sphere but beware that we've been given the diameter, hence radius = 4 $\\mu$m. \n",
    "\n",
    "\\begin{align*}\n",
    "V_{cell} &= \\frac{4}{3}\\times \\pi \\times 4^3\\\\\n",
    " &\\approx 4 \\times 64\\\\\n",
    " &\\approx 256 \\mu m^3\n",
    "\\end{align*}\n",
    "\n",
    "What is the volume in m$^3$? Well 1 $\\mu$m = 10$^{-6}$ m. Hence 1 $\\mu$m$^3$ = (10$^{-6}$)$^3$m$^3$ = 10$^{-18}$ m$^3$.\n",
    "\n",
    "\\begin{align*}\n",
    "V_{cell} &= 2.56 \\times 10^2 \\times 10^{-18}\\\\\n",
    "&= 2.56 \\times 10^{-16} \\text{m}^3\\\\\n",
    "\\end{align*}\n",
    "\n",
    "What about in mm? 1 mm = 0.001 m = 10$^{-3}$ m.\n",
    "\n",
    "\\begin{align*}\n",
    "V_{cell} &= 2.56 \\times 10^2 \\times (10^{-3})^3\\\\\n",
    "&= 2.56 \\times 10^{-7} \\text{ mm}^3\\\\\n",
    "\\end{align*}\n"
   ]
  },
  {
   "cell_type": "markdown",
   "metadata": {},
   "source": [
    "### Volume of a cylinder\n",
    "\n",
    "$$V_{cyl} = \\pi r^2 l$$\n",
    "\n",
    "where $r$ is the radius and $l$ is the length/height of the cylinder."
   ]
  },
  {
   "cell_type": "markdown",
   "metadata": {},
   "source": [
    "## Dimensional analysis\n",
    "\n",
    "There are many units that physical quantities can be measured and expressed with. You will be meeting even more shortly! \n",
    "\n",
    "All units can be expressed in terms of 7 fundamental base quantities. Many quantities only need three:\n",
    "* Mass [M]\n",
    "* Length [L]\n",
    "* Time [T]\n",
    "\n",
    "Note that the square brackets indicate that this is a dimension, so [M] means \"has dimension of mass\" and is nothing to do with molarity here.\n",
    "\n",
    "For example,\n",
    "\n",
    "$$ F = m a$$\n",
    "\n",
    "$m$ has dimensions [M] and $a$ has dimensions of [L][T]$^{-2}$. Hence force has its 'own' unit of the Newton, it has dimensions of [M][L][T]$^{-2}$. We've therefore shown that force is not fundamental since it can be expressed in terms of mass, length, and time.\n",
    "\n",
    "Likewise, since \n",
    "\n",
    "\\begin{align*}\n",
    "\\text{pressure} &= \\frac{\\text{force}}{\\text{area}}\\\\\n",
    "&= \\frac{\\text{[M][L][T]}^{-2}}{\\text{[L]}^2}\\\\\n",
    "&= \\text{[M][L]}^{-1}\\text{[T]}^{-2}\n",
    "\\end{align*}\n",
    "\n",
    "Hence pressure has units kg m$^{-1}$ s${-2}$, otherwise known as the Pascal (Pa) in the SI system. Other units exist such as Torr.\n",
    "\n",
    "Why is this useful? The key insight is that the dimensions in any expression we write down MUST balance i.e. LHS = RHS - we've implicitly just used this relationship. You can use this to \"sense check\" any formula you are using since if they don't yield the right dimensions for the quantity in question then something is missing or wrong.\n",
    "\n",
    "The other four fundamental dimensions are less common and are\n",
    "* Temperature [$\\theta$]\n",
    "* Electric charge [Q]\n",
    "* Amount of a substance [N]\n",
    "* Luminosity [J]\n",
    "\n",
    "\n"
   ]
  },
  {
   "cell_type": "markdown",
   "metadata": {},
   "source": [
    "## Significant figures\n",
    "\n",
    "The number of significant figures (s.f.) is how many digits we quote for a quantity.\n",
    "\n",
    "For example,\n",
    "\n",
    "\\begin{align*}\n",
    "6 &= 1 \\text{ s.f.}\\\\\n",
    "6.0 &= 2 \\text{ s.f.}\\\\\n",
    "6.05 &= 3\\text{ s.f.}\\\\\n",
    "3.141592654  &= 10 \\text{ s.f}\\\\\n",
    "0.1 &= 1 \\text{ s.f.}\\\\\n",
    "0.01 &= 1 \\text{ s.f.}\\\\\n",
    "0.0112 &= 3 \\text{ s.f.}\\\\\n",
    "1.12 \\times 10^{-2} &= 3 \\text{ s.f.}\\\\\n",
    "\\end{align*}\n",
    "\n",
    "The accuracy of any device used to make a measurement limits the number of significant figures you can quote a value to. \n",
    "\n",
    "Hence an accuracy of 1 in 10,000 implies 4 s.f. e.g. 73.24, whilst 1 in 1,000 implies 3 s.f. e.g. 4.52.\n",
    "\n",
    "Any final result cannot be any more accurate than the least accurate quantity used in its calculation. Hence if we multiplied the above two numbers together, we should only quote the answer to 3.s.f.\n",
    "\n",
    "$$73.24 \\times 4.52 = 331$$\n",
    "\n",
    "<div class=\"alert alert-block alert-warning\">\n",
    "<img src=\"images/curtis.jpg\" width=50 title=\"Python Logo\" style=\"vertical-align:top\"/>\n",
    "<b>Common misconception:</b> Do NOT quote ridiculous accuracy in your experiments.\n",
    "</div>"
   ]
  },
  {
   "cell_type": "markdown",
   "metadata": {},
   "source": [
    "## Use of calculators\n",
    "\n",
    "Calculators, like maths, are a tool. They help us, but if we press the wrong buttons they give us the wrong answer. It is always a good idea, therefore, to check your answer \"by eye\". Does it \"look right\"? As you practice more and more maths, you may get to the stage where it \"feels\" wrong but you are not sure why! Trust that feeling. \n",
    "\n",
    "Similarly, we can sometimes simplify a calculation by doing some simple maths to reduce the number of buttons we have to press and therefore reduce the likelihood we will make a mistake.\n",
    "\n",
    "A good example is calculations involving many large and small powers of ten: this is VERY common in Biochemistry!\n",
    "\n",
    "What is the energy of 600 nm photons?\n",
    "\n",
    "\\begin{align*}\n",
    "E &= \\frac{hc}{\\lambda}\\\\\n",
    "&= \\frac{6.63 \\times 10^{-34} \\times 3 \\times 10^8}{600 \\times 10^{-9}}\\\\\n",
    "&= \\frac{6.63 \\times 3}{600} \\times 10^{-34+8+9} & \\leftarrow\\text{check that the powers of ten add up to -19}\\\\\n",
    "&=\\frac{6.63 \\times 3}{6} \\times 10^{-19} \\times 10^2\\\\\n",
    "&= 3.32 \\times 10^{-17} \\text{ J}\n",
    "\\end{align*}"
   ]
  },
  {
   "cell_type": "markdown",
   "metadata": {},
   "source": [
    "In the example above, you can limit your use of the calculator by grouping the powers of ten together and then doing them yourself (this also makes it faster). And when you've got an answer you can think \"does this make sense? is the power of ten in the right range?\". So if you got $3.32 \\times 10^{17}$ J you would think at this stage NO!"
   ]
  },
  {
   "cell_type": "markdown",
   "metadata": {},
   "source": [
    "<div class=\"alert alert-block alert-warning\">\n",
    "<img src=\"images/curtis.jpg\" width=50 title=\"Python Logo\" style=\"vertical-align:top\"/>\n",
    "<b>Common misconception:</b> Do NOT blindly trust the number the calculator spits out. Sense check it!\n",
    "</div>"
   ]
  },
  {
   "cell_type": "markdown",
   "metadata": {},
   "source": [
    "## Errors\n",
    "\n",
    "Devices used to measure quantities all have associated errors. There are two types of error you will encounter\n",
    "\n",
    "### Absolute Errors\n",
    "\n",
    "For example, length measured using a 30cm ruler. The smallest length we can measure is 1 mm i.e. 0.1 cm. The absolute error is half this, therefore 0.05 cm. Hence if we were to measure the length of something using a 30 cm ruler, properly we should quote it as 20 $\\pm$ 0.05 cm.\n",
    "\n",
    "### Relative Errors\n",
    "\n",
    "$$\\text{relative error} = \\frac{\\text{absolute error}}{\\text{the measurement}}$$\n",
    "\n",
    "Hence using our example above\n",
    "\n",
    "\\begin{align*}\n",
    "\\text{relative error} &= \\frac{0.05}{20}\\\\\n",
    "&= \\pm 0.25 \\%\n",
    "\\end{align*}\n",
    "\n",
    "In this case, the relative error will decrease as the magnitude of the measurement increases. You will encounter errors all through your course and, as we saw in graphs, they are VERY important in interpreting data. \n",
    "\n",
    "One is always conservative e.g. we always try to calculate the maximum error, so that in practice the real errors are probably less than these.\n",
    "\n"
   ]
  },
  {
   "cell_type": "code",
   "execution_count": null,
   "metadata": {
    "jupyter": {
     "source_hidden": true
    }
   },
   "outputs": [],
   "source": []
  }
 ],
 "metadata": {
  "kernelspec": {
   "display_name": "Python 3",
   "language": "python",
   "name": "python3"
  },
  "language_info": {
   "codemirror_mode": {
    "name": "ipython",
    "version": 3
   },
   "file_extension": ".py",
   "mimetype": "text/x-python",
   "name": "python",
   "nbconvert_exporter": "python",
   "pygments_lexer": "ipython3",
   "version": "3.7.8"
  }
 },
 "nbformat": 4,
 "nbformat_minor": 4
}
